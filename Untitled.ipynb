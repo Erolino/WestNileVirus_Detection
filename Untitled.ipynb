{
 "cells": [
  {
   "cell_type": "code",
   "execution_count": null,
   "metadata": {
    "collapsed": true
   },
   "outputs": [],
   "source": [
    "EDA"
   ]
  },
  {
   "cell_type": "code",
   "execution_count": null,
   "metadata": {
    "collapsed": true
   },
   "outputs": [],
   "source": [
    "modelling\n",
    "1. load WNVscript ## the engineering file\n",
    "2. show engineering progression <> accuracy progression:\n",
    "    a. baseline prediction (just train)\n",
    "    b. merged with sparay (which?), then smote\n",
    "    c. 'the-day-of weather': use function to clean and then merge into sptrainW2, then smote\n",
    "    d. 14 day weather: use function to convert into yeppp, then smote\n",
    "3. modelling - repeat what has been done in notebook \n"
   ]
  }
 ],
 "metadata": {
  "kernelspec": {
   "display_name": "Python 3",
   "language": "python",
   "name": "python3"
  },
  "language_info": {
   "codemirror_mode": {
    "name": "ipython",
    "version": 3
   },
   "file_extension": ".py",
   "mimetype": "text/x-python",
   "name": "python",
   "nbconvert_exporter": "python",
   "pygments_lexer": "ipython3",
   "version": "3.6.8"
  }
 },
 "nbformat": 4,
 "nbformat_minor": 2
}
