{
 "cells": [
  {
   "cell_type": "markdown",
   "metadata": {},
   "source": [
    "# WestNileVirus"
   ]
  },
  {
   "cell_type": "markdown",
   "metadata": {},
   "source": [
    "https://www.kaggle.com/c/predict-west-nile-virus"
   ]
  },
  {
   "cell_type": "code",
   "execution_count": 1,
   "metadata": {
    "collapsed": true
   },
   "outputs": [],
   "source": [
    "import numpy as np\n",
    "import pandas as pd\n",
    "import os"
   ]
  },
  {
   "cell_type": "code",
   "execution_count": 2,
   "metadata": {},
   "outputs": [
    {
     "data": {
      "text/plain": [
       "'/Users/eran/Galvanize_more_repositories/WestNileVirus/all/'"
      ]
     },
     "execution_count": 2,
     "metadata": {},
     "output_type": "execute_result"
    }
   ],
   "source": [
    "directory_path=\"/Users/eran/Galvanize_more_repositories/WestNileVirus/all/\"\n",
    "directory_path"
   ]
  },
  {
   "cell_type": "markdown",
   "metadata": {},
   "source": [
    "## Train data"
   ]
  },
  {
   "cell_type": "code",
   "execution_count": 3,
   "metadata": {
    "collapsed": true
   },
   "outputs": [],
   "source": [
    "train_csv=os.path.join(directory_path, \"train.csv\")"
   ]
  },
  {
   "cell_type": "code",
   "execution_count": 4,
   "metadata": {
    "collapsed": true
   },
   "outputs": [],
   "source": [
    "# Reading in the train data\n",
    "train=pd.read_csv(train_csv)"
   ]
  },
  {
   "cell_type": "markdown",
   "metadata": {},
   "source": [
    "## EDA"
   ]
  },
  {
   "cell_type": "markdown",
   "metadata": {},
   "source": [
    "### general info"
   ]
  },
  {
   "cell_type": "code",
   "execution_count": 5,
   "metadata": {},
   "outputs": [
    {
     "name": "stdout",
     "output_type": "stream",
     "text": [
      "<class 'pandas.core.frame.DataFrame'>\n",
      "RangeIndex: 10506 entries, 0 to 10505\n",
      "Data columns (total 12 columns):\n",
      "Date                      10506 non-null object\n",
      "Address                   10506 non-null object\n",
      "Species                   10506 non-null object\n",
      "Block                     10506 non-null int64\n",
      "Street                    10506 non-null object\n",
      "Trap                      10506 non-null object\n",
      "AddressNumberAndStreet    10506 non-null object\n",
      "Latitude                  10506 non-null float64\n",
      "Longitude                 10506 non-null float64\n",
      "AddressAccuracy           10506 non-null int64\n",
      "NumMosquitos              10506 non-null int64\n",
      "WnvPresent                10506 non-null int64\n",
      "dtypes: float64(2), int64(4), object(6)\n",
      "memory usage: 985.0+ KB\n"
     ]
    }
   ],
   "source": [
    "train.info()"
   ]
  },
  {
   "cell_type": "code",
   "execution_count": 6,
   "metadata": {},
   "outputs": [
    {
     "data": {
      "text/html": [
       "<div>\n",
       "<style>\n",
       "    .dataframe thead tr:only-child th {\n",
       "        text-align: right;\n",
       "    }\n",
       "\n",
       "    .dataframe thead th {\n",
       "        text-align: left;\n",
       "    }\n",
       "\n",
       "    .dataframe tbody tr th {\n",
       "        vertical-align: top;\n",
       "    }\n",
       "</style>\n",
       "<table border=\"1\" class=\"dataframe\">\n",
       "  <thead>\n",
       "    <tr style=\"text-align: right;\">\n",
       "      <th></th>\n",
       "      <th>Date</th>\n",
       "      <th>Address</th>\n",
       "      <th>Species</th>\n",
       "      <th>Block</th>\n",
       "      <th>Street</th>\n",
       "      <th>Trap</th>\n",
       "      <th>AddressNumberAndStreet</th>\n",
       "      <th>Latitude</th>\n",
       "      <th>Longitude</th>\n",
       "      <th>AddressAccuracy</th>\n",
       "      <th>NumMosquitos</th>\n",
       "      <th>WnvPresent</th>\n",
       "    </tr>\n",
       "  </thead>\n",
       "  <tbody>\n",
       "    <tr>\n",
       "      <th>0</th>\n",
       "      <td>2007-05-29</td>\n",
       "      <td>4100 North Oak Park Avenue, Chicago, IL 60634,...</td>\n",
       "      <td>CULEX PIPIENS/RESTUANS</td>\n",
       "      <td>41</td>\n",
       "      <td>N OAK PARK AVE</td>\n",
       "      <td>T002</td>\n",
       "      <td>4100  N OAK PARK AVE, Chicago, IL</td>\n",
       "      <td>41.954690</td>\n",
       "      <td>-87.800991</td>\n",
       "      <td>9</td>\n",
       "      <td>1</td>\n",
       "      <td>0</td>\n",
       "    </tr>\n",
       "    <tr>\n",
       "      <th>1</th>\n",
       "      <td>2007-05-29</td>\n",
       "      <td>4100 North Oak Park Avenue, Chicago, IL 60634,...</td>\n",
       "      <td>CULEX RESTUANS</td>\n",
       "      <td>41</td>\n",
       "      <td>N OAK PARK AVE</td>\n",
       "      <td>T002</td>\n",
       "      <td>4100  N OAK PARK AVE, Chicago, IL</td>\n",
       "      <td>41.954690</td>\n",
       "      <td>-87.800991</td>\n",
       "      <td>9</td>\n",
       "      <td>1</td>\n",
       "      <td>0</td>\n",
       "    </tr>\n",
       "    <tr>\n",
       "      <th>2</th>\n",
       "      <td>2007-05-29</td>\n",
       "      <td>6200 North Mandell Avenue, Chicago, IL 60646, USA</td>\n",
       "      <td>CULEX RESTUANS</td>\n",
       "      <td>62</td>\n",
       "      <td>N MANDELL AVE</td>\n",
       "      <td>T007</td>\n",
       "      <td>6200  N MANDELL AVE, Chicago, IL</td>\n",
       "      <td>41.994991</td>\n",
       "      <td>-87.769279</td>\n",
       "      <td>9</td>\n",
       "      <td>1</td>\n",
       "      <td>0</td>\n",
       "    </tr>\n",
       "  </tbody>\n",
       "</table>\n",
       "</div>"
      ],
      "text/plain": [
       "         Date                                            Address  \\\n",
       "0  2007-05-29  4100 North Oak Park Avenue, Chicago, IL 60634,...   \n",
       "1  2007-05-29  4100 North Oak Park Avenue, Chicago, IL 60634,...   \n",
       "2  2007-05-29  6200 North Mandell Avenue, Chicago, IL 60646, USA   \n",
       "\n",
       "                  Species  Block           Street  Trap  \\\n",
       "0  CULEX PIPIENS/RESTUANS     41   N OAK PARK AVE  T002   \n",
       "1          CULEX RESTUANS     41   N OAK PARK AVE  T002   \n",
       "2          CULEX RESTUANS     62    N MANDELL AVE  T007   \n",
       "\n",
       "              AddressNumberAndStreet   Latitude  Longitude  AddressAccuracy  \\\n",
       "0  4100  N OAK PARK AVE, Chicago, IL  41.954690 -87.800991                9   \n",
       "1  4100  N OAK PARK AVE, Chicago, IL  41.954690 -87.800991                9   \n",
       "2   6200  N MANDELL AVE, Chicago, IL  41.994991 -87.769279                9   \n",
       "\n",
       "   NumMosquitos  WnvPresent  \n",
       "0             1           0  \n",
       "1             1           0  \n",
       "2             1           0  "
      ]
     },
     "execution_count": 6,
     "metadata": {},
     "output_type": "execute_result"
    }
   ],
   "source": [
    "train.head(3)"
   ]
  },
  {
   "cell_type": "markdown",
   "metadata": {},
   "source": [
    "### Investigating specific columns: 'Species','Traps','AddressAccuracy' and Geo-location"
   ]
  },
  {
   "cell_type": "code",
   "execution_count": 7,
   "metadata": {},
   "outputs": [
    {
     "data": {
      "text/plain": [
       "array(['CULEX PIPIENS/RESTUANS', 'CULEX RESTUANS', 'CULEX PIPIENS',\n",
       "       'CULEX SALINARIUS', 'CULEX TERRITANS', 'CULEX TARSALIS',\n",
       "       'CULEX ERRATICUS'], dtype=object)"
      ]
     },
     "execution_count": 7,
     "metadata": {},
     "output_type": "execute_result"
    }
   ],
   "source": [
    "train['Species'].unique() ## 6 different species"
   ]
  },
  {
   "cell_type": "code",
   "execution_count": 8,
   "metadata": {},
   "outputs": [
    {
     "data": {
      "text/plain": [
       "136"
      ]
     },
     "execution_count": 8,
     "metadata": {},
     "output_type": "execute_result"
    }
   ],
   "source": [
    "len(train['Trap'].unique()) ## 136 different traps"
   ]
  },
  {
   "cell_type": "code",
   "execution_count": 9,
   "metadata": {},
   "outputs": [
    {
     "data": {
      "text/plain": [
       "count    10506.000000\n",
       "mean         7.819532\n",
       "std          1.452921\n",
       "min          3.000000\n",
       "25%          8.000000\n",
       "50%          8.000000\n",
       "75%          9.000000\n",
       "max          9.000000\n",
       "Name: AddressAccuracy, dtype: float64"
      ]
     },
     "execution_count": 9,
     "metadata": {},
     "output_type": "execute_result"
    }
   ],
   "source": [
    "train['AddressAccuracy'].describe() ## this is (according to description) the accuracy as returned from geo-locator"
   ]
  },
  {
   "cell_type": "code",
   "execution_count": 10,
   "metadata": {},
   "outputs": [
    {
     "data": {
      "text/plain": [
       "<matplotlib.axes._subplots.AxesSubplot at 0x10da7e470>"
      ]
     },
     "execution_count": 10,
     "metadata": {},
     "output_type": "execute_result"
    }
   ],
   "source": [
    "train['AddressAccuracy'].hist() ## so most accuracy's are 8 and 9, some 5 and very little 3. \n",
    "# Later this could split into 3,4 categories and then into 3,4 dummie features "
   ]
  },
  {
   "cell_type": "markdown",
   "metadata": {},
   "source": [
    "#### ploting histogram (count) of count vs specie and whether there is WMV (color) "
   ]
  },
  {
   "cell_type": "code",
   "execution_count": 11,
   "metadata": {},
   "outputs": [
    {
     "data": {
      "text/plain": [
       "<matplotlib.axes._subplots.AxesSubplot at 0x1a148daac8>"
      ]
     },
     "execution_count": 11,
     "metadata": {},
     "output_type": "execute_result"
    },
    {
     "data": {
      "image/png": "[encoded data removed]",
      "text/plain": [
       "<matplotlib.figure.Figure at 0x112afdf28>"
      ]
     },
     "metadata": {},
     "output_type": "display_data"
    }
   ],
   "source": [
    "# looking at bars of every specie whether it has virus (orange) or not (blue)\n",
    "# (to see if there is relationship between the species and the appearence of virus)\n",
    "import matplotlib.pyplot as plt\n",
    "import seaborn as sns\n",
    "%matplotlib  inline\n",
    "dim=(16,5)\n",
    "plt.subplots(figsize=dim)\n",
    "sns.countplot('Species',data=train,hue='WnvPresent',)\n",
    "# seems that only 3 species are really prevalent.\n",
    "# \"Culex Pipiens\" has the highest relative portion of WNtV ~10% "
   ]
  },
  {
   "cell_type": "markdown",
   "metadata": {},
   "source": [
    "#### doing dummies out of species"
   ]
  },
  {
   "cell_type": "code",
   "execution_count": 12,
   "metadata": {
    "collapsed": true
   },
   "outputs": [],
   "source": [
    "# make new train with dummies\n",
    "trainWdum=pd.get_dummies(train,columns=['Species'],drop_first=True)"
   ]
  },
  {
   "cell_type": "code",
   "execution_count": 13,
   "metadata": {
    "scrolled": true
   },
   "outputs": [
    {
     "data": {
      "text/html": [
       "<div>\n",
       "<style>\n",
       "    .dataframe thead tr:only-child th {\n",
       "        text-align: right;\n",
       "    }\n",
       "\n",
       "    .dataframe thead th {\n",
       "        text-align: left;\n",
       "    }\n",
       "\n",
       "    .dataframe tbody tr th {\n",
       "        vertical-align: top;\n",
       "    }\n",
       "</style>\n",
       "<table border=\"1\" class=\"dataframe\">\n",
       "  <thead>\n",
       "    <tr style=\"text-align: right;\">\n",
       "      <th></th>\n",
       "      <th>Block</th>\n",
       "      <th>Latitude</th>\n",
       "      <th>Longitude</th>\n",
       "      <th>AddressAccuracy</th>\n",
       "      <th>NumMosquitos</th>\n",
       "      <th>WnvPresent</th>\n",
       "      <th>Species_CULEX PIPIENS</th>\n",
       "      <th>Species_CULEX PIPIENS/RESTUANS</th>\n",
       "      <th>Species_CULEX RESTUANS</th>\n",
       "      <th>Species_CULEX SALINARIUS</th>\n",
       "      <th>Species_CULEX TARSALIS</th>\n",
       "      <th>Species_CULEX TERRITANS</th>\n",
       "    </tr>\n",
       "  </thead>\n",
       "  <tbody>\n",
       "    <tr>\n",
       "      <th>count</th>\n",
       "      <td>10506.000000</td>\n",
       "      <td>10506.000000</td>\n",
       "      <td>10506.000000</td>\n",
       "      <td>10506.000000</td>\n",
       "      <td>10506.000000</td>\n",
       "      <td>10506.000000</td>\n",
       "      <td>10506.000000</td>\n",
       "      <td>10506.000000</td>\n",
       "      <td>10506.000000</td>\n",
       "      <td>10506.000000</td>\n",
       "      <td>10506.000000</td>\n",
       "      <td>10506.000000</td>\n",
       "    </tr>\n",
       "    <tr>\n",
       "      <th>mean</th>\n",
       "      <td>35.687797</td>\n",
       "      <td>41.841139</td>\n",
       "      <td>-87.699908</td>\n",
       "      <td>7.819532</td>\n",
       "      <td>12.853512</td>\n",
       "      <td>0.052446</td>\n",
       "      <td>0.256901</td>\n",
       "      <td>0.452313</td>\n",
       "      <td>0.260803</td>\n",
       "      <td>0.008186</td>\n",
       "      <td>0.000571</td>\n",
       "      <td>0.021131</td>\n",
       "    </tr>\n",
       "    <tr>\n",
       "      <th>std</th>\n",
       "      <td>24.339468</td>\n",
       "      <td>0.112742</td>\n",
       "      <td>0.096514</td>\n",
       "      <td>1.452921</td>\n",
       "      <td>16.133816</td>\n",
       "      <td>0.222936</td>\n",
       "      <td>0.436945</td>\n",
       "      <td>0.497744</td>\n",
       "      <td>0.439094</td>\n",
       "      <td>0.090109</td>\n",
       "      <td>0.023892</td>\n",
       "      <td>0.143827</td>\n",
       "    </tr>\n",
       "    <tr>\n",
       "      <th>min</th>\n",
       "      <td>10.000000</td>\n",
       "      <td>41.644612</td>\n",
       "      <td>-87.930995</td>\n",
       "      <td>3.000000</td>\n",
       "      <td>1.000000</td>\n",
       "      <td>0.000000</td>\n",
       "      <td>0.000000</td>\n",
       "      <td>0.000000</td>\n",
       "      <td>0.000000</td>\n",
       "      <td>0.000000</td>\n",
       "      <td>0.000000</td>\n",
       "      <td>0.000000</td>\n",
       "    </tr>\n",
       "    <tr>\n",
       "      <th>25%</th>\n",
       "      <td>12.000000</td>\n",
       "      <td>41.732984</td>\n",
       "      <td>-87.760070</td>\n",
       "      <td>8.000000</td>\n",
       "      <td>2.000000</td>\n",
       "      <td>0.000000</td>\n",
       "      <td>0.000000</td>\n",
       "      <td>0.000000</td>\n",
       "      <td>0.000000</td>\n",
       "      <td>0.000000</td>\n",
       "      <td>0.000000</td>\n",
       "      <td>0.000000</td>\n",
       "    </tr>\n",
       "    <tr>\n",
       "      <th>50%</th>\n",
       "      <td>33.000000</td>\n",
       "      <td>41.846283</td>\n",
       "      <td>-87.694991</td>\n",
       "      <td>8.000000</td>\n",
       "      <td>5.000000</td>\n",
       "      <td>0.000000</td>\n",
       "      <td>0.000000</td>\n",
       "      <td>0.000000</td>\n",
       "      <td>0.000000</td>\n",
       "      <td>0.000000</td>\n",
       "      <td>0.000000</td>\n",
       "      <td>0.000000</td>\n",
       "    </tr>\n",
       "    <tr>\n",
       "      <th>75%</th>\n",
       "      <td>52.000000</td>\n",
       "      <td>41.954690</td>\n",
       "      <td>-87.627796</td>\n",
       "      <td>9.000000</td>\n",
       "      <td>17.000000</td>\n",
       "      <td>0.000000</td>\n",
       "      <td>1.000000</td>\n",
       "      <td>1.000000</td>\n",
       "      <td>1.000000</td>\n",
       "      <td>0.000000</td>\n",
       "      <td>0.000000</td>\n",
       "      <td>0.000000</td>\n",
       "    </tr>\n",
       "    <tr>\n",
       "      <th>max</th>\n",
       "      <td>98.000000</td>\n",
       "      <td>42.017430</td>\n",
       "      <td>-87.531635</td>\n",
       "      <td>9.000000</td>\n",
       "      <td>50.000000</td>\n",
       "      <td>1.000000</td>\n",
       "      <td>1.000000</td>\n",
       "      <td>1.000000</td>\n",
       "      <td>1.000000</td>\n",
       "      <td>1.000000</td>\n",
       "      <td>1.000000</td>\n",
       "      <td>1.000000</td>\n",
       "    </tr>\n",
       "  </tbody>\n",
       "</table>\n",
       "</div>"
      ],
      "text/plain": [
       "              Block      Latitude     Longitude  AddressAccuracy  \\\n",
       "count  10506.000000  10506.000000  10506.000000     10506.000000   \n",
       "mean      35.687797     41.841139    -87.699908         7.819532   \n",
       "std       24.339468      0.112742      0.096514         1.452921   \n",
       "min       10.000000     41.644612    -87.930995         3.000000   \n",
       "25%       12.000000     41.732984    -87.760070         8.000000   \n",
       "50%       33.000000     41.846283    -87.694991         8.000000   \n",
       "75%       52.000000     41.954690    -87.627796         9.000000   \n",
       "max       98.000000     42.017430    -87.531635         9.000000   \n",
       "\n",
       "       NumMosquitos    WnvPresent  Species_CULEX PIPIENS  \\\n",
       "count  10506.000000  10506.000000           10506.000000   \n",
       "mean      12.853512      0.052446               0.256901   \n",
       "std       16.133816      0.222936               0.436945   \n",
       "min        1.000000      0.000000               0.000000   \n",
       "25%        2.000000      0.000000               0.000000   \n",
       "50%        5.000000      0.000000               0.000000   \n",
       "75%       17.000000      0.000000               1.000000   \n",
       "max       50.000000      1.000000               1.000000   \n",
       "\n",
       "       Species_CULEX PIPIENS/RESTUANS  Species_CULEX RESTUANS  \\\n",
       "count                    10506.000000            10506.000000   \n",
       "mean                         0.452313                0.260803   \n",
       "std                          0.497744                0.439094   \n",
       "min                          0.000000                0.000000   \n",
       "25%                          0.000000                0.000000   \n",
       "50%                          0.000000                0.000000   \n",
       "75%                          1.000000                1.000000   \n",
       "max                          1.000000                1.000000   \n",
       "\n",
       "       Species_CULEX SALINARIUS  Species_CULEX TARSALIS  \\\n",
       "count              10506.000000            10506.000000   \n",
       "mean                   0.008186                0.000571   \n",
       "std                    0.090109                0.023892   \n",
       "min                    0.000000                0.000000   \n",
       "25%                    0.000000                0.000000   \n",
       "50%                    0.000000                0.000000   \n",
       "75%                    0.000000                0.000000   \n",
       "max                    1.000000                1.000000   \n",
       "\n",
       "       Species_CULEX TERRITANS  \n",
       "count             10506.000000  \n",
       "mean                  0.021131  \n",
       "std                   0.143827  \n",
       "min                   0.000000  \n",
       "25%                   0.000000  \n",
       "50%                   0.000000  \n",
       "75%                   0.000000  \n",
       "max                   1.000000  "
      ]
     },
     "execution_count": 13,
     "metadata": {},
     "output_type": "execute_result"
    }
   ],
   "source": [
    "trainWdum.describe()"
   ]
  },
  {
   "cell_type": "markdown",
   "metadata": {},
   "source": [
    "#### what about the geo-location feature?"
   ]
  },
  {
   "cell_type": "code",
   "execution_count": 14,
   "metadata": {},
   "outputs": [
    {
     "data": {
      "text/plain": [
       "185"
      ]
     },
     "execution_count": 14,
     "metadata": {},
     "output_type": "execute_result"
    }
   ],
   "source": [
    "# example of how many observation for 1 location:\n",
    "df1location=trainWdum[(trainWdum['Latitude']==41.954690) & (trainWdum['Longitude']==-87.800991)]\n",
    "len(df1location)"
   ]
  },
  {
   "cell_type": "code",
   "execution_count": 15,
   "metadata": {},
   "outputs": [
    {
     "data": {
      "text/html": [
       "<div>\n",
       "<style>\n",
       "    .dataframe thead tr:only-child th {\n",
       "        text-align: right;\n",
       "    }\n",
       "\n",
       "    .dataframe thead th {\n",
       "        text-align: left;\n",
       "    }\n",
       "\n",
       "    .dataframe tbody tr th {\n",
       "        vertical-align: top;\n",
       "    }\n",
       "</style>\n",
       "<table border=\"1\" class=\"dataframe\">\n",
       "  <thead>\n",
       "    <tr style=\"text-align: right;\">\n",
       "      <th></th>\n",
       "      <th>Date</th>\n",
       "      <th>Address</th>\n",
       "      <th>Block</th>\n",
       "      <th>Street</th>\n",
       "      <th>Trap</th>\n",
       "      <th>AddressNumberAndStreet</th>\n",
       "      <th>Latitude</th>\n",
       "      <th>Longitude</th>\n",
       "      <th>AddressAccuracy</th>\n",
       "      <th>NumMosquitos</th>\n",
       "      <th>WnvPresent</th>\n",
       "      <th>Species_CULEX PIPIENS</th>\n",
       "      <th>Species_CULEX PIPIENS/RESTUANS</th>\n",
       "      <th>Species_CULEX RESTUANS</th>\n",
       "      <th>Species_CULEX SALINARIUS</th>\n",
       "      <th>Species_CULEX TARSALIS</th>\n",
       "      <th>Species_CULEX TERRITANS</th>\n",
       "    </tr>\n",
       "  </thead>\n",
       "  <tbody>\n",
       "    <tr>\n",
       "      <th>0</th>\n",
       "      <td>2007-05-29</td>\n",
       "      <td>4100 North Oak Park Avenue, Chicago, IL 60634,...</td>\n",
       "      <td>41</td>\n",
       "      <td>N OAK PARK AVE</td>\n",
       "      <td>T002</td>\n",
       "      <td>4100  N OAK PARK AVE, Chicago, IL</td>\n",
       "      <td>41.95469</td>\n",
       "      <td>-87.800991</td>\n",
       "      <td>9</td>\n",
       "      <td>1</td>\n",
       "      <td>0</td>\n",
       "      <td>0</td>\n",
       "      <td>1</td>\n",
       "      <td>0</td>\n",
       "      <td>0</td>\n",
       "      <td>0</td>\n",
       "      <td>0</td>\n",
       "    </tr>\n",
       "  </tbody>\n",
       "</table>\n",
       "</div>"
      ],
      "text/plain": [
       "         Date                                            Address  Block  \\\n",
       "0  2007-05-29  4100 North Oak Park Avenue, Chicago, IL 60634,...     41   \n",
       "\n",
       "            Street  Trap             AddressNumberAndStreet  Latitude  \\\n",
       "0   N OAK PARK AVE  T002  4100  N OAK PARK AVE, Chicago, IL  41.95469   \n",
       "\n",
       "   Longitude  AddressAccuracy  NumMosquitos  WnvPresent  \\\n",
       "0 -87.800991                9             1           0   \n",
       "\n",
       "   Species_CULEX PIPIENS  Species_CULEX PIPIENS/RESTUANS  \\\n",
       "0                      0                               1   \n",
       "\n",
       "   Species_CULEX RESTUANS  Species_CULEX SALINARIUS  Species_CULEX TARSALIS  \\\n",
       "0                       0                         0                       0   \n",
       "\n",
       "   Species_CULEX TERRITANS  \n",
       "0                        0  "
      ]
     },
     "execution_count": 15,
     "metadata": {},
     "output_type": "execute_result"
    }
   ],
   "source": [
    "df1location.head(1)"
   ]
  },
  {
   "cell_type": "code",
   "execution_count": 16,
   "metadata": {},
   "outputs": [
    {
     "data": {
      "text/plain": [
       "Date                       True\n",
       "Address                    True\n",
       "Species                   False\n",
       "Block                      True\n",
       "Street                     True\n",
       "Trap                       True\n",
       "AddressNumberAndStreet     True\n",
       "Latitude                   True\n",
       "Longitude                  True\n",
       "AddressAccuracy            True\n",
       "NumMosquitos               True\n",
       "WnvPresent                 True\n",
       "dtype: bool"
      ]
     },
     "execution_count": 16,
     "metadata": {},
     "output_type": "execute_result"
    }
   ],
   "source": [
    "## two rows in the train data: same date place etc. just the species are differen \n",
    "train.iloc[1]==train.iloc[0]"
   ]
  },
  {
   "cell_type": "code",
   "execution_count": 17,
   "metadata": {},
   "outputs": [
    {
     "data": {
      "text/html": [
       "<div>\n",
       "<style>\n",
       "    .dataframe thead tr:only-child th {\n",
       "        text-align: right;\n",
       "    }\n",
       "\n",
       "    .dataframe thead th {\n",
       "        text-align: left;\n",
       "    }\n",
       "\n",
       "    .dataframe tbody tr th {\n",
       "        vertical-align: top;\n",
       "    }\n",
       "</style>\n",
       "<table border=\"1\" class=\"dataframe\">\n",
       "  <thead>\n",
       "    <tr style=\"text-align: right;\">\n",
       "      <th></th>\n",
       "      <th>Date</th>\n",
       "      <th>Address</th>\n",
       "      <th>Block</th>\n",
       "      <th>Street</th>\n",
       "      <th>Trap</th>\n",
       "      <th>AddressNumberAndStreet</th>\n",
       "      <th>Latitude</th>\n",
       "      <th>Longitude</th>\n",
       "      <th>AddressAccuracy</th>\n",
       "      <th>NumMosquitos</th>\n",
       "      <th>WnvPresent</th>\n",
       "      <th>Species_CULEX PIPIENS</th>\n",
       "      <th>Species_CULEX PIPIENS/RESTUANS</th>\n",
       "      <th>Species_CULEX RESTUANS</th>\n",
       "      <th>Species_CULEX SALINARIUS</th>\n",
       "      <th>Species_CULEX TARSALIS</th>\n",
       "      <th>Species_CULEX TERRITANS</th>\n",
       "    </tr>\n",
       "  </thead>\n",
       "  <tbody>\n",
       "    <tr>\n",
       "      <th>10415</th>\n",
       "      <td>2013-09-26</td>\n",
       "      <td>4100 North Oak Park Avenue, Chicago, IL 60634,...</td>\n",
       "      <td>41</td>\n",
       "      <td>N OAK PARK AVE</td>\n",
       "      <td>T002</td>\n",
       "      <td>4100  N OAK PARK AVE, Chicago, IL</td>\n",
       "      <td>41.95469</td>\n",
       "      <td>-87.800991</td>\n",
       "      <td>9</td>\n",
       "      <td>8</td>\n",
       "      <td>0</td>\n",
       "      <td>1</td>\n",
       "      <td>0</td>\n",
       "      <td>0</td>\n",
       "      <td>0</td>\n",
       "      <td>0</td>\n",
       "      <td>0</td>\n",
       "    </tr>\n",
       "  </tbody>\n",
       "</table>\n",
       "</div>"
      ],
      "text/plain": [
       "             Date                                            Address  Block  \\\n",
       "10415  2013-09-26  4100 North Oak Park Avenue, Chicago, IL 60634,...     41   \n",
       "\n",
       "                Street  Trap             AddressNumberAndStreet  Latitude  \\\n",
       "10415   N OAK PARK AVE  T002  4100  N OAK PARK AVE, Chicago, IL  41.95469   \n",
       "\n",
       "       Longitude  AddressAccuracy  NumMosquitos  WnvPresent  \\\n",
       "10415 -87.800991                9             8           0   \n",
       "\n",
       "       Species_CULEX PIPIENS  Species_CULEX PIPIENS/RESTUANS  \\\n",
       "10415                      1                               0   \n",
       "\n",
       "       Species_CULEX RESTUANS  Species_CULEX SALINARIUS  \\\n",
       "10415                       0                         0   \n",
       "\n",
       "       Species_CULEX TARSALIS  Species_CULEX TERRITANS  \n",
       "10415                       0                        0  "
      ]
     },
     "execution_count": 17,
     "metadata": {},
     "output_type": "execute_result"
    }
   ],
   "source": [
    "df1location.tail(1)"
   ]
  },
  {
   "cell_type": "code",
   "execution_count": 18,
   "metadata": {},
   "outputs": [
    {
     "data": {
      "text/plain": [
       "67"
      ]
     },
     "execution_count": 18,
     "metadata": {},
     "output_type": "execute_result"
    }
   ],
   "source": [
    "# there are 185 records from the same location collected in 67 dates\n",
    "len(df1location['Date'].unique())"
   ]
  },
  {
   "cell_type": "markdown",
   "metadata": {},
   "source": [
    "### Getting baseline accuracy of predicting WNV \n",
    "let's understand the predictive capability of this data set without additional spreadsheets and without feature engineering:"
   ]
  },
  {
   "cell_type": "code",
   "execution_count": 19,
   "metadata": {
    "collapsed": true
   },
   "outputs": [],
   "source": [
    "trainBasic=trainWdum[['Latitude','Longitude','AddressAccuracy','NumMosquitos','Species_CULEX PIPIENS','Species_CULEX PIPIENS/RESTUANS','Species_CULEX RESTUANS','Species_CULEX SALINARIUS','Species_CULEX TARSALIS','Species_CULEX TERRITANS','WnvPresent']]"
   ]
  },
  {
   "cell_type": "code",
   "execution_count": 20,
   "metadata": {},
   "outputs": [
    {
     "data": {
      "text/html": [
       "<div>\n",
       "<style>\n",
       "    .dataframe thead tr:only-child th {\n",
       "        text-align: right;\n",
       "    }\n",
       "\n",
       "    .dataframe thead th {\n",
       "        text-align: left;\n",
       "    }\n",
       "\n",
       "    .dataframe tbody tr th {\n",
       "        vertical-align: top;\n",
       "    }\n",
       "</style>\n",
       "<table border=\"1\" class=\"dataframe\">\n",
       "  <thead>\n",
       "    <tr style=\"text-align: right;\">\n",
       "      <th></th>\n",
       "      <th>Latitude</th>\n",
       "      <th>Longitude</th>\n",
       "      <th>AddressAccuracy</th>\n",
       "      <th>NumMosquitos</th>\n",
       "      <th>Species_CULEX PIPIENS</th>\n",
       "      <th>Species_CULEX PIPIENS/RESTUANS</th>\n",
       "      <th>Species_CULEX RESTUANS</th>\n",
       "      <th>Species_CULEX SALINARIUS</th>\n",
       "      <th>Species_CULEX TARSALIS</th>\n",
       "      <th>Species_CULEX TERRITANS</th>\n",
       "      <th>WnvPresent</th>\n",
       "    </tr>\n",
       "  </thead>\n",
       "  <tbody>\n",
       "    <tr>\n",
       "      <th>0</th>\n",
       "      <td>41.95469</td>\n",
       "      <td>-87.800991</td>\n",
       "      <td>9</td>\n",
       "      <td>1</td>\n",
       "      <td>0</td>\n",
       "      <td>1</td>\n",
       "      <td>0</td>\n",
       "      <td>0</td>\n",
       "      <td>0</td>\n",
       "      <td>0</td>\n",
       "      <td>0</td>\n",
       "    </tr>\n",
       "    <tr>\n",
       "      <th>1</th>\n",
       "      <td>41.95469</td>\n",
       "      <td>-87.800991</td>\n",
       "      <td>9</td>\n",
       "      <td>1</td>\n",
       "      <td>0</td>\n",
       "      <td>0</td>\n",
       "      <td>1</td>\n",
       "      <td>0</td>\n",
       "      <td>0</td>\n",
       "      <td>0</td>\n",
       "      <td>0</td>\n",
       "    </tr>\n",
       "  </tbody>\n",
       "</table>\n",
       "</div>"
      ],
      "text/plain": [
       "   Latitude  Longitude  AddressAccuracy  NumMosquitos  Species_CULEX PIPIENS  \\\n",
       "0  41.95469 -87.800991                9             1                      0   \n",
       "1  41.95469 -87.800991                9             1                      0   \n",
       "\n",
       "   Species_CULEX PIPIENS/RESTUANS  Species_CULEX RESTUANS  \\\n",
       "0                               1                       0   \n",
       "1                               0                       1   \n",
       "\n",
       "   Species_CULEX SALINARIUS  Species_CULEX TARSALIS  Species_CULEX TERRITANS  \\\n",
       "0                         0                       0                        0   \n",
       "1                         0                       0                        0   \n",
       "\n",
       "   WnvPresent  \n",
       "0           0  \n",
       "1           0  "
      ]
     },
     "execution_count": 20,
     "metadata": {},
     "output_type": "execute_result"
    }
   ],
   "source": [
    "trainBasic.head(2)"
   ]
  },
  {
   "cell_type": "code",
   "execution_count": 21,
   "metadata": {
    "collapsed": true
   },
   "outputs": [],
   "source": [
    "y=trainBasic['WnvPresent']\n",
    "X=trainBasic.drop('WnvPresent',1)"
   ]
  },
  {
   "cell_type": "code",
   "execution_count": 22,
   "metadata": {
    "collapsed": true
   },
   "outputs": [],
   "source": [
    "from sklearn.model_selection import train_test_split\n",
    "X_train, X_test,y_train, y_test=train_test_split(X,y,test_size=0.2,stratify=y,random_state=42)\n",
    "## stratify makes sure that ratio"
   ]
  },
  {
   "cell_type": "code",
   "execution_count": 23,
   "metadata": {},
   "outputs": [
    {
     "data": {
      "text/plain": [
       "LogisticRegression(C=1.0, class_weight=None, dual=False, fit_intercept=True,\n",
       "          intercept_scaling=1, max_iter=100, multi_class='ovr', n_jobs=1,\n",
       "          penalty='l2', random_state=42, solver='liblinear', tol=0.0001,\n",
       "          verbose=0, warm_start=False)"
      ]
     },
     "execution_count": 23,
     "metadata": {},
     "output_type": "execute_result"
    }
   ],
   "source": [
    "from sklearn.linear_model import LogisticRegression\n",
    "log_reg=LogisticRegression(random_state=42)\n",
    "log_reg.fit(X_train,y_train)"
   ]
  },
  {
   "cell_type": "code",
   "execution_count": 24,
   "metadata": {
    "collapsed": true
   },
   "outputs": [],
   "source": [
    "pred=log_reg.predict(X_test)"
   ]
  },
  {
   "cell_type": "code",
   "execution_count": 25,
   "metadata": {},
   "outputs": [
    {
     "name": "stdout",
     "output_type": "stream",
     "text": [
      "             precision    recall  f1-score   support\n",
      "\n",
      "   No Virus       0.95      1.00      0.97      1992\n",
      "      Virus       0.00      0.00      0.00       110\n",
      "\n",
      "avg / total       0.90      0.95      0.92      2102\n",
      "\n",
      "[[1992    0]\n",
      " [ 110    0]]\n",
      "_____________________\n",
      "accuracy =  0.948\n"
     ]
    },
    {
     "name": "stderr",
     "output_type": "stream",
     "text": [
      "/Users/eran/anaconda3/lib/python3.6/site-packages/sklearn/metrics/classification.py:1135: UndefinedMetricWarning: Precision and F-score are ill-defined and being set to 0.0 in labels with no predicted samples.\n",
      "  'precision', 'predicted', average, warn_for)\n"
     ]
    }
   ],
   "source": [
    "from sklearn.metrics import classification_report\n",
    "from sklearn.metrics import accuracy_score\n",
    "target_names=['No Virus','Virus']\n",
    "print(classification_report(y_test, pred, target_names=target_names))\n",
    "from sklearn.metrics import confusion_matrix\n",
    "print(confusion_matrix(y_test,pred))\n",
    "print(\"_____________________\")\n",
    "print(\"accuracy = \",round(accuracy_score(y_test,pred),3))"
   ]
  },
  {
   "cell_type": "code",
   "execution_count": 26,
   "metadata": {
    "collapsed": true
   },
   "outputs": [],
   "source": [
    "#               predicted.NO (-) predicted.Yes (+)\n",
    "# actual NO (F)          1992            0\n",
    "# actual Yes (T)          110            0\n",
    "\n",
    "# accuracy = 1992/2102= 94.7% # (looking at all the predicted correctly - (TP+TN)/all )\n",
    "# precision=0/0= 0  #(looking at predicted.yes column only)\n",
    "# recall=0/110 = 0  #(looking at actual.yes column only)\n",
    "# F1_score= 2/(1/0+1/0)=0  #2/(1/precision+ 1/recall) (weighted average between precision and recall) "
   ]
  },
  {
   "cell_type": "markdown",
   "metadata": {},
   "source": [
    "Accuracy is very high ~95% but this is because it's easy to predict that there is no virus because it's rare. but in cases where there is a virus, none were detected as we can see looking at the precision and recall equal to 0."
   ]
  },
  {
   "cell_type": "code",
   "execution_count": 27,
   "metadata": {
    "collapsed": true
   },
   "outputs": [],
   "source": [
    "from sklearn.neighbors import KNeighborsClassifier\n",
    "knn=KNeighborsClassifier(n_neighbors=5)\n",
    "knn.fit(X_train,y_train)\n",
    "yknn_pred=knn.predict(X_test)"
   ]
  },
  {
   "cell_type": "code",
   "execution_count": 28,
   "metadata": {},
   "outputs": [
    {
     "name": "stdout",
     "output_type": "stream",
     "text": [
      "             precision    recall  f1-score   support\n",
      "\n",
      "   No Virus       0.95      0.99      0.97      1992\n",
      "      Virus       0.33      0.07      0.12       110\n",
      "\n",
      "avg / total       0.92      0.94      0.93      2102\n",
      "\n",
      "[[1976   16]\n",
      " [ 102    8]]\n",
      "______________\n",
      "accuracy =  0.944\n"
     ]
    }
   ],
   "source": [
    "print(classification_report(y_test, yknn_pred, target_names=target_names))\n",
    "print(confusion_matrix(y_test,yknn_pred))\n",
    "print(\"______________\")\n",
    "print(\"accuracy = \",round(accuracy_score(y_test,yknn_pred),3))"
   ]
  },
  {
   "cell_type": "code",
   "execution_count": 29,
   "metadata": {},
   "outputs": [
    {
     "name": "stderr",
     "output_type": "stream",
     "text": [
      "/Users/eran/anaconda3/lib/python3.6/site-packages/sklearn/metrics/classification.py:1135: UndefinedMetricWarning: F-score is ill-defined and being set to 0.0 due to no predicted samples.\n",
      "  'precision', 'predicted', average, warn_for)\n"
     ]
    }
   ],
   "source": [
    "from sklearn.metrics import f1_score\n",
    "k_range=range(1,15)\n",
    "accur=[]\n",
    "f1list=[]\n",
    "for k in k_range:\n",
    "    knn=KNeighborsClassifier(n_neighbors=k)\n",
    "    knn.fit(X_train,y_train)\n",
    "    y_pred=knn.predict(X_test)\n",
    "    acck=accuracy_score(y_test,y_pred)\n",
    "    f1=f1_score(y_test,y_pred)\n",
    "    accur.append(acck)\n",
    "    f1list.append(f1)"
   ]
  },
  {
   "cell_type": "code",
   "execution_count": 30,
   "metadata": {},
   "outputs": [
    {
     "data": {
      "text/plain": [
       "Text(0,0.5,'f1_score')"
      ]
     },
     "execution_count": 30,
     "metadata": {},
     "output_type": "execute_result"
    },
    {
     "data": {
      "image/png": "[encoded data removed]",
      "text/plain": [
       "<matplotlib.figure.Figure at 0x1a1856ba58>"
      ]
     },
     "metadata": {},
     "output_type": "display_data"
    }
   ],
   "source": [
    "plt.subplot(1,2,1)\n",
    "plt.plot(k_range,accur)\n",
    "plt.xlabel('K neighbors')\n",
    "plt.ylabel('accuracy')\n",
    "plt.subplot(1,2,2)\n",
    "plt.plot(k_range,f1list)\n",
    "plt.xlabel('K neighbors')\n",
    "plt.ylabel('f1_score')"
   ]
  },
  {
   "cell_type": "markdown",
   "metadata": {},
   "source": [
    "because of the scarcity of incidence of WMV, the model is not better than a \"dumb\" model of predicting \"No \n",
    "VIrus\" every time \n",
    "\n",
    "We can see that after a certain point, increasing the bias (i.e.\"dumbing\" the model, by using even higher kNeighbors) we don't see decrease in accuracy as we'd expect"
   ]
  },
  {
   "cell_type": "markdown",
   "metadata": {},
   "source": [
    "f1_score (weighted average of precision and recall) is only dimished when the k are larger (meanning generalizing using higher K's) only decreases performance')  "
   ]
  },
  {
   "cell_type": "markdown",
   "metadata": {},
   "source": [
    "#### we need to enrich the data, using aditional data sets..\n",
    "later we will also have to deal with the imbalanced data set (scarce WMV=1 response rate)"
   ]
  },
  {
   "cell_type": "markdown",
   "metadata": {},
   "source": [
    "## Spray data"
   ]
  },
  {
   "cell_type": "markdown",
   "metadata": {},
   "source": [
    "### EDA"
   ]
  },
  {
   "cell_type": "code",
   "execution_count": 31,
   "metadata": {
    "collapsed": true
   },
   "outputs": [],
   "source": [
    "spray_csv=os.path.join(directory_path,\"spray.csv\")"
   ]
  },
  {
   "cell_type": "code",
   "execution_count": 32,
   "metadata": {
    "collapsed": true
   },
   "outputs": [],
   "source": [
    "spray=pd.read_csv(spray_csv)"
   ]
  },
  {
   "cell_type": "code",
   "execution_count": 33,
   "metadata": {},
   "outputs": [
    {
     "data": {
      "text/html": [
       "<div>\n",
       "<style>\n",
       "    .dataframe thead tr:only-child th {\n",
       "        text-align: right;\n",
       "    }\n",
       "\n",
       "    .dataframe thead th {\n",
       "        text-align: left;\n",
       "    }\n",
       "\n",
       "    .dataframe tbody tr th {\n",
       "        vertical-align: top;\n",
       "    }\n",
       "</style>\n",
       "<table border=\"1\" class=\"dataframe\">\n",
       "  <thead>\n",
       "    <tr style=\"text-align: right;\">\n",
       "      <th></th>\n",
       "      <th>Date</th>\n",
       "      <th>Time</th>\n",
       "      <th>Latitude</th>\n",
       "      <th>Longitude</th>\n",
       "    </tr>\n",
       "  </thead>\n",
       "  <tbody>\n",
       "    <tr>\n",
       "      <th>0</th>\n",
       "      <td>2011-08-29</td>\n",
       "      <td>6:56:58 PM</td>\n",
       "      <td>42.391623</td>\n",
       "      <td>-88.089163</td>\n",
       "    </tr>\n",
       "    <tr>\n",
       "      <th>1</th>\n",
       "      <td>2011-08-29</td>\n",
       "      <td>6:57:08 PM</td>\n",
       "      <td>42.391348</td>\n",
       "      <td>-88.089163</td>\n",
       "    </tr>\n",
       "    <tr>\n",
       "      <th>2</th>\n",
       "      <td>2011-08-29</td>\n",
       "      <td>6:57:18 PM</td>\n",
       "      <td>42.391022</td>\n",
       "      <td>-88.089157</td>\n",
       "    </tr>\n",
       "    <tr>\n",
       "      <th>3</th>\n",
       "      <td>2011-08-29</td>\n",
       "      <td>6:57:28 PM</td>\n",
       "      <td>42.390637</td>\n",
       "      <td>-88.089158</td>\n",
       "    </tr>\n",
       "    <tr>\n",
       "      <th>4</th>\n",
       "      <td>2011-08-29</td>\n",
       "      <td>6:57:38 PM</td>\n",
       "      <td>42.390410</td>\n",
       "      <td>-88.088858</td>\n",
       "    </tr>\n",
       "  </tbody>\n",
       "</table>\n",
       "</div>"
      ],
      "text/plain": [
       "         Date        Time   Latitude  Longitude\n",
       "0  2011-08-29  6:56:58 PM  42.391623 -88.089163\n",
       "1  2011-08-29  6:57:08 PM  42.391348 -88.089163\n",
       "2  2011-08-29  6:57:18 PM  42.391022 -88.089157\n",
       "3  2011-08-29  6:57:28 PM  42.390637 -88.089158\n",
       "4  2011-08-29  6:57:38 PM  42.390410 -88.088858"
      ]
     },
     "execution_count": 33,
     "metadata": {},
     "output_type": "execute_result"
    }
   ],
   "source": [
    "spray.head()"
   ]
  },
  {
   "cell_type": "code",
   "execution_count": 34,
   "metadata": {},
   "outputs": [
    {
     "name": "stdout",
     "output_type": "stream",
     "text": [
      "<class 'pandas.core.frame.DataFrame'>\n",
      "RangeIndex: 14835 entries, 0 to 14834\n",
      "Data columns (total 4 columns):\n",
      "Date         14835 non-null object\n",
      "Time         14251 non-null object\n",
      "Latitude     14835 non-null float64\n",
      "Longitude    14835 non-null float64\n",
      "dtypes: float64(2), object(2)\n",
      "memory usage: 463.7+ KB\n"
     ]
    }
   ],
   "source": [
    "spray.info()"
   ]
  },
  {
   "cell_type": "markdown",
   "metadata": {
    "collapsed": true
   },
   "source": [
    "It seems that there are nulls in the df in the Time column. We will see if will need to attend to that later."
   ]
  },
  {
   "cell_type": "markdown",
   "metadata": {},
   "source": [
    "how many days did they spray around?"
   ]
  },
  {
   "cell_type": "code",
   "execution_count": 337,
   "metadata": {},
   "outputs": [
    {
     "data": {
      "text/plain": [
       "array(['2011-08-29T00:00:00.000000000', '2011-09-07T00:00:00.000000000',\n",
       "       '2013-07-17T00:00:00.000000000', '2013-07-25T00:00:00.000000000',\n",
       "       '2013-08-08T00:00:00.000000000', '2013-08-15T00:00:00.000000000',\n",
       "       '2013-08-16T00:00:00.000000000', '2013-08-22T00:00:00.000000000',\n",
       "       '2013-08-29T00:00:00.000000000', '2013-09-05T00:00:00.000000000'], dtype='datetime64[ns]')"
      ]
     },
     "execution_count": 337,
     "metadata": {},
     "output_type": "execute_result"
    }
   ],
   "source": [
    "spray['Date'].unique()"
   ]
  },
  {
   "cell_type": "markdown",
   "metadata": {},
   "source": [
    "Sprayed in ten different days."
   ]
  },
  {
   "cell_type": "markdown",
   "metadata": {},
   "source": [
    "### Using the Spray dataset "
   ]
  },
  {
   "cell_type": "markdown",
   "metadata": {},
   "source": [
    "#### Rational: \n",
    "#### assumption - recently sprayed areas would most likely reduce frequency in WNV for the same season. \n",
    "If Chicago Municipality, would like to know how to allocate sparying efforts (or any other eradication efforts for that matter), we should filter out the effect of spraying from our predictive model, as it is target-linked.\n",
    "#### Method: find obsevations (collections on Train data) with locations that have been sprayed in the past 150 days ( length of a season of collection from May to Oct), and exclude them from the data sets used for modelling "
   ]
  },
  {
   "cell_type": "markdown",
   "metadata": {},
   "source": [
    "_________________________________________________________"
   ]
  },
  {
   "cell_type": "markdown",
   "metadata": {
    "collapsed": true
   },
   "source": [
    "#### Merging the spray and train data"
   ]
  },
  {
   "cell_type": "markdown",
   "metadata": {},
   "source": [
    "because geo-location has such high resolution, we can't find matches between the data sets (which doesn't allow us to merge the tables accordingly). so 3 digits after the point seems reasonable - equates to 100 meters in resolution ( according to quick exploration on google maps: .001 ~=100 Meters)"
   ]
  },
  {
   "cell_type": "code",
   "execution_count": 39,
   "metadata": {
    "collapsed": true
   },
   "outputs": [],
   "source": [
    "# SPRAY DATA round longitude /latitude to 3 digits after the point\n",
    "sprayR3=spray\n",
    "sprayR3['Longitude']=sprayR3['Longitude'].round(3)\n",
    "sprayR3['Latitude']=sprayR3['Latitude'].round(3)"
   ]
  },
  {
   "cell_type": "code",
   "execution_count": 51,
   "metadata": {
    "collapsed": true
   },
   "outputs": [],
   "source": [
    "# similarly, round the geo-location in the train data\n",
    "# TRAIN with Dummies Data - round geo-location to 3 after the point. \n",
    "trainWdumR3=trainWdum\n",
    "trainWdumR3['Longitude']=trainWdumR3['Longitude'].round(3)\n",
    "trainWdumR3['Latitude']=trainWdumR3['Latitude'].round(3)"
   ]
  },
  {
   "cell_type": "markdown",
   "metadata": {},
   "source": [
    "every location has different NUMBER of collection dates (train data) and spray dates (spray data) so when merging, we would like to see collection dates that are recent to spray dates because they should have a strong effect on the response and we might want to eliminate this effect because of target link. \n",
    "How shall we locate them?"
   ]
  },
  {
   "cell_type": "code",
   "execution_count": 40,
   "metadata": {},
   "outputs": [
    {
     "name": "stdout",
     "output_type": "stream",
     "text": [
      "count    6517.000000\n",
      "mean        2.276354\n",
      "std         6.797308\n",
      "min         1.000000\n",
      "25%         1.000000\n",
      "50%         2.000000\n",
      "75%         3.000000\n",
      "max       542.000000\n",
      "Name: Date, dtype: float64\n"
     ]
    }
   ],
   "source": [
    "# first, how many entries per geo-location in spray data? \n",
    "sprayR3['longlat']=list(zip(sprayR3['Latitude'],sprayR3['Longitude'])) # zip log and lat into one column\n",
    "grp=sprayR3.groupby(['longlat'])['Date'].count() # count for every location the different number of dates\n",
    "print(grp.describe()) # for each location, how many different dates it got sprayed?"
   ]
  },
  {
   "cell_type": "markdown",
   "metadata": {},
   "source": [
    "So, 75% of locations where sprayed at most 3 times. \n",
    "Let's get more specific, what is the gap between 1st and last spray dates for a specific location?"
   ]
  },
  {
   "cell_type": "code",
   "execution_count": 151,
   "metadata": {},
   "outputs": [
    {
     "data": {
      "text/plain": [
       "pandas._libs.tslib.Timestamp"
      ]
     },
     "execution_count": 151,
     "metadata": {},
     "output_type": "execute_result"
    }
   ],
   "source": [
    "sprayR3['Date']=pd.to_datetime(sprayR3['Date']) ## change to datetime object so operations could be done\n",
    "type(sprayR3['Date'][0])"
   ]
  },
  {
   "cell_type": "code",
   "execution_count": 42,
   "metadata": {},
   "outputs": [
    {
     "name": "stdout",
     "output_type": "stream",
     "text": [
      "                       ptp\n",
      "longlat                   \n",
      "(41.997, -87.811) 729 days\n",
      "(41.954, -87.784)   1 days\n",
      "(41.911, -87.75)    1 days\n"
     ]
    }
   ],
   "source": [
    "aggd=sprayR3.groupby(['longlat'])['Date'].agg([np.ptp]) ## group by longlat and on the dates, get the range (max-min)\n",
    "aggd=aggd.sort_values('ptp',ascending=False) \n",
    "print(aggd.head(3))"
   ]
  },
  {
   "cell_type": "code",
   "execution_count": 43,
   "metadata": {},
   "outputs": [
    {
     "data": {
      "text/html": [
       "<div>\n",
       "<style>\n",
       "    .dataframe thead tr:only-child th {\n",
       "        text-align: right;\n",
       "    }\n",
       "\n",
       "    .dataframe thead th {\n",
       "        text-align: left;\n",
       "    }\n",
       "\n",
       "    .dataframe tbody tr th {\n",
       "        vertical-align: top;\n",
       "    }\n",
       "</style>\n",
       "<table border=\"1\" class=\"dataframe\">\n",
       "  <thead>\n",
       "    <tr style=\"text-align: right;\">\n",
       "      <th></th>\n",
       "      <th>ptp</th>\n",
       "    </tr>\n",
       "    <tr>\n",
       "      <th>longlat</th>\n",
       "      <th></th>\n",
       "    </tr>\n",
       "  </thead>\n",
       "  <tbody>\n",
       "    <tr>\n",
       "      <th>(41.997, -87.811)</th>\n",
       "      <td>729 days</td>\n",
       "    </tr>\n",
       "  </tbody>\n",
       "</table>\n",
       "</div>"
      ],
      "text/plain": [
       "                       ptp\n",
       "longlat                   \n",
       "(41.997, -87.811) 729 days"
      ]
     },
     "execution_count": 43,
     "metadata": {},
     "output_type": "execute_result"
    }
   ],
   "source": [
    "oldaggd=aggd[aggd['ptp'].dt.days>150]\n",
    "oldaggd.head()"
   ]
  },
  {
   "cell_type": "markdown",
   "metadata": {},
   "source": [
    "so only one place was sprayed more than 150 days appart (and actually this place was the only one with more than 1 day appart..), so effectively only one place was sprayed more than once.\n",
    "how many times it was sprayed?"
   ]
  },
  {
   "cell_type": "code",
   "execution_count": 44,
   "metadata": {},
   "outputs": [
    {
     "data": {
      "text/html": [
       "<div>\n",
       "<style>\n",
       "    .dataframe thead tr:only-child th {\n",
       "        text-align: right;\n",
       "    }\n",
       "\n",
       "    .dataframe thead th {\n",
       "        text-align: left;\n",
       "    }\n",
       "\n",
       "    .dataframe tbody tr th {\n",
       "        vertical-align: top;\n",
       "    }\n",
       "</style>\n",
       "<table border=\"1\" class=\"dataframe\">\n",
       "  <thead>\n",
       "    <tr style=\"text-align: right;\">\n",
       "      <th></th>\n",
       "      <th>Date</th>\n",
       "      <th>Time</th>\n",
       "      <th>Latitude</th>\n",
       "      <th>Longitude</th>\n",
       "      <th>longlat</th>\n",
       "    </tr>\n",
       "  </thead>\n",
       "  <tbody>\n",
       "    <tr>\n",
       "      <th>1454</th>\n",
       "      <td>2011-09-07</td>\n",
       "      <td>NaN</td>\n",
       "      <td>41.997</td>\n",
       "      <td>-87.811</td>\n",
       "      <td>(41.997, -87.811)</td>\n",
       "    </tr>\n",
       "    <tr>\n",
       "      <th>1455</th>\n",
       "      <td>2011-09-07</td>\n",
       "      <td>NaN</td>\n",
       "      <td>41.997</td>\n",
       "      <td>-87.811</td>\n",
       "      <td>(41.997, -87.811)</td>\n",
       "    </tr>\n",
       "    <tr>\n",
       "      <th>14664</th>\n",
       "      <td>2013-09-05</td>\n",
       "      <td>7:51:11 PM</td>\n",
       "      <td>41.997</td>\n",
       "      <td>-87.811</td>\n",
       "      <td>(41.997, -87.811)</td>\n",
       "    </tr>\n",
       "  </tbody>\n",
       "</table>\n",
       "</div>"
      ],
      "text/plain": [
       "            Date        Time  Latitude  Longitude            longlat\n",
       "1454  2011-09-07         NaN    41.997    -87.811  (41.997, -87.811)\n",
       "1455  2011-09-07         NaN    41.997    -87.811  (41.997, -87.811)\n",
       "14664 2013-09-05  7:51:11 PM    41.997    -87.811  (41.997, -87.811)"
      ]
     },
     "execution_count": 44,
     "metadata": {},
     "output_type": "execute_result"
    }
   ],
   "source": [
    "sprayR3[sprayR3['longlat']==(41.997, -87.811)]"
   ]
  },
  {
   "cell_type": "markdown",
   "metadata": {},
   "source": [
    "Twice, 2 years appart.  "
   ]
  },
  {
   "cell_type": "markdown",
   "metadata": {},
   "source": [
    "what about all the other sites how many days appart where they sprayed?"
   ]
  },
  {
   "cell_type": "code",
   "execution_count": 45,
   "metadata": {},
   "outputs": [
    {
     "data": {
      "text/plain": [
       "0 days    6511\n",
       "1 days       5\n",
       "Name: ptp, dtype: int64"
      ]
     },
     "execution_count": 45,
     "metadata": {},
     "output_type": "execute_result"
    }
   ],
   "source": [
    "recaggd=aggd[aggd['ptp'].dt.days!=729] ## excluding that one outlier\n",
    "recaggd['ptp'].value_counts()"
   ]
  },
  {
   "cell_type": "markdown",
   "metadata": {},
   "source": [
    "sites were sprayed 1 day apart at most, only 5 sites where sprayed throughout 2 days.\n",
    "This is an insignificant ammount, so essentially if we aggregate the spray by geo-location we can merge it with train, and not worry about duplicates.\n",
    "\n",
    "(we can do it because we assume that the time stamp of spraying is not informative and produces redundant data. e.g. spraying at 11:58 PM, then at 12:04 AM (the next day) a few meters away with changes in geo-location (before rounding it when the Longitude and Latitude where 10^-6 resolution)"
   ]
  },
  {
   "cell_type": "markdown",
   "metadata": {},
   "source": [
    "####  Grouping Data from spray \n",
    "instead of merging spray data directly"
   ]
  },
  {
   "cell_type": "markdown",
   "metadata": {},
   "source": [
    "Let's create a new df from spray, to merge later with train data.\n",
    "the new df will be grouped by geo-location, and the dates of collection would be aggregated and investigated (e.g. to see how many sprayed occured in every location (count), what's the gap between 1st and last spray (ptp)..)"
   ]
  },
  {
   "cell_type": "code",
   "execution_count": 138,
   "metadata": {},
   "outputs": [
    {
     "name": "stdout",
     "output_type": "stream",
     "text": [
      "        Date        Time  Latitude  Longitude            longlat\n",
      "0 2011-08-29  6:56:58 PM    42.392    -88.089  (42.392, -88.089)\n",
      "1 2011-08-29  6:57:08 PM    42.391    -88.089  (42.391, -88.089)\n"
     ]
    },
    {
     "data": {
      "text/html": [
       "<div>\n",
       "<style>\n",
       "    .dataframe thead tr:only-child th {\n",
       "        text-align: right;\n",
       "    }\n",
       "\n",
       "    .dataframe thead th {\n",
       "        text-align: left;\n",
       "    }\n",
       "\n",
       "    .dataframe tbody tr th {\n",
       "        vertical-align: top;\n",
       "    }\n",
       "</style>\n",
       "<table border=\"1\" class=\"dataframe\">\n",
       "  <thead>\n",
       "    <tr style=\"text-align: right;\">\n",
       "      <th></th>\n",
       "      <th>Longitude</th>\n",
       "      <th>Latitude</th>\n",
       "      <th>count</th>\n",
       "      <th>min</th>\n",
       "      <th>max</th>\n",
       "      <th>ptp</th>\n",
       "    </tr>\n",
       "  </thead>\n",
       "  <tbody>\n",
       "    <tr>\n",
       "      <th>696</th>\n",
       "      <td>-87.811</td>\n",
       "      <td>41.997</td>\n",
       "      <td>3</td>\n",
       "      <td>2011-09-07</td>\n",
       "      <td>2013-09-05</td>\n",
       "      <td>729 days</td>\n",
       "    </tr>\n",
       "    <tr>\n",
       "      <th>1804</th>\n",
       "      <td>-87.784</td>\n",
       "      <td>41.957</td>\n",
       "      <td>3</td>\n",
       "      <td>2013-08-15</td>\n",
       "      <td>2013-08-16</td>\n",
       "      <td>1 days</td>\n",
       "    </tr>\n",
       "    <tr>\n",
       "      <th>1858</th>\n",
       "      <td>-87.783</td>\n",
       "      <td>41.965</td>\n",
       "      <td>3</td>\n",
       "      <td>2013-08-15</td>\n",
       "      <td>2013-08-16</td>\n",
       "      <td>1 days</td>\n",
       "    </tr>\n",
       "    <tr>\n",
       "      <th>2789</th>\n",
       "      <td>-87.750</td>\n",
       "      <td>41.911</td>\n",
       "      <td>2</td>\n",
       "      <td>2013-08-15</td>\n",
       "      <td>2013-08-16</td>\n",
       "      <td>1 days</td>\n",
       "    </tr>\n",
       "    <tr>\n",
       "      <th>1801</th>\n",
       "      <td>-87.784</td>\n",
       "      <td>41.954</td>\n",
       "      <td>4</td>\n",
       "      <td>2013-08-15</td>\n",
       "      <td>2013-08-16</td>\n",
       "      <td>1 days</td>\n",
       "    </tr>\n",
       "  </tbody>\n",
       "</table>\n",
       "</div>"
      ],
      "text/plain": [
       "      Longitude  Latitude  count        min        max      ptp\n",
       "696     -87.811    41.997      3 2011-09-07 2013-09-05 729 days\n",
       "1804    -87.784    41.957      3 2013-08-15 2013-08-16   1 days\n",
       "1858    -87.783    41.965      3 2013-08-15 2013-08-16   1 days\n",
       "2789    -87.750    41.911      2 2013-08-15 2013-08-16   1 days\n",
       "1801    -87.784    41.954      4 2013-08-15 2013-08-16   1 days"
      ]
     },
     "execution_count": 138,
     "metadata": {},
     "output_type": "execute_result"
    }
   ],
   "source": [
    "print(sprayR3.head(2))\n",
    "sprayR3\n",
    "ff=sprayR3.groupby(['Longitude','Latitude']).Date.agg(['count','min','max',np.ptp]).reset_index()\n",
    "ff=ff.sort_values('ptp',ascending=False)\n",
    "ff.head()"
   ]
  },
  {
   "cell_type": "code",
   "execution_count": 136,
   "metadata": {},
   "outputs": [
    {
     "name": "stdout",
     "output_type": "stream",
     "text": [
      "len spray data 14835\n",
      "unique spray data 6517\n",
      "len grouped long/lat spray data 6517\n",
      "unique grouped long/lat spray data 6517\n"
     ]
    }
   ],
   "source": [
    "print('len spray data',len(sprayR3))\n",
    "print('unique spray data',sprayR3['longlat'].nunique())\n",
    "print('len grouped long/lat spray data',len(ff))\n",
    "ff['longlat']=list(zip(ff['Longitude'],ff['Latitude']))\n",
    "print('unique grouped long/lat spray data',ff['longlat'].nunique())"
   ]
  },
  {
   "cell_type": "code",
   "execution_count": 244,
   "metadata": {},
   "outputs": [
    {
     "name": "stdout",
     "output_type": "stream",
     "text": [
      "10506\n",
      "10506\n"
     ]
    },
    {
     "data": {
      "text/html": [
       "<div>\n",
       "<style>\n",
       "    .dataframe thead tr:only-child th {\n",
       "        text-align: right;\n",
       "    }\n",
       "\n",
       "    .dataframe thead th {\n",
       "        text-align: left;\n",
       "    }\n",
       "\n",
       "    .dataframe tbody tr th {\n",
       "        vertical-align: top;\n",
       "    }\n",
       "</style>\n",
       "<table border=\"1\" class=\"dataframe\">\n",
       "  <thead>\n",
       "    <tr style=\"text-align: right;\">\n",
       "      <th></th>\n",
       "      <th>Longitude</th>\n",
       "      <th>Latitude</th>\n",
       "      <th>count</th>\n",
       "      <th>min</th>\n",
       "      <th>max</th>\n",
       "      <th>ptp</th>\n",
       "      <th>Date</th>\n",
       "      <th>Address</th>\n",
       "      <th>Block</th>\n",
       "      <th>Street</th>\n",
       "      <th>...</th>\n",
       "      <th>AddressAccuracy</th>\n",
       "      <th>NumMosquitos</th>\n",
       "      <th>WnvPresent</th>\n",
       "      <th>Species_CULEX PIPIENS</th>\n",
       "      <th>Species_CULEX PIPIENS/RESTUANS</th>\n",
       "      <th>Species_CULEX RESTUANS</th>\n",
       "      <th>Species_CULEX SALINARIUS</th>\n",
       "      <th>Species_CULEX TARSALIS</th>\n",
       "      <th>Species_CULEX TERRITANS</th>\n",
       "      <th>_merge</th>\n",
       "    </tr>\n",
       "  </thead>\n",
       "  <tbody>\n",
       "    <tr>\n",
       "      <th>0</th>\n",
       "      <td>-87.705</td>\n",
       "      <td>41.883</td>\n",
       "      <td>3.0</td>\n",
       "      <td>2013-08-22</td>\n",
       "      <td>2013-08-22</td>\n",
       "      <td>0 days</td>\n",
       "      <td>2007-07-02</td>\n",
       "      <td>3300 West Randolph Street, Chicago, IL 60612, USA</td>\n",
       "      <td>33</td>\n",
       "      <td>E RANDOLPH ST</td>\n",
       "      <td>...</td>\n",
       "      <td>8</td>\n",
       "      <td>2</td>\n",
       "      <td>0</td>\n",
       "      <td>0</td>\n",
       "      <td>1</td>\n",
       "      <td>0</td>\n",
       "      <td>0</td>\n",
       "      <td>0</td>\n",
       "      <td>0</td>\n",
       "      <td>both</td>\n",
       "    </tr>\n",
       "  </tbody>\n",
       "</table>\n",
       "<p>1 rows × 22 columns</p>\n",
       "</div>"
      ],
      "text/plain": [
       "   Longitude  Latitude  count        min        max    ptp        Date  \\\n",
       "0    -87.705    41.883    3.0 2013-08-22 2013-08-22 0 days  2007-07-02   \n",
       "\n",
       "                                             Address  Block          Street  \\\n",
       "0  3300 West Randolph Street, Chicago, IL 60612, USA     33   E RANDOLPH ST   \n",
       "\n",
       "    ...   AddressAccuracy NumMosquitos  WnvPresent  Species_CULEX PIPIENS  \\\n",
       "0   ...                 8            2           0                      0   \n",
       "\n",
       "   Species_CULEX PIPIENS/RESTUANS  Species_CULEX RESTUANS  \\\n",
       "0                               1                       0   \n",
       "\n",
       "   Species_CULEX SALINARIUS  Species_CULEX TARSALIS  Species_CULEX TERRITANS  \\\n",
       "0                         0                       0                        0   \n",
       "\n",
       "   _merge  \n",
       "0    both  \n",
       "\n",
       "[1 rows x 22 columns]"
      ]
     },
     "execution_count": 244,
     "metadata": {},
     "output_type": "execute_result"
    }
   ],
   "source": [
    "res4=pd.merge(ff,trainWdumR3,on=['Longitude','Latitude'],how='right',indicator=True)\n",
    "print(len(res4))\n",
    "print(len(trainWdumR3))\n",
    "res4.head(1)"
   ]
  },
  {
   "cell_type": "markdown",
   "metadata": {},
   "source": [
    "Let's create a function that finds the days since the most recent spray, given a date of collection minus dates of spraying: "
   ]
  },
  {
   "cell_type": "code",
   "execution_count": 224,
   "metadata": {
    "collapsed": true
   },
   "outputs": [],
   "source": [
    "def recent(delMin,delMax):\n",
    "    if (delMin>=0) & (delMax<0):\n",
    "        dell=delMin\n",
    "    elif (delMax>=0) & (delMin<0):\n",
    "        dell=delMax\n",
    "    elif (delMax<0) & (delMin<0):\n",
    "        dell=3650\n",
    "    elif (delMax>=0) & (delMin>=0):\n",
    "        if delMax<delMin:\n",
    "            dell=delMax\n",
    "        elif delMax>delMin:\n",
    "            dell=delMin\n",
    "        else:\n",
    "            dell=delMin\n",
    "    elif delMin.isnull() or delMax.isnull():\n",
    "        dell=3650\n",
    "    return(dell)"
   ]
  },
  {
   "cell_type": "code",
   "execution_count": 252,
   "metadata": {},
   "outputs": [],
   "source": [
    "res4['Date']=pd.to_datetime(res4['Date'])"
   ]
  },
  {
   "cell_type": "code",
   "execution_count": 253,
   "metadata": {},
   "outputs": [],
   "source": [
    "res4['delmin']=res4['Date']-res4['min']\n",
    "res4['delmin']=res4['delmin'].dt.days\n",
    "res4['delmax']=res4['Date']-res4['max']\n",
    "res4['delmax']=res4['delmax'].dt.days"
   ]
  },
  {
   "cell_type": "code",
   "execution_count": 290,
   "metadata": {
    "collapsed": true
   },
   "outputs": [],
   "source": [
    "res4['most_recent_spray (days)']=res4.apply(lambda x: recent(x['delmin'],x['delmax']),axis=1)"
   ]
  },
  {
   "cell_type": "markdown",
   "metadata": {},
   "source": [
    "Let's look at res4. after 962 obdservations with spray, the rest is without data on spray:"
   ]
  },
  {
   "cell_type": "code",
   "execution_count": 287,
   "metadata": {},
   "outputs": [
    {
     "name": "stdout",
     "output_type": "stream",
     "text": [
      "(10506, 24)\n"
     ]
    },
    {
     "data": {
      "text/html": [
       "<div>\n",
       "<style>\n",
       "    .dataframe thead tr:only-child th {\n",
       "        text-align: right;\n",
       "    }\n",
       "\n",
       "    .dataframe thead th {\n",
       "        text-align: left;\n",
       "    }\n",
       "\n",
       "    .dataframe tbody tr th {\n",
       "        vertical-align: top;\n",
       "    }\n",
       "</style>\n",
       "<table border=\"1\" class=\"dataframe\">\n",
       "  <thead>\n",
       "    <tr style=\"text-align: right;\">\n",
       "      <th></th>\n",
       "      <th>Longitude</th>\n",
       "      <th>Latitude</th>\n",
       "      <th>count</th>\n",
       "      <th>min</th>\n",
       "      <th>max</th>\n",
       "      <th>ptp</th>\n",
       "      <th>Date</th>\n",
       "      <th>Address</th>\n",
       "      <th>Block</th>\n",
       "      <th>Street</th>\n",
       "      <th>...</th>\n",
       "      <th>WnvPresent</th>\n",
       "      <th>Species_CULEX PIPIENS</th>\n",
       "      <th>Species_CULEX PIPIENS/RESTUANS</th>\n",
       "      <th>Species_CULEX RESTUANS</th>\n",
       "      <th>Species_CULEX SALINARIUS</th>\n",
       "      <th>Species_CULEX TARSALIS</th>\n",
       "      <th>Species_CULEX TERRITANS</th>\n",
       "      <th>_merge</th>\n",
       "      <th>delmin</th>\n",
       "      <th>delmax</th>\n",
       "    </tr>\n",
       "  </thead>\n",
       "  <tbody>\n",
       "    <tr>\n",
       "      <th>962</th>\n",
       "      <td>-87.788</td>\n",
       "      <td>41.970</td>\n",
       "      <td>2.0</td>\n",
       "      <td>2011-09-07</td>\n",
       "      <td>2011-09-07</td>\n",
       "      <td>0 days</td>\n",
       "      <td>2007-10-04</td>\n",
       "      <td>6400 West Strong Street, Chicago, IL, USA</td>\n",
       "      <td>64</td>\n",
       "      <td>W STRONG ST</td>\n",
       "      <td>...</td>\n",
       "      <td>0</td>\n",
       "      <td>1</td>\n",
       "      <td>0</td>\n",
       "      <td>0</td>\n",
       "      <td>0</td>\n",
       "      <td>0</td>\n",
       "      <td>0</td>\n",
       "      <td>both</td>\n",
       "      <td>-1434.0</td>\n",
       "      <td>-1434.0</td>\n",
       "    </tr>\n",
       "    <tr>\n",
       "      <th>963</th>\n",
       "      <td>-87.801</td>\n",
       "      <td>41.955</td>\n",
       "      <td>NaN</td>\n",
       "      <td>NaT</td>\n",
       "      <td>NaT</td>\n",
       "      <td>NaT</td>\n",
       "      <td>2007-05-29</td>\n",
       "      <td>4100 North Oak Park Avenue, Chicago, IL 60634,...</td>\n",
       "      <td>41</td>\n",
       "      <td>N OAK PARK AVE</td>\n",
       "      <td>...</td>\n",
       "      <td>0</td>\n",
       "      <td>0</td>\n",
       "      <td>1</td>\n",
       "      <td>0</td>\n",
       "      <td>0</td>\n",
       "      <td>0</td>\n",
       "      <td>0</td>\n",
       "      <td>right_only</td>\n",
       "      <td>NaN</td>\n",
       "      <td>NaN</td>\n",
       "    </tr>\n",
       "  </tbody>\n",
       "</table>\n",
       "<p>2 rows × 24 columns</p>\n",
       "</div>"
      ],
      "text/plain": [
       "     Longitude  Latitude  count        min        max    ptp       Date  \\\n",
       "962    -87.788    41.970    2.0 2011-09-07 2011-09-07 0 days 2007-10-04   \n",
       "963    -87.801    41.955    NaN        NaT        NaT    NaT 2007-05-29   \n",
       "\n",
       "                                               Address  Block  \\\n",
       "962          6400 West Strong Street, Chicago, IL, USA     64   \n",
       "963  4100 North Oak Park Avenue, Chicago, IL 60634,...     41   \n",
       "\n",
       "              Street   ...   WnvPresent Species_CULEX PIPIENS  \\\n",
       "962      W STRONG ST   ...            0                     1   \n",
       "963   N OAK PARK AVE   ...            0                     0   \n",
       "\n",
       "     Species_CULEX PIPIENS/RESTUANS  Species_CULEX RESTUANS  \\\n",
       "962                               0                       0   \n",
       "963                               1                       0   \n",
       "\n",
       "     Species_CULEX SALINARIUS  Species_CULEX TARSALIS  \\\n",
       "962                         0                       0   \n",
       "963                         0                       0   \n",
       "\n",
       "     Species_CULEX TERRITANS      _merge  delmin  delmax  \n",
       "962                        0        both -1434.0 -1434.0  \n",
       "963                        0  right_only     NaN     NaN  \n",
       "\n",
       "[2 rows x 24 columns]"
      ]
     },
     "execution_count": 287,
     "metadata": {},
     "output_type": "execute_result"
    }
   ],
   "source": [
    "print(res4.shape)\n",
    "res4.loc[962:963,:]"
   ]
  },
  {
   "cell_type": "markdown",
   "metadata": {},
   "source": [
    "Make an inner merge to concentrate on the spray&train intersection (and avoid dealing with NaT and NaN for now)"
   ]
  },
  {
   "cell_type": "code",
   "execution_count": 271,
   "metadata": {
    "collapsed": true
   },
   "outputs": [],
   "source": [
    "resIN=pd.merge(ff,trainWdumR3,on=['Longitude','Latitude'],how='inner',indicator=True)"
   ]
  },
  {
   "cell_type": "code",
   "execution_count": 272,
   "metadata": {
    "collapsed": true
   },
   "outputs": [],
   "source": [
    "resIN['Date']=pd.to_datetime(resIN['Date'])"
   ]
  },
  {
   "cell_type": "code",
   "execution_count": 274,
   "metadata": {
    "collapsed": true
   },
   "outputs": [],
   "source": [
    "resIN['delmin']=resIN['Date']-resIN['min']\n",
    "resIN['delmin']=resIN['delmin'].dt.days\n",
    "resIN['delmax']=resIN['Date']-resIN['max']\n",
    "resIN['delmax']=resIN['delmax'].dt.days"
   ]
  },
  {
   "cell_type": "markdown",
   "metadata": {},
   "source": [
    "use \"recent\" function (look previously) to be used again with apply and lambda to create a column of days since the most recent spray  "
   ]
  },
  {
   "cell_type": "code",
   "execution_count": 290,
   "metadata": {},
   "outputs": [],
   "source": [
    "resIN['most_recent_spray (days)']=resIN.apply(lambda x: recent(x['delmin'],x['delmax']),axis=1)"
   ]
  },
  {
   "cell_type": "markdown",
   "metadata": {},
   "source": [
    "#### Let's join the inner df (the merged grouped-spray data with train) and the rest of the train (without spray data), to make a new enriched df for modelling."
   ]
  },
  {
   "cell_type": "code",
   "execution_count": 288,
   "metadata": {},
   "outputs": [
    {
     "name": "stdout",
     "output_type": "stream",
     "text": [
      "(963, 25)\n",
      "(10506, 24)\n"
     ]
    }
   ],
   "source": [
    "print(resIN.shape)\n",
    "print(res4.shape)"
   ]
  },
  {
   "cell_type": "markdown",
   "metadata": {},
   "source": [
    "let's add a column to res4. \n",
    "Let's set a value for most recent spray at 3650 (10 yrs) to areas with no spray data, this is to avoid NaN and still put a big number to differntiate these cases from recently sprayed and up to several years sprayed before collection. "
   ]
  },
  {
   "cell_type": "code",
   "execution_count": 292,
   "metadata": {},
   "outputs": [
    {
     "data": {
      "text/plain": [
       "3650    10506\n",
       "Name: most_recent_spray (days), dtype: int64"
      ]
     },
     "execution_count": 292,
     "metadata": {},
     "output_type": "execute_result"
    }
   ],
   "source": [
    "res4['most_recent_spray (days)']=3650\n",
    "res4['most_recent_spray (days)'].value_counts().head(3)"
   ]
  },
  {
   "cell_type": "code",
   "execution_count": null,
   "metadata": {
    "collapsed": true
   },
   "outputs": [],
   "source": [
    "Now conocat the dfs"
   ]
  },
  {
   "cell_type": "code",
   "execution_count": 339,
   "metadata": {},
   "outputs": [
    {
     "data": {
      "text/plain": [
       "(10506, 25)"
      ]
     },
     "execution_count": 339,
     "metadata": {},
     "output_type": "execute_result"
    }
   ],
   "source": [
    "res5=pd.concat([resIN,res4.loc[963:,:]])\n",
    "res5.shape"
   ]
  },
  {
   "cell_type": "markdown",
   "metadata": {},
   "source": [
    "now let's arrange the columns (delete and order)"
   ]
  },
  {
   "cell_type": "code",
   "execution_count": 340,
   "metadata": {},
   "outputs": [
    {
     "data": {
      "text/plain": [
       "Index(['Longitude', 'Latitude', 'count', 'min', 'max', 'ptp', 'Date',\n",
       "       'Address', 'Block', 'Street', 'Trap', 'AddressNumberAndStreet',\n",
       "       'AddressAccuracy', 'NumMosquitos', 'WnvPresent',\n",
       "       'Species_CULEX PIPIENS', 'Species_CULEX PIPIENS/RESTUANS',\n",
       "       'Species_CULEX RESTUANS', 'Species_CULEX SALINARIUS',\n",
       "       'Species_CULEX TARSALIS', 'Species_CULEX TERRITANS', '_merge', 'delmin',\n",
       "       'delmax', 'most_recent_spray (days)'],\n",
       "      dtype='object')"
      ]
     },
     "execution_count": 340,
     "metadata": {},
     "output_type": "execute_result"
    }
   ],
   "source": [
    "colls=res5.columns\n",
    "colls"
   ]
  },
  {
   "cell_type": "code",
   "execution_count": 341,
   "metadata": {},
   "outputs": [
    {
     "name": "stdout",
     "output_type": "stream",
     "text": [
      "['Longitude', 'Latitude', 'count', 'min', 'max', 'ptp', 'Date', 'Address', 'Block', 'Street', 'Trap', 'AddressNumberAndStreet', 'AddressAccuracy', 'NumMosquitos', 'WnvPresent', 'Species_CULEX PIPIENS', 'Species_CULEX PIPIENS/RESTUANS', 'Species_CULEX RESTUANS', 'Species_CULEX SALINARIUS', 'Species_CULEX TARSALIS', 'Species_CULEX TERRITANS', '_merge', 'delmin', 'delmax', 'most_recent_spray (days)']\n",
      "['Longitude', 'Latitude', 'min', 'max', 'most_recent_spray (days)', 'Date', 'Address', 'Block', 'Street', 'Trap', 'AddressNumberAndStreet', 'AddressAccuracy', 'NumMosquitos', 'Species_CULEX PIPIENS', 'Species_CULEX PIPIENS/RESTUANS', 'Species_CULEX RESTUANS', 'Species_CULEX SALINARIUS', 'Species_CULEX TARSALIS', 'Species_CULEX TERRITANS', 'WnvPresent']\n"
     ]
    },
    {
     "data": {
      "text/html": [
       "<div>\n",
       "<style>\n",
       "    .dataframe thead tr:only-child th {\n",
       "        text-align: right;\n",
       "    }\n",
       "\n",
       "    .dataframe thead th {\n",
       "        text-align: left;\n",
       "    }\n",
       "\n",
       "    .dataframe tbody tr th {\n",
       "        vertical-align: top;\n",
       "    }\n",
       "</style>\n",
       "<table border=\"1\" class=\"dataframe\">\n",
       "  <thead>\n",
       "    <tr style=\"text-align: right;\">\n",
       "      <th></th>\n",
       "      <th>Longitude</th>\n",
       "      <th>Latitude</th>\n",
       "      <th>min</th>\n",
       "      <th>max</th>\n",
       "      <th>most_recent_spray (days)</th>\n",
       "      <th>Date_of_collection</th>\n",
       "      <th>Address</th>\n",
       "      <th>Block</th>\n",
       "      <th>Street</th>\n",
       "      <th>Trap</th>\n",
       "      <th>AddressNumberAndStreet</th>\n",
       "      <th>AddressAccuracy</th>\n",
       "      <th>NumMosquitos</th>\n",
       "      <th>Species_CULEX PIPIENS</th>\n",
       "      <th>Species_CULEX PIPIENS/RESTUANS</th>\n",
       "      <th>Species_CULEX RESTUANS</th>\n",
       "      <th>Species_CULEX SALINARIUS</th>\n",
       "      <th>Species_CULEX TARSALIS</th>\n",
       "      <th>Species_CULEX TERRITANS</th>\n",
       "      <th>WnvPresent</th>\n",
       "    </tr>\n",
       "  </thead>\n",
       "  <tbody>\n",
       "    <tr>\n",
       "      <th>0</th>\n",
       "      <td>-87.705</td>\n",
       "      <td>41.883</td>\n",
       "      <td>2013-08-22</td>\n",
       "      <td>2013-08-22</td>\n",
       "      <td>3650</td>\n",
       "      <td>2007-07-02</td>\n",
       "      <td>3300 West Randolph Street, Chicago, IL 60612, USA</td>\n",
       "      <td>33</td>\n",
       "      <td>E RANDOLPH ST</td>\n",
       "      <td>T044</td>\n",
       "      <td>3300  E RANDOLPH ST, Chicago, IL</td>\n",
       "      <td>8</td>\n",
       "      <td>2</td>\n",
       "      <td>0</td>\n",
       "      <td>1</td>\n",
       "      <td>0</td>\n",
       "      <td>0</td>\n",
       "      <td>0</td>\n",
       "      <td>0</td>\n",
       "      <td>0</td>\n",
       "    </tr>\n",
       "  </tbody>\n",
       "</table>\n",
       "</div>"
      ],
      "text/plain": [
       "   Longitude  Latitude        min        max  most_recent_spray (days)  \\\n",
       "0    -87.705    41.883 2013-08-22 2013-08-22                      3650   \n",
       "\n",
       "  Date_of_collection                                            Address  \\\n",
       "0         2007-07-02  3300 West Randolph Street, Chicago, IL 60612, USA   \n",
       "\n",
       "   Block          Street  Trap            AddressNumberAndStreet  \\\n",
       "0     33   E RANDOLPH ST  T044  3300  E RANDOLPH ST, Chicago, IL   \n",
       "\n",
       "   AddressAccuracy  NumMosquitos  Species_CULEX PIPIENS  \\\n",
       "0                8             2                      0   \n",
       "\n",
       "   Species_CULEX PIPIENS/RESTUANS  Species_CULEX RESTUANS  \\\n",
       "0                               1                       0   \n",
       "\n",
       "   Species_CULEX SALINARIUS  Species_CULEX TARSALIS  Species_CULEX TERRITANS  \\\n",
       "0                         0                       0                        0   \n",
       "\n",
       "   WnvPresent  \n",
       "0           0  "
      ]
     },
     "execution_count": 341,
     "metadata": {},
     "output_type": "execute_result"
    }
   ],
   "source": [
    "colis=list(colls)\n",
    "print(colis)\n",
    "colsnew=colis[:2]+colis[3:5]+[colis[-1]]+colis[6:14]+colis[15:21]+colis[14:15] \n",
    "print(colsnew)\n",
    "res5=res5[colsnew]\n",
    "res5.rename(columns={'Date':'Date_of_collection'},inplace=True)\n",
    "res5.head(1)"
   ]
  },
  {
   "cell_type": "code",
   "execution_count": 343,
   "metadata": {},
   "outputs": [
    {
     "data": {
      "text/plain": [
       "<matplotlib.axes._subplots.AxesSubplot at 0x1a1a71b780>"
      ]
     },
     "execution_count": 343,
     "metadata": {},
     "output_type": "execute_result"
    },
    {
     "data": {
      "image/png": "[encoded data removed]",
      "text/plain": [
       "<matplotlib.figure.Figure at 0x1a1a717400>"
      ]
     },
     "metadata": {},
     "output_type": "display_data"
    }
   ],
   "source": [
    "sns.heatmap(res5.isnull(),cbar=False) \n",
    "# the heatmap shows the 1st 962 of entries being sprayed data (rows in uniform black)\n",
    "# the rest of the observations were not sprayed"
   ]
  },
  {
   "cell_type": "markdown",
   "metadata": {},
   "source": [
    "####  finally let's see about our assumption (do areas that were recently sprayed have lower WNV frequency?"
   ]
  },
  {
   "cell_type": "markdown",
   "metadata": {},
   "source": [
    "first let's isolate cases of recent spraying"
   ]
  },
  {
   "cell_type": "code",
   "execution_count": 298,
   "metadata": {},
   "outputs": [
    {
     "data": {
      "text/plain": [
       "3650    10400\n",
       "7           8\n",
       "28          6\n",
       "Name: most_recent_spray (days), dtype: int64"
      ]
     },
     "execution_count": 298,
     "metadata": {},
     "output_type": "execute_result"
    }
   ],
   "source": [
    "res5['most_recent_spray (days)'].value_counts().head(3)"
   ]
  },
  {
   "cell_type": "markdown",
   "metadata": {},
   "source": [
    "for places that where sprayed, what was the most recent spray? ( I have eliminated the 3650 (10yrs) for visualization purposes) "
   ]
  },
  {
   "cell_type": "code",
   "execution_count": 299,
   "metadata": {},
   "outputs": [
    {
     "data": {
      "text/plain": [
       "<matplotlib.axes._subplots.AxesSubplot at 0x1a1bf341d0>"
      ]
     },
     "execution_count": 299,
     "metadata": {},
     "output_type": "execute_result"
    },
    {
     "data": {
      "image/png": "[encoded data removed]",
      "text/plain": [
       "<matplotlib.figure.Figure at 0x1a1bf317b8>"
      ]
     },
     "metadata": {},
     "output_type": "display_data"
    }
   ],
   "source": [
    "res5.loc[0:,'most_recent_spray (days)'][res5.loc[0:,'most_recent_spray (days)']<3650].hist(bins=50)"
   ]
  },
  {
   "cell_type": "markdown",
   "metadata": {},
   "source": [
    "Seems like locations were either sprayed 2 years ago (around 700 days bars) or in this season (last 80 days).\n",
    "\n",
    "This is the data that could be target link and we need to be cautious with."
   ]
  },
  {
   "cell_type": "code",
   "execution_count": 331,
   "metadata": {},
   "outputs": [
    {
     "data": {
      "text/plain": [
       "79"
      ]
     },
     "execution_count": 331,
     "metadata": {},
     "output_type": "execute_result"
    }
   ],
   "source": [
    "recol=res5.loc[0:,'most_recent_spray (days)'][res5.loc[0:,'most_recent_spray (days)']<150]\n",
    "recol.count()"
   ]
  },
  {
   "cell_type": "markdown",
   "metadata": {
    "collapsed": true
   },
   "source": [
    "there are 79 trap collections (entries) conducted recently after spraying (the same season <150 days). "
   ]
  },
  {
   "cell_type": "code",
   "execution_count": 332,
   "metadata": {},
   "outputs": [
    {
     "data": {
      "text/plain": [
       "0    71\n",
       "1     8\n",
       "Name: WnvPresent, dtype: int64"
      ]
     },
     "execution_count": 332,
     "metadata": {},
     "output_type": "execute_result"
    }
   ],
   "source": [
    "res5.loc[0:,'WnvPresent'][res5.loc[0:,'most_recent_spray (days)']<150].value_counts()"
   ]
  },
  {
   "cell_type": "markdown",
   "metadata": {},
   "source": [
    "####  surprisingly the frequency is higher 10%(8/79) in the recently sprayed data, than in the whole data combined ~5%.\n",
    "This could have an alternative explanation: Places that are sprayed are proune to have WNV and therefore were a target for spraying in the first place.\n",
    "This still shows that there is a target link. therefore these 79 cases should be taken care of in our modelling."
   ]
  },
  {
   "cell_type": "code",
   "execution_count": 372,
   "metadata": {},
   "outputs": [
    {
     "data": {
      "text/plain": [
       "0    10427\n",
       "1       79\n",
       "Name: Recently_sprayed, dtype: int64"
      ]
     },
     "execution_count": 372,
     "metadata": {},
     "output_type": "execute_result"
    }
   ],
   "source": [
    "# let' add a column - whether the area was recently sprayed (i.e. <150 days)\n",
    "res5['Recently_sprayed']=(res5['most_recent_spray (days)']<150).astype(int)\n",
    "res5['Recently_sprayed'].value_counts()"
   ]
  },
  {
   "cell_type": "markdown",
   "metadata": {},
   "source": [
    "#  # # # # 4"
   ]
  },
  {
   "cell_type": "markdown",
   "metadata": {},
   "source": [
    "#### Let's do some EDA on the merged data in context of sprayed VS not sprayed"
   ]
  },
  {
   "cell_type": "code",
   "execution_count": 360,
   "metadata": {
    "collapsed": true
   },
   "outputs": [],
   "source": [
    "resin_copy=resIN.copy()"
   ]
  },
  {
   "cell_type": "code",
   "execution_count": null,
   "metadata": {
    "collapsed": true
   },
   "outputs": [],
   "source": [
    "plt.subplot(1,2,1)\n",
    "plt.bar(['No','Yes'],[notspr[0],notspr[1]],color=['navy','orange'])\n",
    "plt.title('Not Sprayed')\n",
    "plt.subplot(1,2,2)\n",
    "plt.bar(['Yes','No'],[spr[1],spr[0]],color=['orange','navy'])\n",
    "plt.title('Sprayed')"
   ]
  },
  {
   "cell_type": "code",
   "execution_count": null,
   "metadata": {
    "collapsed": true
   },
   "outputs": [],
   "source": [
    "print(\"occurences of WNV in sprayed places:\")\n",
    "spr=resin_copy['WnvPresent'].value_counts()\n",
    "print(spr)\n",
    "print('percentage: ',spr[1]/(spr[0]+spr[1])*100)\n",
    "notsprayed=resin_copy[resin_copy['Date_of_collection'].isnull()==1]\n",
    "print(\"occurences of WNV in sprayed places:\")\n",
    "notspr=notsprayed['WnvPresent'].value_counts()\n",
    "print(notspr)\n",
    "print('percentage: ',notspr[1]/(notspr[0]+notspr[1])*100)\n",
    "plt.subplot(1,2,1)\n",
    "plt.bar(['No','Yes'],[notspr[0],notspr[1]],color=['navy','orange'])\n",
    "plt.title('Not Sprayed')\n",
    "plt.subplot(1,2,2)\n",
    "plt.bar(['Yes','No'],[spr[1],spr[0]],color=['orange','navy'])\n",
    "plt.title('Sprayed')"
   ]
  },
  {
   "cell_type": "markdown",
   "metadata": {},
   "source": [
    "# # # # # "
   ]
  },
  {
   "cell_type": "markdown",
   "metadata": {},
   "source": [
    "## Weather data"
   ]
  },
  {
   "cell_type": "markdown",
   "metadata": {
    "collapsed": true
   },
   "source": [
    "### Background"
   ]
  },
  {
   "cell_type": "markdown",
   "metadata": {},
   "source": [
    "From Kaggle:\n",
    "    - It is believed that hot and dry conditions are more favorable for West Nile virus than cold and wet. We provide you with the dataset from NOAA of the weather conditions of 2007 to 2014, during the months of the tests.\n",
    "\n",
    "From '/Users/eran/Galvanize_more_repositories/WestNileVirus/all/noaa_weather_qclcd_documentation.pdf':\n",
    "    - Dew point is an accurate measurement of humidity (indipendant of Relative humidity) 60= uncomfortable, 70 very uncomfortable.\n",
    "        https://minnesota.cbslocal.com/2012/07/17/good-question-whats-the-difference-between-dew-point-and-humidity/\n",
    "    \n",
    "   - M = missing data\n",
    "  - Departure from normal temperatures(?) for normal expected\n",
    "    - \"A lower wet bulb temperature means the air is drier and can hold more water vapor than it can at a higher wet bulb temperature.\""
   ]
  },
  {
   "cell_type": "markdown",
   "metadata": {},
   "source": [
    "### Rational\n",
    "- Find columns directly related to Hot and Dry <-> higher WNV virus\n",
    "- try to engineer them \n",
    "- merge according to proximity to weather station And Date"
   ]
  },
  {
   "cell_type": "markdown",
   "metadata": {},
   "source": [
    "### EDA"
   ]
  },
  {
   "cell_type": "code",
   "execution_count": 363,
   "metadata": {},
   "outputs": [
    {
     "name": "stdout",
     "output_type": "stream",
     "text": [
      "<class 'pandas.core.frame.DataFrame'>\n",
      "RangeIndex: 2944 entries, 0 to 2943\n",
      "Data columns (total 22 columns):\n",
      "Station        2944 non-null int64\n",
      "Date           2944 non-null object\n",
      "Tmax           2944 non-null int64\n",
      "Tmin           2944 non-null int64\n",
      "Tavg           2944 non-null object\n",
      "Depart         2944 non-null object\n",
      "DewPoint       2944 non-null int64\n",
      "WetBulb        2944 non-null object\n",
      "Heat           2944 non-null object\n",
      "Cool           2944 non-null object\n",
      "Sunrise        2944 non-null object\n",
      "Sunset         2944 non-null object\n",
      "CodeSum        2944 non-null object\n",
      "Depth          2944 non-null object\n",
      "Water1         2944 non-null object\n",
      "SnowFall       2944 non-null object\n",
      "PrecipTotal    2944 non-null object\n",
      "StnPressure    2944 non-null object\n",
      "SeaLevel       2944 non-null object\n",
      "ResultSpeed    2944 non-null float64\n",
      "ResultDir      2944 non-null int64\n",
      "AvgSpeed       2944 non-null object\n",
      "dtypes: float64(1), int64(5), object(16)\n",
      "memory usage: 506.1+ KB\n"
     ]
    }
   ],
   "source": [
    "weather_csv=os.path.join(directory_path,\"weather.csv\")\n",
    "weather=pd.read_csv(weather_csv)\n",
    "weather.info()"
   ]
  },
  {
   "cell_type": "code",
   "execution_count": 406,
   "metadata": {},
   "outputs": [
    {
     "data": {
      "text/html": [
       "<div>\n",
       "<style>\n",
       "    .dataframe thead tr:only-child th {\n",
       "        text-align: right;\n",
       "    }\n",
       "\n",
       "    .dataframe thead th {\n",
       "        text-align: left;\n",
       "    }\n",
       "\n",
       "    .dataframe tbody tr th {\n",
       "        vertical-align: top;\n",
       "    }\n",
       "</style>\n",
       "<table border=\"1\" class=\"dataframe\">\n",
       "  <thead>\n",
       "    <tr style=\"text-align: right;\">\n",
       "      <th></th>\n",
       "      <th>Station</th>\n",
       "      <th>Date</th>\n",
       "      <th>Tmax</th>\n",
       "      <th>Tmin</th>\n",
       "      <th>Tavg</th>\n",
       "      <th>Depart</th>\n",
       "      <th>DewPoint</th>\n",
       "      <th>WetBulb</th>\n",
       "      <th>Heat</th>\n",
       "      <th>Cool</th>\n",
       "      <th>...</th>\n",
       "      <th>CodeSum</th>\n",
       "      <th>Depth</th>\n",
       "      <th>Water1</th>\n",
       "      <th>SnowFall</th>\n",
       "      <th>PrecipTotal</th>\n",
       "      <th>StnPressure</th>\n",
       "      <th>SeaLevel</th>\n",
       "      <th>ResultSpeed</th>\n",
       "      <th>ResultDir</th>\n",
       "      <th>AvgSpeed</th>\n",
       "    </tr>\n",
       "  </thead>\n",
       "  <tbody>\n",
       "    <tr>\n",
       "      <th>0</th>\n",
       "      <td>1</td>\n",
       "      <td>2007-05-01</td>\n",
       "      <td>83</td>\n",
       "      <td>50</td>\n",
       "      <td>67</td>\n",
       "      <td>14</td>\n",
       "      <td>51</td>\n",
       "      <td>56</td>\n",
       "      <td>0</td>\n",
       "      <td>2</td>\n",
       "      <td>...</td>\n",
       "      <td></td>\n",
       "      <td>0</td>\n",
       "      <td>M</td>\n",
       "      <td>0.0</td>\n",
       "      <td>0.00</td>\n",
       "      <td>29.10</td>\n",
       "      <td>29.82</td>\n",
       "      <td>1.7</td>\n",
       "      <td>27</td>\n",
       "      <td>9.2</td>\n",
       "    </tr>\n",
       "    <tr>\n",
       "      <th>1</th>\n",
       "      <td>2</td>\n",
       "      <td>2007-05-01</td>\n",
       "      <td>84</td>\n",
       "      <td>52</td>\n",
       "      <td>68</td>\n",
       "      <td>M</td>\n",
       "      <td>51</td>\n",
       "      <td>57</td>\n",
       "      <td>0</td>\n",
       "      <td>3</td>\n",
       "      <td>...</td>\n",
       "      <td></td>\n",
       "      <td>M</td>\n",
       "      <td>M</td>\n",
       "      <td>M</td>\n",
       "      <td>0.00</td>\n",
       "      <td>29.18</td>\n",
       "      <td>29.82</td>\n",
       "      <td>2.7</td>\n",
       "      <td>25</td>\n",
       "      <td>9.6</td>\n",
       "    </tr>\n",
       "    <tr>\n",
       "      <th>2</th>\n",
       "      <td>1</td>\n",
       "      <td>2007-05-02</td>\n",
       "      <td>59</td>\n",
       "      <td>42</td>\n",
       "      <td>51</td>\n",
       "      <td>-3</td>\n",
       "      <td>42</td>\n",
       "      <td>47</td>\n",
       "      <td>14</td>\n",
       "      <td>0</td>\n",
       "      <td>...</td>\n",
       "      <td>BR</td>\n",
       "      <td>0</td>\n",
       "      <td>M</td>\n",
       "      <td>0.0</td>\n",
       "      <td>0.00</td>\n",
       "      <td>29.38</td>\n",
       "      <td>30.09</td>\n",
       "      <td>13.0</td>\n",
       "      <td>4</td>\n",
       "      <td>13.4</td>\n",
       "    </tr>\n",
       "  </tbody>\n",
       "</table>\n",
       "<p>3 rows × 22 columns</p>\n",
       "</div>"
      ],
      "text/plain": [
       "   Station        Date  Tmax  Tmin Tavg Depart  DewPoint WetBulb Heat Cool  \\\n",
       "0        1  2007-05-01    83    50   67     14        51      56    0    2   \n",
       "1        2  2007-05-01    84    52   68      M        51      57    0    3   \n",
       "2        1  2007-05-02    59    42   51     -3        42      47   14    0   \n",
       "\n",
       "     ...    CodeSum Depth Water1 SnowFall PrecipTotal StnPressure SeaLevel  \\\n",
       "0    ...                0      M      0.0        0.00       29.10    29.82   \n",
       "1    ...                M      M        M        0.00       29.18    29.82   \n",
       "2    ...         BR     0      M      0.0        0.00       29.38    30.09   \n",
       "\n",
       "  ResultSpeed ResultDir  AvgSpeed  \n",
       "0         1.7        27       9.2  \n",
       "1         2.7        25       9.6  \n",
       "2        13.0         4      13.4  \n",
       "\n",
       "[3 rows x 22 columns]"
      ]
     },
     "execution_count": 406,
     "metadata": {},
     "output_type": "execute_result"
    }
   ],
   "source": [
    "weather.head(3)"
   ]
  },
  {
   "cell_type": "code",
   "execution_count": 433,
   "metadata": {},
   "outputs": [
    {
     "data": {
      "text/plain": [
       "Index(['Station', 'Date', 'Tmax', 'Tmin', 'Tavg', 'Depart', 'DewPoint',\n",
       "       'WetBulb', 'Heat', 'Cool', 'Sunrise', 'Sunset', 'CodeSum', 'Depth',\n",
       "       'Water1', 'SnowFall', 'PrecipTotal', 'StnPressure', 'SeaLevel',\n",
       "       'ResultSpeed', 'ResultDir', 'AvgSpeed'],\n",
       "      dtype='object')"
      ]
     },
     "execution_count": 433,
     "metadata": {},
     "output_type": "execute_result"
    }
   ],
   "source": [
    "weather.columns"
   ]
  },
  {
   "cell_type": "code",
   "execution_count": 365,
   "metadata": {},
   "outputs": [
    {
     "data": {
      "text/plain": [
       "array([1, 2])"
      ]
     },
     "execution_count": 365,
     "metadata": {},
     "output_type": "execute_result"
    }
   ],
   "source": [
    "weather['Station'].unique()\n",
    "# Station 1: CHICAGO O'HARE INTERNATIONAL AIRPORT Lat: 41.995 Lon: -87.933 Elev: 662 ft. above sea level\n",
    "# Station 2: CHICAGO MIDWAY INTL ARPT Lat: 41.786 Lon: -87.752 Elev: 612 ft. above sea level"
   ]
  },
  {
   "cell_type": "code",
   "execution_count": 462,
   "metadata": {},
   "outputs": [
    {
     "data": {
      "text/plain": [
       "('23', ' 0')"
      ]
     },
     "execution_count": 462,
     "metadata": {},
     "output_type": "execute_result"
    }
   ],
   "source": [
    "#dim=(16,5)\n",
    "#plt.subplots(figsize=dim)\n",
    "weather['Depart'][weather['Depart']!='M'].max(), weather['Depart'][weather['Depart']!='M'].min()"
   ]
  },
  {
   "cell_type": "code",
   "execution_count": 463,
   "metadata": {},
   "outputs": [
    {
     "data": {
      "text/plain": [
       "('78', '32')"
      ]
     },
     "execution_count": 463,
     "metadata": {},
     "output_type": "execute_result"
    }
   ],
   "source": [
    "weather['WetBulb'][weather['WetBulb']!='M'].max(), weather['WetBulb'][weather['WetBulb']!='M'].min()"
   ]
  },
  {
   "cell_type": "code",
   "execution_count": 461,
   "metadata": {},
   "outputs": [
    {
     "data": {
      "text/plain": [
       "('29', ' 0')"
      ]
     },
     "execution_count": 461,
     "metadata": {},
     "output_type": "execute_result"
    }
   ],
   "source": [
    "weather['Cool'][weather['Cool']!='M'].max(), weather['Cool'][weather['Cool']!='M'].min()"
   ]
  },
  {
   "cell_type": "code",
   "execution_count": 561,
   "metadata": {},
   "outputs": [
    {
     "name": "stdout",
     "output_type": "stream",
     "text": [
      "<class 'str'>\n"
     ]
    },
    {
     "data": {
      "text/plain": [
       "1472"
      ]
     },
     "execution_count": 561,
     "metadata": {},
     "output_type": "execute_result"
    }
   ],
   "source": [
    "print(type(weather.loc[122,'Sunrise'])) ## times are strings\n",
    "sum(weather['Sunrise']=='-') ## alternating '-' 1472/2944"
   ]
  },
  {
   "cell_type": "code",
   "execution_count": 520,
   "metadata": {},
   "outputs": [
    {
     "data": {
      "text/html": [
       "<div>\n",
       "<style>\n",
       "    .dataframe thead tr:only-child th {\n",
       "        text-align: right;\n",
       "    }\n",
       "\n",
       "    .dataframe thead th {\n",
       "        text-align: left;\n",
       "    }\n",
       "\n",
       "    .dataframe tbody tr th {\n",
       "        vertical-align: top;\n",
       "    }\n",
       "</style>\n",
       "<table border=\"1\" class=\"dataframe\">\n",
       "  <thead>\n",
       "    <tr style=\"text-align: right;\">\n",
       "      <th></th>\n",
       "      <th>Depart</th>\n",
       "      <th>WetBulb</th>\n",
       "      <th>Heat</th>\n",
       "      <th>Cool</th>\n",
       "      <th>Sunrise</th>\n",
       "      <th>CodeSum</th>\n",
       "    </tr>\n",
       "  </thead>\n",
       "  <tbody>\n",
       "    <tr>\n",
       "      <th>count</th>\n",
       "      <td>2944</td>\n",
       "      <td>2944</td>\n",
       "      <td>2944</td>\n",
       "      <td>2944</td>\n",
       "      <td>2944</td>\n",
       "      <td>2944</td>\n",
       "    </tr>\n",
       "    <tr>\n",
       "      <th>unique</th>\n",
       "      <td>42</td>\n",
       "      <td>48</td>\n",
       "      <td>31</td>\n",
       "      <td>31</td>\n",
       "      <td>122</td>\n",
       "      <td>98</td>\n",
       "    </tr>\n",
       "    <tr>\n",
       "      <th>top</th>\n",
       "      <td>M</td>\n",
       "      <td>63</td>\n",
       "      <td>0</td>\n",
       "      <td>0</td>\n",
       "      <td>-</td>\n",
       "      <td></td>\n",
       "    </tr>\n",
       "    <tr>\n",
       "      <th>freq</th>\n",
       "      <td>1472</td>\n",
       "      <td>135</td>\n",
       "      <td>1870</td>\n",
       "      <td>1147</td>\n",
       "      <td>1472</td>\n",
       "      <td>1609</td>\n",
       "    </tr>\n",
       "  </tbody>\n",
       "</table>\n",
       "</div>"
      ],
      "text/plain": [
       "       Depart WetBulb  Heat  Cool Sunrise CodeSum\n",
       "count    2944    2944  2944  2944    2944    2944\n",
       "unique     42      48    31    31     122      98\n",
       "top         M      63     0     0       -        \n",
       "freq     1472     135  1870  1147    1472    1609"
      ]
     },
     "execution_count": 520,
     "metadata": {},
     "output_type": "execute_result"
    }
   ],
   "source": [
    "weather[['Depart','WetBulb','Heat','Cool','Sunrise','CodeSum']].describe()"
   ]
  },
  {
   "cell_type": "code",
   "execution_count": 540,
   "metadata": {},
   "outputs": [
    {
     "data": {
      "text/plain": [
       "<matplotlib.axes._subplots.AxesSubplot at 0x1a35feeb38>"
      ]
     },
     "execution_count": 540,
     "metadata": {},
     "output_type": "execute_result"
    },
    {
     "data": {
      "image/png": "[encoded data removed]",
      "text/plain": [
       "<matplotlib.figure.Figure at 0x1a35f0bc88>"
      ]
     },
     "metadata": {},
     "output_type": "display_data"
    }
   ],
   "source": [
    "dimm=(14.5,2)\n",
    "plt.subplots(figsize=dimm)\n",
    "plt.subplot(1,2,1)\n",
    "weather['Heat'].hist(bins=30,color='orange')\n",
    "plt.subplot(1,2,2)\n",
    "weather['Cool'].hist(bins=30)"
   ]
  },
  {
   "cell_type": "markdown",
   "metadata": {},
   "source": [
    "#### summary of features - post some EDA \n",
    "( {-/+} means hypothetical correlation to WNV response) :\n",
    "- Dew point - is an accurate measurement of humidity (indipendant of Relative humidity) 60= uncomfortable, 70 very uncomfortable. {-}  \n",
    "- Depart - Departure from normal expected (in temperatures(?)) {?}\n",
    "a lot of missing data (M)\n",
    "- WetBulb - temps: the lower the dryer, \"A lower wet bulb temperature means the air is drier {-}\n",
    "- Heat and Cool - look like days in a month (mostly zero) {+/-} (maybe split)\n",
    "- Sunrise - type 'str' alternating empty = '-' (half of data) 1472/2944{?} \n",
    "- Depth - of snow. all is Zero or M (NaN) (should drop)\n",
    "- CodeSum -Codes. Type 'str'. almost all related to cold / wet / stormy weather (top 8 most prevalent). empty is ' ' 1609 out of 2944 {-/+} (maybe split) empty might be normal days that are {+}\n",
    "- Water1 - All missing data (M) (should drop)\n"
   ]
  },
  {
   "cell_type": "code",
   "execution_count": 552,
   "metadata": {},
   "outputs": [
    {
     "name": "stdout",
     "output_type": "stream",
     "text": [
      "TSRA RA BR  - Meanning: TS-THUNDERSTORM,RA-RAIN,BR-MIST\n",
      "              1609\n",
      "RA             296\n",
      "RA BR          238\n",
      "BR             110\n",
      "TSRA RA BR      92\n",
      "BR HZ           81\n",
      "RA DZ BR        65\n",
      "TSRA RA         43\n",
      "HZ              39\n",
      "Name: CodeSum, dtype: int64\n",
      "<class 'str'>\n"
     ]
    },
    {
     "data": {
      "text/plain": [
       "2944"
      ]
     },
     "execution_count": 552,
     "metadata": {},
     "output_type": "execute_result"
    }
   ],
   "source": [
    "print(weather['CodeSum'].value_counts().index[4],' - Meanning: TS-THUNDERSTORM,RA-RAIN,BR-MIST')\n",
    "print(weather['CodeSum'].value_counts().head(9))\n",
    "print(type(weather['CodeSum'][2]))\n",
    "weather['CodeSum'][weather['CodeSum']==' ']"
   ]
  },
  {
   "cell_type": "markdown",
   "metadata": {},
   "source": [
    "Codes. almost all related to cold / wet / stormy weather. so effecting WNV. 1609 empty"
   ]
  },
  {
   "cell_type": "code",
   "execution_count": 433,
   "metadata": {},
   "outputs": [
    {
     "data": {
      "text/plain": [
       "Index(['Station', 'Date', 'Tmax', 'Tmin', 'Tavg', 'Depart', 'DewPoint',\n",
       "       'WetBulb', 'Heat', 'Cool', 'Sunrise', 'Sunset', 'CodeSum', 'Depth',\n",
       "       'Water1', 'SnowFall', 'PrecipTotal', 'StnPressure', 'SeaLevel',\n",
       "       'ResultSpeed', 'ResultDir', 'AvgSpeed'],\n",
       "      dtype='object')"
      ]
     },
     "execution_count": 433,
     "metadata": {},
     "output_type": "execute_result"
    }
   ],
   "source": [
    "weather.columns"
   ]
  },
  {
   "cell_type": "code",
   "execution_count": 553,
   "metadata": {},
   "outputs": [
    {
     "data": {
      "text/plain": [
       "(900    0\n",
       " 901    M\n",
       " 902    0\n",
       " 903    M\n",
       " 904    0\n",
       " 905    M\n",
       " Name: Depth, dtype: object, 'M')"
      ]
     },
     "execution_count": 553,
     "metadata": {},
     "output_type": "execute_result"
    }
   ],
   "source": [
    "weather.Depth[900:906]"
   ]
  },
  {
   "cell_type": "code",
   "execution_count": 562,
   "metadata": {},
   "outputs": [
    {
     "data": {
      "text/plain": [
       "(M    2944\n",
       " Name: Water1, dtype: int64, M      1472\n",
       " 0.0    1459\n",
       "   T      12\n",
       " 0.1       1\n",
       " Name: SnowFall, dtype: int64)"
      ]
     },
     "execution_count": 562,
     "metadata": {},
     "output_type": "execute_result"
    }
   ],
   "source": [
    "print(weather.Water1.value_counts()),print(weather.SnowFall.value_counts()"
   ]
  },
  {
   "cell_type": "code",
   "execution_count": null,
   "metadata": {
    "collapsed": true
   },
   "outputs": [],
   "source": []
  }
 ],
 "metadata": {
  "kernelspec": {
   "display_name": "Python 3",
   "language": "python",
   "name": "python3"
  },
  "language_info": {
   "codemirror_mode": {
    "name": "ipython",
    "version": 3
   },
   "file_extension": ".py",
   "mimetype": "text/x-python",
   "name": "python",
   "nbconvert_exporter": "python",
   "pygments_lexer": "ipython3",
   "version": "3.6.3"
  }
 },
 "nbformat": 4,
 "nbformat_minor": 2
}
