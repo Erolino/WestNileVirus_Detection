{
 "cells": [
  {
   "cell_type": "markdown",
   "metadata": {},
   "source": [
    "# WestNileVirus"
   ]
  },
  {
   "cell_type": "markdown",
   "metadata": {},
   "source": [
    "https://www.kaggle.com/c/predict-west-nile-virus"
   ]
  },
  {
   "cell_type": "code",
   "execution_count": 1,
   "metadata": {
    "collapsed": true
   },
   "outputs": [],
   "source": [
    "import numpy as np\n",
    "import pandas as pd\n",
    "import os"
   ]
  },
  {
   "cell_type": "code",
   "execution_count": 2,
   "metadata": {},
   "outputs": [
    {
     "data": {
      "text/plain": [
       "'/Users/eran/Galvanize_more_repositories/WestNileVirus/all/'"
      ]
     },
     "execution_count": 2,
     "metadata": {},
     "output_type": "execute_result"
    }
   ],
   "source": [
    "directory_path=\"/Users/eran/Galvanize_more_repositories/WestNileVirus/all/\"\n",
    "directory_path"
   ]
  },
  {
   "cell_type": "markdown",
   "metadata": {},
   "source": [
    "## Train data"
   ]
  },
  {
   "cell_type": "code",
   "execution_count": 3,
   "metadata": {
    "collapsed": true
   },
   "outputs": [],
   "source": [
    "train_csv=os.path.join(directory_path, \"train.csv\")"
   ]
  },
  {
   "cell_type": "code",
   "execution_count": 4,
   "metadata": {
    "collapsed": true
   },
   "outputs": [],
   "source": [
    "# Reading in the train data\n",
    "train=pd.read_csv(train_csv)"
   ]
  },
  {
   "cell_type": "markdown",
   "metadata": {},
   "source": [
    "## EDA"
   ]
  },
  {
   "cell_type": "markdown",
   "metadata": {},
   "source": [
    "### general info"
   ]
  },
  {
   "cell_type": "code",
   "execution_count": 5,
   "metadata": {},
   "outputs": [
    {
     "name": "stdout",
     "output_type": "stream",
     "text": [
      "<class 'pandas.core.frame.DataFrame'>\n",
      "RangeIndex: 10506 entries, 0 to 10505\n",
      "Data columns (total 12 columns):\n",
      "Date                      10506 non-null object\n",
      "Address                   10506 non-null object\n",
      "Species                   10506 non-null object\n",
      "Block                     10506 non-null int64\n",
      "Street                    10506 non-null object\n",
      "Trap                      10506 non-null object\n",
      "AddressNumberAndStreet    10506 non-null object\n",
      "Latitude                  10506 non-null float64\n",
      "Longitude                 10506 non-null float64\n",
      "AddressAccuracy           10506 non-null int64\n",
      "NumMosquitos              10506 non-null int64\n",
      "WnvPresent                10506 non-null int64\n",
      "dtypes: float64(2), int64(4), object(6)\n",
      "memory usage: 985.0+ KB\n"
     ]
    }
   ],
   "source": [
    "train.info()"
   ]
  },
  {
   "cell_type": "code",
   "execution_count": 6,
   "metadata": {},
   "outputs": [
    {
     "data": {
      "text/html": [
       "<div>\n",
       "<style>\n",
       "    .dataframe thead tr:only-child th {\n",
       "        text-align: right;\n",
       "    }\n",
       "\n",
       "    .dataframe thead th {\n",
       "        text-align: left;\n",
       "    }\n",
       "\n",
       "    .dataframe tbody tr th {\n",
       "        vertical-align: top;\n",
       "    }\n",
       "</style>\n",
       "<table border=\"1\" class=\"dataframe\">\n",
       "  <thead>\n",
       "    <tr style=\"text-align: right;\">\n",
       "      <th></th>\n",
       "      <th>Date</th>\n",
       "      <th>Address</th>\n",
       "      <th>Species</th>\n",
       "      <th>Block</th>\n",
       "      <th>Street</th>\n",
       "      <th>Trap</th>\n",
       "      <th>AddressNumberAndStreet</th>\n",
       "      <th>Latitude</th>\n",
       "      <th>Longitude</th>\n",
       "      <th>AddressAccuracy</th>\n",
       "      <th>NumMosquitos</th>\n",
       "      <th>WnvPresent</th>\n",
       "    </tr>\n",
       "  </thead>\n",
       "  <tbody>\n",
       "    <tr>\n",
       "      <th>0</th>\n",
       "      <td>2007-05-29</td>\n",
       "      <td>4100 North Oak Park Avenue, Chicago, IL 60634,...</td>\n",
       "      <td>CULEX PIPIENS/RESTUANS</td>\n",
       "      <td>41</td>\n",
       "      <td>N OAK PARK AVE</td>\n",
       "      <td>T002</td>\n",
       "      <td>4100  N OAK PARK AVE, Chicago, IL</td>\n",
       "      <td>41.954690</td>\n",
       "      <td>-87.800991</td>\n",
       "      <td>9</td>\n",
       "      <td>1</td>\n",
       "      <td>0</td>\n",
       "    </tr>\n",
       "    <tr>\n",
       "      <th>1</th>\n",
       "      <td>2007-05-29</td>\n",
       "      <td>4100 North Oak Park Avenue, Chicago, IL 60634,...</td>\n",
       "      <td>CULEX RESTUANS</td>\n",
       "      <td>41</td>\n",
       "      <td>N OAK PARK AVE</td>\n",
       "      <td>T002</td>\n",
       "      <td>4100  N OAK PARK AVE, Chicago, IL</td>\n",
       "      <td>41.954690</td>\n",
       "      <td>-87.800991</td>\n",
       "      <td>9</td>\n",
       "      <td>1</td>\n",
       "      <td>0</td>\n",
       "    </tr>\n",
       "    <tr>\n",
       "      <th>2</th>\n",
       "      <td>2007-05-29</td>\n",
       "      <td>6200 North Mandell Avenue, Chicago, IL 60646, USA</td>\n",
       "      <td>CULEX RESTUANS</td>\n",
       "      <td>62</td>\n",
       "      <td>N MANDELL AVE</td>\n",
       "      <td>T007</td>\n",
       "      <td>6200  N MANDELL AVE, Chicago, IL</td>\n",
       "      <td>41.994991</td>\n",
       "      <td>-87.769279</td>\n",
       "      <td>9</td>\n",
       "      <td>1</td>\n",
       "      <td>0</td>\n",
       "    </tr>\n",
       "  </tbody>\n",
       "</table>\n",
       "</div>"
      ],
      "text/plain": [
       "         Date                                            Address  \\\n",
       "0  2007-05-29  4100 North Oak Park Avenue, Chicago, IL 60634,...   \n",
       "1  2007-05-29  4100 North Oak Park Avenue, Chicago, IL 60634,...   \n",
       "2  2007-05-29  6200 North Mandell Avenue, Chicago, IL 60646, USA   \n",
       "\n",
       "                  Species  Block           Street  Trap  \\\n",
       "0  CULEX PIPIENS/RESTUANS     41   N OAK PARK AVE  T002   \n",
       "1          CULEX RESTUANS     41   N OAK PARK AVE  T002   \n",
       "2          CULEX RESTUANS     62    N MANDELL AVE  T007   \n",
       "\n",
       "              AddressNumberAndStreet   Latitude  Longitude  AddressAccuracy  \\\n",
       "0  4100  N OAK PARK AVE, Chicago, IL  41.954690 -87.800991                9   \n",
       "1  4100  N OAK PARK AVE, Chicago, IL  41.954690 -87.800991                9   \n",
       "2   6200  N MANDELL AVE, Chicago, IL  41.994991 -87.769279                9   \n",
       "\n",
       "   NumMosquitos  WnvPresent  \n",
       "0             1           0  \n",
       "1             1           0  \n",
       "2             1           0  "
      ]
     },
     "execution_count": 6,
     "metadata": {},
     "output_type": "execute_result"
    }
   ],
   "source": [
    "train.head(3)"
   ]
  },
  {
   "cell_type": "markdown",
   "metadata": {},
   "source": [
    "### Investigating specific columns: 'Species','Traps','AddressAccuracy' and Geo-location"
   ]
  },
  {
   "cell_type": "code",
   "execution_count": 7,
   "metadata": {},
   "outputs": [
    {
     "data": {
      "text/plain": [
       "array(['CULEX PIPIENS/RESTUANS', 'CULEX RESTUANS', 'CULEX PIPIENS',\n",
       "       'CULEX SALINARIUS', 'CULEX TERRITANS', 'CULEX TARSALIS',\n",
       "       'CULEX ERRATICUS'], dtype=object)"
      ]
     },
     "execution_count": 7,
     "metadata": {},
     "output_type": "execute_result"
    }
   ],
   "source": [
    "train['Species'].unique() ## 6 different species"
   ]
  },
  {
   "cell_type": "code",
   "execution_count": 8,
   "metadata": {},
   "outputs": [
    {
     "data": {
      "text/plain": [
       "136"
      ]
     },
     "execution_count": 8,
     "metadata": {},
     "output_type": "execute_result"
    }
   ],
   "source": [
    "len(train['Trap'].unique()) ## 136 different traps"
   ]
  },
  {
   "cell_type": "code",
   "execution_count": 9,
   "metadata": {},
   "outputs": [
    {
     "data": {
      "text/plain": [
       "count    10506.000000\n",
       "mean         7.819532\n",
       "std          1.452921\n",
       "min          3.000000\n",
       "25%          8.000000\n",
       "50%          8.000000\n",
       "75%          9.000000\n",
       "max          9.000000\n",
       "Name: AddressAccuracy, dtype: float64"
      ]
     },
     "execution_count": 9,
     "metadata": {},
     "output_type": "execute_result"
    }
   ],
   "source": [
    "train['AddressAccuracy'].describe() ## this is (according to description) the accuracy as returned from geo-locator"
   ]
  },
  {
   "cell_type": "code",
   "execution_count": 10,
   "metadata": {},
   "outputs": [
    {
     "data": {
      "text/plain": [
       "<matplotlib.axes._subplots.AxesSubplot at 0x10da7e470>"
      ]
     },
     "execution_count": 10,
     "metadata": {},
     "output_type": "execute_result"
    }
   ],
   "source": [
    "train['AddressAccuracy'].hist() ## so most accuracy's are 8 and 9, some 5 and very little 3. \n",
    "# Later this could split into 3,4 categories and then into 3,4 dummie features "
   ]
  },
  {
   "cell_type": "markdown",
   "metadata": {},
   "source": [
    "#### ploting histogram (count) of count vs specie and whether there is WMV (color) "
   ]
  },
  {
   "cell_type": "code",
   "execution_count": 11,
   "metadata": {},
   "outputs": [
    {
     "data": {
      "text/plain": [
       "<matplotlib.axes._subplots.AxesSubplot at 0x1a148daac8>"
      ]
     },
     "execution_count": 11,
     "metadata": {},
     "output_type": "execute_result"
    },
    {
     "data": {
      "image/png": "[encoded data removed]",
      "text/plain": [
       "<matplotlib.figure.Figure at 0x112afdf28>"
      ]
     },
     "metadata": {},
     "output_type": "display_data"
    }
   ],
   "source": [
    "# looking at bars of every specie whether it has virus (orange) or not (blue)\n",
    "# (to see if there is relationship between the species and the appearence of virus)\n",
    "import matplotlib.pyplot as plt\n",
    "import seaborn as sns\n",
    "%matplotlib  inline\n",
    "dim=(16,5)\n",
    "plt.subplots(figsize=dim)\n",
    "sns.countplot('Species',data=train,hue='WnvPresent',)\n",
    "# seems that only 3 species are really prevalent.\n",
    "# \"Culex Pipiens\" has the highest relative portion of WNtV ~10% "
   ]
  },
  {
   "cell_type": "markdown",
   "metadata": {},
   "source": [
    "#### doing dummies out of species"
   ]
  },
  {
   "cell_type": "code",
   "execution_count": 12,
   "metadata": {
    "collapsed": true
   },
   "outputs": [],
   "source": [
    "# make new train with dummies\n",
    "trainWdum=pd.get_dummies(train,columns=['Species'],drop_first=True)"
   ]
  },
  {
   "cell_type": "code",
   "execution_count": 13,
   "metadata": {
    "scrolled": true
   },
   "outputs": [
    {
     "data": {
      "text/html": [
       "<div>\n",
       "<style>\n",
       "    .dataframe thead tr:only-child th {\n",
       "        text-align: right;\n",
       "    }\n",
       "\n",
       "    .dataframe thead th {\n",
       "        text-align: left;\n",
       "    }\n",
       "\n",
       "    .dataframe tbody tr th {\n",
       "        vertical-align: top;\n",
       "    }\n",
       "</style>\n",
       "<table border=\"1\" class=\"dataframe\">\n",
       "  <thead>\n",
       "    <tr style=\"text-align: right;\">\n",
       "      <th></th>\n",
       "      <th>Block</th>\n",
       "      <th>Latitude</th>\n",
       "      <th>Longitude</th>\n",
       "      <th>AddressAccuracy</th>\n",
       "      <th>NumMosquitos</th>\n",
       "      <th>WnvPresent</th>\n",
       "      <th>Species_CULEX PIPIENS</th>\n",
       "      <th>Species_CULEX PIPIENS/RESTUANS</th>\n",
       "      <th>Species_CULEX RESTUANS</th>\n",
       "      <th>Species_CULEX SALINARIUS</th>\n",
       "      <th>Species_CULEX TARSALIS</th>\n",
       "      <th>Species_CULEX TERRITANS</th>\n",
       "    </tr>\n",
       "  </thead>\n",
       "  <tbody>\n",
       "    <tr>\n",
       "      <th>count</th>\n",
       "      <td>10506.000000</td>\n",
       "      <td>10506.000000</td>\n",
       "      <td>10506.000000</td>\n",
       "      <td>10506.000000</td>\n",
       "      <td>10506.000000</td>\n",
       "      <td>10506.000000</td>\n",
       "      <td>10506.000000</td>\n",
       "      <td>10506.000000</td>\n",
       "      <td>10506.000000</td>\n",
       "      <td>10506.000000</td>\n",
       "      <td>10506.000000</td>\n",
       "      <td>10506.000000</td>\n",
       "    </tr>\n",
       "    <tr>\n",
       "      <th>mean</th>\n",
       "      <td>35.687797</td>\n",
       "      <td>41.841139</td>\n",
       "      <td>-87.699908</td>\n",
       "      <td>7.819532</td>\n",
       "      <td>12.853512</td>\n",
       "      <td>0.052446</td>\n",
       "      <td>0.256901</td>\n",
       "      <td>0.452313</td>\n",
       "      <td>0.260803</td>\n",
       "      <td>0.008186</td>\n",
       "      <td>0.000571</td>\n",
       "      <td>0.021131</td>\n",
       "    </tr>\n",
       "    <tr>\n",
       "      <th>std</th>\n",
       "      <td>24.339468</td>\n",
       "      <td>0.112742</td>\n",
       "      <td>0.096514</td>\n",
       "      <td>1.452921</td>\n",
       "      <td>16.133816</td>\n",
       "      <td>0.222936</td>\n",
       "      <td>0.436945</td>\n",
       "      <td>0.497744</td>\n",
       "      <td>0.439094</td>\n",
       "      <td>0.090109</td>\n",
       "      <td>0.023892</td>\n",
       "      <td>0.143827</td>\n",
       "    </tr>\n",
       "    <tr>\n",
       "      <th>min</th>\n",
       "      <td>10.000000</td>\n",
       "      <td>41.644612</td>\n",
       "      <td>-87.930995</td>\n",
       "      <td>3.000000</td>\n",
       "      <td>1.000000</td>\n",
       "      <td>0.000000</td>\n",
       "      <td>0.000000</td>\n",
       "      <td>0.000000</td>\n",
       "      <td>0.000000</td>\n",
       "      <td>0.000000</td>\n",
       "      <td>0.000000</td>\n",
       "      <td>0.000000</td>\n",
       "    </tr>\n",
       "    <tr>\n",
       "      <th>25%</th>\n",
       "      <td>12.000000</td>\n",
       "      <td>41.732984</td>\n",
       "      <td>-87.760070</td>\n",
       "      <td>8.000000</td>\n",
       "      <td>2.000000</td>\n",
       "      <td>0.000000</td>\n",
       "      <td>0.000000</td>\n",
       "      <td>0.000000</td>\n",
       "      <td>0.000000</td>\n",
       "      <td>0.000000</td>\n",
       "      <td>0.000000</td>\n",
       "      <td>0.000000</td>\n",
       "    </tr>\n",
       "    <tr>\n",
       "      <th>50%</th>\n",
       "      <td>33.000000</td>\n",
       "      <td>41.846283</td>\n",
       "      <td>-87.694991</td>\n",
       "      <td>8.000000</td>\n",
       "      <td>5.000000</td>\n",
       "      <td>0.000000</td>\n",
       "      <td>0.000000</td>\n",
       "      <td>0.000000</td>\n",
       "      <td>0.000000</td>\n",
       "      <td>0.000000</td>\n",
       "      <td>0.000000</td>\n",
       "      <td>0.000000</td>\n",
       "    </tr>\n",
       "    <tr>\n",
       "      <th>75%</th>\n",
       "      <td>52.000000</td>\n",
       "      <td>41.954690</td>\n",
       "      <td>-87.627796</td>\n",
       "      <td>9.000000</td>\n",
       "      <td>17.000000</td>\n",
       "      <td>0.000000</td>\n",
       "      <td>1.000000</td>\n",
       "      <td>1.000000</td>\n",
       "      <td>1.000000</td>\n",
       "      <td>0.000000</td>\n",
       "      <td>0.000000</td>\n",
       "      <td>0.000000</td>\n",
       "    </tr>\n",
       "    <tr>\n",
       "      <th>max</th>\n",
       "      <td>98.000000</td>\n",
       "      <td>42.017430</td>\n",
       "      <td>-87.531635</td>\n",
       "      <td>9.000000</td>\n",
       "      <td>50.000000</td>\n",
       "      <td>1.000000</td>\n",
       "      <td>1.000000</td>\n",
       "      <td>1.000000</td>\n",
       "      <td>1.000000</td>\n",
       "      <td>1.000000</td>\n",
       "      <td>1.000000</td>\n",
       "      <td>1.000000</td>\n",
       "    </tr>\n",
       "  </tbody>\n",
       "</table>\n",
       "</div>"
      ],
      "text/plain": [
       "              Block      Latitude     Longitude  AddressAccuracy  \\\n",
       "count  10506.000000  10506.000000  10506.000000     10506.000000   \n",
       "mean      35.687797     41.841139    -87.699908         7.819532   \n",
       "std       24.339468      0.112742      0.096514         1.452921   \n",
       "min       10.000000     41.644612    -87.930995         3.000000   \n",
       "25%       12.000000     41.732984    -87.760070         8.000000   \n",
       "50%       33.000000     41.846283    -87.694991         8.000000   \n",
       "75%       52.000000     41.954690    -87.627796         9.000000   \n",
       "max       98.000000     42.017430    -87.531635         9.000000   \n",
       "\n",
       "       NumMosquitos    WnvPresent  Species_CULEX PIPIENS  \\\n",
       "count  10506.000000  10506.000000           10506.000000   \n",
       "mean      12.853512      0.052446               0.256901   \n",
       "std       16.133816      0.222936               0.436945   \n",
       "min        1.000000      0.000000               0.000000   \n",
       "25%        2.000000      0.000000               0.000000   \n",
       "50%        5.000000      0.000000               0.000000   \n",
       "75%       17.000000      0.000000               1.000000   \n",
       "max       50.000000      1.000000               1.000000   \n",
       "\n",
       "       Species_CULEX PIPIENS/RESTUANS  Species_CULEX RESTUANS  \\\n",
       "count                    10506.000000            10506.000000   \n",
       "mean                         0.452313                0.260803   \n",
       "std                          0.497744                0.439094   \n",
       "min                          0.000000                0.000000   \n",
       "25%                          0.000000                0.000000   \n",
       "50%                          0.000000                0.000000   \n",
       "75%                          1.000000                1.000000   \n",
       "max                          1.000000                1.000000   \n",
       "\n",
       "       Species_CULEX SALINARIUS  Species_CULEX TARSALIS  \\\n",
       "count              10506.000000            10506.000000   \n",
       "mean                   0.008186                0.000571   \n",
       "std                    0.090109                0.023892   \n",
       "min                    0.000000                0.000000   \n",
       "25%                    0.000000                0.000000   \n",
       "50%                    0.000000                0.000000   \n",
       "75%                    0.000000                0.000000   \n",
       "max                    1.000000                1.000000   \n",
       "\n",
       "       Species_CULEX TERRITANS  \n",
       "count             10506.000000  \n",
       "mean                  0.021131  \n",
       "std                   0.143827  \n",
       "min                   0.000000  \n",
       "25%                   0.000000  \n",
       "50%                   0.000000  \n",
       "75%                   0.000000  \n",
       "max                   1.000000  "
      ]
     },
     "execution_count": 13,
     "metadata": {},
     "output_type": "execute_result"
    }
   ],
   "source": [
    "trainWdum.describe()"
   ]
  },
  {
   "cell_type": "markdown",
   "metadata": {},
   "source": [
    "#### what about the geo-location feature?"
   ]
  },
  {
   "cell_type": "code",
   "execution_count": 14,
   "metadata": {},
   "outputs": [
    {
     "data": {
      "text/plain": [
       "185"
      ]
     },
     "execution_count": 14,
     "metadata": {},
     "output_type": "execute_result"
    }
   ],
   "source": [
    "# example of how many observation for 1 location:\n",
    "df1location=trainWdum[(trainWdum['Latitude']==41.954690) & (trainWdum['Longitude']==-87.800991)]\n",
    "len(df1location)"
   ]
  },
  {
   "cell_type": "code",
   "execution_count": 15,
   "metadata": {},
   "outputs": [
    {
     "data": {
      "text/html": [
       "<div>\n",
       "<style>\n",
       "    .dataframe thead tr:only-child th {\n",
       "        text-align: right;\n",
       "    }\n",
       "\n",
       "    .dataframe thead th {\n",
       "        text-align: left;\n",
       "    }\n",
       "\n",
       "    .dataframe tbody tr th {\n",
       "        vertical-align: top;\n",
       "    }\n",
       "</style>\n",
       "<table border=\"1\" class=\"dataframe\">\n",
       "  <thead>\n",
       "    <tr style=\"text-align: right;\">\n",
       "      <th></th>\n",
       "      <th>Date</th>\n",
       "      <th>Address</th>\n",
       "      <th>Block</th>\n",
       "      <th>Street</th>\n",
       "      <th>Trap</th>\n",
       "      <th>AddressNumberAndStreet</th>\n",
       "      <th>Latitude</th>\n",
       "      <th>Longitude</th>\n",
       "      <th>AddressAccuracy</th>\n",
       "      <th>NumMosquitos</th>\n",
       "      <th>WnvPresent</th>\n",
       "      <th>Species_CULEX PIPIENS</th>\n",
       "      <th>Species_CULEX PIPIENS/RESTUANS</th>\n",
       "      <th>Species_CULEX RESTUANS</th>\n",
       "      <th>Species_CULEX SALINARIUS</th>\n",
       "      <th>Species_CULEX TARSALIS</th>\n",
       "      <th>Species_CULEX TERRITANS</th>\n",
       "    </tr>\n",
       "  </thead>\n",
       "  <tbody>\n",
       "    <tr>\n",
       "      <th>0</th>\n",
       "      <td>2007-05-29</td>\n",
       "      <td>4100 North Oak Park Avenue, Chicago, IL 60634,...</td>\n",
       "      <td>41</td>\n",
       "      <td>N OAK PARK AVE</td>\n",
       "      <td>T002</td>\n",
       "      <td>4100  N OAK PARK AVE, Chicago, IL</td>\n",
       "      <td>41.95469</td>\n",
       "      <td>-87.800991</td>\n",
       "      <td>9</td>\n",
       "      <td>1</td>\n",
       "      <td>0</td>\n",
       "      <td>0</td>\n",
       "      <td>1</td>\n",
       "      <td>0</td>\n",
       "      <td>0</td>\n",
       "      <td>0</td>\n",
       "      <td>0</td>\n",
       "    </tr>\n",
       "  </tbody>\n",
       "</table>\n",
       "</div>"
      ],
      "text/plain": [
       "         Date                                            Address  Block  \\\n",
       "0  2007-05-29  4100 North Oak Park Avenue, Chicago, IL 60634,...     41   \n",
       "\n",
       "            Street  Trap             AddressNumberAndStreet  Latitude  \\\n",
       "0   N OAK PARK AVE  T002  4100  N OAK PARK AVE, Chicago, IL  41.95469   \n",
       "\n",
       "   Longitude  AddressAccuracy  NumMosquitos  WnvPresent  \\\n",
       "0 -87.800991                9             1           0   \n",
       "\n",
       "   Species_CULEX PIPIENS  Species_CULEX PIPIENS/RESTUANS  \\\n",
       "0                      0                               1   \n",
       "\n",
       "   Species_CULEX RESTUANS  Species_CULEX SALINARIUS  Species_CULEX TARSALIS  \\\n",
       "0                       0                         0                       0   \n",
       "\n",
       "   Species_CULEX TERRITANS  \n",
       "0                        0  "
      ]
     },
     "execution_count": 15,
     "metadata": {},
     "output_type": "execute_result"
    }
   ],
   "source": [
    "df1location.head(1)"
   ]
  },
  {
   "cell_type": "code",
   "execution_count": 16,
   "metadata": {},
   "outputs": [
    {
     "data": {
      "text/plain": [
       "Date                       True\n",
       "Address                    True\n",
       "Species                   False\n",
       "Block                      True\n",
       "Street                     True\n",
       "Trap                       True\n",
       "AddressNumberAndStreet     True\n",
       "Latitude                   True\n",
       "Longitude                  True\n",
       "AddressAccuracy            True\n",
       "NumMosquitos               True\n",
       "WnvPresent                 True\n",
       "dtype: bool"
      ]
     },
     "execution_count": 16,
     "metadata": {},
     "output_type": "execute_result"
    }
   ],
   "source": [
    "## two rows in the train data: same date place etc. just the species are differen \n",
    "train.iloc[1]==train.iloc[0]"
   ]
  },
  {
   "cell_type": "code",
   "execution_count": 17,
   "metadata": {},
   "outputs": [
    {
     "data": {
      "text/html": [
       "<div>\n",
       "<style>\n",
       "    .dataframe thead tr:only-child th {\n",
       "        text-align: right;\n",
       "    }\n",
       "\n",
       "    .dataframe thead th {\n",
       "        text-align: left;\n",
       "    }\n",
       "\n",
       "    .dataframe tbody tr th {\n",
       "        vertical-align: top;\n",
       "    }\n",
       "</style>\n",
       "<table border=\"1\" class=\"dataframe\">\n",
       "  <thead>\n",
       "    <tr style=\"text-align: right;\">\n",
       "      <th></th>\n",
       "      <th>Date</th>\n",
       "      <th>Address</th>\n",
       "      <th>Block</th>\n",
       "      <th>Street</th>\n",
       "      <th>Trap</th>\n",
       "      <th>AddressNumberAndStreet</th>\n",
       "      <th>Latitude</th>\n",
       "      <th>Longitude</th>\n",
       "      <th>AddressAccuracy</th>\n",
       "      <th>NumMosquitos</th>\n",
       "      <th>WnvPresent</th>\n",
       "      <th>Species_CULEX PIPIENS</th>\n",
       "      <th>Species_CULEX PIPIENS/RESTUANS</th>\n",
       "      <th>Species_CULEX RESTUANS</th>\n",
       "      <th>Species_CULEX SALINARIUS</th>\n",
       "      <th>Species_CULEX TARSALIS</th>\n",
       "      <th>Species_CULEX TERRITANS</th>\n",
       "    </tr>\n",
       "  </thead>\n",
       "  <tbody>\n",
       "    <tr>\n",
       "      <th>10415</th>\n",
       "      <td>2013-09-26</td>\n",
       "      <td>4100 North Oak Park Avenue, Chicago, IL 60634,...</td>\n",
       "      <td>41</td>\n",
       "      <td>N OAK PARK AVE</td>\n",
       "      <td>T002</td>\n",
       "      <td>4100  N OAK PARK AVE, Chicago, IL</td>\n",
       "      <td>41.95469</td>\n",
       "      <td>-87.800991</td>\n",
       "      <td>9</td>\n",
       "      <td>8</td>\n",
       "      <td>0</td>\n",
       "      <td>1</td>\n",
       "      <td>0</td>\n",
       "      <td>0</td>\n",
       "      <td>0</td>\n",
       "      <td>0</td>\n",
       "      <td>0</td>\n",
       "    </tr>\n",
       "  </tbody>\n",
       "</table>\n",
       "</div>"
      ],
      "text/plain": [
       "             Date                                            Address  Block  \\\n",
       "10415  2013-09-26  4100 North Oak Park Avenue, Chicago, IL 60634,...     41   \n",
       "\n",
       "                Street  Trap             AddressNumberAndStreet  Latitude  \\\n",
       "10415   N OAK PARK AVE  T002  4100  N OAK PARK AVE, Chicago, IL  41.95469   \n",
       "\n",
       "       Longitude  AddressAccuracy  NumMosquitos  WnvPresent  \\\n",
       "10415 -87.800991                9             8           0   \n",
       "\n",
       "       Species_CULEX PIPIENS  Species_CULEX PIPIENS/RESTUANS  \\\n",
       "10415                      1                               0   \n",
       "\n",
       "       Species_CULEX RESTUANS  Species_CULEX SALINARIUS  \\\n",
       "10415                       0                         0   \n",
       "\n",
       "       Species_CULEX TARSALIS  Species_CULEX TERRITANS  \n",
       "10415                       0                        0  "
      ]
     },
     "execution_count": 17,
     "metadata": {},
     "output_type": "execute_result"
    }
   ],
   "source": [
    "df1location.tail(1)"
   ]
  },
  {
   "cell_type": "code",
   "execution_count": 18,
   "metadata": {},
   "outputs": [
    {
     "data": {
      "text/plain": [
       "67"
      ]
     },
     "execution_count": 18,
     "metadata": {},
     "output_type": "execute_result"
    }
   ],
   "source": [
    "# there are 185 records from the same location collected in 67 dates\n",
    "len(df1location['Date'].unique())"
   ]
  },
  {
   "cell_type": "markdown",
   "metadata": {},
   "source": [
    "### Getting baseline accuracy of predicting WNV \n",
    "let's understand the predictive capability of this data set without additional spreadsheets and without feature engineering:"
   ]
  },
  {
   "cell_type": "code",
   "execution_count": 19,
   "metadata": {
    "collapsed": true
   },
   "outputs": [],
   "source": [
    "trainBasic=trainWdum[['Latitude','Longitude','AddressAccuracy','NumMosquitos','Species_CULEX PIPIENS','Species_CULEX PIPIENS/RESTUANS','Species_CULEX RESTUANS','Species_CULEX SALINARIUS','Species_CULEX TARSALIS','Species_CULEX TERRITANS','WnvPresent']]"
   ]
  },
  {
   "cell_type": "code",
   "execution_count": 20,
   "metadata": {},
   "outputs": [
    {
     "data": {
      "text/html": [
       "<div>\n",
       "<style>\n",
       "    .dataframe thead tr:only-child th {\n",
       "        text-align: right;\n",
       "    }\n",
       "\n",
       "    .dataframe thead th {\n",
       "        text-align: left;\n",
       "    }\n",
       "\n",
       "    .dataframe tbody tr th {\n",
       "        vertical-align: top;\n",
       "    }\n",
       "</style>\n",
       "<table border=\"1\" class=\"dataframe\">\n",
       "  <thead>\n",
       "    <tr style=\"text-align: right;\">\n",
       "      <th></th>\n",
       "      <th>Latitude</th>\n",
       "      <th>Longitude</th>\n",
       "      <th>AddressAccuracy</th>\n",
       "      <th>NumMosquitos</th>\n",
       "      <th>Species_CULEX PIPIENS</th>\n",
       "      <th>Species_CULEX PIPIENS/RESTUANS</th>\n",
       "      <th>Species_CULEX RESTUANS</th>\n",
       "      <th>Species_CULEX SALINARIUS</th>\n",
       "      <th>Species_CULEX TARSALIS</th>\n",
       "      <th>Species_CULEX TERRITANS</th>\n",
       "      <th>WnvPresent</th>\n",
       "    </tr>\n",
       "  </thead>\n",
       "  <tbody>\n",
       "    <tr>\n",
       "      <th>0</th>\n",
       "      <td>41.95469</td>\n",
       "      <td>-87.800991</td>\n",
       "      <td>9</td>\n",
       "      <td>1</td>\n",
       "      <td>0</td>\n",
       "      <td>1</td>\n",
       "      <td>0</td>\n",
       "      <td>0</td>\n",
       "      <td>0</td>\n",
       "      <td>0</td>\n",
       "      <td>0</td>\n",
       "    </tr>\n",
       "    <tr>\n",
       "      <th>1</th>\n",
       "      <td>41.95469</td>\n",
       "      <td>-87.800991</td>\n",
       "      <td>9</td>\n",
       "      <td>1</td>\n",
       "      <td>0</td>\n",
       "      <td>0</td>\n",
       "      <td>1</td>\n",
       "      <td>0</td>\n",
       "      <td>0</td>\n",
       "      <td>0</td>\n",
       "      <td>0</td>\n",
       "    </tr>\n",
       "  </tbody>\n",
       "</table>\n",
       "</div>"
      ],
      "text/plain": [
       "   Latitude  Longitude  AddressAccuracy  NumMosquitos  Species_CULEX PIPIENS  \\\n",
       "0  41.95469 -87.800991                9             1                      0   \n",
       "1  41.95469 -87.800991                9             1                      0   \n",
       "\n",
       "   Species_CULEX PIPIENS/RESTUANS  Species_CULEX RESTUANS  \\\n",
       "0                               1                       0   \n",
       "1                               0                       1   \n",
       "\n",
       "   Species_CULEX SALINARIUS  Species_CULEX TARSALIS  Species_CULEX TERRITANS  \\\n",
       "0                         0                       0                        0   \n",
       "1                         0                       0                        0   \n",
       "\n",
       "   WnvPresent  \n",
       "0           0  \n",
       "1           0  "
      ]
     },
     "execution_count": 20,
     "metadata": {},
     "output_type": "execute_result"
    }
   ],
   "source": [
    "trainBasic.head(2)"
   ]
  },
  {
   "cell_type": "code",
   "execution_count": 21,
   "metadata": {
    "collapsed": true
   },
   "outputs": [],
   "source": [
    "y=trainBasic['WnvPresent']\n",
    "X=trainBasic.drop('WnvPresent',1)"
   ]
  },
  {
   "cell_type": "code",
   "execution_count": 22,
   "metadata": {
    "collapsed": true
   },
   "outputs": [],
   "source": [
    "from sklearn.model_selection import train_test_split\n",
    "X_train, X_test,y_train, y_test=train_test_split(X,y,test_size=0.2,stratify=y,random_state=42)\n",
    "## stratify makes sure that ratio between classes stays like in the dataset"
   ]
  },
  {
   "cell_type": "code",
   "execution_count": 23,
   "metadata": {},
   "outputs": [
    {
     "data": {
      "text/plain": [
       "LogisticRegression(C=1.0, class_weight=None, dual=False, fit_intercept=True,\n",
       "          intercept_scaling=1, max_iter=100, multi_class='ovr', n_jobs=1,\n",
       "          penalty='l2', random_state=42, solver='liblinear', tol=0.0001,\n",
       "          verbose=0, warm_start=False)"
      ]
     },
     "execution_count": 23,
     "metadata": {},
     "output_type": "execute_result"
    }
   ],
   "source": [
    "from sklearn.linear_model import LogisticRegression\n",
    "log_reg=LogisticRegression(random_state=42)\n",
    "log_reg.fit(X_train,y_train)"
   ]
  },
  {
   "cell_type": "code",
   "execution_count": 24,
   "metadata": {
    "collapsed": true
   },
   "outputs": [],
   "source": [
    "pred=log_reg.predict(X_test)"
   ]
  },
  {
   "cell_type": "code",
   "execution_count": 25,
   "metadata": {},
   "outputs": [
    {
     "name": "stdout",
     "output_type": "stream",
     "text": [
      "             precision    recall  f1-score   support\n",
      "\n",
      "   No Virus       0.95      1.00      0.97      1992\n",
      "      Virus       0.00      0.00      0.00       110\n",
      "\n",
      "avg / total       0.90      0.95      0.92      2102\n",
      "\n",
      "[[1992    0]\n",
      " [ 110    0]]\n",
      "_____________________\n",
      "accuracy =  0.948\n"
     ]
    },
    {
     "name": "stderr",
     "output_type": "stream",
     "text": [
      "/Users/eran/anaconda3/lib/python3.6/site-packages/sklearn/metrics/classification.py:1135: UndefinedMetricWarning: Precision and F-score are ill-defined and being set to 0.0 in labels with no predicted samples.\n",
      "  'precision', 'predicted', average, warn_for)\n"
     ]
    }
   ],
   "source": [
    "from sklearn.metrics import classification_report\n",
    "from sklearn.metrics import accuracy_score\n",
    "target_names=['No Virus','Virus']\n",
    "print(classification_report(y_test, pred, target_names=target_names))\n",
    "from sklearn.metrics import confusion_matrix\n",
    "print(confusion_matrix(y_test,pred))\n",
    "print(\"_____________________\")\n",
    "print(\"accuracy = \",round(accuracy_score(y_test,pred),3))"
   ]
  },
  {
   "cell_type": "code",
   "execution_count": 26,
   "metadata": {
    "collapsed": true
   },
   "outputs": [],
   "source": [
    "#               predicted.NO (-) predicted.Yes (+)\n",
    "# actual NO (F)          1992            0\n",
    "# actual Yes (T)          110            0\n",
    "\n",
    "# accuracy = 1992/2102= 94.7% # (looking at all the predicted correctly - (TP+TN)/all )\n",
    "# precision=0/0= 0  #(looking at predicted.yes column only)\n",
    "# recall=0/110 = 0  #(looking at actual.yes column only)\n",
    "# F1_score= 2/(1/0+1/0)=0  #2/(1/precision+ 1/recall) (weighted average between precision and recall) "
   ]
  },
  {
   "cell_type": "markdown",
   "metadata": {},
   "source": [
    "Accuracy is very high ~95% but this is because it's easy to predict that there is no virus because it's rare. but in cases where there is a virus, none were detected as we can see looking at the precision and recall equal to 0."
   ]
  },
  {
   "cell_type": "code",
   "execution_count": 27,
   "metadata": {
    "collapsed": true
   },
   "outputs": [],
   "source": [
    "from sklearn.neighbors import KNeighborsClassifier\n",
    "knn=KNeighborsClassifier(n_neighbors=5)\n",
    "knn.fit(X_train,y_train)\n",
    "yknn_pred=knn.predict(X_test)"
   ]
  },
  {
   "cell_type": "code",
   "execution_count": 28,
   "metadata": {},
   "outputs": [
    {
     "name": "stdout",
     "output_type": "stream",
     "text": [
      "             precision    recall  f1-score   support\n",
      "\n",
      "   No Virus       0.95      0.99      0.97      1992\n",
      "      Virus       0.33      0.07      0.12       110\n",
      "\n",
      "avg / total       0.92      0.94      0.93      2102\n",
      "\n",
      "[[1976   16]\n",
      " [ 102    8]]\n",
      "______________\n",
      "accuracy =  0.944\n"
     ]
    }
   ],
   "source": [
    "print(classification_report(y_test, yknn_pred, target_names=target_names))\n",
    "print(confusion_matrix(y_test,yknn_pred))\n",
    "print(\"______________\")\n",
    "print(\"accuracy = \",round(accuracy_score(y_test,yknn_pred),3))"
   ]
  },
  {
   "cell_type": "code",
   "execution_count": 29,
   "metadata": {},
   "outputs": [
    {
     "name": "stderr",
     "output_type": "stream",
     "text": [
      "/Users/eran/anaconda3/lib/python3.6/site-packages/sklearn/metrics/classification.py:1135: UndefinedMetricWarning: F-score is ill-defined and being set to 0.0 due to no predicted samples.\n",
      "  'precision', 'predicted', average, warn_for)\n"
     ]
    }
   ],
   "source": [
    "from sklearn.metrics import f1_score\n",
    "k_range=range(1,15)\n",
    "accur=[]\n",
    "f1list=[]\n",
    "for k in k_range:\n",
    "    knn=KNeighborsClassifier(n_neighbors=k)\n",
    "    knn.fit(X_train,y_train)\n",
    "    y_pred=knn.predict(X_test)\n",
    "    acck=accuracy_score(y_test,y_pred)\n",
    "    f1=f1_score(y_test,y_pred)\n",
    "    accur.append(acck)\n",
    "    f1list.append(f1)"
   ]
  },
  {
   "cell_type": "code",
   "execution_count": 30,
   "metadata": {},
   "outputs": [
    {
     "data": {
      "text/plain": [
       "Text(0,0.5,'f1_score')"
      ]
     },
     "execution_count": 30,
     "metadata": {},
     "output_type": "execute_result"
    },
    {
     "data": {
      "image/png": "[encoded data removed]",
      "text/plain": [
       "<matplotlib.figure.Figure at 0x1a1856ba58>"
      ]
     },
     "metadata": {},
     "output_type": "display_data"
    }
   ],
   "source": [
    "plt.subplot(1,2,1)\n",
    "plt.plot(k_range,accur)\n",
    "plt.xlabel('K neighbors')\n",
    "plt.ylabel('accuracy')\n",
    "plt.subplot(1,2,2)\n",
    "plt.plot(k_range,f1list)\n",
    "plt.xlabel('K neighbors')\n",
    "plt.ylabel('f1_score')"
   ]
  },
  {
   "cell_type": "markdown",
   "metadata": {},
   "source": [
    "because of the scarcity of incidence of WMV, the model is not better than a \"dumb\" model of predicting \"No \n",
    "VIrus\" every time \n",
    "\n",
    "We can see that after a certain point, increasing the bias (i.e.\"dumbing\" the model, by using even higher kNeighbors) we don't see decrease in accuracy as we'd expect"
   ]
  },
  {
   "cell_type": "markdown",
   "metadata": {},
   "source": [
    "f1_score (weighted average of precision and recall) is only dimished when the k are larger (meanning generalizing using higher K's) only decreases performance')  "
   ]
  },
  {
   "cell_type": "markdown",
   "metadata": {},
   "source": [
    "#### we need to enrich the data, using aditional data sets..\n",
    "later we will also have to deal with the imbalanced data set (scarce WMV=1 response rate)"
   ]
  },
  {
   "cell_type": "markdown",
   "metadata": {},
   "source": [
    "## Spray data"
   ]
  },
  {
   "cell_type": "markdown",
   "metadata": {},
   "source": [
    "### EDA"
   ]
  },
  {
   "cell_type": "code",
   "execution_count": 31,
   "metadata": {
    "collapsed": true
   },
   "outputs": [],
   "source": [
    "spray_csv=os.path.join(directory_path,\"spray.csv\")"
   ]
  },
  {
   "cell_type": "code",
   "execution_count": 32,
   "metadata": {
    "collapsed": true
   },
   "outputs": [],
   "source": [
    "spray=pd.read_csv(spray_csv)"
   ]
  },
  {
   "cell_type": "code",
   "execution_count": 33,
   "metadata": {},
   "outputs": [
    {
     "data": {
      "text/html": [
       "<div>\n",
       "<style>\n",
       "    .dataframe thead tr:only-child th {\n",
       "        text-align: right;\n",
       "    }\n",
       "\n",
       "    .dataframe thead th {\n",
       "        text-align: left;\n",
       "    }\n",
       "\n",
       "    .dataframe tbody tr th {\n",
       "        vertical-align: top;\n",
       "    }\n",
       "</style>\n",
       "<table border=\"1\" class=\"dataframe\">\n",
       "  <thead>\n",
       "    <tr style=\"text-align: right;\">\n",
       "      <th></th>\n",
       "      <th>Date</th>\n",
       "      <th>Time</th>\n",
       "      <th>Latitude</th>\n",
       "      <th>Longitude</th>\n",
       "    </tr>\n",
       "  </thead>\n",
       "  <tbody>\n",
       "    <tr>\n",
       "      <th>0</th>\n",
       "      <td>2011-08-29</td>\n",
       "      <td>6:56:58 PM</td>\n",
       "      <td>42.391623</td>\n",
       "      <td>-88.089163</td>\n",
       "    </tr>\n",
       "    <tr>\n",
       "      <th>1</th>\n",
       "      <td>2011-08-29</td>\n",
       "      <td>6:57:08 PM</td>\n",
       "      <td>42.391348</td>\n",
       "      <td>-88.089163</td>\n",
       "    </tr>\n",
       "    <tr>\n",
       "      <th>2</th>\n",
       "      <td>2011-08-29</td>\n",
       "      <td>6:57:18 PM</td>\n",
       "      <td>42.391022</td>\n",
       "      <td>-88.089157</td>\n",
       "    </tr>\n",
       "    <tr>\n",
       "      <th>3</th>\n",
       "      <td>2011-08-29</td>\n",
       "      <td>6:57:28 PM</td>\n",
       "      <td>42.390637</td>\n",
       "      <td>-88.089158</td>\n",
       "    </tr>\n",
       "    <tr>\n",
       "      <th>4</th>\n",
       "      <td>2011-08-29</td>\n",
       "      <td>6:57:38 PM</td>\n",
       "      <td>42.390410</td>\n",
       "      <td>-88.088858</td>\n",
       "    </tr>\n",
       "  </tbody>\n",
       "</table>\n",
       "</div>"
      ],
      "text/plain": [
       "         Date        Time   Latitude  Longitude\n",
       "0  2011-08-29  6:56:58 PM  42.391623 -88.089163\n",
       "1  2011-08-29  6:57:08 PM  42.391348 -88.089163\n",
       "2  2011-08-29  6:57:18 PM  42.391022 -88.089157\n",
       "3  2011-08-29  6:57:28 PM  42.390637 -88.089158\n",
       "4  2011-08-29  6:57:38 PM  42.390410 -88.088858"
      ]
     },
     "execution_count": 33,
     "metadata": {},
     "output_type": "execute_result"
    }
   ],
   "source": [
    "spray.head()"
   ]
  },
  {
   "cell_type": "code",
   "execution_count": 34,
   "metadata": {},
   "outputs": [
    {
     "name": "stdout",
     "output_type": "stream",
     "text": [
      "<class 'pandas.core.frame.DataFrame'>\n",
      "RangeIndex: 14835 entries, 0 to 14834\n",
      "Data columns (total 4 columns):\n",
      "Date         14835 non-null object\n",
      "Time         14251 non-null object\n",
      "Latitude     14835 non-null float64\n",
      "Longitude    14835 non-null float64\n",
      "dtypes: float64(2), object(2)\n",
      "memory usage: 463.7+ KB\n"
     ]
    }
   ],
   "source": [
    "spray.info()"
   ]
  },
  {
   "cell_type": "markdown",
   "metadata": {
    "collapsed": true
   },
   "source": [
    "It seems that there are nulls in the df in the Time column. We will see if will need to attend to that later."
   ]
  },
  {
   "cell_type": "markdown",
   "metadata": {},
   "source": [
    "how many days did they spray around?"
   ]
  },
  {
   "cell_type": "code",
   "execution_count": 337,
   "metadata": {},
   "outputs": [
    {
     "data": {
      "text/plain": [
       "array(['2011-08-29T00:00:00.000000000', '2011-09-07T00:00:00.000000000',\n",
       "       '2013-07-17T00:00:00.000000000', '2013-07-25T00:00:00.000000000',\n",
       "       '2013-08-08T00:00:00.000000000', '2013-08-15T00:00:00.000000000',\n",
       "       '2013-08-16T00:00:00.000000000', '2013-08-22T00:00:00.000000000',\n",
       "       '2013-08-29T00:00:00.000000000', '2013-09-05T00:00:00.000000000'], dtype='datetime64[ns]')"
      ]
     },
     "execution_count": 337,
     "metadata": {},
     "output_type": "execute_result"
    }
   ],
   "source": [
    "spray['Date'].unique()"
   ]
  },
  {
   "cell_type": "markdown",
   "metadata": {},
   "source": [
    "Sprayed in ten different days."
   ]
  },
  {
   "cell_type": "markdown",
   "metadata": {},
   "source": [
    "### Using the Spray dataset "
   ]
  },
  {
   "cell_type": "markdown",
   "metadata": {},
   "source": [
    "#### Rational: \n",
    "#### assumption - recently sprayed areas would most likely reduce frequency in WNV for the same season. \n",
    "If Chicago Municipality, would like to know how to allocate sparying efforts (or any other eradication efforts for that matter), we should filter out the effect of spraying from our predictive model, as it is target-linked.\n",
    "#### Method: find obsevations (collections on Train data) with locations that have been sprayed in the past 150 days ( length of a season of collection from May to Oct), and exclude them from the data sets used for modelling "
   ]
  },
  {
   "cell_type": "markdown",
   "metadata": {},
   "source": [
    "_________________________________________________________"
   ]
  },
  {
   "cell_type": "markdown",
   "metadata": {
    "collapsed": true
   },
   "source": [
    "#### Merging the spray and train data"
   ]
  },
  {
   "cell_type": "markdown",
   "metadata": {},
   "source": [
    "because geo-location has such high resolution, we can't find matches between the data sets (which doesn't allow us to merge the tables accordingly). so 3 digits after the point seems reasonable - equates to 100 meters in resolution ( according to quick exploration on google maps: .001 ~=100 Meters)"
   ]
  },
  {
   "cell_type": "code",
   "execution_count": 39,
   "metadata": {
    "collapsed": true
   },
   "outputs": [],
   "source": [
    "# SPRAY DATA round longitude /latitude to 3 digits after the point\n",
    "sprayR3=spray\n",
    "sprayR3['Longitude']=sprayR3['Longitude'].round(3)\n",
    "sprayR3['Latitude']=sprayR3['Latitude'].round(3)"
   ]
  },
  {
   "cell_type": "code",
   "execution_count": 51,
   "metadata": {
    "collapsed": true
   },
   "outputs": [],
   "source": [
    "# similarly, round the geo-location in the train data\n",
    "# TRAIN with Dummies Data - round geo-location to 3 after the point. \n",
    "trainWdumR3=trainWdum\n",
    "trainWdumR3['Longitude']=trainWdumR3['Longitude'].round(3)\n",
    "trainWdumR3['Latitude']=trainWdumR3['Latitude'].round(3)"
   ]
  },
  {
   "cell_type": "markdown",
   "metadata": {},
   "source": [
    "every location has different NUMBER of collection dates (train data) and spray dates (spray data) so when merging, we would like to see collection dates that are recent to spray dates because they should have a strong effect on the response and we might want to eliminate this effect because of target link. \n",
    "How shall we locate them?"
   ]
  },
  {
   "cell_type": "code",
   "execution_count": 40,
   "metadata": {},
   "outputs": [
    {
     "name": "stdout",
     "output_type": "stream",
     "text": [
      "count    6517.000000\n",
      "mean        2.276354\n",
      "std         6.797308\n",
      "min         1.000000\n",
      "25%         1.000000\n",
      "50%         2.000000\n",
      "75%         3.000000\n",
      "max       542.000000\n",
      "Name: Date, dtype: float64\n"
     ]
    }
   ],
   "source": [
    "# first, how many entries per geo-location in spray data? \n",
    "sprayR3['longlat']=list(zip(sprayR3['Latitude'],sprayR3['Longitude'])) # zip log and lat into one column\n",
    "grp=sprayR3.groupby(['longlat'])['Date'].count() # count for every location the different number of dates\n",
    "print(grp.describe()) # for each location, how many different dates it got sprayed?"
   ]
  },
  {
   "cell_type": "markdown",
   "metadata": {},
   "source": [
    "So, 75% of locations where sprayed at most 3 times. \n",
    "Let's get more specific, what is the gap between 1st and last spray dates for a specific location?"
   ]
  },
  {
   "cell_type": "code",
   "execution_count": 151,
   "metadata": {},
   "outputs": [
    {
     "data": {
      "text/plain": [
       "pandas._libs.tslib.Timestamp"
      ]
     },
     "execution_count": 151,
     "metadata": {},
     "output_type": "execute_result"
    }
   ],
   "source": [
    "sprayR3['Date']=pd.to_datetime(sprayR3['Date']) ## change to datetime object so operations could be done\n",
    "type(sprayR3['Date'][0])"
   ]
  },
  {
   "cell_type": "code",
   "execution_count": 42,
   "metadata": {},
   "outputs": [
    {
     "name": "stdout",
     "output_type": "stream",
     "text": [
      "                       ptp\n",
      "longlat                   \n",
      "(41.997, -87.811) 729 days\n",
      "(41.954, -87.784)   1 days\n",
      "(41.911, -87.75)    1 days\n"
     ]
    }
   ],
   "source": [
    "aggd=sprayR3.groupby(['longlat'])['Date'].agg([np.ptp]) ## group by longlat and on the dates, get the range (max-min)\n",
    "aggd=aggd.sort_values('ptp',ascending=False) \n",
    "print(aggd.head(3))"
   ]
  },
  {
   "cell_type": "code",
   "execution_count": 43,
   "metadata": {},
   "outputs": [
    {
     "data": {
      "text/html": [
       "<div>\n",
       "<style>\n",
       "    .dataframe thead tr:only-child th {\n",
       "        text-align: right;\n",
       "    }\n",
       "\n",
       "    .dataframe thead th {\n",
       "        text-align: left;\n",
       "    }\n",
       "\n",
       "    .dataframe tbody tr th {\n",
       "        vertical-align: top;\n",
       "    }\n",
       "</style>\n",
       "<table border=\"1\" class=\"dataframe\">\n",
       "  <thead>\n",
       "    <tr style=\"text-align: right;\">\n",
       "      <th></th>\n",
       "      <th>ptp</th>\n",
       "    </tr>\n",
       "    <tr>\n",
       "      <th>longlat</th>\n",
       "      <th></th>\n",
       "    </tr>\n",
       "  </thead>\n",
       "  <tbody>\n",
       "    <tr>\n",
       "      <th>(41.997, -87.811)</th>\n",
       "      <td>729 days</td>\n",
       "    </tr>\n",
       "  </tbody>\n",
       "</table>\n",
       "</div>"
      ],
      "text/plain": [
       "                       ptp\n",
       "longlat                   \n",
       "(41.997, -87.811) 729 days"
      ]
     },
     "execution_count": 43,
     "metadata": {},
     "output_type": "execute_result"
    }
   ],
   "source": [
    "oldaggd=aggd[aggd['ptp'].dt.days>150]\n",
    "oldaggd.head()"
   ]
  },
  {
   "cell_type": "markdown",
   "metadata": {},
   "source": [
    "so only one place was sprayed more than 150 days appart (and actually this place was the only one with more than 1 day appart..), so effectively only one place was sprayed more than once.\n",
    "how many times it was sprayed?"
   ]
  },
  {
   "cell_type": "code",
   "execution_count": 44,
   "metadata": {},
   "outputs": [
    {
     "data": {
      "text/html": [
       "<div>\n",
       "<style>\n",
       "    .dataframe thead tr:only-child th {\n",
       "        text-align: right;\n",
       "    }\n",
       "\n",
       "    .dataframe thead th {\n",
       "        text-align: left;\n",
       "    }\n",
       "\n",
       "    .dataframe tbody tr th {\n",
       "        vertical-align: top;\n",
       "    }\n",
       "</style>\n",
       "<table border=\"1\" class=\"dataframe\">\n",
       "  <thead>\n",
       "    <tr style=\"text-align: right;\">\n",
       "      <th></th>\n",
       "      <th>Date</th>\n",
       "      <th>Time</th>\n",
       "      <th>Latitude</th>\n",
       "      <th>Longitude</th>\n",
       "      <th>longlat</th>\n",
       "    </tr>\n",
       "  </thead>\n",
       "  <tbody>\n",
       "    <tr>\n",
       "      <th>1454</th>\n",
       "      <td>2011-09-07</td>\n",
       "      <td>NaN</td>\n",
       "      <td>41.997</td>\n",
       "      <td>-87.811</td>\n",
       "      <td>(41.997, -87.811)</td>\n",
       "    </tr>\n",
       "    <tr>\n",
       "      <th>1455</th>\n",
       "      <td>2011-09-07</td>\n",
       "      <td>NaN</td>\n",
       "      <td>41.997</td>\n",
       "      <td>-87.811</td>\n",
       "      <td>(41.997, -87.811)</td>\n",
       "    </tr>\n",
       "    <tr>\n",
       "      <th>14664</th>\n",
       "      <td>2013-09-05</td>\n",
       "      <td>7:51:11 PM</td>\n",
       "      <td>41.997</td>\n",
       "      <td>-87.811</td>\n",
       "      <td>(41.997, -87.811)</td>\n",
       "    </tr>\n",
       "  </tbody>\n",
       "</table>\n",
       "</div>"
      ],
      "text/plain": [
       "            Date        Time  Latitude  Longitude            longlat\n",
       "1454  2011-09-07         NaN    41.997    -87.811  (41.997, -87.811)\n",
       "1455  2011-09-07         NaN    41.997    -87.811  (41.997, -87.811)\n",
       "14664 2013-09-05  7:51:11 PM    41.997    -87.811  (41.997, -87.811)"
      ]
     },
     "execution_count": 44,
     "metadata": {},
     "output_type": "execute_result"
    }
   ],
   "source": [
    "sprayR3[sprayR3['longlat']==(41.997, -87.811)]"
   ]
  },
  {
   "cell_type": "markdown",
   "metadata": {},
   "source": [
    "Twice, 2 years appart.  "
   ]
  },
  {
   "cell_type": "markdown",
   "metadata": {},
   "source": [
    "what about all the other sites how many days appart where they sprayed?"
   ]
  },
  {
   "cell_type": "code",
   "execution_count": 45,
   "metadata": {},
   "outputs": [
    {
     "data": {
      "text/plain": [
       "0 days    6511\n",
       "1 days       5\n",
       "Name: ptp, dtype: int64"
      ]
     },
     "execution_count": 45,
     "metadata": {},
     "output_type": "execute_result"
    }
   ],
   "source": [
    "recaggd=aggd[aggd['ptp'].dt.days!=729] ## excluding that one outlier\n",
    "recaggd['ptp'].value_counts()"
   ]
  },
  {
   "cell_type": "markdown",
   "metadata": {},
   "source": [
    "sites were sprayed 1 day apart at most, only 5 sites where sprayed throughout 2 days.\n",
    "This is an insignificant ammount, so essentially if we aggregate the spray by geo-location we can merge it with train, and not worry about duplicates.\n",
    "\n",
    "(we can do it because we assume that the time stamp of spraying is not informative and produces redundant data. e.g. spraying at 11:58 PM, then at 12:04 AM (the next day) a few meters away with changes in geo-location (before rounding it when the Longitude and Latitude where 10^-6 resolution)"
   ]
  },
  {
   "cell_type": "markdown",
   "metadata": {},
   "source": [
    "####  Grouping Data from spray \n",
    "instead of merging spray data directly"
   ]
  },
  {
   "cell_type": "markdown",
   "metadata": {},
   "source": [
    "Let's create a new df from spray, to merge later with train data.\n",
    "the new df will be grouped by geo-location, and the dates of collection would be aggregated and investigated (e.g. to see how many sprayed occured in every location (count), what's the gap between 1st and last spray (ptp)..)"
   ]
  },
  {
   "cell_type": "code",
   "execution_count": 138,
   "metadata": {},
   "outputs": [
    {
     "name": "stdout",
     "output_type": "stream",
     "text": [
      "        Date        Time  Latitude  Longitude            longlat\n",
      "0 2011-08-29  6:56:58 PM    42.392    -88.089  (42.392, -88.089)\n",
      "1 2011-08-29  6:57:08 PM    42.391    -88.089  (42.391, -88.089)\n"
     ]
    },
    {
     "data": {
      "text/html": [
       "<div>\n",
       "<style>\n",
       "    .dataframe thead tr:only-child th {\n",
       "        text-align: right;\n",
       "    }\n",
       "\n",
       "    .dataframe thead th {\n",
       "        text-align: left;\n",
       "    }\n",
       "\n",
       "    .dataframe tbody tr th {\n",
       "        vertical-align: top;\n",
       "    }\n",
       "</style>\n",
       "<table border=\"1\" class=\"dataframe\">\n",
       "  <thead>\n",
       "    <tr style=\"text-align: right;\">\n",
       "      <th></th>\n",
       "      <th>Longitude</th>\n",
       "      <th>Latitude</th>\n",
       "      <th>count</th>\n",
       "      <th>min</th>\n",
       "      <th>max</th>\n",
       "      <th>ptp</th>\n",
       "    </tr>\n",
       "  </thead>\n",
       "  <tbody>\n",
       "    <tr>\n",
       "      <th>696</th>\n",
       "      <td>-87.811</td>\n",
       "      <td>41.997</td>\n",
       "      <td>3</td>\n",
       "      <td>2011-09-07</td>\n",
       "      <td>2013-09-05</td>\n",
       "      <td>729 days</td>\n",
       "    </tr>\n",
       "    <tr>\n",
       "      <th>1804</th>\n",
       "      <td>-87.784</td>\n",
       "      <td>41.957</td>\n",
       "      <td>3</td>\n",
       "      <td>2013-08-15</td>\n",
       "      <td>2013-08-16</td>\n",
       "      <td>1 days</td>\n",
       "    </tr>\n",
       "    <tr>\n",
       "      <th>1858</th>\n",
       "      <td>-87.783</td>\n",
       "      <td>41.965</td>\n",
       "      <td>3</td>\n",
       "      <td>2013-08-15</td>\n",
       "      <td>2013-08-16</td>\n",
       "      <td>1 days</td>\n",
       "    </tr>\n",
       "    <tr>\n",
       "      <th>2789</th>\n",
       "      <td>-87.750</td>\n",
       "      <td>41.911</td>\n",
       "      <td>2</td>\n",
       "      <td>2013-08-15</td>\n",
       "      <td>2013-08-16</td>\n",
       "      <td>1 days</td>\n",
       "    </tr>\n",
       "    <tr>\n",
       "      <th>1801</th>\n",
       "      <td>-87.784</td>\n",
       "      <td>41.954</td>\n",
       "      <td>4</td>\n",
       "      <td>2013-08-15</td>\n",
       "      <td>2013-08-16</td>\n",
       "      <td>1 days</td>\n",
       "    </tr>\n",
       "  </tbody>\n",
       "</table>\n",
       "</div>"
      ],
      "text/plain": [
       "      Longitude  Latitude  count        min        max      ptp\n",
       "696     -87.811    41.997      3 2011-09-07 2013-09-05 729 days\n",
       "1804    -87.784    41.957      3 2013-08-15 2013-08-16   1 days\n",
       "1858    -87.783    41.965      3 2013-08-15 2013-08-16   1 days\n",
       "2789    -87.750    41.911      2 2013-08-15 2013-08-16   1 days\n",
       "1801    -87.784    41.954      4 2013-08-15 2013-08-16   1 days"
      ]
     },
     "execution_count": 138,
     "metadata": {},
     "output_type": "execute_result"
    }
   ],
   "source": [
    "print(sprayR3.head(2))\n",
    "sprayR3\n",
    "ff=sprayR3.groupby(['Longitude','Latitude']).Date.agg(['count','min','max',np.ptp]).reset_index()\n",
    "ff=ff.sort_values('ptp',ascending=False)\n",
    "ff.head()"
   ]
  },
  {
   "cell_type": "code",
   "execution_count": 136,
   "metadata": {},
   "outputs": [
    {
     "name": "stdout",
     "output_type": "stream",
     "text": [
      "len spray data 14835\n",
      "unique spray data 6517\n",
      "len grouped long/lat spray data 6517\n",
      "unique grouped long/lat spray data 6517\n"
     ]
    }
   ],
   "source": [
    "print('len spray data',len(sprayR3))\n",
    "print('unique spray data',sprayR3['longlat'].nunique())\n",
    "print('len grouped long/lat spray data',len(ff))\n",
    "ff['longlat']=list(zip(ff['Longitude'],ff['Latitude']))\n",
    "print('unique grouped long/lat spray data',ff['longlat'].nunique())"
   ]
  },
  {
   "cell_type": "code",
   "execution_count": 244,
   "metadata": {},
   "outputs": [
    {
     "name": "stdout",
     "output_type": "stream",
     "text": [
      "10506\n",
      "10506\n"
     ]
    },
    {
     "data": {
      "text/html": [
       "<div>\n",
       "<style>\n",
       "    .dataframe thead tr:only-child th {\n",
       "        text-align: right;\n",
       "    }\n",
       "\n",
       "    .dataframe thead th {\n",
       "        text-align: left;\n",
       "    }\n",
       "\n",
       "    .dataframe tbody tr th {\n",
       "        vertical-align: top;\n",
       "    }\n",
       "</style>\n",
       "<table border=\"1\" class=\"dataframe\">\n",
       "  <thead>\n",
       "    <tr style=\"text-align: right;\">\n",
       "      <th></th>\n",
       "      <th>Longitude</th>\n",
       "      <th>Latitude</th>\n",
       "      <th>count</th>\n",
       "      <th>min</th>\n",
       "      <th>max</th>\n",
       "      <th>ptp</th>\n",
       "      <th>Date</th>\n",
       "      <th>Address</th>\n",
       "      <th>Block</th>\n",
       "      <th>Street</th>\n",
       "      <th>...</th>\n",
       "      <th>AddressAccuracy</th>\n",
       "      <th>NumMosquitos</th>\n",
       "      <th>WnvPresent</th>\n",
       "      <th>Species_CULEX PIPIENS</th>\n",
       "      <th>Species_CULEX PIPIENS/RESTUANS</th>\n",
       "      <th>Species_CULEX RESTUANS</th>\n",
       "      <th>Species_CULEX SALINARIUS</th>\n",
       "      <th>Species_CULEX TARSALIS</th>\n",
       "      <th>Species_CULEX TERRITANS</th>\n",
       "      <th>_merge</th>\n",
       "    </tr>\n",
       "  </thead>\n",
       "  <tbody>\n",
       "    <tr>\n",
       "      <th>0</th>\n",
       "      <td>-87.705</td>\n",
       "      <td>41.883</td>\n",
       "      <td>3.0</td>\n",
       "      <td>2013-08-22</td>\n",
       "      <td>2013-08-22</td>\n",
       "      <td>0 days</td>\n",
       "      <td>2007-07-02</td>\n",
       "      <td>3300 West Randolph Street, Chicago, IL 60612, USA</td>\n",
       "      <td>33</td>\n",
       "      <td>E RANDOLPH ST</td>\n",
       "      <td>...</td>\n",
       "      <td>8</td>\n",
       "      <td>2</td>\n",
       "      <td>0</td>\n",
       "      <td>0</td>\n",
       "      <td>1</td>\n",
       "      <td>0</td>\n",
       "      <td>0</td>\n",
       "      <td>0</td>\n",
       "      <td>0</td>\n",
       "      <td>both</td>\n",
       "    </tr>\n",
       "  </tbody>\n",
       "</table>\n",
       "<p>1 rows × 22 columns</p>\n",
       "</div>"
      ],
      "text/plain": [
       "   Longitude  Latitude  count        min        max    ptp        Date  \\\n",
       "0    -87.705    41.883    3.0 2013-08-22 2013-08-22 0 days  2007-07-02   \n",
       "\n",
       "                                             Address  Block          Street  \\\n",
       "0  3300 West Randolph Street, Chicago, IL 60612, USA     33   E RANDOLPH ST   \n",
       "\n",
       "    ...   AddressAccuracy NumMosquitos  WnvPresent  Species_CULEX PIPIENS  \\\n",
       "0   ...                 8            2           0                      0   \n",
       "\n",
       "   Species_CULEX PIPIENS/RESTUANS  Species_CULEX RESTUANS  \\\n",
       "0                               1                       0   \n",
       "\n",
       "   Species_CULEX SALINARIUS  Species_CULEX TARSALIS  Species_CULEX TERRITANS  \\\n",
       "0                         0                       0                        0   \n",
       "\n",
       "   _merge  \n",
       "0    both  \n",
       "\n",
       "[1 rows x 22 columns]"
      ]
     },
     "execution_count": 244,
     "metadata": {},
     "output_type": "execute_result"
    }
   ],
   "source": [
    "res4=pd.merge(ff,trainWdumR3,on=['Longitude','Latitude'],how='right',indicator=True)\n",
    "print(len(res4))\n",
    "print(len(trainWdumR3))\n",
    "res4.head(1)"
   ]
  },
  {
   "cell_type": "markdown",
   "metadata": {},
   "source": [
    "Let's create a function that finds the days since the most recent spray, given a date of collection minus dates of spraying: "
   ]
  },
  {
   "cell_type": "code",
   "execution_count": 224,
   "metadata": {
    "collapsed": true
   },
   "outputs": [],
   "source": [
    "def recent(delMin,delMax):\n",
    "    if (delMin>=0) & (delMax<0):\n",
    "        dell=delMin\n",
    "    elif (delMax>=0) & (delMin<0):\n",
    "        dell=delMax\n",
    "    elif (delMax<0) & (delMin<0):\n",
    "        dell=3650\n",
    "    elif (delMax>=0) & (delMin>=0):\n",
    "        if delMax<delMin:\n",
    "            dell=delMax\n",
    "        elif delMax>delMin:\n",
    "            dell=delMin\n",
    "        else:\n",
    "            dell=delMin\n",
    "    elif delMin.isnull() or delMax.isnull():\n",
    "        dell=3650\n",
    "    return(dell)"
   ]
  },
  {
   "cell_type": "code",
   "execution_count": 252,
   "metadata": {},
   "outputs": [],
   "source": [
    "res4['Date']=pd.to_datetime(res4['Date'])"
   ]
  },
  {
   "cell_type": "code",
   "execution_count": 253,
   "metadata": {},
   "outputs": [],
   "source": [
    "res4['delmin']=res4['Date']-res4['min']\n",
    "res4['delmin']=res4['delmin'].dt.days\n",
    "res4['delmax']=res4['Date']-res4['max']\n",
    "res4['delmax']=res4['delmax'].dt.days"
   ]
  },
  {
   "cell_type": "code",
   "execution_count": 290,
   "metadata": {
    "collapsed": true
   },
   "outputs": [],
   "source": [
    "res4['most_recent_spray (days)']=res4.apply(lambda x: recent(x['delmin'],x['delmax']),axis=1)"
   ]
  },
  {
   "cell_type": "markdown",
   "metadata": {},
   "source": [
    "Let's look at res4. after 962 obdservations with spray, the rest is without data on spray:"
   ]
  },
  {
   "cell_type": "code",
   "execution_count": 287,
   "metadata": {},
   "outputs": [
    {
     "name": "stdout",
     "output_type": "stream",
     "text": [
      "(10506, 24)\n"
     ]
    },
    {
     "data": {
      "text/html": [
       "<div>\n",
       "<style>\n",
       "    .dataframe thead tr:only-child th {\n",
       "        text-align: right;\n",
       "    }\n",
       "\n",
       "    .dataframe thead th {\n",
       "        text-align: left;\n",
       "    }\n",
       "\n",
       "    .dataframe tbody tr th {\n",
       "        vertical-align: top;\n",
       "    }\n",
       "</style>\n",
       "<table border=\"1\" class=\"dataframe\">\n",
       "  <thead>\n",
       "    <tr style=\"text-align: right;\">\n",
       "      <th></th>\n",
       "      <th>Longitude</th>\n",
       "      <th>Latitude</th>\n",
       "      <th>count</th>\n",
       "      <th>min</th>\n",
       "      <th>max</th>\n",
       "      <th>ptp</th>\n",
       "      <th>Date</th>\n",
       "      <th>Address</th>\n",
       "      <th>Block</th>\n",
       "      <th>Street</th>\n",
       "      <th>...</th>\n",
       "      <th>WnvPresent</th>\n",
       "      <th>Species_CULEX PIPIENS</th>\n",
       "      <th>Species_CULEX PIPIENS/RESTUANS</th>\n",
       "      <th>Species_CULEX RESTUANS</th>\n",
       "      <th>Species_CULEX SALINARIUS</th>\n",
       "      <th>Species_CULEX TARSALIS</th>\n",
       "      <th>Species_CULEX TERRITANS</th>\n",
       "      <th>_merge</th>\n",
       "      <th>delmin</th>\n",
       "      <th>delmax</th>\n",
       "    </tr>\n",
       "  </thead>\n",
       "  <tbody>\n",
       "    <tr>\n",
       "      <th>962</th>\n",
       "      <td>-87.788</td>\n",
       "      <td>41.970</td>\n",
       "      <td>2.0</td>\n",
       "      <td>2011-09-07</td>\n",
       "      <td>2011-09-07</td>\n",
       "      <td>0 days</td>\n",
       "      <td>2007-10-04</td>\n",
       "      <td>6400 West Strong Street, Chicago, IL, USA</td>\n",
       "      <td>64</td>\n",
       "      <td>W STRONG ST</td>\n",
       "      <td>...</td>\n",
       "      <td>0</td>\n",
       "      <td>1</td>\n",
       "      <td>0</td>\n",
       "      <td>0</td>\n",
       "      <td>0</td>\n",
       "      <td>0</td>\n",
       "      <td>0</td>\n",
       "      <td>both</td>\n",
       "      <td>-1434.0</td>\n",
       "      <td>-1434.0</td>\n",
       "    </tr>\n",
       "    <tr>\n",
       "      <th>963</th>\n",
       "      <td>-87.801</td>\n",
       "      <td>41.955</td>\n",
       "      <td>NaN</td>\n",
       "      <td>NaT</td>\n",
       "      <td>NaT</td>\n",
       "      <td>NaT</td>\n",
       "      <td>2007-05-29</td>\n",
       "      <td>4100 North Oak Park Avenue, Chicago, IL 60634,...</td>\n",
       "      <td>41</td>\n",
       "      <td>N OAK PARK AVE</td>\n",
       "      <td>...</td>\n",
       "      <td>0</td>\n",
       "      <td>0</td>\n",
       "      <td>1</td>\n",
       "      <td>0</td>\n",
       "      <td>0</td>\n",
       "      <td>0</td>\n",
       "      <td>0</td>\n",
       "      <td>right_only</td>\n",
       "      <td>NaN</td>\n",
       "      <td>NaN</td>\n",
       "    </tr>\n",
       "  </tbody>\n",
       "</table>\n",
       "<p>2 rows × 24 columns</p>\n",
       "</div>"
      ],
      "text/plain": [
       "     Longitude  Latitude  count        min        max    ptp       Date  \\\n",
       "962    -87.788    41.970    2.0 2011-09-07 2011-09-07 0 days 2007-10-04   \n",
       "963    -87.801    41.955    NaN        NaT        NaT    NaT 2007-05-29   \n",
       "\n",
       "                                               Address  Block  \\\n",
       "962          6400 West Strong Street, Chicago, IL, USA     64   \n",
       "963  4100 North Oak Park Avenue, Chicago, IL 60634,...     41   \n",
       "\n",
       "              Street   ...   WnvPresent Species_CULEX PIPIENS  \\\n",
       "962      W STRONG ST   ...            0                     1   \n",
       "963   N OAK PARK AVE   ...            0                     0   \n",
       "\n",
       "     Species_CULEX PIPIENS/RESTUANS  Species_CULEX RESTUANS  \\\n",
       "962                               0                       0   \n",
       "963                               1                       0   \n",
       "\n",
       "     Species_CULEX SALINARIUS  Species_CULEX TARSALIS  \\\n",
       "962                         0                       0   \n",
       "963                         0                       0   \n",
       "\n",
       "     Species_CULEX TERRITANS      _merge  delmin  delmax  \n",
       "962                        0        both -1434.0 -1434.0  \n",
       "963                        0  right_only     NaN     NaN  \n",
       "\n",
       "[2 rows x 24 columns]"
      ]
     },
     "execution_count": 287,
     "metadata": {},
     "output_type": "execute_result"
    }
   ],
   "source": [
    "print(res4.shape)\n",
    "res4.loc[962:963,:]"
   ]
  },
  {
   "cell_type": "markdown",
   "metadata": {},
   "source": [
    "Make an inner merge to concentrate on the spray&train intersection (and avoid dealing with NaT and NaN for now)"
   ]
  },
  {
   "cell_type": "code",
   "execution_count": 271,
   "metadata": {
    "collapsed": true
   },
   "outputs": [],
   "source": [
    "resIN=pd.merge(ff,trainWdumR3,on=['Longitude','Latitude'],how='inner',indicator=True)"
   ]
  },
  {
   "cell_type": "code",
   "execution_count": 272,
   "metadata": {
    "collapsed": true
   },
   "outputs": [],
   "source": [
    "resIN['Date']=pd.to_datetime(resIN['Date'])"
   ]
  },
  {
   "cell_type": "code",
   "execution_count": 274,
   "metadata": {
    "collapsed": true
   },
   "outputs": [],
   "source": [
    "resIN['delmin']=resIN['Date']-resIN['min']\n",
    "resIN['delmin']=resIN['delmin'].dt.days\n",
    "resIN['delmax']=resIN['Date']-resIN['max']\n",
    "resIN['delmax']=resIN['delmax'].dt.days"
   ]
  },
  {
   "cell_type": "markdown",
   "metadata": {},
   "source": [
    "use \"recent\" function (look previously) to be used again with apply and lambda to create a column of days since the most recent spray  "
   ]
  },
  {
   "cell_type": "code",
   "execution_count": 290,
   "metadata": {},
   "outputs": [],
   "source": [
    "resIN['most_recent_spray (days)']=resIN.apply(lambda x: recent(x['delmin'],x['delmax']),axis=1)"
   ]
  },
  {
   "cell_type": "markdown",
   "metadata": {},
   "source": [
    "#### Let's join the inner df (the merged grouped-spray data with train) and the rest of the train (without spray data), to make a new enriched df for modelling."
   ]
  },
  {
   "cell_type": "code",
   "execution_count": 288,
   "metadata": {},
   "outputs": [
    {
     "name": "stdout",
     "output_type": "stream",
     "text": [
      "(963, 25)\n",
      "(10506, 24)\n"
     ]
    }
   ],
   "source": [
    "print(resIN.shape)\n",
    "print(res4.shape)"
   ]
  },
  {
   "cell_type": "markdown",
   "metadata": {},
   "source": [
    "let's add a column to res4. \n",
    "Let's set a value for most recent spray at 3650 (10 yrs) to areas with no spray data, this is to avoid NaN and still put a big number to differntiate these cases from recently sprayed and up to several years sprayed before collection. "
   ]
  },
  {
   "cell_type": "code",
   "execution_count": 292,
   "metadata": {},
   "outputs": [
    {
     "data": {
      "text/plain": [
       "3650    10506\n",
       "Name: most_recent_spray (days), dtype: int64"
      ]
     },
     "execution_count": 292,
     "metadata": {},
     "output_type": "execute_result"
    }
   ],
   "source": [
    "res4['most_recent_spray (days)']=3650\n",
    "res4['most_recent_spray (days)'].value_counts().head(3)"
   ]
  },
  {
   "cell_type": "code",
   "execution_count": null,
   "metadata": {
    "collapsed": true
   },
   "outputs": [],
   "source": [
    "Now conocat the dfs"
   ]
  },
  {
   "cell_type": "code",
   "execution_count": 339,
   "metadata": {},
   "outputs": [
    {
     "data": {
      "text/plain": [
       "(10506, 25)"
      ]
     },
     "execution_count": 339,
     "metadata": {},
     "output_type": "execute_result"
    }
   ],
   "source": [
    "res5=pd.concat([resIN,res4.loc[963:,:]])\n",
    "res5.shape"
   ]
  },
  {
   "cell_type": "markdown",
   "metadata": {},
   "source": [
    "now let's arrange the columns (delete and order)"
   ]
  },
  {
   "cell_type": "code",
   "execution_count": 340,
   "metadata": {},
   "outputs": [
    {
     "data": {
      "text/plain": [
       "Index(['Longitude', 'Latitude', 'count', 'min', 'max', 'ptp', 'Date',\n",
       "       'Address', 'Block', 'Street', 'Trap', 'AddressNumberAndStreet',\n",
       "       'AddressAccuracy', 'NumMosquitos', 'WnvPresent',\n",
       "       'Species_CULEX PIPIENS', 'Species_CULEX PIPIENS/RESTUANS',\n",
       "       'Species_CULEX RESTUANS', 'Species_CULEX SALINARIUS',\n",
       "       'Species_CULEX TARSALIS', 'Species_CULEX TERRITANS', '_merge', 'delmin',\n",
       "       'delmax', 'most_recent_spray (days)'],\n",
       "      dtype='object')"
      ]
     },
     "execution_count": 340,
     "metadata": {},
     "output_type": "execute_result"
    }
   ],
   "source": [
    "colls=res5.columns\n",
    "colls"
   ]
  },
  {
   "cell_type": "code",
   "execution_count": 341,
   "metadata": {},
   "outputs": [
    {
     "name": "stdout",
     "output_type": "stream",
     "text": [
      "['Longitude', 'Latitude', 'count', 'min', 'max', 'ptp', 'Date', 'Address', 'Block', 'Street', 'Trap', 'AddressNumberAndStreet', 'AddressAccuracy', 'NumMosquitos', 'WnvPresent', 'Species_CULEX PIPIENS', 'Species_CULEX PIPIENS/RESTUANS', 'Species_CULEX RESTUANS', 'Species_CULEX SALINARIUS', 'Species_CULEX TARSALIS', 'Species_CULEX TERRITANS', '_merge', 'delmin', 'delmax', 'most_recent_spray (days)']\n",
      "['Longitude', 'Latitude', 'min', 'max', 'most_recent_spray (days)', 'Date', 'Address', 'Block', 'Street', 'Trap', 'AddressNumberAndStreet', 'AddressAccuracy', 'NumMosquitos', 'Species_CULEX PIPIENS', 'Species_CULEX PIPIENS/RESTUANS', 'Species_CULEX RESTUANS', 'Species_CULEX SALINARIUS', 'Species_CULEX TARSALIS', 'Species_CULEX TERRITANS', 'WnvPresent']\n"
     ]
    },
    {
     "data": {
      "text/html": [
       "<div>\n",
       "<style>\n",
       "    .dataframe thead tr:only-child th {\n",
       "        text-align: right;\n",
       "    }\n",
       "\n",
       "    .dataframe thead th {\n",
       "        text-align: left;\n",
       "    }\n",
       "\n",
       "    .dataframe tbody tr th {\n",
       "        vertical-align: top;\n",
       "    }\n",
       "</style>\n",
       "<table border=\"1\" class=\"dataframe\">\n",
       "  <thead>\n",
       "    <tr style=\"text-align: right;\">\n",
       "      <th></th>\n",
       "      <th>Longitude</th>\n",
       "      <th>Latitude</th>\n",
       "      <th>min</th>\n",
       "      <th>max</th>\n",
       "      <th>most_recent_spray (days)</th>\n",
       "      <th>Date_of_collection</th>\n",
       "      <th>Address</th>\n",
       "      <th>Block</th>\n",
       "      <th>Street</th>\n",
       "      <th>Trap</th>\n",
       "      <th>AddressNumberAndStreet</th>\n",
       "      <th>AddressAccuracy</th>\n",
       "      <th>NumMosquitos</th>\n",
       "      <th>Species_CULEX PIPIENS</th>\n",
       "      <th>Species_CULEX PIPIENS/RESTUANS</th>\n",
       "      <th>Species_CULEX RESTUANS</th>\n",
       "      <th>Species_CULEX SALINARIUS</th>\n",
       "      <th>Species_CULEX TARSALIS</th>\n",
       "      <th>Species_CULEX TERRITANS</th>\n",
       "      <th>WnvPresent</th>\n",
       "    </tr>\n",
       "  </thead>\n",
       "  <tbody>\n",
       "    <tr>\n",
       "      <th>0</th>\n",
       "      <td>-87.705</td>\n",
       "      <td>41.883</td>\n",
       "      <td>2013-08-22</td>\n",
       "      <td>2013-08-22</td>\n",
       "      <td>3650</td>\n",
       "      <td>2007-07-02</td>\n",
       "      <td>3300 West Randolph Street, Chicago, IL 60612, USA</td>\n",
       "      <td>33</td>\n",
       "      <td>E RANDOLPH ST</td>\n",
       "      <td>T044</td>\n",
       "      <td>3300  E RANDOLPH ST, Chicago, IL</td>\n",
       "      <td>8</td>\n",
       "      <td>2</td>\n",
       "      <td>0</td>\n",
       "      <td>1</td>\n",
       "      <td>0</td>\n",
       "      <td>0</td>\n",
       "      <td>0</td>\n",
       "      <td>0</td>\n",
       "      <td>0</td>\n",
       "    </tr>\n",
       "  </tbody>\n",
       "</table>\n",
       "</div>"
      ],
      "text/plain": [
       "   Longitude  Latitude        min        max  most_recent_spray (days)  \\\n",
       "0    -87.705    41.883 2013-08-22 2013-08-22                      3650   \n",
       "\n",
       "  Date_of_collection                                            Address  \\\n",
       "0         2007-07-02  3300 West Randolph Street, Chicago, IL 60612, USA   \n",
       "\n",
       "   Block          Street  Trap            AddressNumberAndStreet  \\\n",
       "0     33   E RANDOLPH ST  T044  3300  E RANDOLPH ST, Chicago, IL   \n",
       "\n",
       "   AddressAccuracy  NumMosquitos  Species_CULEX PIPIENS  \\\n",
       "0                8             2                      0   \n",
       "\n",
       "   Species_CULEX PIPIENS/RESTUANS  Species_CULEX RESTUANS  \\\n",
       "0                               1                       0   \n",
       "\n",
       "   Species_CULEX SALINARIUS  Species_CULEX TARSALIS  Species_CULEX TERRITANS  \\\n",
       "0                         0                       0                        0   \n",
       "\n",
       "   WnvPresent  \n",
       "0           0  "
      ]
     },
     "execution_count": 341,
     "metadata": {},
     "output_type": "execute_result"
    }
   ],
   "source": [
    "colis=list(colls)\n",
    "print(colis)\n",
    "colsnew=colis[:2]+colis[3:5]+[colis[-1]]+colis[6:14]+colis[15:21]+colis[14:15] \n",
    "print(colsnew)\n",
    "res5=res5[colsnew]\n",
    "res5.rename(columns={'Date':'Date_of_collection'},inplace=True)\n",
    "res5.head(1)"
   ]
  },
  {
   "cell_type": "code",
   "execution_count": 343,
   "metadata": {},
   "outputs": [
    {
     "data": {
      "text/plain": [
       "<matplotlib.axes._subplots.AxesSubplot at 0x1a1a71b780>"
      ]
     },
     "execution_count": 343,
     "metadata": {},
     "output_type": "execute_result"
    },
    {
     "data": {
      "image/png": "[encoded data removed]",
      "text/plain": [
       "<matplotlib.figure.Figure at 0x1a1a717400>"
      ]
     },
     "metadata": {},
     "output_type": "display_data"
    }
   ],
   "source": [
    "sns.heatmap(res5.isnull(),cbar=False) \n",
    "# the heatmap shows the 1st 962 of entries being sprayed data (rows in uniform black)\n",
    "# the rest of the observations were not sprayed"
   ]
  },
  {
   "cell_type": "markdown",
   "metadata": {},
   "source": [
    "####  finally let's see about our assumption (do areas that were recently sprayed have lower WNV frequency?"
   ]
  },
  {
   "cell_type": "markdown",
   "metadata": {},
   "source": [
    "first let's isolate cases of recent spraying"
   ]
  },
  {
   "cell_type": "code",
   "execution_count": 1523,
   "metadata": {},
   "outputs": [
    {
     "data": {
      "text/plain": [
       "3650    10400\n",
       "7           8\n",
       "28          6\n",
       "Name: most_recent_spray (days), dtype: int64"
      ]
     },
     "execution_count": 1523,
     "metadata": {},
     "output_type": "execute_result"
    }
   ],
   "source": [
    "res5['most_recent_spray (days)'].value_counts().head(3)"
   ]
  },
  {
   "cell_type": "code",
   "execution_count": 1525,
   "metadata": {},
   "outputs": [
    {
     "data": {
      "text/plain": [
       "(10506, 21)"
      ]
     },
     "execution_count": 1525,
     "metadata": {},
     "output_type": "execute_result"
    }
   ],
   "source": [
    "res5.shape"
   ]
  },
  {
   "cell_type": "markdown",
   "metadata": {},
   "source": [
    "for places that where sprayed, what was the most recent spray? ( I have eliminated the 3650 (10yrs) for visualization purposes) "
   ]
  },
  {
   "cell_type": "code",
   "execution_count": 299,
   "metadata": {},
   "outputs": [
    {
     "data": {
      "text/plain": [
       "<matplotlib.axes._subplots.AxesSubplot at 0x1a1bf341d0>"
      ]
     },
     "execution_count": 299,
     "metadata": {},
     "output_type": "execute_result"
    },
    {
     "data": {
      "image/png": "[encoded data removed]",
      "text/plain": [
       "<matplotlib.figure.Figure at 0x1a1bf317b8>"
      ]
     },
     "metadata": {},
     "output_type": "display_data"
    }
   ],
   "source": [
    "res5.loc[0:,'most_recent_spray (days)'][res5.loc[0:,'most_recent_spray (days)']<3650].hist(bins=50)"
   ]
  },
  {
   "cell_type": "markdown",
   "metadata": {},
   "source": [
    "Seems like locations were either sprayed 2 years ago (around 700 days bars) or in this season (last 80 days).\n",
    "\n",
    "This is the data that could be target link and we need to be cautious with."
   ]
  },
  {
   "cell_type": "code",
   "execution_count": 331,
   "metadata": {},
   "outputs": [
    {
     "data": {
      "text/plain": [
       "79"
      ]
     },
     "execution_count": 331,
     "metadata": {},
     "output_type": "execute_result"
    }
   ],
   "source": [
    "recol=res5.loc[0:,'most_recent_spray (days)'][res5.loc[0:,'most_recent_spray (days)']<150]\n",
    "recol.count()"
   ]
  },
  {
   "cell_type": "markdown",
   "metadata": {
    "collapsed": true
   },
   "source": [
    "there are 79 trap collections (entries) conducted recently after spraying (the same season <150 days). "
   ]
  },
  {
   "cell_type": "code",
   "execution_count": 332,
   "metadata": {},
   "outputs": [
    {
     "data": {
      "text/plain": [
       "0    71\n",
       "1     8\n",
       "Name: WnvPresent, dtype: int64"
      ]
     },
     "execution_count": 332,
     "metadata": {},
     "output_type": "execute_result"
    }
   ],
   "source": [
    "res5.loc[0:,'WnvPresent'][res5.loc[0:,'most_recent_spray (days)']<150].value_counts()"
   ]
  },
  {
   "cell_type": "markdown",
   "metadata": {},
   "source": [
    "####  surprisingly the frequency is higher 10%(8/79) in the recently sprayed data, than in the whole data combined ~5%.\n",
    "This could have an alternative explanation: Places that are sprayed are proune to have WNV and therefore were a target for spraying in the first place.\n",
    "This still shows that there is a target link. therefore these 79 cases should be taken care of in our modelling."
   ]
  },
  {
   "cell_type": "code",
   "execution_count": 372,
   "metadata": {},
   "outputs": [
    {
     "data": {
      "text/plain": [
       "0    10427\n",
       "1       79\n",
       "Name: Recently_sprayed, dtype: int64"
      ]
     },
     "execution_count": 372,
     "metadata": {},
     "output_type": "execute_result"
    }
   ],
   "source": [
    "# let' add a column - whether the area was recently sprayed (i.e. <150 days)\n",
    "res5['Recently_sprayed']=(res5['most_recent_spray (days)']<150).astype(int)\n",
    "res5['Recently_sprayed'].value_counts()"
   ]
  },
  {
   "cell_type": "markdown",
   "metadata": {},
   "source": [
    "#  # # # # 4"
   ]
  },
  {
   "cell_type": "markdown",
   "metadata": {},
   "source": [
    "#### Let's do some EDA on the merged data in context of sprayed VS not sprayed"
   ]
  },
  {
   "cell_type": "code",
   "execution_count": 360,
   "metadata": {
    "collapsed": true
   },
   "outputs": [],
   "source": [
    "resin_copy=resIN.copy()"
   ]
  },
  {
   "cell_type": "code",
   "execution_count": null,
   "metadata": {
    "collapsed": true
   },
   "outputs": [],
   "source": [
    "plt.subplot(1,2,1)\n",
    "plt.bar(['No','Yes'],[notspr[0],notspr[1]],color=['navy','orange'])\n",
    "plt.title('Not Sprayed')\n",
    "plt.subplot(1,2,2)\n",
    "plt.bar(['Yes','No'],[spr[1],spr[0]],color=['orange','navy'])\n",
    "plt.title('Sprayed')"
   ]
  },
  {
   "cell_type": "code",
   "execution_count": null,
   "metadata": {
    "collapsed": true
   },
   "outputs": [],
   "source": [
    "print(\"occurences of WNV in sprayed places:\")\n",
    "spr=resin_copy['WnvPresent'].value_counts()\n",
    "print(spr)\n",
    "print('percentage: ',spr[1]/(spr[0]+spr[1])*100)\n",
    "notsprayed=resin_copy[resin_copy['Date_of_collection'].isnull()==1]\n",
    "print(\"occurences of WNV in sprayed places:\")\n",
    "notspr=notsprayed['WnvPresent'].value_counts()\n",
    "print(notspr)\n",
    "print('percentage: ',notspr[1]/(notspr[0]+notspr[1])*100)\n",
    "plt.subplot(1,2,1)\n",
    "plt.bar(['No','Yes'],[notspr[0],notspr[1]],color=['navy','orange'])\n",
    "plt.title('Not Sprayed')\n",
    "plt.subplot(1,2,2)\n",
    "plt.bar(['Yes','No'],[spr[1],spr[0]],color=['orange','navy'])\n",
    "plt.title('Sprayed')"
   ]
  },
  {
   "cell_type": "markdown",
   "metadata": {},
   "source": [
    "# # # # # "
   ]
  },
  {
   "cell_type": "markdown",
   "metadata": {},
   "source": [
    "## Weather data"
   ]
  },
  {
   "cell_type": "markdown",
   "metadata": {
    "collapsed": true
   },
   "source": [
    "### Background"
   ]
  },
  {
   "cell_type": "markdown",
   "metadata": {},
   "source": [
    "From Kaggle:\n",
    "    - It is believed that hot and dry conditions are more favorable for West Nile virus than cold and wet. We provide you with the dataset from NOAA of the weather conditions of 2007 to 2014, during the months of the tests.\n",
    "\n",
    "From '/Users/eran/Galvanize_more_repositories/WestNileVirus/all/noaa_weather_qclcd_documentation.pdf':\n",
    "    - Dew point is an accurate measurement of humidity (indipendant of Relative humidity) 60= uncomfortable, 70 very uncomfortable.\n",
    "        https://minnesota.cbslocal.com/2012/07/17/good-question-whats-the-difference-between-dew-point-and-humidity/\n",
    "    - M = missing data\n",
    "    - \"A lower wet bulb temperature means the air is drier and can hold more water vapor than it can at a higher wet bulb temperature.\""
   ]
  },
  {
   "cell_type": "markdown",
   "metadata": {},
   "source": [
    "### Rational\n",
    "- Find columns directly related to Hot and Dry <-> higher WNV virus\n",
    "- try to engineer them \n",
    "- merge according to proximity to weather station And Date"
   ]
  },
  {
   "cell_type": "markdown",
   "metadata": {},
   "source": [
    "### EDA"
   ]
  },
  {
   "cell_type": "code",
   "execution_count": 363,
   "metadata": {},
   "outputs": [
    {
     "name": "stdout",
     "output_type": "stream",
     "text": [
      "<class 'pandas.core.frame.DataFrame'>\n",
      "RangeIndex: 2944 entries, 0 to 2943\n",
      "Data columns (total 22 columns):\n",
      "Station        2944 non-null int64\n",
      "Date           2944 non-null object\n",
      "Tmax           2944 non-null int64\n",
      "Tmin           2944 non-null int64\n",
      "Tavg           2944 non-null object\n",
      "Depart         2944 non-null object\n",
      "DewPoint       2944 non-null int64\n",
      "WetBulb        2944 non-null object\n",
      "Heat           2944 non-null object\n",
      "Cool           2944 non-null object\n",
      "Sunrise        2944 non-null object\n",
      "Sunset         2944 non-null object\n",
      "CodeSum        2944 non-null object\n",
      "Depth          2944 non-null object\n",
      "Water1         2944 non-null object\n",
      "SnowFall       2944 non-null object\n",
      "PrecipTotal    2944 non-null object\n",
      "StnPressure    2944 non-null object\n",
      "SeaLevel       2944 non-null object\n",
      "ResultSpeed    2944 non-null float64\n",
      "ResultDir      2944 non-null int64\n",
      "AvgSpeed       2944 non-null object\n",
      "dtypes: float64(1), int64(5), object(16)\n",
      "memory usage: 506.1+ KB\n"
     ]
    }
   ],
   "source": [
    "weather_csv=os.path.join(directory_path,\"weather.csv\")\n",
    "weather=pd.read_csv(weather_csv)\n",
    "weather.info()"
   ]
  },
  {
   "cell_type": "code",
   "execution_count": 406,
   "metadata": {},
   "outputs": [
    {
     "data": {
      "text/html": [
       "<div>\n",
       "<style>\n",
       "    .dataframe thead tr:only-child th {\n",
       "        text-align: right;\n",
       "    }\n",
       "\n",
       "    .dataframe thead th {\n",
       "        text-align: left;\n",
       "    }\n",
       "\n",
       "    .dataframe tbody tr th {\n",
       "        vertical-align: top;\n",
       "    }\n",
       "</style>\n",
       "<table border=\"1\" class=\"dataframe\">\n",
       "  <thead>\n",
       "    <tr style=\"text-align: right;\">\n",
       "      <th></th>\n",
       "      <th>Station</th>\n",
       "      <th>Date</th>\n",
       "      <th>Tmax</th>\n",
       "      <th>Tmin</th>\n",
       "      <th>Tavg</th>\n",
       "      <th>Depart</th>\n",
       "      <th>DewPoint</th>\n",
       "      <th>WetBulb</th>\n",
       "      <th>Heat</th>\n",
       "      <th>Cool</th>\n",
       "      <th>...</th>\n",
       "      <th>CodeSum</th>\n",
       "      <th>Depth</th>\n",
       "      <th>Water1</th>\n",
       "      <th>SnowFall</th>\n",
       "      <th>PrecipTotal</th>\n",
       "      <th>StnPressure</th>\n",
       "      <th>SeaLevel</th>\n",
       "      <th>ResultSpeed</th>\n",
       "      <th>ResultDir</th>\n",
       "      <th>AvgSpeed</th>\n",
       "    </tr>\n",
       "  </thead>\n",
       "  <tbody>\n",
       "    <tr>\n",
       "      <th>0</th>\n",
       "      <td>1</td>\n",
       "      <td>2007-05-01</td>\n",
       "      <td>83</td>\n",
       "      <td>50</td>\n",
       "      <td>67</td>\n",
       "      <td>14</td>\n",
       "      <td>51</td>\n",
       "      <td>56</td>\n",
       "      <td>0</td>\n",
       "      <td>2</td>\n",
       "      <td>...</td>\n",
       "      <td></td>\n",
       "      <td>0</td>\n",
       "      <td>M</td>\n",
       "      <td>0.0</td>\n",
       "      <td>0.00</td>\n",
       "      <td>29.10</td>\n",
       "      <td>29.82</td>\n",
       "      <td>1.7</td>\n",
       "      <td>27</td>\n",
       "      <td>9.2</td>\n",
       "    </tr>\n",
       "    <tr>\n",
       "      <th>1</th>\n",
       "      <td>2</td>\n",
       "      <td>2007-05-01</td>\n",
       "      <td>84</td>\n",
       "      <td>52</td>\n",
       "      <td>68</td>\n",
       "      <td>M</td>\n",
       "      <td>51</td>\n",
       "      <td>57</td>\n",
       "      <td>0</td>\n",
       "      <td>3</td>\n",
       "      <td>...</td>\n",
       "      <td></td>\n",
       "      <td>M</td>\n",
       "      <td>M</td>\n",
       "      <td>M</td>\n",
       "      <td>0.00</td>\n",
       "      <td>29.18</td>\n",
       "      <td>29.82</td>\n",
       "      <td>2.7</td>\n",
       "      <td>25</td>\n",
       "      <td>9.6</td>\n",
       "    </tr>\n",
       "    <tr>\n",
       "      <th>2</th>\n",
       "      <td>1</td>\n",
       "      <td>2007-05-02</td>\n",
       "      <td>59</td>\n",
       "      <td>42</td>\n",
       "      <td>51</td>\n",
       "      <td>-3</td>\n",
       "      <td>42</td>\n",
       "      <td>47</td>\n",
       "      <td>14</td>\n",
       "      <td>0</td>\n",
       "      <td>...</td>\n",
       "      <td>BR</td>\n",
       "      <td>0</td>\n",
       "      <td>M</td>\n",
       "      <td>0.0</td>\n",
       "      <td>0.00</td>\n",
       "      <td>29.38</td>\n",
       "      <td>30.09</td>\n",
       "      <td>13.0</td>\n",
       "      <td>4</td>\n",
       "      <td>13.4</td>\n",
       "    </tr>\n",
       "  </tbody>\n",
       "</table>\n",
       "<p>3 rows × 22 columns</p>\n",
       "</div>"
      ],
      "text/plain": [
       "   Station        Date  Tmax  Tmin Tavg Depart  DewPoint WetBulb Heat Cool  \\\n",
       "0        1  2007-05-01    83    50   67     14        51      56    0    2   \n",
       "1        2  2007-05-01    84    52   68      M        51      57    0    3   \n",
       "2        1  2007-05-02    59    42   51     -3        42      47   14    0   \n",
       "\n",
       "     ...    CodeSum Depth Water1 SnowFall PrecipTotal StnPressure SeaLevel  \\\n",
       "0    ...                0      M      0.0        0.00       29.10    29.82   \n",
       "1    ...                M      M        M        0.00       29.18    29.82   \n",
       "2    ...         BR     0      M      0.0        0.00       29.38    30.09   \n",
       "\n",
       "  ResultSpeed ResultDir  AvgSpeed  \n",
       "0         1.7        27       9.2  \n",
       "1         2.7        25       9.6  \n",
       "2        13.0         4      13.4  \n",
       "\n",
       "[3 rows x 22 columns]"
      ]
     },
     "execution_count": 406,
     "metadata": {},
     "output_type": "execute_result"
    }
   ],
   "source": [
    "weather.head(3)"
   ]
  },
  {
   "cell_type": "code",
   "execution_count": 433,
   "metadata": {},
   "outputs": [
    {
     "data": {
      "text/plain": [
       "Index(['Station', 'Date', 'Tmax', 'Tmin', 'Tavg', 'Depart', 'DewPoint',\n",
       "       'WetBulb', 'Heat', 'Cool', 'Sunrise', 'Sunset', 'CodeSum', 'Depth',\n",
       "       'Water1', 'SnowFall', 'PrecipTotal', 'StnPressure', 'SeaLevel',\n",
       "       'ResultSpeed', 'ResultDir', 'AvgSpeed'],\n",
       "      dtype='object')"
      ]
     },
     "execution_count": 433,
     "metadata": {},
     "output_type": "execute_result"
    }
   ],
   "source": [
    "weather.columns"
   ]
  },
  {
   "cell_type": "code",
   "execution_count": 365,
   "metadata": {},
   "outputs": [
    {
     "data": {
      "text/plain": [
       "array([1, 2])"
      ]
     },
     "execution_count": 365,
     "metadata": {},
     "output_type": "execute_result"
    }
   ],
   "source": [
    "weather['Station'].unique()\n",
    "# Station 1: CHICAGO O'HARE INTERNATIONAL AIRPORT Lat: 41.995 Lon: -87.933 Elev: 662 ft. above sea level\n",
    "# Station 2: CHICAGO MIDWAY INTL ARPT Lat: 41.786 Lon: -87.752 Elev: 612 ft. above sea level"
   ]
  },
  {
   "cell_type": "code",
   "execution_count": 462,
   "metadata": {},
   "outputs": [
    {
     "data": {
      "text/plain": [
       "('23', ' 0')"
      ]
     },
     "execution_count": 462,
     "metadata": {},
     "output_type": "execute_result"
    }
   ],
   "source": [
    "#dim=(16,5)\n",
    "#plt.subplots(figsize=dim)\n",
    "weather['Depart'][weather['Depart']!='M'].max(), weather['Depart'][weather['Depart']!='M'].min()"
   ]
  },
  {
   "cell_type": "code",
   "execution_count": 463,
   "metadata": {},
   "outputs": [
    {
     "data": {
      "text/plain": [
       "('78', '32')"
      ]
     },
     "execution_count": 463,
     "metadata": {},
     "output_type": "execute_result"
    }
   ],
   "source": [
    "weather['WetBulb'][weather['WetBulb']!='M'].max(), weather['WetBulb'][weather['WetBulb']!='M'].min()"
   ]
  },
  {
   "cell_type": "code",
   "execution_count": 461,
   "metadata": {},
   "outputs": [
    {
     "data": {
      "text/plain": [
       "('29', ' 0')"
      ]
     },
     "execution_count": 461,
     "metadata": {},
     "output_type": "execute_result"
    }
   ],
   "source": [
    "weather['Cool'][weather['Cool']!='M'].max(), weather['Cool'][weather['Cool']!='M'].min()"
   ]
  },
  {
   "cell_type": "code",
   "execution_count": 561,
   "metadata": {},
   "outputs": [
    {
     "name": "stdout",
     "output_type": "stream",
     "text": [
      "<class 'str'>\n"
     ]
    },
    {
     "data": {
      "text/plain": [
       "1472"
      ]
     },
     "execution_count": 561,
     "metadata": {},
     "output_type": "execute_result"
    }
   ],
   "source": [
    "print(type(weather.loc[122,'Sunrise'])) ## times are strings\n",
    "sum(weather['Sunrise']=='-') ## alternating '-' 1472/2944"
   ]
  },
  {
   "cell_type": "code",
   "execution_count": 520,
   "metadata": {},
   "outputs": [
    {
     "data": {
      "text/html": [
       "<div>\n",
       "<style>\n",
       "    .dataframe thead tr:only-child th {\n",
       "        text-align: right;\n",
       "    }\n",
       "\n",
       "    .dataframe thead th {\n",
       "        text-align: left;\n",
       "    }\n",
       "\n",
       "    .dataframe tbody tr th {\n",
       "        vertical-align: top;\n",
       "    }\n",
       "</style>\n",
       "<table border=\"1\" class=\"dataframe\">\n",
       "  <thead>\n",
       "    <tr style=\"text-align: right;\">\n",
       "      <th></th>\n",
       "      <th>Depart</th>\n",
       "      <th>WetBulb</th>\n",
       "      <th>Heat</th>\n",
       "      <th>Cool</th>\n",
       "      <th>Sunrise</th>\n",
       "      <th>CodeSum</th>\n",
       "    </tr>\n",
       "  </thead>\n",
       "  <tbody>\n",
       "    <tr>\n",
       "      <th>count</th>\n",
       "      <td>2944</td>\n",
       "      <td>2944</td>\n",
       "      <td>2944</td>\n",
       "      <td>2944</td>\n",
       "      <td>2944</td>\n",
       "      <td>2944</td>\n",
       "    </tr>\n",
       "    <tr>\n",
       "      <th>unique</th>\n",
       "      <td>42</td>\n",
       "      <td>48</td>\n",
       "      <td>31</td>\n",
       "      <td>31</td>\n",
       "      <td>122</td>\n",
       "      <td>98</td>\n",
       "    </tr>\n",
       "    <tr>\n",
       "      <th>top</th>\n",
       "      <td>M</td>\n",
       "      <td>63</td>\n",
       "      <td>0</td>\n",
       "      <td>0</td>\n",
       "      <td>-</td>\n",
       "      <td></td>\n",
       "    </tr>\n",
       "    <tr>\n",
       "      <th>freq</th>\n",
       "      <td>1472</td>\n",
       "      <td>135</td>\n",
       "      <td>1870</td>\n",
       "      <td>1147</td>\n",
       "      <td>1472</td>\n",
       "      <td>1609</td>\n",
       "    </tr>\n",
       "  </tbody>\n",
       "</table>\n",
       "</div>"
      ],
      "text/plain": [
       "       Depart WetBulb  Heat  Cool Sunrise CodeSum\n",
       "count    2944    2944  2944  2944    2944    2944\n",
       "unique     42      48    31    31     122      98\n",
       "top         M      63     0     0       -        \n",
       "freq     1472     135  1870  1147    1472    1609"
      ]
     },
     "execution_count": 520,
     "metadata": {},
     "output_type": "execute_result"
    }
   ],
   "source": [
    "weather[['Depart','WetBulb','Heat','Cool','Sunrise','CodeSum']].describe()"
   ]
  },
  {
   "cell_type": "code",
   "execution_count": 1052,
   "metadata": {},
   "outputs": [
    {
     "data": {
      "text/plain": [
       "<matplotlib.axes._subplots.AxesSubplot at 0x1a36327f60>"
      ]
     },
     "execution_count": 1052,
     "metadata": {},
     "output_type": "execute_result"
    },
    {
     "data": {
      "image/png": "[encoded data removed]",
      "text/plain": [
       "<matplotlib.figure.Figure at 0x1a358ba9e8>"
      ]
     },
     "metadata": {},
     "output_type": "display_data"
    }
   ],
   "source": [
    "dimm=(14.5,2)\n",
    "plt.subplots(figsize=dimm)\n",
    "plt.subplot(1,2,1)\n",
    "weather['Heat'].hist(bins=30,color='orange')\n",
    "plt.subplot(1,2,2)\n",
    "weather['Cool'].hist(bins=30)"
   ]
  },
  {
   "cell_type": "markdown",
   "metadata": {},
   "source": [
    "creating a dictionary \"dic\" for value_counts() to shorten the typing. the keys are the features' names' "
   ]
  },
  {
   "cell_type": "code",
   "execution_count": 587,
   "metadata": {
    "collapsed": true
   },
   "outputs": [],
   "source": [
    "dic={}\n",
    "for column in weather.columns:\n",
    "    val=weather[column].value_counts()\n",
    "    dic[column]=val"
   ]
  },
  {
   "cell_type": "code",
   "execution_count": 592,
   "metadata": {},
   "outputs": [
    {
     "name": "stdout",
     "output_type": "stream",
     "text": [
      "TSRA RA BR  - Meanning: TS-THUNDERSTORM,RA-RAIN,BR-MIST\n",
      "              1609\n",
      "RA             296\n",
      "RA BR          238\n",
      "BR             110\n",
      "TSRA RA BR      92\n",
      "BR HZ           81\n",
      "RA DZ BR        65\n",
      "TSRA RA         43\n",
      "Name: CodeSum, dtype: int64\n",
      "<class 'str'>\n"
     ]
    }
   ],
   "source": [
    "print(dic['CodeSum'].index[4],' - Meanning: TS-THUNDERSTORM,RA-RAIN,BR-MIST')\n",
    "print(dic['CodeSum'][0:8])\n",
    "print(type(weather['CodeSum'][2]))"
   ]
  },
  {
   "cell_type": "code",
   "execution_count": 594,
   "metadata": {},
   "outputs": [
    {
     "data": {
      "text/plain": [
       "M      1472\n",
       "0.0    1459\n",
       "  T      12\n",
       "0.1       1\n",
       "Name: SnowFall, dtype: int64"
      ]
     },
     "execution_count": 594,
     "metadata": {},
     "output_type": "execute_result"
    }
   ],
   "source": [
    "dic['SnowFall'] # T means trace, amount that is very little (below measuring rate)"
   ]
  },
  {
   "cell_type": "markdown",
   "metadata": {},
   "source": [
    "Codes. almost all related to cold / wet / stormy weather. so effecting WNV. 1609 empty"
   ]
  },
  {
   "cell_type": "code",
   "execution_count": 607,
   "metadata": {},
   "outputs": [
    {
     "data": {
      "text/plain": [
       "0.00    1577\n",
       "  T      318\n",
       "0.01     127\n",
       "0.02      63\n",
       "Name: PrecipTotal, dtype: int64"
      ]
     },
     "execution_count": 607,
     "metadata": {},
     "output_type": "execute_result"
    }
   ],
   "source": [
    "dic['PrecipTotal'][:4]"
   ]
  },
  {
   "cell_type": "markdown",
   "metadata": {},
   "source": [
    "T - Trace istoo little to measure. between 0.00 and 0.01 (we might convert it to 0.005):  "
   ]
  },
  {
   "cell_type": "code",
   "execution_count": 619,
   "metadata": {},
   "outputs": [
    {
     "data": {
      "text/plain": [
       "'0.01'"
      ]
     },
     "execution_count": 619,
     "metadata": {},
     "output_type": "execute_result"
    }
   ],
   "source": [
    "weather['PrecipTotal'][(weather['PrecipTotal']!='  T')&(weather['PrecipTotal']!='0.00')].min()"
   ]
  },
  {
   "cell_type": "markdown",
   "metadata": {},
   "source": [
    "StnPressure (station pressure) - only 4 missing values."
   ]
  },
  {
   "cell_type": "code",
   "execution_count": 630,
   "metadata": {},
   "outputs": [
    {
     "data": {
      "text/plain": [
       "87      M\n",
       "848     M\n",
       "2410    M\n",
       "2411    M\n",
       "Name: StnPressure, dtype: object"
      ]
     },
     "execution_count": 630,
     "metadata": {},
     "output_type": "execute_result"
    }
   ],
   "source": [
    "weather['StnPressure'][weather['StnPressure']=='M']"
   ]
  },
  {
   "cell_type": "markdown",
   "metadata": {},
   "source": [
    "StnPressure - all is around 29 with range of 1.3, mean 29.3, std 0.16"
   ]
  },
  {
   "cell_type": "code",
   "execution_count": 637,
   "metadata": {},
   "outputs": [
    {
     "name": "stdout",
     "output_type": "stream",
     "text": [
      "29.34    128\n",
      "29.28    124\n",
      "29.26    123\n",
      "29.21    107\n",
      "Name: StnPressure, dtype: int64\n",
      "range 1.31\n"
     ]
    },
    {
     "data": {
      "text/plain": [
       "mean    29.284429\n",
       "std      0.158543\n",
       "Name: StnPressure, dtype: float64"
      ]
     },
     "execution_count": 637,
     "metadata": {},
     "output_type": "execute_result"
    }
   ],
   "source": [
    "print(dic['StnPressure'][:4]) \n",
    "print('range',np.ptp(weather['StnPressure'][weather['StnPressure']!='M'].astype(float)))\n",
    "weather['StnPressure'][weather['StnPressure']!='M'].astype(float).apply([np.mean,np.std])"
   ]
  },
  {
   "cell_type": "markdown",
   "metadata": {},
   "source": [
    "SeaLevel (Pressure) - mean 29.3, std 0.16, range1.3, # of 'M' = 9"
   ]
  },
  {
   "cell_type": "code",
   "execution_count": 643,
   "metadata": {},
   "outputs": [
    {
     "name": "stdout",
     "output_type": "stream",
     "text": [
      "# of \"M\" 9\n",
      "30.00    96\n",
      "29.94    85\n",
      "29.98    85\n",
      "29.92    83\n",
      "Name: SeaLevel, dtype: int64\n",
      "range 1.3\n"
     ]
    },
    {
     "data": {
      "text/plain": [
       "mean    29.968129\n",
       "std      0.158597\n",
       "Name: SeaLevel, dtype: float64"
      ]
     },
     "execution_count": 643,
     "metadata": {},
     "output_type": "execute_result"
    }
   ],
   "source": [
    "print('# of \"M\"',sum(weather['SeaLevel']=='M'))\n",
    "print(dic['SeaLevel'][:4]) \n",
    "print('range',np.ptp(weather['SeaLevel'][weather['SeaLevel']!='M'].astype(float)))\n",
    "weather['SeaLevel'][weather['SeaLevel']!='M'].astype(float).apply([np.mean,np.std])"
   ]
  },
  {
   "cell_type": "markdown",
   "metadata": {},
   "source": [
    "ResultSpeed - vector sum of windspeed and direction ( so the next 2 columns?). "
   ]
  },
  {
   "cell_type": "code",
   "execution_count": 687,
   "metadata": {},
   "outputs": [
    {
     "data": {
      "text/plain": [
       "count    2944.000000\n",
       "mean        6.960666\n",
       "std         3.587527\n",
       "min         0.100000\n",
       "25%         4.300000\n",
       "50%         6.400000\n",
       "75%         9.200000\n",
       "max        24.100000\n",
       "Name: ResultSpeed, dtype: float64"
      ]
     },
     "execution_count": 687,
     "metadata": {},
     "output_type": "execute_result"
    },
    {
     "data": {
      "image/png": "[encoded data removed]",
      "text/plain": [
       "<matplotlib.figure.Figure at 0x1a379a92b0>"
      ]
     },
     "metadata": {},
     "output_type": "display_data"
    }
   ],
   "source": [
    "plt.subplots(figsize=[4,2])\n",
    "weather['ResultSpeed'].hist(bins=25)\n",
    "weather['ResultSpeed'].describe()"
   ]
  },
  {
   "cell_type": "markdown",
   "metadata": {},
   "source": [
    "resultant direction - in tens of degrees (360 max)"
   ]
  },
  {
   "cell_type": "code",
   "execution_count": 688,
   "metadata": {},
   "outputs": [
    {
     "data": {
      "text/plain": [
       "count    2944.000000\n",
       "mean       17.494905\n",
       "std        10.063609\n",
       "min         1.000000\n",
       "25%         7.000000\n",
       "50%        19.000000\n",
       "75%        25.000000\n",
       "max        36.000000\n",
       "Name: ResultDir, dtype: float64"
      ]
     },
     "execution_count": 688,
     "metadata": {},
     "output_type": "execute_result"
    },
    {
     "data": {
      "image/png": "[encoded data removed]",
      "text/plain": [
       "<matplotlib.figure.Figure at 0x1a37551c18>"
      ]
     },
     "metadata": {},
     "output_type": "display_data"
    }
   ],
   "source": [
    "plt.subplots(figsize=[4,2])\n",
    "weather['ResultDir'].hist(bins=25)\n",
    "weather['ResultDir'].describe()"
   ]
  },
  {
   "cell_type": "markdown",
   "metadata": {},
   "source": [
    "AvgSpeed - 3 missing, mean=8.5, std = 3, min=1.7,max= 26"
   ]
  },
  {
   "cell_type": "code",
   "execution_count": 680,
   "metadata": {},
   "outputs": [
    {
     "name": "stdout",
     "output_type": "stream",
     "text": [
      "M    3\n",
      "Name: AvgSpeed, dtype: int64\n",
      "6.9    63\n",
      "5.8    60\n",
      "7.4    55\n",
      "8.1    49\n",
      "Name: AvgSpeed, dtype: int64\n"
     ]
    },
    {
     "data": {
      "text/plain": [
       "count    2941.000000\n",
       "mean        8.580449\n",
       "std         3.147300\n",
       "min         1.700000\n",
       "25%         6.300000\n",
       "50%         8.100000\n",
       "75%        10.400000\n",
       "max        26.300000\n",
       "Name: AvgSpeed, dtype: float64"
      ]
     },
     "execution_count": 680,
     "metadata": {},
     "output_type": "execute_result"
    }
   ],
   "source": [
    "print(dic['AvgSpeed'][dic['AvgSpeed'].index=='M']) ## \n",
    "print(dic['AvgSpeed'][:4])\n",
    "weather['AvgSpeed'][weather['AvgSpeed']!='M'].astype(float).describe()"
   ]
  },
  {
   "cell_type": "markdown",
   "metadata": {},
   "source": [
    "##### end of weather features investigation"
   ]
  },
  {
   "cell_type": "markdown",
   "metadata": {},
   "source": [
    "reminder of features:\n",
    "    \n",
    "\n"
   ]
  },
  {
   "cell_type": "code",
   "execution_count": 433,
   "metadata": {},
   "outputs": [
    {
     "data": {
      "text/plain": [
       "Index(['Station', 'Date', 'Tmax', 'Tmin', 'Tavg', 'Depart', 'DewPoint',\n",
       "       'WetBulb', 'Heat', 'Cool', 'Sunrise', 'Sunset', 'CodeSum', 'Depth',\n",
       "       'Water1', 'SnowFall', 'PrecipTotal', 'StnPressure', 'SeaLevel',\n",
       "       'ResultSpeed', 'ResultDir', 'AvgSpeed'],\n",
       "      dtype='object')"
      ]
     },
     "execution_count": 433,
     "metadata": {},
     "output_type": "execute_result"
    }
   ],
   "source": [
    "weather.columns"
   ]
  },
  {
   "cell_type": "markdown",
   "metadata": {
    "collapsed": true
   },
   "source": [
    "#### summary of features - post some EDA \n",
    "( {-/+} means hypothetical correlation to WNV response) :\n",
    "- Date - no null\n",
    "- Dew point - is an accurate measurement of humidity (indipendant of Relative humidity) 60= uncomfortable, 70 very uncomfortable. {-}  \n",
    "- Depart - Departure from normal expected (in temperatures) {?}\n",
    "a lot of missing data (M)\n",
    "- WetBulb - temps: the lower the dryer, \"A lower wet bulb temperature means the air is drier {-}\n",
    "- Heat and Cool - look like days in a month (mostly zero) {+/-} (maybe split)\n",
    "- Sunrise - type 'str' alternating empty = '-' (half of data) 1472/2944{?} \n",
    "- Depth - of snow. all is Zero or M (NaN) (should drop)\n",
    "- CodeSum -Codes. Type 'str'. almost all related to cold / wet / stormy weather (top 8 most prevalent). empty is ' ' 1609 out of 2944 {-/+} (maybe split) empty might be normal days that are {+}\n",
    "- Water1 - All missing data (M) (should drop)\n",
    "- Snow Fall - half missing (M), half 0.0, 12 are T = trace i.e. very low 1 is 0.1. (should drop)\n",
    "- PrecipTotal - all numbers except \"T\" (type string). can convert to 0.005 {-}\n",
    "- StnPressure (station pressure) - 4 missing ('M'), type 'str' all is around 29 with range of 1.3, mean 29.3, std 0.16 {+/-}\n",
    "- SeaLevel (Pressure) - mean 29.3, std 0.16, range1.3, number of 'M' = 9 (normal is 29.92 inch at sea level) {+/-}\n",
    "- ResultSpeed - vector sum of windspeed and direction ( so the next 2 columns?). (keep as that) {+/-} \n",
    "- resultant direction - in tens of degrees (360 max) (keep as that) {+/-}\n",
    "- AvgSpeed - 3 missing, mean=8.5, std = 3, min=1.7,max= 26. lose \"M\" (median),  keep as that. {+/-}"
   ]
  },
  {
   "cell_type": "code",
   "execution_count": 690,
   "metadata": {},
   "outputs": [
    {
     "data": {
      "text/plain": [
       "dict_keys(['Station', 'Date', 'Tmax', 'Tmin', 'Tavg', 'Depart', 'DewPoint', 'WetBulb', 'Heat', 'Cool', 'Sunrise', 'Sunset', 'CodeSum', 'Depth', 'Water1', 'SnowFall', 'PrecipTotal', 'StnPressure', 'SeaLevel', 'ResultSpeed', 'ResultDir', 'AvgSpeed'])"
      ]
     },
     "execution_count": 690,
     "metadata": {},
     "output_type": "execute_result"
    }
   ],
   "source": [
    "dic.keys()"
   ]
  },
  {
   "cell_type": "code",
   "execution_count": 755,
   "metadata": {},
   "outputs": [],
   "source": [
    "# nulls={}\n",
    "# for col in weather.columns:\n",
    "#     print(col)\n",
    "#     u=dic[col].index=='M'\n",
    "#     print(u)\n",
    "#     if u==False:\n",
    "#         u=0\n",
    "#         u.astype(float)\n",
    "#         print(u)\n",
    "#         print(sum(u))\n",
    "#     if sum(u)==0:\n",
    "#         print('No')\n",
    "# # #         nulls=dic[col][dic[col].index=='M'][0]\n",
    "# # #         print(nulls)\n",
    "# # #         nulls[col]=null\n",
    "# # #     else:\n",
    "# # #         nulls[col]=0"
   ]
  },
  {
   "cell_type": "markdown",
   "metadata": {},
   "source": [
    "### Adding weather dataset to the train dataset "
   ]
  },
  {
   "cell_type": "markdown",
   "metadata": {},
   "source": [
    "Method:\n",
    "    - Add station column to train dataset according to geo-location:\n",
    "    - merge weather and train datasets by date and station\n",
    "following steps:\n",
    "    - cleanning rows and columns (missing values, eliminating columns)\n",
    "    - running a model for basic accuracy\n",
    "    - balancing the classes in the dataset and then running new model\n",
    "    - feature engineering, running model again"
   ]
  },
  {
   "cell_type": "code",
   "execution_count": 365,
   "metadata": {},
   "outputs": [
    {
     "data": {
      "text/plain": [
       "array([1, 2])"
      ]
     },
     "execution_count": 365,
     "metadata": {},
     "output_type": "execute_result"
    }
   ],
   "source": [
    "# Reminder the geo-location of the stations \n",
    "weather['Station'].unique()\n",
    "# Station 1: CHICAGO O'HARE INTERNATIONAL AIRPORT Lat: 41.995 Lon: -87.933 Elev: 662 ft. above sea level\n",
    "# Station 2: CHICAGO MIDWAY INTL ARPT Lat: 41.786 Lon: -87.752 Elev: 612 ft. above sea level"
   ]
  },
  {
   "cell_type": "markdown",
   "metadata": {},
   "source": [
    "##### Create weather station column in the train data (2 different stations: 1 and 2)\n",
    "- first create a function to get classify which weather station fits which trap collection (by geo-location)"
   ]
  },
  {
   "cell_type": "code",
   "execution_count": 902,
   "metadata": {},
   "outputs": [],
   "source": [
    "# assumption: long and lat have the same resolution when converted to distance.\n",
    "# for distance calculation using: distance^2=long^2+lat^2\n",
    "\n",
    "import random\n",
    "def stationing(long,lat):\n",
    "    sta1={'long':-87.933,'lat': 41.995}\n",
    "    sta2={'long':-87.752,'lat': 41.786}\n",
    "    longdelt1=long-sta1['long']\n",
    "    latdelt1=lat-sta1['lat']\n",
    "    dist1 = np.sqrt((longdelt1)**2+(latdelt1)**2)\n",
    "    #print(\"dist1 =\",dist1)\n",
    "    longdelt2=long-sta2['long']\n",
    "    latdelt2=lat-sta2['lat']\n",
    "    dist2 = np.sqrt((longdelt2)**2+(latdelt2)**2)\n",
    "    #print(\"dist2 =\",dist2)\n",
    "    if dist1<dist2:\n",
    "        #print(\"stat1\",dist1)\n",
    "        station=1\n",
    "    elif dist1>dist2:\n",
    "        station=2\n",
    "        #print(\"stat2\",dist2)\n",
    "    else:\n",
    "        station=random.choice([1,2])\n",
    "    return(station)"
   ]
  },
  {
   "cell_type": "code",
   "execution_count": 903,
   "metadata": {},
   "outputs": [],
   "source": [
    "res6sta=res5.copy() # make a copy of res5 so we can add station column to it"
   ]
  },
  {
   "cell_type": "code",
   "execution_count": 904,
   "metadata": {},
   "outputs": [],
   "source": [
    "res6sta['station']=res6sta.apply(lambda x: stationing(x.Longitude,x.Latitude),axis=1)  \n",
    "## using stationing function (previous cells) to match station number to every observation"
   ]
  },
  {
   "cell_type": "code",
   "execution_count": 900,
   "metadata": {},
   "outputs": [
    {
     "data": {
      "text/html": [
       "<div>\n",
       "<style>\n",
       "    .dataframe thead tr:only-child th {\n",
       "        text-align: right;\n",
       "    }\n",
       "\n",
       "    .dataframe thead th {\n",
       "        text-align: left;\n",
       "    }\n",
       "\n",
       "    .dataframe tbody tr th {\n",
       "        vertical-align: top;\n",
       "    }\n",
       "</style>\n",
       "<table border=\"1\" class=\"dataframe\">\n",
       "  <thead>\n",
       "    <tr style=\"text-align: right;\">\n",
       "      <th></th>\n",
       "      <th>Longitude</th>\n",
       "      <th>Latitude</th>\n",
       "      <th>min</th>\n",
       "      <th>max</th>\n",
       "      <th>most_recent_spray (days)</th>\n",
       "      <th>Date_of_collection</th>\n",
       "      <th>Address</th>\n",
       "      <th>Block</th>\n",
       "      <th>Street</th>\n",
       "      <th>Trap</th>\n",
       "      <th>...</th>\n",
       "      <th>NumMosquitos</th>\n",
       "      <th>Species_CULEX PIPIENS</th>\n",
       "      <th>Species_CULEX PIPIENS/RESTUANS</th>\n",
       "      <th>Species_CULEX RESTUANS</th>\n",
       "      <th>Species_CULEX SALINARIUS</th>\n",
       "      <th>Species_CULEX TARSALIS</th>\n",
       "      <th>Species_CULEX TERRITANS</th>\n",
       "      <th>WnvPresent</th>\n",
       "      <th>Recently_sprayed</th>\n",
       "      <th>station</th>\n",
       "    </tr>\n",
       "  </thead>\n",
       "  <tbody>\n",
       "    <tr>\n",
       "      <th>9620</th>\n",
       "      <td>-87.891</td>\n",
       "      <td>41.975</td>\n",
       "      <td>NaT</td>\n",
       "      <td>NaT</td>\n",
       "      <td>3650</td>\n",
       "      <td>2013-08-01</td>\n",
       "      <td>ORD Terminal 5, O'Hare International Airport, ...</td>\n",
       "      <td>10</td>\n",
       "      <td>W OHARE AIRPORT</td>\n",
       "      <td>T900</td>\n",
       "      <td>...</td>\n",
       "      <td>3</td>\n",
       "      <td>0</td>\n",
       "      <td>1</td>\n",
       "      <td>0</td>\n",
       "      <td>0</td>\n",
       "      <td>0</td>\n",
       "      <td>0</td>\n",
       "      <td>0</td>\n",
       "      <td>0</td>\n",
       "      <td>1</td>\n",
       "    </tr>\n",
       "  </tbody>\n",
       "</table>\n",
       "<p>1 rows × 22 columns</p>\n",
       "</div>"
      ],
      "text/plain": [
       "      Longitude  Latitude min max  most_recent_spray (days)  \\\n",
       "9620    -87.891    41.975 NaT NaT                      3650   \n",
       "\n",
       "     Date_of_collection                                            Address  \\\n",
       "9620         2013-08-01  ORD Terminal 5, O'Hare International Airport, ...   \n",
       "\n",
       "      Block            Street  Trap   ...    NumMosquitos  \\\n",
       "9620     10   W OHARE AIRPORT  T900   ...               3   \n",
       "\n",
       "      Species_CULEX PIPIENS  Species_CULEX PIPIENS/RESTUANS  \\\n",
       "9620                      0                               1   \n",
       "\n",
       "      Species_CULEX RESTUANS  Species_CULEX SALINARIUS  \\\n",
       "9620                       0                         0   \n",
       "\n",
       "      Species_CULEX TARSALIS  Species_CULEX TERRITANS  WnvPresent  \\\n",
       "9620                       0                        0           0   \n",
       "\n",
       "      Recently_sprayed  station  \n",
       "9620                 0        1  \n",
       "\n",
       "[1 rows x 22 columns]"
      ]
     },
     "execution_count": 900,
     "metadata": {},
     "output_type": "execute_result"
    }
   ],
   "source": [
    "res6sta[res6sta.station==1][2000:2001] #  Let's look at a random row to see the station column"
   ]
  },
  {
   "cell_type": "code",
   "execution_count": 905,
   "metadata": {},
   "outputs": [
    {
     "data": {
      "text/plain": [
       "2    8223\n",
       "1    2283\n",
       "Name: station, dtype: int64"
      ]
     },
     "execution_count": 905,
     "metadata": {},
     "output_type": "execute_result"
    }
   ],
   "source": [
    "res6sta['station'].value_counts()"
   ]
  },
  {
   "cell_type": "markdown",
   "metadata": {},
   "source": [
    "now we have station column. ~80% of the traps are closer to station 2"
   ]
  },
  {
   "cell_type": "markdown",
   "metadata": {},
   "source": [
    "##### Next, merge weather data with train data (res6sta)\n",
    "Note: here we are merging the dfs, such that weather data date is aligned with the collection date (i.e. weather on the day of collection). Since trap collection is condcuted once a week, it would be more accurate to attend to the weather data throughout the whole week (e.g. by averaging across the days). For the time being we are skipping this step (leaving it as an option for feature engineering later).  "
   ]
  },
  {
   "cell_type": "code",
   "execution_count": 906,
   "metadata": {},
   "outputs": [
    {
     "data": {
      "text/plain": [
       "Timestamp('2007-07-02 00:00:00')"
      ]
     },
     "execution_count": 906,
     "metadata": {},
     "output_type": "execute_result"
    }
   ],
   "source": [
    "res6sta.loc[0,'Date_of_collection']"
   ]
  },
  {
   "cell_type": "code",
   "execution_count": 907,
   "metadata": {},
   "outputs": [],
   "source": [
    "weather['Date']=pd.to_datetime(weather['Date'])"
   ]
  },
  {
   "cell_type": "code",
   "execution_count": 910,
   "metadata": {
    "collapsed": true
   },
   "outputs": [],
   "source": [
    "resWeath=res6sta.copy()"
   ]
  },
  {
   "cell_type": "code",
   "execution_count": 913,
   "metadata": {},
   "outputs": [],
   "source": [
    "resWeath=pd.merge(res6sta,weather,left_on=['Date_of_collection','station'],right_on=['Date','Station'],how='left',indicator=True)"
   ]
  },
  {
   "cell_type": "code",
   "execution_count": 918,
   "metadata": {},
   "outputs": [
    {
     "data": {
      "text/plain": [
       "2    8223\n",
       "1    2283\n",
       "Name: station, dtype: int64"
      ]
     },
     "execution_count": 918,
     "metadata": {},
     "output_type": "execute_result"
    }
   ],
   "source": [
    "resWeath.station.value_counts()"
   ]
  },
  {
   "cell_type": "markdown",
   "metadata": {},
   "source": [
    "##### Let's clean the merged data (with the summary of weather features done before) "
   ]
  },
  {
   "cell_type": "markdown",
   "metadata": {},
   "source": [
    "let's drop a few columns:"
   ]
  },
  {
   "cell_type": "code",
   "execution_count": 939,
   "metadata": {},
   "outputs": [],
   "source": [
    "resWeath.drop(['station','Date'],1,inplace=True)"
   ]
  },
  {
   "cell_type": "code",
   "execution_count": 942,
   "metadata": {
    "collapsed": true
   },
   "outputs": [],
   "source": [
    "resWeath.drop(['_merge',],1,inplace=True)"
   ]
  },
  {
   "cell_type": "code",
   "execution_count": 944,
   "metadata": {},
   "outputs": [
    {
     "data": {
      "text/plain": [
       "Index(['Longitude', 'Latitude', 'min', 'max', 'most_recent_spray (days)',\n",
       "       'Date_of_collection', 'Address', 'Block', 'Street', 'Trap',\n",
       "       'AddressNumberAndStreet', 'AddressAccuracy', 'NumMosquitos',\n",
       "       'Species_CULEX PIPIENS', 'Species_CULEX PIPIENS/RESTUANS',\n",
       "       'Species_CULEX RESTUANS', 'Species_CULEX SALINARIUS',\n",
       "       'Species_CULEX TARSALIS', 'Species_CULEX TERRITANS', 'WnvPresent',\n",
       "       'Recently_sprayed', 'Station', 'Tmax', 'Tmin', 'Tavg', 'Depart',\n",
       "       'DewPoint', 'WetBulb', 'Heat', 'Cool', 'Sunrise', 'Sunset', 'CodeSum',\n",
       "       'Depth', 'Water1', 'SnowFall', 'PrecipTotal', 'StnPressure', 'SeaLevel',\n",
       "       'ResultSpeed', 'ResultDir', 'AvgSpeed'],\n",
       "      dtype='object')"
      ]
     },
     "execution_count": 944,
     "metadata": {},
     "output_type": "execute_result"
    }
   ],
   "source": [
    "resWeath.columns"
   ]
  },
  {
   "cell_type": "code",
   "execution_count": 958,
   "metadata": {},
   "outputs": [
    {
     "name": "stdout",
     "output_type": "stream",
     "text": [
      "<class 'numpy.int64'>\n"
     ]
    },
    {
     "data": {
      "text/plain": [
       "(count    10506.000000\n",
       " mean        81.947554\n",
       " std          8.288975\n",
       " min         57.000000\n",
       " 25%         78.000000\n",
       " 50%         83.000000\n",
       " 75%         88.000000\n",
       " max         97.000000\n",
       " Name: Tmax, dtype: float64, 38)"
      ]
     },
     "execution_count": 958,
     "metadata": {},
     "output_type": "execute_result"
    }
   ],
   "source": [
    "print(type(resWeath['Tmax'][0]))\n",
    "resWeath['Tmax'].describe()# there are no missing values, Tmax is good to go."
   ]
  },
  {
   "cell_type": "code",
   "execution_count": 959,
   "metadata": {},
   "outputs": [
    {
     "name": "stdout",
     "output_type": "stream",
     "text": [
      "<class 'numpy.int64'>\n"
     ]
    },
    {
     "data": {
      "text/plain": [
       "count    10506.000000\n",
       "mean        64.162003\n",
       "std          7.530223\n",
       "min         41.000000\n",
       "25%         60.000000\n",
       "50%         66.000000\n",
       "75%         70.000000\n",
       "max         79.000000\n",
       "Name: Tmin, dtype: float64"
      ]
     },
     "execution_count": 959,
     "metadata": {},
     "output_type": "execute_result"
    }
   ],
   "source": [
    "# resWeath['Tmin'].value_counts()\n",
    "print(type(resWeath['Tmin'][0]))\n",
    "resWeath['Tmin'].describe()# there are no missing values, Tmin is good to go."
   ]
  },
  {
   "cell_type": "code",
   "execution_count": 962,
   "metadata": {},
   "outputs": [
    {
     "name": "stdout",
     "output_type": "stream",
     "text": [
      "<class 'str'>\n"
     ]
    },
    {
     "data": {
      "text/plain": [
       "count     10506\n",
       "unique       36\n",
       "top          77\n",
       "freq       1115\n",
       "Name: Tavg, dtype: object"
      ]
     },
     "execution_count": 962,
     "metadata": {},
     "output_type": "execute_result"
    }
   ],
   "source": [
    "# resWeath['Tmin'].value_counts()\n",
    "print(type(resWeath['Tavg'][0]))\n",
    "resWeath['Tavg'].describe()# there are no missing values. but type needs to change to int."
   ]
  },
  {
   "cell_type": "code",
   "execution_count": 974,
   "metadata": {},
   "outputs": [
    {
     "data": {
      "text/plain": [
       "(Tmax    77\n",
       " Tmin    58\n",
       " Tavg    68\n",
       " Name: 0, dtype: object, 67.5)"
      ]
     },
     "execution_count": 974,
     "metadata": {},
     "output_type": "execute_result"
    }
   ],
   "source": [
    "resWeath['Tavg']=resWeath['Tavg'].astype(int) # change to int\n",
    "resWeath.loc[0,'Tmax':'Tavg'], (77+58)/2   ## checking that its around the average of max and min.\n",
    "# Tavg good to go"
   ]
  },
  {
   "cell_type": "code",
   "execution_count": 1003,
   "metadata": {},
   "outputs": [
    {
     "name": "stdout",
     "output_type": "stream",
     "text": [
      "<class 'str'>\n",
      "8223\n",
      "1\n"
     ]
    }
   ],
   "source": [
    "#Depart:\n",
    "print(type(resWeath.loc[0,'Depart']))\n",
    "print(len(resWeath['Depart'][resWeath['Depart']=='M'])) # Most is M missing (8223). but maybe it's actually zero?\n",
    "print(sum(resWeath['Depart'].value_counts().index==' 0')) # no there is zero. so M is missing."
   ]
  },
  {
   "cell_type": "code",
   "execution_count": 1005,
   "metadata": {},
   "outputs": [],
   "source": [
    "# droping the Depart column:\n",
    "resWeath.drop('Depart',1,inplace=True)"
   ]
  },
  {
   "cell_type": "code",
   "execution_count": 1010,
   "metadata": {},
   "outputs": [
    {
     "name": "stdout",
     "output_type": "stream",
     "text": [
      "<class 'numpy.int64'>\n",
      "36\n"
     ]
    }
   ],
   "source": [
    "#DewPoint:\n",
    "print(type(resWeath.loc[0,'DewPoint']))\n",
    "print(len(resWeath['DewPoint'].value_counts())) # there are no missing values, type int64. good to go. "
   ]
  },
  {
   "cell_type": "markdown",
   "metadata": {},
   "source": [
    "##### WetBulb"
   ]
  },
  {
   "cell_type": "code",
   "execution_count": 1011,
   "metadata": {},
   "outputs": [
    {
     "name": "stdout",
     "output_type": "stream",
     "text": [
      "<class 'str'>\n",
      "26\n"
     ]
    }
   ],
   "source": [
    "#WetBulb:\n",
    "print(type(resWeath.loc[0,'WetBulb']))\n",
    "print(len(resWeath['WetBulb'][resWeath['WetBulb']=='M'])) # 'M' missing (26). but maybe it's actually zero?"
   ]
  },
  {
   "cell_type": "markdown",
   "metadata": {},
   "source": [
    "Since number of missing values are small (26), mode or median would make sense as replacement.\n",
    "But after doing quick search online, we can approximate WetBulb from DewPoint and temperature (that we have) with this formula - TAVG-((TAVG-DEWPOINT)/3). \n",
    "(resource: http://theweatherprediction.com/habyhints/170/ )"
   ]
  },
  {
   "cell_type": "markdown",
   "metadata": {},
   "source": [
    "Let's see if approx works on already known WetBulb'"
   ]
  },
  {
   "cell_type": "code",
   "execution_count": 1013,
   "metadata": {},
   "outputs": [
    {
     "data": {
      "text/html": [
       "<div>\n",
       "<style>\n",
       "    .dataframe thead tr:only-child th {\n",
       "        text-align: right;\n",
       "    }\n",
       "\n",
       "    .dataframe thead th {\n",
       "        text-align: left;\n",
       "    }\n",
       "\n",
       "    .dataframe tbody tr th {\n",
       "        vertical-align: top;\n",
       "    }\n",
       "</style>\n",
       "<table border=\"1\" class=\"dataframe\">\n",
       "  <thead>\n",
       "    <tr style=\"text-align: right;\">\n",
       "      <th></th>\n",
       "      <th>Tavg</th>\n",
       "      <th>DewPoint</th>\n",
       "      <th>WetBulb</th>\n",
       "    </tr>\n",
       "  </thead>\n",
       "  <tbody>\n",
       "    <tr>\n",
       "      <th>0</th>\n",
       "      <td>68</td>\n",
       "      <td>50</td>\n",
       "      <td>59</td>\n",
       "    </tr>\n",
       "    <tr>\n",
       "      <th>1</th>\n",
       "      <td>68</td>\n",
       "      <td>50</td>\n",
       "      <td>59</td>\n",
       "    </tr>\n",
       "    <tr>\n",
       "      <th>2</th>\n",
       "      <td>77</td>\n",
       "      <td>69</td>\n",
       "      <td>71</td>\n",
       "    </tr>\n",
       "  </tbody>\n",
       "</table>\n",
       "</div>"
      ],
      "text/plain": [
       "   Tavg  DewPoint WetBulb\n",
       "0    68        50      59\n",
       "1    68        50      59\n",
       "2    77        69      71"
      ]
     },
     "execution_count": 1013,
     "metadata": {},
     "output_type": "execute_result"
    }
   ],
   "source": [
    "resWeath.loc[0:2,'Tavg':'WetBulb']"
   ]
  },
  {
   "cell_type": "code",
   "execution_count": 1038,
   "metadata": {
    "collapsed": true
   },
   "outputs": [],
   "source": [
    "# Writing a function for the approx:\n",
    "def wetbulb(tavg,dp,wb):\n",
    "    if wb=='M':\n",
    "        wb=tavg-(tavg-dp)/3\n",
    "    else: \n",
    "        pass\n",
    "    return(wb)"
   ]
  },
  {
   "cell_type": "code",
   "execution_count": 1039,
   "metadata": {},
   "outputs": [
    {
     "data": {
      "text/plain": [
       "(62.0, 74.33333333333333)"
      ]
     },
     "execution_count": 1039,
     "metadata": {},
     "output_type": "execute_result"
    }
   ],
   "source": [
    "wetbulb(68,50,'M'),wetbulb(77,69,'M')  "
   ]
  },
  {
   "cell_type": "markdown",
   "metadata": {},
   "source": [
    "so ~3 points away. "
   ]
  },
  {
   "cell_type": "markdown",
   "metadata": {},
   "source": [
    "just for curiosity, how much mode is away?"
   ]
  },
  {
   "cell_type": "code",
   "execution_count": 1019,
   "metadata": {},
   "outputs": [
    {
     "data": {
      "text/plain": [
       "0    62\n",
       "dtype: object"
      ]
     },
     "execution_count": 1019,
     "metadata": {},
     "output_type": "execute_result"
    }
   ],
   "source": [
    "resWeath['WetBulb'][resWeath['WetBulb']!='M'].mode()"
   ]
  },
  {
   "cell_type": "markdown",
   "metadata": {},
   "source": [
    "By using mode we get 3 points and 12 pts away.\n",
    "\n",
    "Approx is more sensitive, let's use its function:"
   ]
  },
  {
   "cell_type": "code",
   "execution_count": null,
   "metadata": {
    "collapsed": true
   },
   "outputs": [],
   "source": [
    "resWeath['WetBulb'][resWeath['WetBulb']=='M'].index # let's do a trial 1st before ammending the whole df :"
   ]
  },
  {
   "cell_type": "code",
   "execution_count": 1023,
   "metadata": {},
   "outputs": [
    {
     "data": {
      "text/html": [
       "<div>\n",
       "<style>\n",
       "    .dataframe thead tr:only-child th {\n",
       "        text-align: right;\n",
       "    }\n",
       "\n",
       "    .dataframe thead th {\n",
       "        text-align: left;\n",
       "    }\n",
       "\n",
       "    .dataframe tbody tr th {\n",
       "        vertical-align: top;\n",
       "    }\n",
       "</style>\n",
       "<table border=\"1\" class=\"dataframe\">\n",
       "  <thead>\n",
       "    <tr style=\"text-align: right;\">\n",
       "      <th></th>\n",
       "      <th>Tavg</th>\n",
       "      <th>DewPoint</th>\n",
       "      <th>WetBulb</th>\n",
       "    </tr>\n",
       "  </thead>\n",
       "  <tbody>\n",
       "    <tr>\n",
       "      <th>534</th>\n",
       "      <td>76</td>\n",
       "      <td>67</td>\n",
       "      <td>69</td>\n",
       "    </tr>\n",
       "    <tr>\n",
       "      <th>535</th>\n",
       "      <td>76</td>\n",
       "      <td>67</td>\n",
       "      <td>69</td>\n",
       "    </tr>\n",
       "    <tr>\n",
       "      <th>536</th>\n",
       "      <td>78</td>\n",
       "      <td>60</td>\n",
       "      <td>M</td>\n",
       "    </tr>\n",
       "    <tr>\n",
       "      <th>537</th>\n",
       "      <td>78</td>\n",
       "      <td>60</td>\n",
       "      <td>M</td>\n",
       "    </tr>\n",
       "    <tr>\n",
       "      <th>538</th>\n",
       "      <td>78</td>\n",
       "      <td>60</td>\n",
       "      <td>M</td>\n",
       "    </tr>\n",
       "  </tbody>\n",
       "</table>\n",
       "</div>"
      ],
      "text/plain": [
       "     Tavg  DewPoint WetBulb\n",
       "534    76        67      69\n",
       "535    76        67      69\n",
       "536    78        60       M\n",
       "537    78        60       M\n",
       "538    78        60       M"
      ]
     },
     "execution_count": 1023,
     "metadata": {},
     "output_type": "execute_result"
    }
   ],
   "source": [
    "trial=resWeath.loc[534:538,'Tavg':'WetBulb']\n",
    "trial"
   ]
  },
  {
   "cell_type": "code",
   "execution_count": 1026,
   "metadata": {},
   "outputs": [],
   "source": [
    "trial['WetBulb']=trial.apply(lambda x: wetbulb(x['Tavg'],x['DewPoint'],x['WetBulb']),axis=1)"
   ]
  },
  {
   "cell_type": "code",
   "execution_count": 1027,
   "metadata": {},
   "outputs": [
    {
     "data": {
      "text/html": [
       "<div>\n",
       "<style>\n",
       "    .dataframe thead tr:only-child th {\n",
       "        text-align: right;\n",
       "    }\n",
       "\n",
       "    .dataframe thead th {\n",
       "        text-align: left;\n",
       "    }\n",
       "\n",
       "    .dataframe tbody tr th {\n",
       "        vertical-align: top;\n",
       "    }\n",
       "</style>\n",
       "<table border=\"1\" class=\"dataframe\">\n",
       "  <thead>\n",
       "    <tr style=\"text-align: right;\">\n",
       "      <th></th>\n",
       "      <th>Tavg</th>\n",
       "      <th>DewPoint</th>\n",
       "      <th>WetBulb</th>\n",
       "    </tr>\n",
       "  </thead>\n",
       "  <tbody>\n",
       "    <tr>\n",
       "      <th>534</th>\n",
       "      <td>76</td>\n",
       "      <td>67</td>\n",
       "      <td>69</td>\n",
       "    </tr>\n",
       "    <tr>\n",
       "      <th>535</th>\n",
       "      <td>76</td>\n",
       "      <td>67</td>\n",
       "      <td>69</td>\n",
       "    </tr>\n",
       "    <tr>\n",
       "      <th>536</th>\n",
       "      <td>78</td>\n",
       "      <td>60</td>\n",
       "      <td>72</td>\n",
       "    </tr>\n",
       "    <tr>\n",
       "      <th>537</th>\n",
       "      <td>78</td>\n",
       "      <td>60</td>\n",
       "      <td>72</td>\n",
       "    </tr>\n",
       "    <tr>\n",
       "      <th>538</th>\n",
       "      <td>78</td>\n",
       "      <td>60</td>\n",
       "      <td>72</td>\n",
       "    </tr>\n",
       "  </tbody>\n",
       "</table>\n",
       "</div>"
      ],
      "text/plain": [
       "     Tavg  DewPoint WetBulb\n",
       "534    76        67      69\n",
       "535    76        67      69\n",
       "536    78        60      72\n",
       "537    78        60      72\n",
       "538    78        60      72"
      ]
     },
     "execution_count": 1027,
     "metadata": {},
     "output_type": "execute_result"
    }
   ],
   "source": [
    "trial"
   ]
  },
  {
   "cell_type": "markdown",
   "metadata": {},
   "source": [
    "works well on trial, let's apply it to the whole df:"
   ]
  },
  {
   "cell_type": "code",
   "execution_count": 1028,
   "metadata": {
    "collapsed": true
   },
   "outputs": [],
   "source": [
    "resWeath['WetBulb']=resWeath.apply(lambda x: wetbulb(x['Tavg'],x['DewPoint'],x['WetBulb']),axis=1)"
   ]
  },
  {
   "cell_type": "code",
   "execution_count": 1037,
   "metadata": {},
   "outputs": [
    {
     "data": {
      "text/plain": [
       "count    10506.000000\n",
       "mean        64.918047\n",
       "std          6.697236\n",
       "min         46.000000\n",
       "25%         61.000000\n",
       "50%         66.000000\n",
       "75%         70.000000\n",
       "max         76.000000\n",
       "Name: WetBulb, dtype: float64"
      ]
     },
     "execution_count": 1037,
     "metadata": {},
     "output_type": "execute_result"
    }
   ],
   "source": [
    "resWeath['WetBulb']=resWeath['WetBulb'].astype(int) ## now type int, no missing values. good to go.\n",
    "resWeath['WetBulb'].describe()"
   ]
  },
  {
   "cell_type": "markdown",
   "metadata": {},
   "source": [
    "Heat"
   ]
  },
  {
   "cell_type": "code",
   "execution_count": 1043,
   "metadata": {},
   "outputs": [
    {
     "data": {
      "text/plain": [
       "count    10506.000000\n",
       "mean         0.850466\n",
       "std          2.640404\n",
       "min          0.000000\n",
       "25%          0.000000\n",
       "50%          0.000000\n",
       "75%          0.000000\n",
       "max         15.000000\n",
       "Name: Heat, dtype: float64"
      ]
     },
     "execution_count": 1043,
     "metadata": {},
     "output_type": "execute_result"
    }
   ],
   "source": [
    "resWeath['Heat']=resWeath['Heat'].astype(int)\n",
    "resWeath['Heat'].describe() # now type int, no missing values. good to go."
   ]
  },
  {
   "cell_type": "markdown",
   "metadata": {},
   "source": [
    "Cool"
   ]
  },
  {
   "cell_type": "code",
   "execution_count": 1054,
   "metadata": {},
   "outputs": [
    {
     "data": {
      "text/plain": [
       "count    10506.000000\n",
       "mean         9.133162\n",
       "std          5.791973\n",
       "min          0.000000\n",
       "25%          5.000000\n",
       "50%         10.000000\n",
       "75%         14.000000\n",
       "max         22.000000\n",
       "Name: Cool, dtype: float64"
      ]
     },
     "execution_count": 1054,
     "metadata": {},
     "output_type": "execute_result"
    }
   ],
   "source": [
    "resWeath['Cool']=resWeath['Cool'].astype(int)\n",
    "resWeath['Cool'].describe() # now type int, no missing values. good to go."
   ]
  },
  {
   "cell_type": "code",
   "execution_count": 1062,
   "metadata": {},
   "outputs": [],
   "source": [
    "resWeath['Sunrise'].value_counts()[0:3] # mostly empty, let's drop the column\n",
    "resWeath['Sunset'].value_counts()[0:3] # mostly empty, let's drop the column"
   ]
  },
  {
   "cell_type": "code",
   "execution_count": 1059,
   "metadata": {
    "collapsed": true
   },
   "outputs": [],
   "source": [
    "resWeath.drop(['Sunrise','Sunset'],1,inplace=True)"
   ]
  },
  {
   "cell_type": "markdown",
   "metadata": {},
   "source": [
    "CodeSum"
   ]
  },
  {
   "cell_type": "code",
   "execution_count": 1112,
   "metadata": {},
   "outputs": [
    {
     "data": {
      "text/plain": [
       "                 6001\n",
       "RA                666\n",
       "RA BR             524\n",
       "TS TSRA RA BR     463\n",
       "Name: CodeSum, dtype: int64"
      ]
     },
     "execution_count": 1112,
     "metadata": {},
     "output_type": "execute_result"
    }
   ],
   "source": [
    "# All codes Depict stormy \"bad\" weather. let's split the column to normal (i.e. missing ' ') and bad.\n",
    "# assumption - thunderstorm is wet weather. although in reality , it could be dry weather as well. nevertheless chose to categorize it as bad.\n",
    "codes=resWeath['CodeSum'].value_counts()\n",
    "codes[0:4]"
   ]
  },
  {
   "cell_type": "code",
   "execution_count": 1099,
   "metadata": {},
   "outputs": [
    {
     "data": {
      "text/plain": [
       "' '"
      ]
     },
     "execution_count": 1099,
     "metadata": {},
     "output_type": "execute_result"
    }
   ],
   "source": [
    "resWeath['CodeSum'][resWeath['CodeSum']==' '][1]"
   ]
  },
  {
   "cell_type": "code",
   "execution_count": 1106,
   "metadata": {},
   "outputs": [
    {
     "data": {
      "text/plain": [
       "0     \n",
       "1     \n",
       "5     \n",
       "Name: CodeSum, dtype: object"
      ]
     },
     "execution_count": 1106,
     "metadata": {},
     "output_type": "execute_result"
    }
   ],
   "source": [
    "resWeath['CodeSum'][resWeath['CodeSum']==' '][0:3]"
   ]
  },
  {
   "cell_type": "markdown",
   "metadata": {},
   "source": [
    "function for categorizing codes to 2 groups"
   ]
  },
  {
   "cell_type": "code",
   "execution_count": 1107,
   "metadata": {},
   "outputs": [
    {
     "data": {
      "text/plain": [
       "'Norm'"
      ]
     },
     "execution_count": 1107,
     "metadata": {},
     "output_type": "execute_result"
    }
   ],
   "source": [
    "def codes(col):\n",
    "    if col==' ':\n",
    "        col='Norm'\n",
    "    else:\n",
    "        col='Bad'\n",
    "    return(col)\n",
    "codes(' ')"
   ]
  },
  {
   "cell_type": "code",
   "execution_count": 1108,
   "metadata": {
    "collapsed": true
   },
   "outputs": [],
   "source": [
    "resWeath['weather_type']=resWeath.apply(lambda x: codes(x['CodeSum']), axis=1)"
   ]
  },
  {
   "cell_type": "code",
   "execution_count": 1113,
   "metadata": {},
   "outputs": [
    {
     "data": {
      "text/plain": [
       "Norm    6001\n",
       "Bad     4505\n",
       "Name: weather_type, dtype: int64"
      ]
     },
     "execution_count": 1113,
     "metadata": {},
     "output_type": "execute_result"
    }
   ],
   "source": [
    "resWeath['weather_type'].value_counts()"
   ]
  },
  {
   "cell_type": "code",
   "execution_count": 1114,
   "metadata": {
    "collapsed": true
   },
   "outputs": [],
   "source": [
    "resWeath=pd.get_dummies(resWeath,columns=['weather_type'],drop_first=True)"
   ]
  },
  {
   "cell_type": "code",
   "execution_count": 1120,
   "metadata": {},
   "outputs": [
    {
     "data": {
      "text/plain": [
       "1    6001\n",
       "0    4505\n",
       "Name: weather_type_Norm, dtype: int64"
      ]
     },
     "execution_count": 1120,
     "metadata": {},
     "output_type": "execute_result"
    }
   ],
   "source": [
    "resWeath.weather_type_Norm.value_counts()"
   ]
  },
  {
   "cell_type": "code",
   "execution_count": 1124,
   "metadata": {},
   "outputs": [],
   "source": [
    "resWeath.drop(['Water1','SnowFall'],1,inplace=True) ## see summary, mostly missing values"
   ]
  },
  {
   "cell_type": "markdown",
   "metadata": {},
   "source": [
    "PrecipTotal"
   ]
  },
  {
   "cell_type": "markdown",
   "metadata": {},
   "source": [
    "convert T (trace) to 0.005 (look at summary):"
   ]
  },
  {
   "cell_type": "code",
   "execution_count": 1150,
   "metadata": {},
   "outputs": [],
   "source": [
    "resWeath['PrecipTotal']=resWeath['PrecipTotal'].apply(lambda x: 0.005 if x=='  T' else x)"
   ]
  },
  {
   "cell_type": "code",
   "execution_count": 1155,
   "metadata": {},
   "outputs": [
    {
     "data": {
      "text/plain": [
       "(839, 35)"
      ]
     },
     "execution_count": 1155,
     "metadata": {},
     "output_type": "execute_result"
    }
   ],
   "source": [
    "sum(resWeath['PrecipTotal']==0.005), sum(resWeath['PrecipTotal']=='M')"
   ]
  },
  {
   "cell_type": "code",
   "execution_count": 1175,
   "metadata": {},
   "outputs": [],
   "source": [
    "#convert 'M' to mode \n",
    "import statistics as st\n",
    "mode=st.mode(resWeath['PrecipTotal']) # mode is '0'\n",
    "resWeath['PrecipTotal']=resWeath['PrecipTotal'].apply(lambda x: mode if x=='M' else x)"
   ]
  },
  {
   "cell_type": "code",
   "execution_count": 1180,
   "metadata": {},
   "outputs": [],
   "source": [
    "resWeath['PrecipTotal']=resWeath['PrecipTotal'].astype(float) # converting to type float.\n",
    "type(resWeath['PrecipTotal'][0])    # good to go"
   ]
  },
  {
   "cell_type": "markdown",
   "metadata": {},
   "source": [
    "Depth"
   ]
  },
  {
   "cell_type": "code",
   "execution_count": 1184,
   "metadata": {},
   "outputs": [],
   "source": [
    "resWeath.drop('Depth',inplace=True,axis=1) # drop, mostly 'M' rest 0 (see summary)"
   ]
  },
  {
   "cell_type": "markdown",
   "metadata": {},
   "source": [
    "StnPressure, SeaLevel"
   ]
  },
  {
   "cell_type": "code",
   "execution_count": 1203,
   "metadata": {},
   "outputs": [
    {
     "data": {
      "text/plain": [
       "0"
      ]
     },
     "execution_count": 1203,
     "metadata": {},
     "output_type": "execute_result"
    }
   ],
   "source": [
    "sum(resWeath['StnPressure']=='M')"
   ]
  },
  {
   "cell_type": "code",
   "execution_count": 1202,
   "metadata": {},
   "outputs": [
    {
     "data": {
      "text/plain": [
       "29.34    1322\n",
       "29.18     526\n",
       "Name: StnPressure, dtype: int64"
      ]
     },
     "execution_count": 1202,
     "metadata": {},
     "output_type": "execute_result"
    }
   ],
   "source": [
    "moud=st.mode(resWeath['StnPressure'])\n",
    "resWeath['StnPressure']=resWeath['StnPressure'].apply(lambda x: moud if x=='M' else x)\n",
    "resWeath['StnPressure'].value_counts()[:2]"
   ]
  },
  {
   "cell_type": "code",
   "execution_count": 1208,
   "metadata": {},
   "outputs": [
    {
     "data": {
      "text/plain": [
       "numpy.float64"
      ]
     },
     "execution_count": 1208,
     "metadata": {},
     "output_type": "execute_result"
    }
   ],
   "source": [
    "resWeath['StnPressure']=resWeath['StnPressure'].astype(float)\n",
    "resWeath['StnPressure'].describe() \n",
    "type(resWeath['StnPressure'][0])### good to go "
   ]
  },
  {
   "cell_type": "code",
   "execution_count": 1209,
   "metadata": {},
   "outputs": [
    {
     "data": {
      "text/plain": [
       "numpy.float64"
      ]
     },
     "execution_count": 1209,
     "metadata": {},
     "output_type": "execute_result"
    }
   ],
   "source": [
    "resWeath['SeaLevel']=resWeath['SeaLevel'].astype(float)\n",
    "resWeath['SeaLevel'].describe()\n",
    "type(resWeath['StnPressure'][0]) ## good to go "
   ]
  },
  {
   "cell_type": "markdown",
   "metadata": {},
   "source": [
    "'ResultSpeed', 'ResultDir', 'AvgSpeed'"
   ]
  },
  {
   "cell_type": "code",
   "execution_count": 1219,
   "metadata": {},
   "outputs": [
    {
     "data": {
      "text/plain": [
       "count    10506.000000\n",
       "mean         7.459290\n",
       "std          2.516721\n",
       "min          2.100000\n",
       "25%          5.800000\n",
       "50%          7.100000\n",
       "75%          9.200000\n",
       "max         16.300000\n",
       "Name: AvgSpeed, dtype: float64"
      ]
     },
     "execution_count": 1219,
     "metadata": {},
     "output_type": "execute_result"
    }
   ],
   "source": [
    "## 'ResultSpeed', 'ResultDir' are good to go (floats no missing value)\n",
    "resWeath['AvgSpeed']=resWeath['AvgSpeed'].astype(float) # turn to float\n",
    "resWeath['AvgSpeed'].describe() ## good to go"
   ]
  },
  {
   "cell_type": "markdown",
   "metadata": {},
   "source": [
    "date of colletion"
   ]
  },
  {
   "cell_type": "markdown",
   "metadata": {},
   "source": [
    "let's split the date to day of the month, day of the week, month, year\n",
    "the strongest effect would probably be the month (where the hottest months will have highest frequency of WNV), and maybe recent years have been hotter, maybe traps collected on Monday have more mosquitos in them? etc.."
   ]
  },
  {
   "cell_type": "code",
   "execution_count": 1256,
   "metadata": {},
   "outputs": [
    {
     "data": {
      "text/plain": [
       "(1, 9, 2011, 3)"
      ]
     },
     "execution_count": 1256,
     "metadata": {},
     "output_type": "execute_result"
    }
   ],
   "source": [
    "t=resWeath['Date_of_collection'][100].to_pydatetime()\n",
    "t.day,t.month,t.year, t.weekday()"
   ]
  },
  {
   "cell_type": "code",
   "execution_count": 1270,
   "metadata": {},
   "outputs": [],
   "source": [
    "resWeath['Day_of_month']=resWeath['Date_of_collection'].apply(lambda x: x.to_pydatetime().day)"
   ]
  },
  {
   "cell_type": "code",
   "execution_count": 1263,
   "metadata": {
    "collapsed": true
   },
   "outputs": [],
   "source": [
    "resWeath['month']=resWeath['Date_of_collection'].apply(lambda x: x.to_pydatetime().month)"
   ]
  },
  {
   "cell_type": "code",
   "execution_count": 1265,
   "metadata": {
    "collapsed": true
   },
   "outputs": [],
   "source": [
    "resWeath['year']=resWeath['Date_of_collection'].apply(lambda x: x.to_pydatetime().year)"
   ]
  },
  {
   "cell_type": "code",
   "execution_count": 1267,
   "metadata": {
    "collapsed": true
   },
   "outputs": [],
   "source": [
    "resWeath['Day_of_week']=resWeath['Date_of_collection'].apply(lambda x: x.to_pydatetime().weekday())"
   ]
  },
  {
   "cell_type": "code",
   "execution_count": 1269,
   "metadata": {},
   "outputs": [
    {
     "data": {
      "text/plain": [
       "4    3764\n",
       "3    2576\n",
       "2    1795\n",
       "0    1315\n",
       "1    1056\n",
       "Name: Day_of_week, dtype: int64"
      ]
     },
     "execution_count": 1269,
     "metadata": {},
     "output_type": "execute_result"
    }
   ],
   "source": [
    "resWeath['Day_of_week'].value_counts() # confirming the distribution of the days"
   ]
  },
  {
   "cell_type": "markdown",
   "metadata": {},
   "source": [
    "Let's rearrange the columns (response at the end)"
   ]
  },
  {
   "cell_type": "code",
   "execution_count": 1311,
   "metadata": {
    "scrolled": true
   },
   "outputs": [
    {
     "data": {
      "text/plain": [
       "Index(['Longitude', 'Latitude', 'min', 'max', 'most_recent_spray (days)',\n",
       "       'Date_of_collection', 'Address', 'Block', 'Street', 'Trap',\n",
       "       'AddressNumberAndStreet', 'AddressAccuracy', 'NumMosquitos',\n",
       "       'Species_CULEX PIPIENS', 'Species_CULEX PIPIENS/RESTUANS',\n",
       "       'Species_CULEX RESTUANS', 'Species_CULEX SALINARIUS',\n",
       "       'Species_CULEX TARSALIS', 'Species_CULEX TERRITANS', 'Recently_sprayed',\n",
       "       'Station', 'Tmax', 'Tmin', 'Tavg', 'DewPoint', 'WetBulb', 'Heat',\n",
       "       'Cool', 'CodeSum', 'PrecipTotal', 'StnPressure', 'SeaLevel',\n",
       "       'ResultSpeed', 'ResultDir', 'AvgSpeed', 'weather_type_Norm',\n",
       "       'Day_of_month', 'month', 'year', 'Day_of_week', 'WnvPresent'],\n",
       "      dtype='object')"
      ]
     },
     "execution_count": 1311,
     "metadata": {},
     "output_type": "execute_result"
    }
   ],
   "source": [
    "colname=list(resWeath.columns)\n",
    "colname1=colname+['WnvPresent']\n",
    "colname2=colname[0:19]+colname1[20:]\n",
    "resWeath=resWeath[colname2]\n",
    "resWeath.columns"
   ]
  },
  {
   "cell_type": "markdown",
   "metadata": {},
   "source": [
    "### Features Ready"
   ]
  },
  {
   "cell_type": "markdown",
   "metadata": {},
   "source": [
    "Finally, let's drop unnecessary/impossible columns for analysis and create the features!"
   ]
  },
  {
   "cell_type": "code",
   "execution_count": 1279,
   "metadata": {
    "collapsed": true
   },
   "outputs": [],
   "source": [
    "features=resWeath.copy()"
   ]
  },
  {
   "cell_type": "code",
   "execution_count": 1314,
   "metadata": {},
   "outputs": [],
   "source": [
    "features.drop(['min','max','Date_of_collection','Address','Street','Trap','AddressNumberAndStreet','CodeSum'],axis=1,inplace=True)"
   ]
  },
  {
   "cell_type": "code",
   "execution_count": 1318,
   "metadata": {},
   "outputs": [
    {
     "data": {
      "text/plain": [
       "(41, 33)"
      ]
     },
     "execution_count": 1318,
     "metadata": {},
     "output_type": "execute_result"
    }
   ],
   "source": [
    "len(resWeath.columns),len(features.columns)"
   ]
  },
  {
   "cell_type": "markdown",
   "metadata": {},
   "source": [
    "let's save the resWeath df as csv so can get read it in when we please."
   ]
  },
  {
   "cell_type": "code",
   "execution_count": 1064,
   "metadata": {
    "collapsed": true
   },
   "outputs": [],
   "source": [
    "#rep path:\n",
    "repath=\"/Users/eran/Galvanize_more_repositories/WestNileVirus/\""
   ]
  },
  {
   "cell_type": "code",
   "execution_count": 1612,
   "metadata": {},
   "outputs": [],
   "source": [
    "if 1==0:\n",
    "    features3.to_csv(os.path.join(repath,'features3.csv'))\n",
    "## turn the statement to true in order to save the it the file again."
   ]
  },
  {
   "cell_type": "code",
   "execution_count": 1325,
   "metadata": {
    "collapsed": true
   },
   "outputs": [],
   "source": [
    "import seaborn as sns"
   ]
  },
  {
   "cell_type": "code",
   "execution_count": 1335,
   "metadata": {},
   "outputs": [
    {
     "data": {
      "text/plain": [
       "<matplotlib.axes._subplots.AxesSubplot at 0x1a37823cf8>"
      ]
     },
     "execution_count": 1335,
     "metadata": {},
     "output_type": "execute_result"
    },
    {
     "data": {
      "image/png": "[encoded data removed]",
      "text/plain": [
       "<matplotlib.figure.Figure at 0x1a36564e80>"
      ]
     },
     "metadata": {},
     "output_type": "display_data"
    }
   ],
   "source": [
    "sns.barplot('weather_type_Norm','NumMosquitos',data=features,hue='WnvPresent')"
   ]
  },
  {
   "cell_type": "code",
   "execution_count": 1638,
   "metadata": {},
   "outputs": [
    {
     "data": {
      "text/plain": [
       "<seaborn.axisgrid.FacetGrid at 0x1a3f967a20>"
      ]
     },
     "execution_count": 1638,
     "metadata": {},
     "output_type": "execute_result"
    },
    {
     "data": {
      "image/png": "[encoded data removed]",
      "text/plain": [
       "<matplotlib.figure.Figure at 0x1a3f967748>"
      ]
     },
     "metadata": {},
     "output_type": "display_data"
    }
   ],
   "source": [
    "sns.lmplot('Longitude','Latitude',data=features,hue='WnvPresent',fit_reg=False,markers=['o','+'])"
   ]
  },
  {
   "cell_type": "markdown",
   "metadata": {},
   "source": [
    "\"most recent spray (days)\" feature is really effecting the feature space (because of the majority of fabricated 3500 days). let's turn this column into 3 categories: recently sprayed (this season <180 days), sprayed 2 yrs ago, and never sprayed (=3650)."
   ]
  },
  {
   "cell_type": "code",
   "execution_count": 1536,
   "metadata": {},
   "outputs": [
    {
     "data": {
      "text/plain": [
       "(639, 750, 111)"
      ]
     },
     "execution_count": 1536,
     "metadata": {},
     "output_type": "execute_result"
    }
   ],
   "source": [
    "mid=features['most_recent_spray (days)'][(features['most_recent_spray (days)']<3650)&(features['most_recent_spray (days)']>180)]\n",
    "min(mid),max(mid),np.ptp(mid)"
   ]
  },
  {
   "cell_type": "code",
   "execution_count": 1538,
   "metadata": {},
   "outputs": [
    {
     "data": {
      "text/plain": [
       "(1.7506849315068493, 2.0547945205479454)"
      ]
     },
     "execution_count": 1538,
     "metadata": {},
     "output_type": "execute_result"
    }
   ],
   "source": [
    "min(mid)/365,max(mid)/365  ## ~ 2 years "
   ]
  },
  {
   "cell_type": "code",
   "execution_count": 1537,
   "metadata": {
    "collapsed": true
   },
   "outputs": [],
   "source": [
    "features2=features.copy()"
   ]
  },
  {
   "cell_type": "code",
   "execution_count": 1548,
   "metadata": {
    "collapsed": true
   },
   "outputs": [],
   "source": [
    "features2['sprayed_2_yrs_ago']=features2['most_recent_spray (days)'].apply(lambda x: 1 if sum(x==mid)>0 else 0)"
   ]
  },
  {
   "cell_type": "code",
   "execution_count": 1555,
   "metadata": {
    "collapsed": true
   },
   "outputs": [],
   "source": [
    "features2['never_sprayed']=features2['most_recent_spray (days)'].apply(lambda x: 1 if x>3640 else 0)"
   ]
  },
  {
   "cell_type": "code",
   "execution_count": 1555,
   "metadata": {
    "collapsed": true
   },
   "outputs": [],
   "source": [
    "features2['never_sprayed']=features2['most_recent_spray (days)'].apply(lambda x: 1 if x>3640 else 0)"
   ]
  },
  {
   "cell_type": "code",
   "execution_count": 1596,
   "metadata": {
    "collapsed": true
   },
   "outputs": [],
   "source": [
    "fcols=list(features2.columns)\n",
    "fcols[-1]\n",
    "fcols1=fcols[:12]+[fcols[-2]]+[fcols[-1]]+fcols[13:-2]+[fcols[12]]"
   ]
  },
  {
   "cell_type": "code",
   "execution_count": 1599,
   "metadata": {
    "collapsed": true
   },
   "outputs": [],
   "source": [
    "features3=features2[fcols1]"
   ]
  },
  {
   "cell_type": "code",
   "execution_count": 1608,
   "metadata": {
    "collapsed": true
   },
   "outputs": [],
   "source": [
    "features3['year']=features3['year']-min(features3.year)+1"
   ]
  },
  {
   "cell_type": "code",
   "execution_count": 1609,
   "metadata": {},
   "outputs": [
    {
     "data": {
      "text/plain": [
       "1    3811\n",
       "7    2392\n",
       "3    2249\n",
       "5    2054\n",
       "Name: year, dtype: int64"
      ]
     },
     "execution_count": 1609,
     "metadata": {},
     "output_type": "execute_result"
    }
   ],
   "source": [
    "features3['year'].value_counts()"
   ]
  },
  {
   "cell_type": "code",
   "execution_count": 1610,
   "metadata": {
    "collapsed": true
   },
   "outputs": [],
   "source": [
    "features3.drop(['most_recent_spray (days)'],axis=1,inplace=True)"
   ]
  },
  {
   "cell_type": "code",
   "execution_count": 1612,
   "metadata": {
    "collapsed": true
   },
   "outputs": [],
   "source": [
    "if 1==0:\n",
    "    features3.to_csv(os.path.join(repath,'features3.csv'))\n",
    "## turn the statement to true in order to save the it the file again."
   ]
  },
  {
   "cell_type": "markdown",
   "metadata": {},
   "source": [
    "# # #"
   ]
  },
  {
   "cell_type": "markdown",
   "metadata": {},
   "source": [
    "### Baseline Modelling \n",
    "Baseline modeling (KNN) (after feature engineering and before oversampling, model selection and tweaking of hyperparameters "
   ]
  },
  {
   "cell_type": "code",
   "execution_count": 1613,
   "metadata": {},
   "outputs": [],
   "source": [
    "Xtrain,Xtest,ytrain,ytest=train_test_split(features3.drop('WnvPresent',1),features3['WnvPresent'],test_size=0.2,random_state=42,stratify=features['WnvPresent'])"
   ]
  },
  {
   "cell_type": "code",
   "execution_count": 1614,
   "metadata": {},
   "outputs": [
    {
     "name": "stdout",
     "output_type": "stream",
     "text": [
      "[[1971   21]\n",
      " [ 103    7]]\n",
      "             precision    recall  f1-score   support\n",
      "\n",
      "   No Virus       0.95      0.99      0.97      1992\n",
      "      Virus       0.25      0.06      0.10       110\n",
      "\n",
      "avg / total       0.91      0.94      0.92      2102\n",
      "\n"
     ]
    }
   ],
   "source": [
    "clf=KNeighborsClassifier(n_neighbors=5)\n",
    "clf.fit(Xtrain,ytrain)\n",
    "ypred=clf.predict(Xtest)\n",
    "print(confusion_matrix(ytest,ypred))\n",
    "print(classification_report(ytest,ypred,target_names=target_names))"
   ]
  },
  {
   "cell_type": "markdown",
   "metadata": {},
   "source": [
    "### Dimentionality reduction with (2D) for visualization purposes"
   ]
  },
  {
   "cell_type": "code",
   "execution_count": 1491,
   "metadata": {
    "collapsed": true
   },
   "outputs": [],
   "source": [
    "from sklearn.decomposition import PCA"
   ]
  },
  {
   "cell_type": "code",
   "execution_count": 1615,
   "metadata": {
    "collapsed": true
   },
   "outputs": [],
   "source": [
    "pca=PCA(n_components=2)\n",
    "pcaX=pca.fit_transform(features3.drop('WnvPresent',1))\n",
    "pcay=features3['WnvPresent']"
   ]
  },
  {
   "cell_type": "code",
   "execution_count": 1616,
   "metadata": {},
   "outputs": [
    {
     "data": {
      "text/plain": [
       "((10506,), (10506, 2))"
      ]
     },
     "execution_count": 1616,
     "metadata": {},
     "output_type": "execute_result"
    }
   ],
   "source": [
    "pcay.shape,pcaX.shape"
   ]
  },
  {
   "cell_type": "code",
   "execution_count": 1617,
   "metadata": {},
   "outputs": [
    {
     "data": {
      "text/plain": [
       "Index(['x0', 'x1', 'pcay'], dtype='object')"
      ]
     },
     "execution_count": 1617,
     "metadata": {},
     "output_type": "execute_result"
    }
   ],
   "source": [
    "pcaXdf.columns"
   ]
  },
  {
   "cell_type": "code",
   "execution_count": 1620,
   "metadata": {},
   "outputs": [
    {
     "name": "stdout",
     "output_type": "stream",
     "text": [
      "<class 'pandas.core.frame.DataFrame'>\n",
      "RangeIndex: 10506 entries, 0 to 10505\n",
      "Data columns (total 3 columns):\n",
      "x0             10506 non-null float64\n",
      "x1             10506 non-null float64\n",
      "WNV_present    10506 non-null int64\n",
      "dtypes: float64(2), int64(1)\n",
      "memory usage: 246.3 KB\n"
     ]
    }
   ],
   "source": [
    "pcaXdf=pd.DataFrame(pcaX)\n",
    "pcaXdf['pcay']=pcay\n",
    "pcaXdf.rename(columns={0:'x0',1:'x1','pcay':'WNV_present'},inplace=True)\n",
    "pcaXdf.info()"
   ]
  },
  {
   "cell_type": "code",
   "execution_count": 1649,
   "metadata": {},
   "outputs": [
    {
     "data": {
      "text/plain": [
       "Text(0.5,1,'PCA (2 components)')"
      ]
     },
     "execution_count": 1649,
     "metadata": {},
     "output_type": "execute_result"
    },
    {
     "data": {
      "text/plain": [
       "<matplotlib.figure.Figure at 0x1a438d9160>"
      ]
     },
     "metadata": {},
     "output_type": "display_data"
    },
    {
     "data": {
      "image/png": "[encoded data removed]",
      "text/plain": [
       "<matplotlib.figure.Figure at 0x1a438daeb8>"
      ]
     },
     "metadata": {},
     "output_type": "display_data"
    }
   ],
   "source": [
    "#dimm=(16,8)\n",
    "#fig = plt.gcf()\n",
    "#fig.set_size_inches(16,6)\n",
    "#plt.subplots(figsize=dimm)\n",
    "sns.lmplot('x0','x1',data=pcaXdf,hue='WNV_present',fit_reg=False,markers=['o','+'])\n",
    "plt.title('PCA (2 components)')"
   ]
  },
  {
   "cell_type": "markdown",
   "metadata": {},
   "source": [
    "We could see that there is a strong cluster at top left of the 2D space, this should be taken with a pintch of salt as the graph is only for visualization purposes."
   ]
  },
  {
   "cell_type": "markdown",
   "metadata": {},
   "source": [
    "### Dealling with the imbalnced data set"
   ]
  },
  {
   "cell_type": "markdown",
   "metadata": {},
   "source": [
    "# # # #"
   ]
  },
  {
   "cell_type": "markdown",
   "metadata": {},
   "source": [
    "##### let's try SMOTE"
   ]
  },
  {
   "cell_type": "code",
   "execution_count": 1353,
   "metadata": {
    "collapsed": true
   },
   "outputs": [],
   "source": [
    "from imblearn.over_sampling import SMOTE"
   ]
  },
  {
   "cell_type": "code",
   "execution_count": 1650,
   "metadata": {},
   "outputs": [
    {
     "data": {
      "text/plain": [
       "0    7963\n",
       "1     441\n",
       "Name: WnvPresent, dtype: int64"
      ]
     },
     "execution_count": 1650,
     "metadata": {},
     "output_type": "execute_result"
    }
   ],
   "source": [
    "ytrain.value_counts()"
   ]
  },
  {
   "cell_type": "code",
   "execution_count": 1655,
   "metadata": {},
   "outputs": [],
   "source": [
    "smt=SMOTE(random_state=42)\n",
    "smtXtrain,smtytrain=smt.fit_sample(Xtrain,ytrain)"
   ]
  },
  {
   "cell_type": "code",
   "execution_count": 1656,
   "metadata": {},
   "outputs": [
    {
     "data": {
      "text/plain": [
       "array([7963, 7963])"
      ]
     },
     "execution_count": 1656,
     "metadata": {},
     "output_type": "execute_result"
    }
   ],
   "source": [
    "np.bincount(smtytrain)"
   ]
  },
  {
   "cell_type": "markdown",
   "metadata": {},
   "source": [
    "##### K neighbors"
   ]
  },
  {
   "cell_type": "code",
   "execution_count": 1657,
   "metadata": {
    "collapsed": true
   },
   "outputs": [],
   "source": [
    "knnsmt=KNeighborsClassifier(n_neighbors=5)\n",
    "knnsmt.fit(smtXtrain,smtytrain)\n",
    "smtypred=knnsmt.predict(Xtest)"
   ]
  },
  {
   "cell_type": "code",
   "execution_count": 1392,
   "metadata": {
    "collapsed": true
   },
   "outputs": [],
   "source": [
    "from sklearn.metrics import recall_score\n",
    "from sklearn.metrics import precision_score"
   ]
  },
  {
   "cell_type": "code",
   "execution_count": 1667,
   "metadata": {},
   "outputs": [
    {
     "name": "stdout",
     "output_type": "stream",
     "text": [
      "______________\n",
      "\n",
      "KNearest (k=5)\n",
      "______________\n",
      "[[1746   56]\n",
      " [ 246   54]]\n",
      "accuracy:\n",
      "0.856327307326\n",
      "recall:\n",
      "0.18\n",
      "precision:\n",
      "0.490909090909\n"
     ]
    }
   ],
   "source": [
    "#print(classification_report(smtypred,ytest,target_names=target_names))\n",
    "print('______________')\n",
    "print('')\n",
    "print('KNearest (k=5)')\n",
    "print('______________')\n",
    "print(confusion_matrix(smtypred,ytest))\n",
    "print(\"accuracy:\")\n",
    "print(accuracy_score(smtypred,ytest))\n",
    "print(\"recall:\")\n",
    "print(recall_score(smtypred,ytest))\n",
    "print(\"precision:\")\n",
    "print(precision_score(smtypred,ytest))"
   ]
  },
  {
   "cell_type": "code",
   "execution_count": 1668,
   "metadata": {},
   "outputs": [],
   "source": [
    "recscore=[]\n",
    "accurscore=[]\n",
    "prescore=[]\n",
    "k=list(range(1,25))\n",
    "for i in k:\n",
    "    knnn=KNeighborsClassifier(n_neighbors=i)\n",
    "    knnn.fit(smtXtrain,smtytrain)\n",
    "    yypred=knnn.predict(Xtest)\n",
    "    prescore.append(precision_score(yypred,ytest))\n",
    "    recscore.append(recall_score(yypred,ytest))\n",
    "    accurscore.append(accuracy_score(yypred,ytest))"
   ]
  },
  {
   "cell_type": "code",
   "execution_count": 1669,
   "metadata": {},
   "outputs": [
    {
     "data": {
      "text/plain": [
       "Text(0,0.5,'precision')"
      ]
     },
     "execution_count": 1669,
     "metadata": {},
     "output_type": "execute_result"
    },
    {
     "data": {
      "image/png": "[encoded data removed]",
      "text/plain": [
       "<matplotlib.figure.Figure at 0x1a43a2d630>"
      ]
     },
     "metadata": {},
     "output_type": "display_data"
    }
   ],
   "source": [
    "plt.subplots(figsize=(14,3))\n",
    "plt.subplot(1,3,1)\n",
    "plt.plot(k,accurscore)\n",
    "plt.xlabel('K neighbors')\n",
    "plt.ylabel('accuracy')\n",
    "plt.subplot(1,3,2)\n",
    "plt.plot(k,recscore)\n",
    "plt.xlabel('K neighbors')\n",
    "plt.ylabel('recall')\n",
    "plt.subplot(1,3,3)\n",
    "plt.plot(k,prescore)\n",
    "plt.xlabel('K neighbors')\n",
    "plt.ylabel('precision')"
   ]
  },
  {
   "cell_type": "markdown",
   "metadata": {},
   "source": [
    "##### Logistic Regression "
   ]
  },
  {
   "cell_type": "code",
   "execution_count": 1670,
   "metadata": {},
   "outputs": [
    {
     "name": "stdout",
     "output_type": "stream",
     "text": [
      "______________\n",
      "\n",
      "Logistic Regression\n",
      "______________\n",
      "[[1488   24]\n",
      " [ 504   86]]\n",
      "accuracy: 0.748810656518\n",
      "recall: 0.145762711864\n",
      "precision: 0.781818181818\n"
     ]
    }
   ],
   "source": [
    "print('______________')\n",
    "print('')\n",
    "print('Logistic Regression')\n",
    "print('______________')\n",
    "clflog=LogisticRegression(random_state=42)\n",
    "clflog.fit(smtXtrain,smtytrain)\n",
    "predlog=clflog.predict(Xtest)\n",
    "print(confusion_matrix(predlog,ytest))\n",
    "print('accuracy:',accuracy_score(predlog,ytest))\n",
    "print('recall:',recall_score(predlog,ytest))\n",
    "print('precision:',precision_score(predlog,ytest))"
   ]
  },
  {
   "cell_type": "markdown",
   "metadata": {},
   "source": [
    "##### Random Forest Classifier"
   ]
  },
  {
   "cell_type": "code",
   "execution_count": 1677,
   "metadata": {},
   "outputs": [],
   "source": [
    "from sklearn.ensemble import RandomForestClassifier\n",
    "rfclf=RandomForestClassifier(n_estimators=500,max_depth=2,random_state=42,max_features=8)\n",
    "rfclf.fit(smtXtrain,smtytrain)\n",
    "rfpred=rfclf.predict(Xtest)"
   ]
  },
  {
   "cell_type": "code",
   "execution_count": 1678,
   "metadata": {},
   "outputs": [
    {
     "name": "stdout",
     "output_type": "stream",
     "text": [
      "________________________\n",
      "\n",
      "Random Forest Classifier\n",
      "________________________\n",
      "[[1591   31]\n",
      " [ 401   79]]\n",
      "accuracy: 0.794481446242\n",
      "recall: 0.164583333333\n",
      "precision: 0.718181818182\n"
     ]
    }
   ],
   "source": [
    "print('________________________')\n",
    "print('')\n",
    "print('Random Forest Classifier')\n",
    "print('________________________')\n",
    "print(confusion_matrix(rfpred,ytest))\n",
    "print('accuracy:',accuracy_score(rfpred,ytest))\n",
    "print('recall:',recall_score(rfpred,ytest))\n",
    "print('precision:',precision_score(rfpred,ytest))"
   ]
  },
  {
   "cell_type": "code",
   "execution_count": 1460,
   "metadata": {
    "collapsed": true
   },
   "outputs": [],
   "source": [
    "from sklearn.metrics import roc_curve \n",
    "from sklearn.metrics import roc_auc_score\n",
    "from sklearn.metrics import precision_recall_curve\n",
    "from sklearn.metrics import auc"
   ]
  },
  {
   "cell_type": "code",
   "execution_count": 1679,
   "metadata": {},
   "outputs": [],
   "source": [
    "rfproba=rfclf.predict_proba(Xtest)\n",
    "fpr, tpr, thresholds = roc_curve(ytest, rfproba[:,1])"
   ]
  },
  {
   "cell_type": "code",
   "execution_count": 1680,
   "metadata": {
    "collapsed": true
   },
   "outputs": [],
   "source": [
    "precision, recall, threshol=precision_recall_curve(ytest, rfproba[:,1])"
   ]
  },
  {
   "cell_type": "code",
   "execution_count": 1681,
   "metadata": {},
   "outputs": [
    {
     "data": {
      "text/plain": [
       "((1015,),\n",
       " 0.46533120813145484,\n",
       " 0.7175855394524413,\n",
       " 0.25225433132098646,\n",
       " 0.41428596427885317)"
      ]
     },
     "execution_count": 1681,
     "metadata": {},
     "output_type": "execute_result"
    }
   ],
   "source": [
    "threshol.shape,np.ptp(threshol), max(threshol), min(threshol), np.mean(threshol)"
   ]
  },
  {
   "cell_type": "code",
   "execution_count": 1682,
   "metadata": {},
   "outputs": [
    {
     "name": "stdout",
     "output_type": "stream",
     "text": [
      "auc: 0.819817907996\n"
     ]
    },
    {
     "data": {
      "image/png": "[encoded data removed]",
      "text/plain": [
       "<matplotlib.figure.Figure at 0x1a439f1ef0>"
      ]
     },
     "metadata": {},
     "output_type": "display_data"
    }
   ],
   "source": [
    "xx=np.linspace(0,1,1000)\n",
    "yy=xx\n",
    "plt.plot(xx,yy,'--')\n",
    "plt.plot(fpr,tpr)\n",
    "plt.xlabel('False Positive Rate')\n",
    "plt.ylabel('True Positive Rate')\n",
    "print(\"auc:\",roc_auc_score(ytest, rfproba[:,1]))"
   ]
  },
  {
   "cell_type": "markdown",
   "metadata": {},
   "source": [
    "True Positive Rate = Recall = TP/(TP+FN) = 0.15\n",
    "\n",
    "precision=TP/(TP+FP)=0.74"
   ]
  },
  {
   "cell_type": "code",
   "execution_count": 1683,
   "metadata": {},
   "outputs": [
    {
     "data": {
      "text/plain": [
       "Text(0,0.5,'precision')"
      ]
     },
     "execution_count": 1683,
     "metadata": {},
     "output_type": "execute_result"
    },
    {
     "data": {
      "image/png": "[encoded data removed]",
      "text/plain": [
       "<matplotlib.figure.Figure at 0x1a3fafa240>"
      ]
     },
     "metadata": {},
     "output_type": "display_data"
    }
   ],
   "source": [
    "plt.plot([0,1],[0.01,0.01],'--')\n",
    "plt.plot(recall,precision,color='orange')\n",
    "plt.xlabel('recall')\n",
    "plt.ylabel('precision')"
   ]
  },
  {
   "cell_type": "markdown",
   "metadata": {},
   "source": [
    "### Grid Search\n",
    "Random Forest Classifier seems to be better than Logistic Regression and K nearest neighbors. moreover, there are many hyper parameters that could be tuned to increase its perfomance.\n",
    "\n",
    "Let's tune parametrs of the RF classifier towards higher recall. even on the expense of lowering precision (which is currently relatively high)"
   ]
  },
  {
   "cell_type": "code",
   "execution_count": 1485,
   "metadata": {
    "collapsed": true
   },
   "outputs": [],
   "source": [
    "from sklearn.metrics import make_scorer\n",
    "from sklearn.model_selection import GridSearchCV,StratifiedKFold"
   ]
  },
  {
   "cell_type": "code",
   "execution_count": 1708,
   "metadata": {},
   "outputs": [
    {
     "data": {
      "text/plain": [
       "RandomForestClassifier(bootstrap=True, class_weight=None, criterion='gini',\n",
       "            max_depth=None, max_features='auto', max_leaf_nodes=None,\n",
       "            min_impurity_decrease=0.0, min_impurity_split=None,\n",
       "            min_samples_leaf=1, min_samples_split=2,\n",
       "            min_weight_fraction_leaf=0.0, n_estimators=10, n_jobs=1,\n",
       "            oob_score=False, random_state=42, verbose=0, warm_start=False)"
      ]
     },
     "execution_count": 1708,
     "metadata": {},
     "output_type": "execute_result"
    }
   ],
   "source": [
    "rfclf2=RandomForestClassifier(random_state=42)\n",
    "rfclf2"
   ]
  },
  {
   "cell_type": "raw",
   "metadata": {},
   "source": [
    "let's prepare sections to optimize: hyper-parameters of the RF classifier, and according to the metrics we want (i.e. scores, e.g. we want to maximize recall)"
   ]
  },
  {
   "cell_type": "code",
   "execution_count": 1704,
   "metadata": {
    "collapsed": true
   },
   "outputs": [],
   "source": [
    "paramgrid={'max_depth':[1,2,3],'max_features':[3,4,10,18],'min_samples_split':[2,3,8],'n_estimators':[200,300,500]}\n",
    "scorers={'accuracy_score':make_scorer(accuracy_score),'precision_score':make_scorer(precision_score),'recall_score':make_scorer(recall_score)}"
   ]
  },
  {
   "cell_type": "code",
   "execution_count": 1716,
   "metadata": {
    "collapsed": true
   },
   "outputs": [],
   "source": [
    "from sklearn.externals.joblib import parallel_backend"
   ]
  },
  {
   "cell_type": "code",
   "execution_count": 1717,
   "metadata": {
    "collapsed": true
   },
   "outputs": [],
   "source": [
    "def grid_func(the_score):\n",
    "    \n",
    "    #optimize hyper parametrs using grid search according to one of the scores that is input\n",
    "    skf=StratifiedKFold(n_splits=5) ## stratifying the crossvalidation and choosing the number of splits=10\n",
    "    GS=GridSearchCV(rfclf2,param_grid=paramgrid,scoring=scorers,refit=the_score,cv=skf,return_train_score='True')\n",
    "    \n",
    "    with parallel_backend('threading'):\n",
    "        GS.fit(smtXtrain,smtytrain)\n",
    "    \n",
    "    prediction=GS.predict(Xtest)\n",
    "    \n",
    "    print('best params for {}'.format(the_score))\n",
    "    print(GS.best_params_)\n",
    "    \n",
    "    print('confusion matrix adjusted for max {}'.format(the_score))\n",
    "    print(confusion_matrix(prediction,ytest))\n",
    "    \n",
    "    return(GS)\n",
    "    "
   ]
  },
  {
   "cell_type": "code",
   "execution_count": 1718,
   "metadata": {},
   "outputs": [
    {
     "ename": "JoblibIndexError",
     "evalue": "JoblibIndexError\n___________________________________________________________________________\nMultiprocessing exception:\n...........................................................................\n/Users/eran/anaconda3/lib/python3.6/runpy.py in _run_module_as_main(mod_name='ipykernel_launcher', alter_argv=1)\n    188         sys.exit(msg)\n    189     main_globals = sys.modules[\"__main__\"].__dict__\n    190     if alter_argv:\n    191         sys.argv[0] = mod_spec.origin\n    192     return _run_code(code, main_globals, None,\n--> 193                      \"__main__\", mod_spec)\n        mod_spec = ModuleSpec(name='ipykernel_launcher', loader=<_f...b/python3.6/site-packages/ipykernel_launcher.py')\n    194 \n    195 def run_module(mod_name, init_globals=None,\n    196                run_name=None, alter_sys=False):\n    197     \"\"\"Execute a module's code without importing it\n\n...........................................................................\n/Users/eran/anaconda3/lib/python3.6/runpy.py in _run_code(code=<code object <module> at 0x107568930, file \"/Use...3.6/site-packages/ipykernel_launcher.py\", line 5>, run_globals={'__annotations__': {}, '__builtins__': <module 'builtins' (built-in)>, '__cached__': '/Users/eran/anaconda3/lib/python3.6/site-packages/__pycache__/ipykernel_launcher.cpython-36.pyc', '__doc__': 'Entry point for launching an IPython kernel.\\n\\nTh...orts until\\nafter removing the cwd from sys.path.\\n', '__file__': '/Users/eran/anaconda3/lib/python3.6/site-packages/ipykernel_launcher.py', '__loader__': <_frozen_importlib_external.SourceFileLoader object>, '__name__': '__main__', '__package__': '', '__spec__': ModuleSpec(name='ipykernel_launcher', loader=<_f...b/python3.6/site-packages/ipykernel_launcher.py'), 'app': <module 'ipykernel.kernelapp' from '/Users/eran/.../python3.6/site-packages/ipykernel/kernelapp.py'>, ...}, init_globals=None, mod_name='__main__', mod_spec=ModuleSpec(name='ipykernel_launcher', loader=<_f...b/python3.6/site-packages/ipykernel_launcher.py'), pkg_name='', script_name=None)\n     80                        __cached__ = cached,\n     81                        __doc__ = None,\n     82                        __loader__ = loader,\n     83                        __package__ = pkg_name,\n     84                        __spec__ = mod_spec)\n---> 85     exec(code, run_globals)\n        code = <code object <module> at 0x107568930, file \"/Use...3.6/site-packages/ipykernel_launcher.py\", line 5>\n        run_globals = {'__annotations__': {}, '__builtins__': <module 'builtins' (built-in)>, '__cached__': '/Users/eran/anaconda3/lib/python3.6/site-packages/__pycache__/ipykernel_launcher.cpython-36.pyc', '__doc__': 'Entry point for launching an IPython kernel.\\n\\nTh...orts until\\nafter removing the cwd from sys.path.\\n', '__file__': '/Users/eran/anaconda3/lib/python3.6/site-packages/ipykernel_launcher.py', '__loader__': <_frozen_importlib_external.SourceFileLoader object>, '__name__': '__main__', '__package__': '', '__spec__': ModuleSpec(name='ipykernel_launcher', loader=<_f...b/python3.6/site-packages/ipykernel_launcher.py'), 'app': <module 'ipykernel.kernelapp' from '/Users/eran/.../python3.6/site-packages/ipykernel/kernelapp.py'>, ...}\n     86     return run_globals\n     87 \n     88 def _run_module_code(code, init_globals=None,\n     89                     mod_name=None, mod_spec=None,\n\n...........................................................................\n/Users/eran/anaconda3/lib/python3.6/site-packages/ipykernel_launcher.py in <module>()\n     11     # This is added back by InteractiveShellApp.init_path()\n     12     if sys.path[0] == '':\n     13         del sys.path[0]\n     14 \n     15     from ipykernel import kernelapp as app\n---> 16     app.launch_new_instance()\n\n...........................................................................\n/Users/eran/anaconda3/lib/python3.6/site-packages/traitlets/config/application.py in launch_instance(cls=<class 'ipykernel.kernelapp.IPKernelApp'>, argv=None, **kwargs={})\n    653 \n    654         If a global instance already exists, this reinitializes and starts it\n    655         \"\"\"\n    656         app = cls.instance(**kwargs)\n    657         app.initialize(argv)\n--> 658         app.start()\n        app.start = <bound method IPKernelApp.start of <ipykernel.kernelapp.IPKernelApp object>>\n    659 \n    660 #-----------------------------------------------------------------------------\n    661 # utility functions, for convenience\n    662 #-----------------------------------------------------------------------------\n\n...........................................................................\n/Users/eran/anaconda3/lib/python3.6/site-packages/ipykernel/kernelapp.py in start(self=<ipykernel.kernelapp.IPKernelApp object>)\n    472             return self.subapp.start()\n    473         if self.poller is not None:\n    474             self.poller.start()\n    475         self.kernel.start()\n    476         try:\n--> 477             ioloop.IOLoop.instance().start()\n    478         except KeyboardInterrupt:\n    479             pass\n    480 \n    481 launch_new_instance = IPKernelApp.launch_instance\n\n...........................................................................\n/Users/eran/anaconda3/lib/python3.6/site-packages/zmq/eventloop/ioloop.py in start(self=<zmq.eventloop.ioloop.ZMQIOLoop object>)\n    172             )\n    173         return loop\n    174     \n    175     def start(self):\n    176         try:\n--> 177             super(ZMQIOLoop, self).start()\n        self.start = <bound method ZMQIOLoop.start of <zmq.eventloop.ioloop.ZMQIOLoop object>>\n    178         except ZMQError as e:\n    179             if e.errno == ETERM:\n    180                 # quietly return on ETERM\n    181                 pass\n\n...........................................................................\n/Users/eran/anaconda3/lib/python3.6/site-packages/tornado/ioloop.py in start(self=<zmq.eventloop.ioloop.ZMQIOLoop object>)\n    883                 self._events.update(event_pairs)\n    884                 while self._events:\n    885                     fd, events = self._events.popitem()\n    886                     try:\n    887                         fd_obj, handler_func = self._handlers[fd]\n--> 888                         handler_func(fd_obj, events)\n        handler_func = <function wrap.<locals>.null_wrapper>\n        fd_obj = <zmq.sugar.socket.Socket object>\n        events = 1\n    889                     except (OSError, IOError) as e:\n    890                         if errno_from_exception(e) == errno.EPIPE:\n    891                             # Happens when the client closes the connection\n    892                             pass\n\n...........................................................................\n/Users/eran/anaconda3/lib/python3.6/site-packages/tornado/stack_context.py in null_wrapper(*args=(<zmq.sugar.socket.Socket object>, 1), **kwargs={})\n    272         # Fast path when there are no active contexts.\n    273         def null_wrapper(*args, **kwargs):\n    274             try:\n    275                 current_state = _state.contexts\n    276                 _state.contexts = cap_contexts[0]\n--> 277                 return fn(*args, **kwargs)\n        args = (<zmq.sugar.socket.Socket object>, 1)\n        kwargs = {}\n    278             finally:\n    279                 _state.contexts = current_state\n    280         null_wrapper._wrapped = True\n    281         return null_wrapper\n\n...........................................................................\n/Users/eran/anaconda3/lib/python3.6/site-packages/zmq/eventloop/zmqstream.py in _handle_events(self=<zmq.eventloop.zmqstream.ZMQStream object>, fd=<zmq.sugar.socket.Socket object>, events=1)\n    435             # dispatch events:\n    436             if events & IOLoop.ERROR:\n    437                 gen_log.error(\"got POLLERR event on ZMQStream, which doesn't make sense\")\n    438                 return\n    439             if events & IOLoop.READ:\n--> 440                 self._handle_recv()\n        self._handle_recv = <bound method ZMQStream._handle_recv of <zmq.eventloop.zmqstream.ZMQStream object>>\n    441                 if not self.socket:\n    442                     return\n    443             if events & IOLoop.WRITE:\n    444                 self._handle_send()\n\n...........................................................................\n/Users/eran/anaconda3/lib/python3.6/site-packages/zmq/eventloop/zmqstream.py in _handle_recv(self=<zmq.eventloop.zmqstream.ZMQStream object>)\n    467                 gen_log.error(\"RECV Error: %s\"%zmq.strerror(e.errno))\n    468         else:\n    469             if self._recv_callback:\n    470                 callback = self._recv_callback\n    471                 # self._recv_callback = None\n--> 472                 self._run_callback(callback, msg)\n        self._run_callback = <bound method ZMQStream._run_callback of <zmq.eventloop.zmqstream.ZMQStream object>>\n        callback = <function wrap.<locals>.null_wrapper>\n        msg = [<zmq.sugar.frame.Frame object>, <zmq.sugar.frame.Frame object>, <zmq.sugar.frame.Frame object>, <zmq.sugar.frame.Frame object>, <zmq.sugar.frame.Frame object>, <zmq.sugar.frame.Frame object>, <zmq.sugar.frame.Frame object>]\n    473                 \n    474         # self.update_state()\n    475         \n    476 \n\n...........................................................................\n/Users/eran/anaconda3/lib/python3.6/site-packages/zmq/eventloop/zmqstream.py in _run_callback(self=<zmq.eventloop.zmqstream.ZMQStream object>, callback=<function wrap.<locals>.null_wrapper>, *args=([<zmq.sugar.frame.Frame object>, <zmq.sugar.frame.Frame object>, <zmq.sugar.frame.Frame object>, <zmq.sugar.frame.Frame object>, <zmq.sugar.frame.Frame object>, <zmq.sugar.frame.Frame object>, <zmq.sugar.frame.Frame object>],), **kwargs={})\n    409         close our socket.\"\"\"\n    410         try:\n    411             # Use a NullContext to ensure that all StackContexts are run\n    412             # inside our blanket exception handler rather than outside.\n    413             with stack_context.NullContext():\n--> 414                 callback(*args, **kwargs)\n        callback = <function wrap.<locals>.null_wrapper>\n        args = ([<zmq.sugar.frame.Frame object>, <zmq.sugar.frame.Frame object>, <zmq.sugar.frame.Frame object>, <zmq.sugar.frame.Frame object>, <zmq.sugar.frame.Frame object>, <zmq.sugar.frame.Frame object>, <zmq.sugar.frame.Frame object>],)\n        kwargs = {}\n    415         except:\n    416             gen_log.error(\"Uncaught exception, closing connection.\",\n    417                           exc_info=True)\n    418             # Close the socket on an uncaught exception from a user callback\n\n...........................................................................\n/Users/eran/anaconda3/lib/python3.6/site-packages/tornado/stack_context.py in null_wrapper(*args=([<zmq.sugar.frame.Frame object>, <zmq.sugar.frame.Frame object>, <zmq.sugar.frame.Frame object>, <zmq.sugar.frame.Frame object>, <zmq.sugar.frame.Frame object>, <zmq.sugar.frame.Frame object>, <zmq.sugar.frame.Frame object>],), **kwargs={})\n    272         # Fast path when there are no active contexts.\n    273         def null_wrapper(*args, **kwargs):\n    274             try:\n    275                 current_state = _state.contexts\n    276                 _state.contexts = cap_contexts[0]\n--> 277                 return fn(*args, **kwargs)\n        args = ([<zmq.sugar.frame.Frame object>, <zmq.sugar.frame.Frame object>, <zmq.sugar.frame.Frame object>, <zmq.sugar.frame.Frame object>, <zmq.sugar.frame.Frame object>, <zmq.sugar.frame.Frame object>, <zmq.sugar.frame.Frame object>],)\n        kwargs = {}\n    278             finally:\n    279                 _state.contexts = current_state\n    280         null_wrapper._wrapped = True\n    281         return null_wrapper\n\n...........................................................................\n/Users/eran/anaconda3/lib/python3.6/site-packages/ipykernel/kernelbase.py in dispatcher(msg=[<zmq.sugar.frame.Frame object>, <zmq.sugar.frame.Frame object>, <zmq.sugar.frame.Frame object>, <zmq.sugar.frame.Frame object>, <zmq.sugar.frame.Frame object>, <zmq.sugar.frame.Frame object>, <zmq.sugar.frame.Frame object>])\n    278         if self.control_stream:\n    279             self.control_stream.on_recv(self.dispatch_control, copy=False)\n    280 \n    281         def make_dispatcher(stream):\n    282             def dispatcher(msg):\n--> 283                 return self.dispatch_shell(stream, msg)\n        msg = [<zmq.sugar.frame.Frame object>, <zmq.sugar.frame.Frame object>, <zmq.sugar.frame.Frame object>, <zmq.sugar.frame.Frame object>, <zmq.sugar.frame.Frame object>, <zmq.sugar.frame.Frame object>, <zmq.sugar.frame.Frame object>]\n    284             return dispatcher\n    285 \n    286         for s in self.shell_streams:\n    287             s.on_recv(make_dispatcher(s), copy=False)\n\n...........................................................................\n/Users/eran/anaconda3/lib/python3.6/site-packages/ipykernel/kernelbase.py in dispatch_shell(self=<ipykernel.ipkernel.IPythonKernel object>, stream=<zmq.eventloop.zmqstream.ZMQStream object>, msg={'buffers': [], 'content': {'allow_stdin': True, 'code': \"GSrf2=grid_func('recall_score')\", 'silent': False, 'stop_on_error': True, 'store_history': True, 'user_expressions': {}}, 'header': {'date': datetime.datetime(2019, 1, 8, 5, 50, 42, 282805, tzinfo=tzutc()), 'msg_id': '42E453BC4B624EF29CFDF6E4799288A9', 'msg_type': 'execute_request', 'session': 'CC5E886DB0C640678BEECD9C8E9C0E0C', 'username': 'username', 'version': '5.0'}, 'metadata': {}, 'msg_id': '42E453BC4B624EF29CFDF6E4799288A9', 'msg_type': 'execute_request', 'parent_header': {}})\n    230             self.log.warn(\"Unknown message type: %r\", msg_type)\n    231         else:\n    232             self.log.debug(\"%s: %s\", msg_type, msg)\n    233             self.pre_handler_hook()\n    234             try:\n--> 235                 handler(stream, idents, msg)\n        handler = <bound method Kernel.execute_request of <ipykernel.ipkernel.IPythonKernel object>>\n        stream = <zmq.eventloop.zmqstream.ZMQStream object>\n        idents = [b'CC5E886DB0C640678BEECD9C8E9C0E0C']\n        msg = {'buffers': [], 'content': {'allow_stdin': True, 'code': \"GSrf2=grid_func('recall_score')\", 'silent': False, 'stop_on_error': True, 'store_history': True, 'user_expressions': {}}, 'header': {'date': datetime.datetime(2019, 1, 8, 5, 50, 42, 282805, tzinfo=tzutc()), 'msg_id': '42E453BC4B624EF29CFDF6E4799288A9', 'msg_type': 'execute_request', 'session': 'CC5E886DB0C640678BEECD9C8E9C0E0C', 'username': 'username', 'version': '5.0'}, 'metadata': {}, 'msg_id': '42E453BC4B624EF29CFDF6E4799288A9', 'msg_type': 'execute_request', 'parent_header': {}}\n    236             except Exception:\n    237                 self.log.error(\"Exception in message handler:\", exc_info=True)\n    238             finally:\n    239                 self.post_handler_hook()\n\n...........................................................................\n/Users/eran/anaconda3/lib/python3.6/site-packages/ipykernel/kernelbase.py in execute_request(self=<ipykernel.ipkernel.IPythonKernel object>, stream=<zmq.eventloop.zmqstream.ZMQStream object>, ident=[b'CC5E886DB0C640678BEECD9C8E9C0E0C'], parent={'buffers': [], 'content': {'allow_stdin': True, 'code': \"GSrf2=grid_func('recall_score')\", 'silent': False, 'stop_on_error': True, 'store_history': True, 'user_expressions': {}}, 'header': {'date': datetime.datetime(2019, 1, 8, 5, 50, 42, 282805, tzinfo=tzutc()), 'msg_id': '42E453BC4B624EF29CFDF6E4799288A9', 'msg_type': 'execute_request', 'session': 'CC5E886DB0C640678BEECD9C8E9C0E0C', 'username': 'username', 'version': '5.0'}, 'metadata': {}, 'msg_id': '42E453BC4B624EF29CFDF6E4799288A9', 'msg_type': 'execute_request', 'parent_header': {}})\n    394         if not silent:\n    395             self.execution_count += 1\n    396             self._publish_execute_input(code, parent, self.execution_count)\n    397 \n    398         reply_content = self.do_execute(code, silent, store_history,\n--> 399                                         user_expressions, allow_stdin)\n        user_expressions = {}\n        allow_stdin = True\n    400 \n    401         # Flush output before sending the reply.\n    402         sys.stdout.flush()\n    403         sys.stderr.flush()\n\n...........................................................................\n/Users/eran/anaconda3/lib/python3.6/site-packages/ipykernel/ipkernel.py in do_execute(self=<ipykernel.ipkernel.IPythonKernel object>, code=\"GSrf2=grid_func('recall_score')\", silent=False, store_history=True, user_expressions={}, allow_stdin=True)\n    191 \n    192         self._forward_input(allow_stdin)\n    193 \n    194         reply_content = {}\n    195         try:\n--> 196             res = shell.run_cell(code, store_history=store_history, silent=silent)\n        res = undefined\n        shell.run_cell = <bound method ZMQInteractiveShell.run_cell of <ipykernel.zmqshell.ZMQInteractiveShell object>>\n        code = \"GSrf2=grid_func('recall_score')\"\n        store_history = True\n        silent = False\n    197         finally:\n    198             self._restore_input()\n    199 \n    200         if res.error_before_exec is not None:\n\n...........................................................................\n/Users/eran/anaconda3/lib/python3.6/site-packages/ipykernel/zmqshell.py in run_cell(self=<ipykernel.zmqshell.ZMQInteractiveShell object>, *args=(\"GSrf2=grid_func('recall_score')\",), **kwargs={'silent': False, 'store_history': True})\n    528             )\n    529         self.payload_manager.write_payload(payload)\n    530 \n    531     def run_cell(self, *args, **kwargs):\n    532         self._last_traceback = None\n--> 533         return super(ZMQInteractiveShell, self).run_cell(*args, **kwargs)\n        self.run_cell = <bound method ZMQInteractiveShell.run_cell of <ipykernel.zmqshell.ZMQInteractiveShell object>>\n        args = (\"GSrf2=grid_func('recall_score')\",)\n        kwargs = {'silent': False, 'store_history': True}\n    534 \n    535     def _showtraceback(self, etype, evalue, stb):\n    536         # try to preserve ordering of tracebacks and print statements\n    537         sys.stdout.flush()\n\n...........................................................................\n/Users/eran/anaconda3/lib/python3.6/site-packages/IPython/core/interactiveshell.py in run_cell(self=<ipykernel.zmqshell.ZMQInteractiveShell object>, raw_cell=\"GSrf2=grid_func('recall_score')\", store_history=True, silent=False, shell_futures=True)\n   2693                 self.displayhook.exec_result = result\n   2694 \n   2695                 # Execute the user code\n   2696                 interactivity = \"none\" if silent else self.ast_node_interactivity\n   2697                 has_raised = self.run_ast_nodes(code_ast.body, cell_name,\n-> 2698                    interactivity=interactivity, compiler=compiler, result=result)\n        interactivity = 'last_expr'\n        compiler = <IPython.core.compilerop.CachingCompiler object>\n   2699                 \n   2700                 self.last_execution_succeeded = not has_raised\n   2701 \n   2702                 # Reset this so later displayed values do not modify the\n\n...........................................................................\n/Users/eran/anaconda3/lib/python3.6/site-packages/IPython/core/interactiveshell.py in run_ast_nodes(self=<ipykernel.zmqshell.ZMQInteractiveShell object>, nodelist=[<_ast.Assign object>], cell_name='<ipython-input-1718-7e385c74138f>', interactivity='none', compiler=<IPython.core.compilerop.CachingCompiler object>, result=<ExecutionResult object at 1a40cf1128, execution..._before_exec=None error_in_exec=None result=None>)\n   2797 \n   2798         try:\n   2799             for i, node in enumerate(to_run_exec):\n   2800                 mod = ast.Module([node])\n   2801                 code = compiler(mod, cell_name, \"exec\")\n-> 2802                 if self.run_code(code, result):\n        self.run_code = <bound method InteractiveShell.run_code of <ipykernel.zmqshell.ZMQInteractiveShell object>>\n        code = <code object <module> at 0x1a3c719390, file \"<ipython-input-1718-7e385c74138f>\", line 1>\n        result = <ExecutionResult object at 1a40cf1128, execution..._before_exec=None error_in_exec=None result=None>\n   2803                     return True\n   2804 \n   2805             for i, node in enumerate(to_run_interactive):\n   2806                 mod = ast.Interactive([node])\n\n...........................................................................\n/Users/eran/anaconda3/lib/python3.6/site-packages/IPython/core/interactiveshell.py in run_code(self=<ipykernel.zmqshell.ZMQInteractiveShell object>, code_obj=<code object <module> at 0x1a3c719390, file \"<ipython-input-1718-7e385c74138f>\", line 1>, result=<ExecutionResult object at 1a40cf1128, execution..._before_exec=None error_in_exec=None result=None>)\n   2857         outflag = True  # happens in more places, so it's easier as default\n   2858         try:\n   2859             try:\n   2860                 self.hooks.pre_run_code_hook()\n   2861                 #rprint('Running code', repr(code_obj)) # dbg\n-> 2862                 exec(code_obj, self.user_global_ns, self.user_ns)\n        code_obj = <code object <module> at 0x1a3c719390, file \"<ipython-input-1718-7e385c74138f>\", line 1>\n        self.user_global_ns = {'GS': GridSearchCV(cv=StratifiedKFold(n_splits=10, ran...e': make_scorer(recall_score)},\n       verbose=0), 'GridSearchCV': <class 'sklearn.model_selection._search.GridSearchCV'>, 'In': ['', 'import numpy as np\\nimport pandas as pd\\nimport os', 'directory_path=\"/Users/eran/Galvanize_more_repositories/WestNileVirus/all/\"\\ndirectory_path', 'train_csv=os.path.join(directory_path, \"train.csv\")', '# Reading in the train data\\ntrain=pd.read_csv(train_csv)', 'train.info()', 'train.head(3)', \"train['Species'].unique() ## 6 different species\", \"len(train['Trap'].unique()) ## 136 different traps\", \"train['AddressAccuracy'].describe() ## this is (...iption) the accuracy as returned from geo-locator\", \"train['AddressAccuracy'].hist() ## so most accur...3,4 categories and then into 3,4 dummie features \", '# looking at bars of every specie whether it has...s\" has the highest relative portion of WNtV ~10% ', \"# make new train with dummies\\ntrainWdum=pd.get_dummies(train,columns=['Species'],drop_first=True)\", 'trainWdum.describe()', \"# example of how many observation for 1 location...nWdum['Longitude']==-87.800991)]\\nlen(df1location)\", 'df1location.head(1)', '## two rows in the train data: same date place e...pecies are differen \\ntrain.iloc[1]==train.iloc[0]', 'df1location.tail(1)', \"# there are 185 records from the same location c...ted in 67 dates\\nlen(df1location['Date'].unique())\", \"trainBasic=trainWdum[['Latitude','Longitude','Ad...ARSALIS','Species_CULEX TERRITANS','WnvPresent']]\", ...], 'KNeighborsClassifier': <class 'sklearn.neighbors.classification.KNeighborsClassifier'>, 'LogisticRegression': <class 'sklearn.linear_model.logistic.LogisticRegression'>, 'Out': {2: '/Users/eran/Galvanize_more_repositories/WestNileVirus/all/', 6:          Date                                   ...    1           0  \n2             1           0  , 7: array(['CULEX PIPIENS/RESTUANS', 'CULEX RESTUANS...RSALIS',\n       'CULEX ERRATICUS'], dtype=object), 8: 136, 9: count    10506.000000\nmean         7.819532\nstd ...   9.000000\nName: AddressAccuracy, dtype: float64, 10: <matplotlib.axes._subplots.AxesSubplot object>, 11: <matplotlib.axes._subplots.AxesSubplot object>, 13:               Block      Latitude     Longitude ...      0.000000  \nmax                   1.000000  , 14: 185, 15:          Date                                   ...es_CULEX TERRITANS  \n0                        0  , ...}, 'PCA': <class 'sklearn.decomposition.pca.PCA'>, 'RandomForestClassifier': <class 'sklearn.ensemble.forest.RandomForestClassifier'>, 'RandomForestRegressor': <class 'sklearn.ensemble.forest.RandomForestRegressor'>, 'SMOTE': <class 'imblearn.over_sampling.smote.SMOTE'>, ...}\n        self.user_ns = {'GS': GridSearchCV(cv=StratifiedKFold(n_splits=10, ran...e': make_scorer(recall_score)},\n       verbose=0), 'GridSearchCV': <class 'sklearn.model_selection._search.GridSearchCV'>, 'In': ['', 'import numpy as np\\nimport pandas as pd\\nimport os', 'directory_path=\"/Users/eran/Galvanize_more_repositories/WestNileVirus/all/\"\\ndirectory_path', 'train_csv=os.path.join(directory_path, \"train.csv\")', '# Reading in the train data\\ntrain=pd.read_csv(train_csv)', 'train.info()', 'train.head(3)', \"train['Species'].unique() ## 6 different species\", \"len(train['Trap'].unique()) ## 136 different traps\", \"train['AddressAccuracy'].describe() ## this is (...iption) the accuracy as returned from geo-locator\", \"train['AddressAccuracy'].hist() ## so most accur...3,4 categories and then into 3,4 dummie features \", '# looking at bars of every specie whether it has...s\" has the highest relative portion of WNtV ~10% ', \"# make new train with dummies\\ntrainWdum=pd.get_dummies(train,columns=['Species'],drop_first=True)\", 'trainWdum.describe()', \"# example of how many observation for 1 location...nWdum['Longitude']==-87.800991)]\\nlen(df1location)\", 'df1location.head(1)', '## two rows in the train data: same date place e...pecies are differen \\ntrain.iloc[1]==train.iloc[0]', 'df1location.tail(1)', \"# there are 185 records from the same location c...ted in 67 dates\\nlen(df1location['Date'].unique())\", \"trainBasic=trainWdum[['Latitude','Longitude','Ad...ARSALIS','Species_CULEX TERRITANS','WnvPresent']]\", ...], 'KNeighborsClassifier': <class 'sklearn.neighbors.classification.KNeighborsClassifier'>, 'LogisticRegression': <class 'sklearn.linear_model.logistic.LogisticRegression'>, 'Out': {2: '/Users/eran/Galvanize_more_repositories/WestNileVirus/all/', 6:          Date                                   ...    1           0  \n2             1           0  , 7: array(['CULEX PIPIENS/RESTUANS', 'CULEX RESTUANS...RSALIS',\n       'CULEX ERRATICUS'], dtype=object), 8: 136, 9: count    10506.000000\nmean         7.819532\nstd ...   9.000000\nName: AddressAccuracy, dtype: float64, 10: <matplotlib.axes._subplots.AxesSubplot object>, 11: <matplotlib.axes._subplots.AxesSubplot object>, 13:               Block      Latitude     Longitude ...      0.000000  \nmax                   1.000000  , 14: 185, 15:          Date                                   ...es_CULEX TERRITANS  \n0                        0  , ...}, 'PCA': <class 'sklearn.decomposition.pca.PCA'>, 'RandomForestClassifier': <class 'sklearn.ensemble.forest.RandomForestClassifier'>, 'RandomForestRegressor': <class 'sklearn.ensemble.forest.RandomForestRegressor'>, 'SMOTE': <class 'imblearn.over_sampling.smote.SMOTE'>, ...}\n   2863             finally:\n   2864                 # Reset our crash handler in place\n   2865                 sys.excepthook = old_excepthook\n   2866         except SystemExit as e:\n\n...........................................................................\n/Users/eran/Galvanize_more_repositories/WestNileVirus/<ipython-input-1718-7e385c74138f> in <module>()\n----> 1 GSrf2=grid_func('recall_score')\n\n...........................................................................\n/Users/eran/Galvanize_more_repositories/WestNileVirus/<ipython-input-1717-b0bdca0cf635> in grid_func(the_score='recall_score')\n      3     #optimize hyper parametrs using grid search according to one of the scores that is input\n      4     skf=StratifiedKFold(n_splits=5) ## stratifying the crossvalidation and choosing the number of splits=10\n      5     GS=GridSearchCV(rfclf2,param_grid=paramgrid,scoring=scorers,refit=the_score,cv=skf,return_train_score='True')\n      6     \n      7     with parallel_backend('threading'):\n----> 8         GS.fit(smtXtrain,smtytrain)\n      9     \n     10     prediction=GS.predict(Xtest)\n     11     \n     12     print('best params for {}'.format(the_score))\n\n...........................................................................\n/Users/eran/anaconda3/lib/python3.6/site-packages/sklearn/model_selection/_search.py in fit(self=GridSearchCV(cv=StratifiedKFold(n_splits=5, rand...e': make_scorer(recall_score)},\n       verbose=0), X=array([[-87.742     ,  41.764     ,  51.        ...8.48502622,\n          2.94010486,   1.97005243]]), y=array([0, 0, 0, ..., 1, 1, 1]), groups=None, **fit_params={})\n    634 \n    635         **fit_params : dict of string -> object\n    636             Parameters passed to the ``fit`` method of the estimator\n    637         \"\"\"\n    638 \n--> 639         if self.fit_params is not None:\n        self.fit_params = None\n    640             warnings.warn('\"fit_params\" as a constructor argument was '\n    641                           'deprecated in version 0.19 and will be removed '\n    642                           'in version 0.21. Pass fit parameters to the '\n    643                           '\"fit\" method instead.', DeprecationWarning)\n\n...........................................................................\n/Users/eran/anaconda3/lib/python3.6/site-packages/sklearn/externals/joblib/parallel.py in __call__(self=Parallel(n_jobs=-1), iterable=<generator object BaseSearchCV.fit.<locals>.<genexpr>>)\n    784         # consumed : at this point we know the total number of jobs and we are\n    785         # able to display an estimation of the remaining time based on already\n    786         # completed jobs. Otherwise, we simply display the number of completed\n    787         # tasks.\n    788         if self._original_iterator is not None:\n--> 789             if _verbosity_filter(self.n_dispatched_batches, self.verbose):\n        self.n_dispatched_batches = 19\n        self.verbose = 0\n    790                 return\n    791             self._print('Done %3i tasks      | elapsed: %s',\n    792                         (self.n_completed_tasks,\n    793                          short_format_time(elapsed_time), ))\n\n---------------------------------------------------------------------------\nSub-process traceback:\n---------------------------------------------------------------------------\nIndexError                                         Tue Jan  8 00:50:48 2019\nPID: 1345                    Python 3.6.3: /Users/eran/anaconda3/bin/python\n...........................................................................\n/Users/eran/anaconda3/lib/python3.6/site-packages/sklearn/externals/joblib/parallel.py in __call__(self=<sklearn.externals.joblib.parallel.BatchedCalls object>)\n    126     implementation using the ``register_parallel_backend`` function.\n    127 \n    128     By default the following backends are available:\n    129 \n    130     - 'loky': single-host, process-based parallelism (used by default),\n--> 131     - 'threading': single-host, thread-based parallelism,\n    132     - 'multiprocessing': legacy single-host, process-based parallelism.\n    133 \n    134     'loky' is recommended to run functions that manipulate Python objects.\n    135     'threading' is a low-overhead alternative that is most efficient for\n\n...........................................................................\n/Users/eran/anaconda3/lib/python3.6/site-packages/sklearn/externals/joblib/parallel.py in <listcomp>(.0=<list_iterator object>)\n    126     implementation using the ``register_parallel_backend`` function.\n    127 \n    128     By default the following backends are available:\n    129 \n    130     - 'loky': single-host, process-based parallelism (used by default),\n--> 131     - 'threading': single-host, thread-based parallelism,\n    132     - 'multiprocessing': legacy single-host, process-based parallelism.\n    133 \n    134     'loky' is recommended to run functions that manipulate Python objects.\n    135     'threading' is a low-overhead alternative that is most efficient for\n\n...........................................................................\n/Users/eran/anaconda3/lib/python3.6/site-packages/sklearn/model_selection/_validation.py in _fit_and_score(estimator=RandomForestClassifier(bootstrap=True, class_wei...se, random_state=42, verbose=0, warm_start=False), X=array([[-87.742     ,  41.764     ,  51.        ...8.48502622,\n          2.94010486,   1.97005243]]), y=array([0, 0, 0, ..., 1, 1, 1]), scorer={'accuracy_score': make_scorer(accuracy_score), 'precision_score': make_scorer(precision_score), 'recall_score': make_scorer(recall_score)}, train=array([    0,     1,     2, ..., 15923, 15924, 15925]), test=array([ 1687,  1688,  1689, ..., 11146, 11147, 11148]), verbose=0, parameters={'max_depth': 1, 'max_features': 3, 'min_samples_split': 2, 'n_estimators': 500}, fit_params={}, return_train_score='True', return_parameters=False, return_n_test_samples=True, return_times=True, error_score='raise')\n    453 \n    454     parameters : dict or None\n    455         Parameters to be set on the estimator.\n    456 \n    457     fit_params : dict or None\n--> 458         Parameters that will be passed to ``estimator.fit``.\n        estimator.fit. = undefined\n    459 \n    460     return_train_score : boolean, optional, default: False\n    461         Compute and return score on training set.\n    462 \n\n...........................................................................\n/Users/eran/anaconda3/lib/python3.6/site-packages/sklearn/ensemble/forest.py in fit(self=RandomForestClassifier(bootstrap=True, class_wei...se, random_state=42, verbose=0, warm_start=False), X=array([[-87.74199677,  41.76399994,  51.        ...       2.94010496,   1.97005248]], dtype=float32), y=array([[ 0.],\n       [ 0.],\n       [ 0.],\n       ..., \n       [ 1.],\n       [ 1.],\n       [ 1.]]), sample_weight=None)\n    311             if self.warm_start and len(self.estimators_) > 0:\n    312                 # We draw from the random state to get the random state we\n    313                 # would have got if we hadn't used a warm_start.\n    314                 random_state.randint(MAX_INT, size=len(self.estimators_))\n    315 \n--> 316             trees = []\n    317             for i in range(n_more_estimators):\n    318                 tree = self._make_estimator(append=False,\n    319                                             random_state=random_state)\n    320                 trees.append(tree)\n\n...........................................................................\n/Users/eran/anaconda3/lib/python3.6/site-packages/sklearn/ensemble/base.py in _make_estimator(self=RandomForestClassifier(bootstrap=True, class_wei...se, random_state=42, verbose=0, warm_start=False), append=False, random_state=<mtrand.RandomState object>)\n    122 \n    123         Warning: This method should be used to properly instantiate new\n    124         sub-estimators.\n    125         \"\"\"\n    126         estimator = clone(self.base_estimator_)\n--> 127         estimator.set_params(**dict((p, getattr(self, p))\n        estimator.set_params = <bound method BaseEstimator.set_params of Decisi... random_state=None,\n            splitter='best')>\n        self = RandomForestClassifier(bootstrap=True, class_wei...se, random_state=42, verbose=0, warm_start=False)\n        self.estimator_params = ('criterion', 'max_depth', 'min_samples_split', 'min_samples_leaf', 'min_weight_fraction_leaf', 'max_features', 'max_leaf_nodes', 'min_impurity_decrease', 'min_impurity_split', 'random_state')\n    128                                     for p in self.estimator_params))\n    129 \n    130         if random_state is not None:\n    131             _set_random_states(estimator, random_state)\n\n...........................................................................\n/Users/eran/anaconda3/lib/python3.6/site-packages/sklearn/base.py in set_params(self=DecisionTreeClassifier(class_weight=None, criter..., random_state=None,\n            splitter='best'), **params={'criterion': 'gini', 'max_depth': 1, 'max_features': 3, 'max_leaf_nodes': None, 'min_impurity_decrease': 0.0, 'min_impurity_split': None, 'min_samples_leaf': 1, 'min_samples_split': 2, 'min_weight_fraction_leaf': 0.0, 'random_state': 42})\n    260     \"\"\"Mixin class for all classifiers in scikit-learn.\"\"\"\n    261     _estimator_type = \"classifier\"\n    262 \n    263     def score(self, X, y, sample_weight=None):\n    264         \"\"\"Returns the mean accuracy on the given test data and labels.\n--> 265 \n    266         In multi-label classification, this is the subset accuracy\n    267         which is a harsh metric since you require for each sample that\n    268         each label set be correctly predicted.\n    269 \n\n...........................................................................\n/Users/eran/anaconda3/lib/python3.6/site-packages/sklearn/base.py in get_params(self=DecisionTreeClassifier(class_weight=None, criter..., random_state=None,\n            splitter='best'), deep=True)\n    236 \n    237         if type(self).__module__.startswith('sklearn.'):\n    238             return dict(state.items(), _sklearn_version=__version__)\n    239         else:\n    240             return state\n--> 241 \n        self = DecisionTreeClassifier(class_weight=None, criter..., random_state=None,\n            splitter='best')\n    242     def __setstate__(self, state):\n    243         if type(self).__module__.startswith('sklearn.'):\n    244             pickle_version = state.pop(\"_sklearn_version\", \"pre-0.18\")\n    245             if pickle_version != __version__:\n\nIndexError: pop from empty list\n___________________________________________________________________________",
     "output_type": "error",
     "traceback": [
      "\u001b[0;31m---------------------------------------------------------------------------\u001b[0m",
      "\u001b[0;31mIndexError\u001b[0m                                Traceback (most recent call last)",
      "\u001b[0;32m~/anaconda3/lib/python3.6/site-packages/sklearn/externals/joblib/_parallel_backends.py\u001b[0m in \u001b[0;36m__call__\u001b[0;34m(self, *args, **kwargs)\u001b[0m\n\u001b[1;32m    349\u001b[0m     \u001b[0;32mdef\u001b[0m \u001b[0mconfigure\u001b[0m\u001b[0;34m(\u001b[0m\u001b[0mself\u001b[0m\u001b[0;34m,\u001b[0m \u001b[0mn_jobs\u001b[0m\u001b[0;34m=\u001b[0m\u001b[0;36m1\u001b[0m\u001b[0;34m,\u001b[0m \u001b[0mparallel\u001b[0m\u001b[0;34m=\u001b[0m\u001b[0;32mNone\u001b[0m\u001b[0;34m,\u001b[0m \u001b[0;34m**\u001b[0m\u001b[0mbackend_args\u001b[0m\u001b[0;34m)\u001b[0m\u001b[0;34m:\u001b[0m\u001b[0;34m\u001b[0m\u001b[0m\n\u001b[0;32m--> 350\u001b[0;31m         \u001b[0;34m\"\"\"Build a process or thread pool and return the number of workers\"\"\"\u001b[0m\u001b[0;34m\u001b[0m\u001b[0m\n\u001b[0m\u001b[1;32m    351\u001b[0m         \u001b[0mn_jobs\u001b[0m \u001b[0;34m=\u001b[0m \u001b[0mself\u001b[0m\u001b[0;34m.\u001b[0m\u001b[0meffective_n_jobs\u001b[0m\u001b[0;34m(\u001b[0m\u001b[0mn_jobs\u001b[0m\u001b[0;34m)\u001b[0m\u001b[0;34m\u001b[0m\u001b[0m\n",
      "\u001b[0;32m~/anaconda3/lib/python3.6/site-packages/sklearn/externals/joblib/parallel.py\u001b[0m in \u001b[0;36m__call__\u001b[0;34m(self)\u001b[0m\n\u001b[1;32m    130\u001b[0m     \u001b[0;34m-\u001b[0m \u001b[0;34m'loky'\u001b[0m\u001b[0;34m:\u001b[0m \u001b[0msingle\u001b[0m\u001b[0;34m-\u001b[0m\u001b[0mhost\u001b[0m\u001b[0;34m,\u001b[0m \u001b[0mprocess\u001b[0m\u001b[0;34m-\u001b[0m\u001b[0mbased\u001b[0m \u001b[0mparallelism\u001b[0m \u001b[0;34m(\u001b[0m\u001b[0mused\u001b[0m \u001b[0mby\u001b[0m \u001b[0mdefault\u001b[0m\u001b[0;34m)\u001b[0m\u001b[0;34m,\u001b[0m\u001b[0;34m\u001b[0m\u001b[0m\n\u001b[0;32m--> 131\u001b[0;31m     \u001b[0;34m-\u001b[0m \u001b[0;34m'threading'\u001b[0m\u001b[0;34m:\u001b[0m \u001b[0msingle\u001b[0m\u001b[0;34m-\u001b[0m\u001b[0mhost\u001b[0m\u001b[0;34m,\u001b[0m \u001b[0mthread\u001b[0m\u001b[0;34m-\u001b[0m\u001b[0mbased\u001b[0m \u001b[0mparallelism\u001b[0m\u001b[0;34m,\u001b[0m\u001b[0;34m\u001b[0m\u001b[0m\n\u001b[0m\u001b[1;32m    132\u001b[0m     \u001b[0;34m-\u001b[0m \u001b[0;34m'multiprocessing'\u001b[0m\u001b[0;34m:\u001b[0m \u001b[0mlegacy\u001b[0m \u001b[0msingle\u001b[0m\u001b[0;34m-\u001b[0m\u001b[0mhost\u001b[0m\u001b[0;34m,\u001b[0m \u001b[0mprocess\u001b[0m\u001b[0;34m-\u001b[0m\u001b[0mbased\u001b[0m \u001b[0mparallelism\u001b[0m\u001b[0;34m.\u001b[0m\u001b[0;34m\u001b[0m\u001b[0m\n",
      "\u001b[0;32m~/anaconda3/lib/python3.6/site-packages/sklearn/externals/joblib/parallel.py\u001b[0m in \u001b[0;36m<listcomp>\u001b[0;34m(.0)\u001b[0m\n\u001b[1;32m    130\u001b[0m     \u001b[0;34m-\u001b[0m \u001b[0;34m'loky'\u001b[0m\u001b[0;34m:\u001b[0m \u001b[0msingle\u001b[0m\u001b[0;34m-\u001b[0m\u001b[0mhost\u001b[0m\u001b[0;34m,\u001b[0m \u001b[0mprocess\u001b[0m\u001b[0;34m-\u001b[0m\u001b[0mbased\u001b[0m \u001b[0mparallelism\u001b[0m \u001b[0;34m(\u001b[0m\u001b[0mused\u001b[0m \u001b[0mby\u001b[0m \u001b[0mdefault\u001b[0m\u001b[0;34m)\u001b[0m\u001b[0;34m,\u001b[0m\u001b[0;34m\u001b[0m\u001b[0m\n\u001b[0;32m--> 131\u001b[0;31m     \u001b[0;34m-\u001b[0m \u001b[0;34m'threading'\u001b[0m\u001b[0;34m:\u001b[0m \u001b[0msingle\u001b[0m\u001b[0;34m-\u001b[0m\u001b[0mhost\u001b[0m\u001b[0;34m,\u001b[0m \u001b[0mthread\u001b[0m\u001b[0;34m-\u001b[0m\u001b[0mbased\u001b[0m \u001b[0mparallelism\u001b[0m\u001b[0;34m,\u001b[0m\u001b[0;34m\u001b[0m\u001b[0m\n\u001b[0m\u001b[1;32m    132\u001b[0m     \u001b[0;34m-\u001b[0m \u001b[0;34m'multiprocessing'\u001b[0m\u001b[0;34m:\u001b[0m \u001b[0mlegacy\u001b[0m \u001b[0msingle\u001b[0m\u001b[0;34m-\u001b[0m\u001b[0mhost\u001b[0m\u001b[0;34m,\u001b[0m \u001b[0mprocess\u001b[0m\u001b[0;34m-\u001b[0m\u001b[0mbased\u001b[0m \u001b[0mparallelism\u001b[0m\u001b[0;34m.\u001b[0m\u001b[0;34m\u001b[0m\u001b[0m\n",
      "\u001b[0;32m~/anaconda3/lib/python3.6/site-packages/sklearn/model_selection/_validation.py\u001b[0m in \u001b[0;36m_fit_and_score\u001b[0;34m(estimator, X, y, scorer, train, test, verbose, parameters, fit_params, return_train_score, return_parameters, return_n_test_samples, return_times, error_score)\u001b[0m\n\u001b[1;32m    457\u001b[0m     \u001b[0mfit_params\u001b[0m \u001b[0;34m:\u001b[0m \u001b[0mdict\u001b[0m \u001b[0;32mor\u001b[0m \u001b[0;32mNone\u001b[0m\u001b[0;34m\u001b[0m\u001b[0m\n\u001b[0;32m--> 458\u001b[0;31m         \u001b[0mParameters\u001b[0m \u001b[0mthat\u001b[0m \u001b[0mwill\u001b[0m \u001b[0mbe\u001b[0m \u001b[0mpassed\u001b[0m \u001b[0mto\u001b[0m\u001b[0;31m \u001b[0m\u001b[0;31m`\u001b[0m\u001b[0;31m`\u001b[0m\u001b[0mestimator\u001b[0m\u001b[0;34m.\u001b[0m\u001b[0mfit\u001b[0m\u001b[0;31m`\u001b[0m\u001b[0;31m`\u001b[0m\u001b[0;34m.\u001b[0m\u001b[0;34m\u001b[0m\u001b[0m\n\u001b[0m\u001b[1;32m    459\u001b[0m \u001b[0;34m\u001b[0m\u001b[0m\n",
      "\u001b[0;32m~/anaconda3/lib/python3.6/site-packages/sklearn/ensemble/forest.py\u001b[0m in \u001b[0;36mfit\u001b[0;34m(self, X, y, sample_weight)\u001b[0m\n\u001b[1;32m    315\u001b[0m \u001b[0;34m\u001b[0m\u001b[0m\n\u001b[0;32m--> 316\u001b[0;31m             \u001b[0mtrees\u001b[0m \u001b[0;34m=\u001b[0m \u001b[0;34m[\u001b[0m\u001b[0;34m]\u001b[0m\u001b[0;34m\u001b[0m\u001b[0m\n\u001b[0m\u001b[1;32m    317\u001b[0m             \u001b[0;32mfor\u001b[0m \u001b[0mi\u001b[0m \u001b[0;32min\u001b[0m \u001b[0mrange\u001b[0m\u001b[0;34m(\u001b[0m\u001b[0mn_more_estimators\u001b[0m\u001b[0;34m)\u001b[0m\u001b[0;34m:\u001b[0m\u001b[0;34m\u001b[0m\u001b[0m\n",
      "\u001b[0;32m~/anaconda3/lib/python3.6/site-packages/sklearn/ensemble/base.py\u001b[0m in \u001b[0;36m_make_estimator\u001b[0;34m(self, append, random_state)\u001b[0m\n\u001b[1;32m    126\u001b[0m         \u001b[0mestimator\u001b[0m \u001b[0;34m=\u001b[0m \u001b[0mclone\u001b[0m\u001b[0;34m(\u001b[0m\u001b[0mself\u001b[0m\u001b[0;34m.\u001b[0m\u001b[0mbase_estimator_\u001b[0m\u001b[0;34m)\u001b[0m\u001b[0;34m\u001b[0m\u001b[0m\n\u001b[0;32m--> 127\u001b[0;31m         estimator.set_params(**dict((p, getattr(self, p))\n\u001b[0m\u001b[1;32m    128\u001b[0m                                     for p in self.estimator_params))\n",
      "\u001b[0;32m~/anaconda3/lib/python3.6/site-packages/sklearn/base.py\u001b[0m in \u001b[0;36mset_params\u001b[0;34m(self, **params)\u001b[0m\n\u001b[1;32m    264\u001b[0m         \"\"\"Returns the mean accuracy on the given test data and labels.\n\u001b[0;32m--> 265\u001b[0;31m \u001b[0;34m\u001b[0m\u001b[0m\n\u001b[0m\u001b[1;32m    266\u001b[0m         \u001b[0mIn\u001b[0m \u001b[0mmulti\u001b[0m\u001b[0;34m-\u001b[0m\u001b[0mlabel\u001b[0m \u001b[0mclassification\u001b[0m\u001b[0;34m,\u001b[0m \u001b[0mthis\u001b[0m \u001b[0;32mis\u001b[0m \u001b[0mthe\u001b[0m \u001b[0msubset\u001b[0m \u001b[0maccuracy\u001b[0m\u001b[0;34m\u001b[0m\u001b[0m\n",
      "\u001b[0;32m~/anaconda3/lib/python3.6/site-packages/sklearn/base.py\u001b[0m in \u001b[0;36mget_params\u001b[0;34m(self, deep)\u001b[0m\n\u001b[1;32m    240\u001b[0m             \u001b[0;32mreturn\u001b[0m \u001b[0mstate\u001b[0m\u001b[0;34m\u001b[0m\u001b[0m\n\u001b[0;32m--> 241\u001b[0;31m \u001b[0;34m\u001b[0m\u001b[0m\n\u001b[0m\u001b[1;32m    242\u001b[0m     \u001b[0;32mdef\u001b[0m \u001b[0m__setstate__\u001b[0m\u001b[0;34m(\u001b[0m\u001b[0mself\u001b[0m\u001b[0;34m,\u001b[0m \u001b[0mstate\u001b[0m\u001b[0;34m)\u001b[0m\u001b[0;34m:\u001b[0m\u001b[0;34m\u001b[0m\u001b[0m\n",
      "\u001b[0;31mIndexError\u001b[0m: pop from empty list",
      "\nDuring handling of the above exception, another exception occurred:\n",
      "\u001b[0;31mTransportableException\u001b[0m                    Traceback (most recent call last)",
      "\u001b[0;32m~/anaconda3/lib/python3.6/site-packages/sklearn/externals/joblib/parallel.py\u001b[0m in \u001b[0;36mretrieve\u001b[0;34m(self)\u001b[0m\n\u001b[1;32m    698\u001b[0m     \u001b[0;32mdef\u001b[0m \u001b[0m_dispatch\u001b[0m\u001b[0;34m(\u001b[0m\u001b[0mself\u001b[0m\u001b[0;34m,\u001b[0m \u001b[0mbatch\u001b[0m\u001b[0;34m)\u001b[0m\u001b[0;34m:\u001b[0m\u001b[0;34m\u001b[0m\u001b[0m\n\u001b[0;32m--> 699\u001b[0;31m         \"\"\"Queue the batch for computing, with or without multiprocessing\n\u001b[0m\u001b[1;32m    700\u001b[0m \u001b[0;34m\u001b[0m\u001b[0m\n",
      "\u001b[0;32m~/anaconda3/lib/python3.6/multiprocessing/pool.py\u001b[0m in \u001b[0;36mget\u001b[0;34m(self, timeout)\u001b[0m\n\u001b[1;32m    643\u001b[0m \u001b[0;32mclass\u001b[0m \u001b[0mApplyResult\u001b[0m\u001b[0;34m(\u001b[0m\u001b[0mobject\u001b[0m\u001b[0;34m)\u001b[0m\u001b[0;34m:\u001b[0m\u001b[0;34m\u001b[0m\u001b[0m\n\u001b[0;32m--> 644\u001b[0;31m \u001b[0;34m\u001b[0m\u001b[0m\n\u001b[0m\u001b[1;32m    645\u001b[0m     \u001b[0;32mdef\u001b[0m \u001b[0m__init__\u001b[0m\u001b[0;34m(\u001b[0m\u001b[0mself\u001b[0m\u001b[0;34m,\u001b[0m \u001b[0mcache\u001b[0m\u001b[0;34m,\u001b[0m \u001b[0mcallback\u001b[0m\u001b[0;34m,\u001b[0m \u001b[0merror_callback\u001b[0m\u001b[0;34m)\u001b[0m\u001b[0;34m:\u001b[0m\u001b[0;34m\u001b[0m\u001b[0m\n",
      "\u001b[0;32m~/anaconda3/lib/python3.6/multiprocessing/pool.py\u001b[0m in \u001b[0;36mworker\u001b[0;34m(inqueue, outqueue, initializer, initargs, maxtasks, wrap_exception)\u001b[0m\n\u001b[1;32m    118\u001b[0m         \u001b[0;32mtry\u001b[0m\u001b[0;34m:\u001b[0m\u001b[0;34m\u001b[0m\u001b[0m\n\u001b[0;32m--> 119\u001b[0;31m             \u001b[0mresult\u001b[0m \u001b[0;34m=\u001b[0m \u001b[0;34m(\u001b[0m\u001b[0;32mTrue\u001b[0m\u001b[0;34m,\u001b[0m \u001b[0mfunc\u001b[0m\u001b[0;34m(\u001b[0m\u001b[0;34m*\u001b[0m\u001b[0margs\u001b[0m\u001b[0;34m,\u001b[0m \u001b[0;34m**\u001b[0m\u001b[0mkwds\u001b[0m\u001b[0;34m)\u001b[0m\u001b[0;34m)\u001b[0m\u001b[0;34m\u001b[0m\u001b[0m\n\u001b[0m\u001b[1;32m    120\u001b[0m         \u001b[0;32mexcept\u001b[0m \u001b[0mException\u001b[0m \u001b[0;32mas\u001b[0m \u001b[0me\u001b[0m\u001b[0;34m:\u001b[0m\u001b[0;34m\u001b[0m\u001b[0m\n",
      "\u001b[0;32m~/anaconda3/lib/python3.6/site-packages/sklearn/externals/joblib/_parallel_backends.py\u001b[0m in \u001b[0;36m__call__\u001b[0;34m(self, *args, **kwargs)\u001b[0m\n\u001b[1;32m    358\u001b[0m         \u001b[0;32mreturn\u001b[0m \u001b[0mn_jobs\u001b[0m\u001b[0;34m\u001b[0m\u001b[0m\n\u001b[0;32m--> 359\u001b[0;31m \u001b[0;34m\u001b[0m\u001b[0m\n\u001b[0m\u001b[1;32m    360\u001b[0m     \u001b[0;32mdef\u001b[0m \u001b[0m_get_pool\u001b[0m\u001b[0;34m(\u001b[0m\u001b[0mself\u001b[0m\u001b[0;34m)\u001b[0m\u001b[0;34m:\u001b[0m\u001b[0;34m\u001b[0m\u001b[0m\n",
      "\u001b[0;31mTransportableException\u001b[0m: TransportableException\n___________________________________________________________________________\nIndexError                                         Tue Jan  8 00:50:48 2019\nPID: 1345                    Python 3.6.3: /Users/eran/anaconda3/bin/python\n...........................................................................\n/Users/eran/anaconda3/lib/python3.6/site-packages/sklearn/externals/joblib/parallel.py in __call__(self=<sklearn.externals.joblib.parallel.BatchedCalls object>)\n    126     implementation using the ``register_parallel_backend`` function.\n    127 \n    128     By default the following backends are available:\n    129 \n    130     - 'loky': single-host, process-based parallelism (used by default),\n--> 131     - 'threading': single-host, thread-based parallelism,\n    132     - 'multiprocessing': legacy single-host, process-based parallelism.\n    133 \n    134     'loky' is recommended to run functions that manipulate Python objects.\n    135     'threading' is a low-overhead alternative that is most efficient for\n\n...........................................................................\n/Users/eran/anaconda3/lib/python3.6/site-packages/sklearn/externals/joblib/parallel.py in <listcomp>(.0=<list_iterator object>)\n    126     implementation using the ``register_parallel_backend`` function.\n    127 \n    128     By default the following backends are available:\n    129 \n    130     - 'loky': single-host, process-based parallelism (used by default),\n--> 131     - 'threading': single-host, thread-based parallelism,\n    132     - 'multiprocessing': legacy single-host, process-based parallelism.\n    133 \n    134     'loky' is recommended to run functions that manipulate Python objects.\n    135     'threading' is a low-overhead alternative that is most efficient for\n\n...........................................................................\n/Users/eran/anaconda3/lib/python3.6/site-packages/sklearn/model_selection/_validation.py in _fit_and_score(estimator=RandomForestClassifier(bootstrap=True, class_wei...se, random_state=42, verbose=0, warm_start=False), X=array([[-87.742     ,  41.764     ,  51.        ...8.48502622,\n          2.94010486,   1.97005243]]), y=array([0, 0, 0, ..., 1, 1, 1]), scorer={'accuracy_score': make_scorer(accuracy_score), 'precision_score': make_scorer(precision_score), 'recall_score': make_scorer(recall_score)}, train=array([    0,     1,     2, ..., 15923, 15924, 15925]), test=array([ 1687,  1688,  1689, ..., 11146, 11147, 11148]), verbose=0, parameters={'max_depth': 1, 'max_features': 3, 'min_samples_split': 2, 'n_estimators': 500}, fit_params={}, return_train_score='True', return_parameters=False, return_n_test_samples=True, return_times=True, error_score='raise')\n    453 \n    454     parameters : dict or None\n    455         Parameters to be set on the estimator.\n    456 \n    457     fit_params : dict or None\n--> 458         Parameters that will be passed to ``estimator.fit``.\n        estimator.fit. = undefined\n    459 \n    460     return_train_score : boolean, optional, default: False\n    461         Compute and return score on training set.\n    462 \n\n...........................................................................\n/Users/eran/anaconda3/lib/python3.6/site-packages/sklearn/ensemble/forest.py in fit(self=RandomForestClassifier(bootstrap=True, class_wei...se, random_state=42, verbose=0, warm_start=False), X=array([[-87.74199677,  41.76399994,  51.        ...       2.94010496,   1.97005248]], dtype=float32), y=array([[ 0.],\n       [ 0.],\n       [ 0.],\n       ..., \n       [ 1.],\n       [ 1.],\n       [ 1.]]), sample_weight=None)\n    311             if self.warm_start and len(self.estimators_) > 0:\n    312                 # We draw from the random state to get the random state we\n    313                 # would have got if we hadn't used a warm_start.\n    314                 random_state.randint(MAX_INT, size=len(self.estimators_))\n    315 \n--> 316             trees = []\n    317             for i in range(n_more_estimators):\n    318                 tree = self._make_estimator(append=False,\n    319                                             random_state=random_state)\n    320                 trees.append(tree)\n\n...........................................................................\n/Users/eran/anaconda3/lib/python3.6/site-packages/sklearn/ensemble/base.py in _make_estimator(self=RandomForestClassifier(bootstrap=True, class_wei...se, random_state=42, verbose=0, warm_start=False), append=False, random_state=<mtrand.RandomState object>)\n    122 \n    123         Warning: This method should be used to properly instantiate new\n    124         sub-estimators.\n    125         \"\"\"\n    126         estimator = clone(self.base_estimator_)\n--> 127         estimator.set_params(**dict((p, getattr(self, p))\n        estimator.set_params = <bound method BaseEstimator.set_params of Decisi... random_state=None,\n            splitter='best')>\n        self = RandomForestClassifier(bootstrap=True, class_wei...se, random_state=42, verbose=0, warm_start=False)\n        self.estimator_params = ('criterion', 'max_depth', 'min_samples_split', 'min_samples_leaf', 'min_weight_fraction_leaf', 'max_features', 'max_leaf_nodes', 'min_impurity_decrease', 'min_impurity_split', 'random_state')\n    128                                     for p in self.estimator_params))\n    129 \n    130         if random_state is not None:\n    131             _set_random_states(estimator, random_state)\n\n...........................................................................\n/Users/eran/anaconda3/lib/python3.6/site-packages/sklearn/base.py in set_params(self=DecisionTreeClassifier(class_weight=None, criter..., random_state=None,\n            splitter='best'), **params={'criterion': 'gini', 'max_depth': 1, 'max_features': 3, 'max_leaf_nodes': None, 'min_impurity_decrease': 0.0, 'min_impurity_split': None, 'min_samples_leaf': 1, 'min_samples_split': 2, 'min_weight_fraction_leaf': 0.0, 'random_state': 42})\n    260     \"\"\"Mixin class for all classifiers in scikit-learn.\"\"\"\n    261     _estimator_type = \"classifier\"\n    262 \n    263     def score(self, X, y, sample_weight=None):\n    264         \"\"\"Returns the mean accuracy on the given test data and labels.\n--> 265 \n    266         In multi-label classification, this is the subset accuracy\n    267         which is a harsh metric since you require for each sample that\n    268         each label set be correctly predicted.\n    269 \n\n...........................................................................\n/Users/eran/anaconda3/lib/python3.6/site-packages/sklearn/base.py in get_params(self=DecisionTreeClassifier(class_weight=None, criter..., random_state=None,\n            splitter='best'), deep=True)\n    236 \n    237         if type(self).__module__.startswith('sklearn.'):\n    238             return dict(state.items(), _sklearn_version=__version__)\n    239         else:\n    240             return state\n--> 241 \n        self = DecisionTreeClassifier(class_weight=None, criter..., random_state=None,\n            splitter='best')\n    242     def __setstate__(self, state):\n    243         if type(self).__module__.startswith('sklearn.'):\n    244             pickle_version = state.pop(\"_sklearn_version\", \"pre-0.18\")\n    245             if pickle_version != __version__:\n\nIndexError: pop from empty list\n___________________________________________________________________________",
      "\nDuring handling of the above exception, another exception occurred:\n",
      "\u001b[0;31mJoblibIndexError\u001b[0m                          Traceback (most recent call last)",
      "\u001b[0;32m<ipython-input-1718-7e385c74138f>\u001b[0m in \u001b[0;36m<module>\u001b[0;34m()\u001b[0m\n\u001b[0;32m----> 1\u001b[0;31m \u001b[0mGSrf2\u001b[0m\u001b[0;34m=\u001b[0m\u001b[0mgrid_func\u001b[0m\u001b[0;34m(\u001b[0m\u001b[0;34m'recall_score'\u001b[0m\u001b[0;34m)\u001b[0m\u001b[0;34m\u001b[0m\u001b[0m\n\u001b[0m",
      "\u001b[0;32m<ipython-input-1717-b0bdca0cf635>\u001b[0m in \u001b[0;36mgrid_func\u001b[0;34m(the_score)\u001b[0m\n\u001b[1;32m      6\u001b[0m \u001b[0;34m\u001b[0m\u001b[0m\n\u001b[1;32m      7\u001b[0m     \u001b[0;32mwith\u001b[0m \u001b[0mparallel_backend\u001b[0m\u001b[0;34m(\u001b[0m\u001b[0;34m'threading'\u001b[0m\u001b[0;34m)\u001b[0m\u001b[0;34m:\u001b[0m\u001b[0;34m\u001b[0m\u001b[0m\n\u001b[0;32m----> 8\u001b[0;31m         \u001b[0mGS\u001b[0m\u001b[0;34m.\u001b[0m\u001b[0mfit\u001b[0m\u001b[0;34m(\u001b[0m\u001b[0msmtXtrain\u001b[0m\u001b[0;34m,\u001b[0m\u001b[0msmtytrain\u001b[0m\u001b[0;34m)\u001b[0m\u001b[0;34m\u001b[0m\u001b[0m\n\u001b[0m\u001b[1;32m      9\u001b[0m \u001b[0;34m\u001b[0m\u001b[0m\n\u001b[1;32m     10\u001b[0m     \u001b[0mprediction\u001b[0m\u001b[0;34m=\u001b[0m\u001b[0mGS\u001b[0m\u001b[0;34m.\u001b[0m\u001b[0mpredict\u001b[0m\u001b[0;34m(\u001b[0m\u001b[0mXtest\u001b[0m\u001b[0;34m)\u001b[0m\u001b[0;34m\u001b[0m\u001b[0m\n",
      "\u001b[0;32m~/anaconda3/lib/python3.6/site-packages/sklearn/model_selection/_search.py\u001b[0m in \u001b[0;36mfit\u001b[0;34m(self, X, y, groups, **fit_params)\u001b[0m\n\u001b[1;32m    637\u001b[0m         \"\"\"\n\u001b[1;32m    638\u001b[0m \u001b[0;34m\u001b[0m\u001b[0m\n\u001b[0;32m--> 639\u001b[0;31m         \u001b[0;32mif\u001b[0m \u001b[0mself\u001b[0m\u001b[0;34m.\u001b[0m\u001b[0mfit_params\u001b[0m \u001b[0;32mis\u001b[0m \u001b[0;32mnot\u001b[0m \u001b[0;32mNone\u001b[0m\u001b[0;34m:\u001b[0m\u001b[0;34m\u001b[0m\u001b[0m\n\u001b[0m\u001b[1;32m    640\u001b[0m             warnings.warn('\"fit_params\" as a constructor argument was '\n\u001b[1;32m    641\u001b[0m                           \u001b[0;34m'deprecated in version 0.19 and will be removed '\u001b[0m\u001b[0;34m\u001b[0m\u001b[0m\n",
      "\u001b[0;32m~/anaconda3/lib/python3.6/site-packages/sklearn/externals/joblib/parallel.py\u001b[0m in \u001b[0;36m__call__\u001b[0;34m(self, iterable)\u001b[0m\n\u001b[1;32m    787\u001b[0m         \u001b[0;31m# tasks.\u001b[0m\u001b[0;34m\u001b[0m\u001b[0;34m\u001b[0m\u001b[0m\n\u001b[1;32m    788\u001b[0m         \u001b[0;32mif\u001b[0m \u001b[0mself\u001b[0m\u001b[0;34m.\u001b[0m\u001b[0m_original_iterator\u001b[0m \u001b[0;32mis\u001b[0m \u001b[0;32mnot\u001b[0m \u001b[0;32mNone\u001b[0m\u001b[0;34m:\u001b[0m\u001b[0;34m\u001b[0m\u001b[0m\n\u001b[0;32m--> 789\u001b[0;31m             \u001b[0;32mif\u001b[0m \u001b[0m_verbosity_filter\u001b[0m\u001b[0;34m(\u001b[0m\u001b[0mself\u001b[0m\u001b[0;34m.\u001b[0m\u001b[0mn_dispatched_batches\u001b[0m\u001b[0;34m,\u001b[0m \u001b[0mself\u001b[0m\u001b[0;34m.\u001b[0m\u001b[0mverbose\u001b[0m\u001b[0;34m)\u001b[0m\u001b[0;34m:\u001b[0m\u001b[0;34m\u001b[0m\u001b[0m\n\u001b[0m\u001b[1;32m    790\u001b[0m                 \u001b[0;32mreturn\u001b[0m\u001b[0;34m\u001b[0m\u001b[0m\n\u001b[1;32m    791\u001b[0m             self._print('Done %3i tasks      | elapsed: %s',\n",
      "\u001b[0;32m~/anaconda3/lib/python3.6/site-packages/sklearn/externals/joblib/parallel.py\u001b[0m in \u001b[0;36mretrieve\u001b[0;34m(self)\u001b[0m\n\u001b[1;32m    738\u001b[0m         \u001b[0mThe\u001b[0m \u001b[0meffective\u001b[0m \u001b[0msize\u001b[0m \u001b[0mof\u001b[0m \u001b[0mthe\u001b[0m \u001b[0mbatch\u001b[0m \u001b[0;32mis\u001b[0m \u001b[0mcomputed\u001b[0m \u001b[0mhere\u001b[0m\u001b[0;34m.\u001b[0m\u001b[0;34m\u001b[0m\u001b[0m\n\u001b[1;32m    739\u001b[0m         \u001b[0mIf\u001b[0m \u001b[0mthere\u001b[0m \u001b[0mare\u001b[0m \u001b[0mno\u001b[0m \u001b[0mmore\u001b[0m \u001b[0mjobs\u001b[0m \u001b[0mto\u001b[0m \u001b[0mdispatch\u001b[0m\u001b[0;34m,\u001b[0m \u001b[0;32mreturn\u001b[0m \u001b[0;32mFalse\u001b[0m\u001b[0;34m,\u001b[0m \u001b[0;32melse\u001b[0m \u001b[0;32mreturn\u001b[0m \u001b[0;32mTrue\u001b[0m\u001b[0;34m.\u001b[0m\u001b[0;34m\u001b[0m\u001b[0m\n\u001b[0;32m--> 740\u001b[0;31m \u001b[0;34m\u001b[0m\u001b[0m\n\u001b[0m\u001b[1;32m    741\u001b[0m         \u001b[0mThe\u001b[0m \u001b[0miterator\u001b[0m \u001b[0mconsumption\u001b[0m \u001b[0;32mand\u001b[0m \u001b[0mdispatching\u001b[0m \u001b[0;32mis\u001b[0m \u001b[0mprotected\u001b[0m \u001b[0mby\u001b[0m \u001b[0mthe\u001b[0m \u001b[0msame\u001b[0m\u001b[0;34m\u001b[0m\u001b[0m\n\u001b[1;32m    742\u001b[0m         \u001b[0mlock\u001b[0m \u001b[0mso\u001b[0m \u001b[0mcalling\u001b[0m \u001b[0mthis\u001b[0m \u001b[0mfunction\u001b[0m \u001b[0mshould\u001b[0m \u001b[0mbe\u001b[0m \u001b[0mthread\u001b[0m \u001b[0msafe\u001b[0m\u001b[0;34m.\u001b[0m\u001b[0;34m\u001b[0m\u001b[0m\n",
      "\u001b[0;31mJoblibIndexError\u001b[0m: JoblibIndexError\n___________________________________________________________________________\nMultiprocessing exception:\n...........................................................................\n/Users/eran/anaconda3/lib/python3.6/runpy.py in _run_module_as_main(mod_name='ipykernel_launcher', alter_argv=1)\n    188         sys.exit(msg)\n    189     main_globals = sys.modules[\"__main__\"].__dict__\n    190     if alter_argv:\n    191         sys.argv[0] = mod_spec.origin\n    192     return _run_code(code, main_globals, None,\n--> 193                      \"__main__\", mod_spec)\n        mod_spec = ModuleSpec(name='ipykernel_launcher', loader=<_f...b/python3.6/site-packages/ipykernel_launcher.py')\n    194 \n    195 def run_module(mod_name, init_globals=None,\n    196                run_name=None, alter_sys=False):\n    197     \"\"\"Execute a module's code without importing it\n\n...........................................................................\n/Users/eran/anaconda3/lib/python3.6/runpy.py in _run_code(code=<code object <module> at 0x107568930, file \"/Use...3.6/site-packages/ipykernel_launcher.py\", line 5>, run_globals={'__annotations__': {}, '__builtins__': <module 'builtins' (built-in)>, '__cached__': '/Users/eran/anaconda3/lib/python3.6/site-packages/__pycache__/ipykernel_launcher.cpython-36.pyc', '__doc__': 'Entry point for launching an IPython kernel.\\n\\nTh...orts until\\nafter removing the cwd from sys.path.\\n', '__file__': '/Users/eran/anaconda3/lib/python3.6/site-packages/ipykernel_launcher.py', '__loader__': <_frozen_importlib_external.SourceFileLoader object>, '__name__': '__main__', '__package__': '', '__spec__': ModuleSpec(name='ipykernel_launcher', loader=<_f...b/python3.6/site-packages/ipykernel_launcher.py'), 'app': <module 'ipykernel.kernelapp' from '/Users/eran/.../python3.6/site-packages/ipykernel/kernelapp.py'>, ...}, init_globals=None, mod_name='__main__', mod_spec=ModuleSpec(name='ipykernel_launcher', loader=<_f...b/python3.6/site-packages/ipykernel_launcher.py'), pkg_name='', script_name=None)\n     80                        __cached__ = cached,\n     81                        __doc__ = None,\n     82                        __loader__ = loader,\n     83                        __package__ = pkg_name,\n     84                        __spec__ = mod_spec)\n---> 85     exec(code, run_globals)\n        code = <code object <module> at 0x107568930, file \"/Use...3.6/site-packages/ipykernel_launcher.py\", line 5>\n        run_globals = {'__annotations__': {}, '__builtins__': <module 'builtins' (built-in)>, '__cached__': '/Users/eran/anaconda3/lib/python3.6/site-packages/__pycache__/ipykernel_launcher.cpython-36.pyc', '__doc__': 'Entry point for launching an IPython kernel.\\n\\nTh...orts until\\nafter removing the cwd from sys.path.\\n', '__file__': '/Users/eran/anaconda3/lib/python3.6/site-packages/ipykernel_launcher.py', '__loader__': <_frozen_importlib_external.SourceFileLoader object>, '__name__': '__main__', '__package__': '', '__spec__': ModuleSpec(name='ipykernel_launcher', loader=<_f...b/python3.6/site-packages/ipykernel_launcher.py'), 'app': <module 'ipykernel.kernelapp' from '/Users/eran/.../python3.6/site-packages/ipykernel/kernelapp.py'>, ...}\n     86     return run_globals\n     87 \n     88 def _run_module_code(code, init_globals=None,\n     89                     mod_name=None, mod_spec=None,\n\n...........................................................................\n/Users/eran/anaconda3/lib/python3.6/site-packages/ipykernel_launcher.py in <module>()\n     11     # This is added back by InteractiveShellApp.init_path()\n     12     if sys.path[0] == '':\n     13         del sys.path[0]\n     14 \n     15     from ipykernel import kernelapp as app\n---> 16     app.launch_new_instance()\n\n...........................................................................\n/Users/eran/anaconda3/lib/python3.6/site-packages/traitlets/config/application.py in launch_instance(cls=<class 'ipykernel.kernelapp.IPKernelApp'>, argv=None, **kwargs={})\n    653 \n    654         If a global instance already exists, this reinitializes and starts it\n    655         \"\"\"\n    656         app = cls.instance(**kwargs)\n    657         app.initialize(argv)\n--> 658         app.start()\n        app.start = <bound method IPKernelApp.start of <ipykernel.kernelapp.IPKernelApp object>>\n    659 \n    660 #-----------------------------------------------------------------------------\n    661 # utility functions, for convenience\n    662 #-----------------------------------------------------------------------------\n\n...........................................................................\n/Users/eran/anaconda3/lib/python3.6/site-packages/ipykernel/kernelapp.py in start(self=<ipykernel.kernelapp.IPKernelApp object>)\n    472             return self.subapp.start()\n    473         if self.poller is not None:\n    474             self.poller.start()\n    475         self.kernel.start()\n    476         try:\n--> 477             ioloop.IOLoop.instance().start()\n    478         except KeyboardInterrupt:\n    479             pass\n    480 \n    481 launch_new_instance = IPKernelApp.launch_instance\n\n...........................................................................\n/Users/eran/anaconda3/lib/python3.6/site-packages/zmq/eventloop/ioloop.py in start(self=<zmq.eventloop.ioloop.ZMQIOLoop object>)\n    172             )\n    173         return loop\n    174     \n    175     def start(self):\n    176         try:\n--> 177             super(ZMQIOLoop, self).start()\n        self.start = <bound method ZMQIOLoop.start of <zmq.eventloop.ioloop.ZMQIOLoop object>>\n    178         except ZMQError as e:\n    179             if e.errno == ETERM:\n    180                 # quietly return on ETERM\n    181                 pass\n\n...........................................................................\n/Users/eran/anaconda3/lib/python3.6/site-packages/tornado/ioloop.py in start(self=<zmq.eventloop.ioloop.ZMQIOLoop object>)\n    883                 self._events.update(event_pairs)\n    884                 while self._events:\n    885                     fd, events = self._events.popitem()\n    886                     try:\n    887                         fd_obj, handler_func = self._handlers[fd]\n--> 888                         handler_func(fd_obj, events)\n        handler_func = <function wrap.<locals>.null_wrapper>\n        fd_obj = <zmq.sugar.socket.Socket object>\n        events = 1\n    889                     except (OSError, IOError) as e:\n    890                         if errno_from_exception(e) == errno.EPIPE:\n    891                             # Happens when the client closes the connection\n    892                             pass\n\n...........................................................................\n/Users/eran/anaconda3/lib/python3.6/site-packages/tornado/stack_context.py in null_wrapper(*args=(<zmq.sugar.socket.Socket object>, 1), **kwargs={})\n    272         # Fast path when there are no active contexts.\n    273         def null_wrapper(*args, **kwargs):\n    274             try:\n    275                 current_state = _state.contexts\n    276                 _state.contexts = cap_contexts[0]\n--> 277                 return fn(*args, **kwargs)\n        args = (<zmq.sugar.socket.Socket object>, 1)\n        kwargs = {}\n    278             finally:\n    279                 _state.contexts = current_state\n    280         null_wrapper._wrapped = True\n    281         return null_wrapper\n\n...........................................................................\n/Users/eran/anaconda3/lib/python3.6/site-packages/zmq/eventloop/zmqstream.py in _handle_events(self=<zmq.eventloop.zmqstream.ZMQStream object>, fd=<zmq.sugar.socket.Socket object>, events=1)\n    435             # dispatch events:\n    436             if events & IOLoop.ERROR:\n    437                 gen_log.error(\"got POLLERR event on ZMQStream, which doesn't make sense\")\n    438                 return\n    439             if events & IOLoop.READ:\n--> 440                 self._handle_recv()\n        self._handle_recv = <bound method ZMQStream._handle_recv of <zmq.eventloop.zmqstream.ZMQStream object>>\n    441                 if not self.socket:\n    442                     return\n    443             if events & IOLoop.WRITE:\n    444                 self._handle_send()\n\n...........................................................................\n/Users/eran/anaconda3/lib/python3.6/site-packages/zmq/eventloop/zmqstream.py in _handle_recv(self=<zmq.eventloop.zmqstream.ZMQStream object>)\n    467                 gen_log.error(\"RECV Error: %s\"%zmq.strerror(e.errno))\n    468         else:\n    469             if self._recv_callback:\n    470                 callback = self._recv_callback\n    471                 # self._recv_callback = None\n--> 472                 self._run_callback(callback, msg)\n        self._run_callback = <bound method ZMQStream._run_callback of <zmq.eventloop.zmqstream.ZMQStream object>>\n        callback = <function wrap.<locals>.null_wrapper>\n        msg = [<zmq.sugar.frame.Frame object>, <zmq.sugar.frame.Frame object>, <zmq.sugar.frame.Frame object>, <zmq.sugar.frame.Frame object>, <zmq.sugar.frame.Frame object>, <zmq.sugar.frame.Frame object>, <zmq.sugar.frame.Frame object>]\n    473                 \n    474         # self.update_state()\n    475         \n    476 \n\n...........................................................................\n/Users/eran/anaconda3/lib/python3.6/site-packages/zmq/eventloop/zmqstream.py in _run_callback(self=<zmq.eventloop.zmqstream.ZMQStream object>, callback=<function wrap.<locals>.null_wrapper>, *args=([<zmq.sugar.frame.Frame object>, <zmq.sugar.frame.Frame object>, <zmq.sugar.frame.Frame object>, <zmq.sugar.frame.Frame object>, <zmq.sugar.frame.Frame object>, <zmq.sugar.frame.Frame object>, <zmq.sugar.frame.Frame object>],), **kwargs={})\n    409         close our socket.\"\"\"\n    410         try:\n    411             # Use a NullContext to ensure that all StackContexts are run\n    412             # inside our blanket exception handler rather than outside.\n    413             with stack_context.NullContext():\n--> 414                 callback(*args, **kwargs)\n        callback = <function wrap.<locals>.null_wrapper>\n        args = ([<zmq.sugar.frame.Frame object>, <zmq.sugar.frame.Frame object>, <zmq.sugar.frame.Frame object>, <zmq.sugar.frame.Frame object>, <zmq.sugar.frame.Frame object>, <zmq.sugar.frame.Frame object>, <zmq.sugar.frame.Frame object>],)\n        kwargs = {}\n    415         except:\n    416             gen_log.error(\"Uncaught exception, closing connection.\",\n    417                           exc_info=True)\n    418             # Close the socket on an uncaught exception from a user callback\n\n...........................................................................\n/Users/eran/anaconda3/lib/python3.6/site-packages/tornado/stack_context.py in null_wrapper(*args=([<zmq.sugar.frame.Frame object>, <zmq.sugar.frame.Frame object>, <zmq.sugar.frame.Frame object>, <zmq.sugar.frame.Frame object>, <zmq.sugar.frame.Frame object>, <zmq.sugar.frame.Frame object>, <zmq.sugar.frame.Frame object>],), **kwargs={})\n    272         # Fast path when there are no active contexts.\n    273         def null_wrapper(*args, **kwargs):\n    274             try:\n    275                 current_state = _state.contexts\n    276                 _state.contexts = cap_contexts[0]\n--> 277                 return fn(*args, **kwargs)\n        args = ([<zmq.sugar.frame.Frame object>, <zmq.sugar.frame.Frame object>, <zmq.sugar.frame.Frame object>, <zmq.sugar.frame.Frame object>, <zmq.sugar.frame.Frame object>, <zmq.sugar.frame.Frame object>, <zmq.sugar.frame.Frame object>],)\n        kwargs = {}\n    278             finally:\n    279                 _state.contexts = current_state\n    280         null_wrapper._wrapped = True\n    281         return null_wrapper\n\n...........................................................................\n/Users/eran/anaconda3/lib/python3.6/site-packages/ipykernel/kernelbase.py in dispatcher(msg=[<zmq.sugar.frame.Frame object>, <zmq.sugar.frame.Frame object>, <zmq.sugar.frame.Frame object>, <zmq.sugar.frame.Frame object>, <zmq.sugar.frame.Frame object>, <zmq.sugar.frame.Frame object>, <zmq.sugar.frame.Frame object>])\n    278         if self.control_stream:\n    279             self.control_stream.on_recv(self.dispatch_control, copy=False)\n    280 \n    281         def make_dispatcher(stream):\n    282             def dispatcher(msg):\n--> 283                 return self.dispatch_shell(stream, msg)\n        msg = [<zmq.sugar.frame.Frame object>, <zmq.sugar.frame.Frame object>, <zmq.sugar.frame.Frame object>, <zmq.sugar.frame.Frame object>, <zmq.sugar.frame.Frame object>, <zmq.sugar.frame.Frame object>, <zmq.sugar.frame.Frame object>]\n    284             return dispatcher\n    285 \n    286         for s in self.shell_streams:\n    287             s.on_recv(make_dispatcher(s), copy=False)\n\n...........................................................................\n/Users/eran/anaconda3/lib/python3.6/site-packages/ipykernel/kernelbase.py in dispatch_shell(self=<ipykernel.ipkernel.IPythonKernel object>, stream=<zmq.eventloop.zmqstream.ZMQStream object>, msg={'buffers': [], 'content': {'allow_stdin': True, 'code': \"GSrf2=grid_func('recall_score')\", 'silent': False, 'stop_on_error': True, 'store_history': True, 'user_expressions': {}}, 'header': {'date': datetime.datetime(2019, 1, 8, 5, 50, 42, 282805, tzinfo=tzutc()), 'msg_id': '42E453BC4B624EF29CFDF6E4799288A9', 'msg_type': 'execute_request', 'session': 'CC5E886DB0C640678BEECD9C8E9C0E0C', 'username': 'username', 'version': '5.0'}, 'metadata': {}, 'msg_id': '42E453BC4B624EF29CFDF6E4799288A9', 'msg_type': 'execute_request', 'parent_header': {}})\n    230             self.log.warn(\"Unknown message type: %r\", msg_type)\n    231         else:\n    232             self.log.debug(\"%s: %s\", msg_type, msg)\n    233             self.pre_handler_hook()\n    234             try:\n--> 235                 handler(stream, idents, msg)\n        handler = <bound method Kernel.execute_request of <ipykernel.ipkernel.IPythonKernel object>>\n        stream = <zmq.eventloop.zmqstream.ZMQStream object>\n        idents = [b'CC5E886DB0C640678BEECD9C8E9C0E0C']\n        msg = {'buffers': [], 'content': {'allow_stdin': True, 'code': \"GSrf2=grid_func('recall_score')\", 'silent': False, 'stop_on_error': True, 'store_history': True, 'user_expressions': {}}, 'header': {'date': datetime.datetime(2019, 1, 8, 5, 50, 42, 282805, tzinfo=tzutc()), 'msg_id': '42E453BC4B624EF29CFDF6E4799288A9', 'msg_type': 'execute_request', 'session': 'CC5E886DB0C640678BEECD9C8E9C0E0C', 'username': 'username', 'version': '5.0'}, 'metadata': {}, 'msg_id': '42E453BC4B624EF29CFDF6E4799288A9', 'msg_type': 'execute_request', 'parent_header': {}}\n    236             except Exception:\n    237                 self.log.error(\"Exception in message handler:\", exc_info=True)\n    238             finally:\n    239                 self.post_handler_hook()\n\n...........................................................................\n/Users/eran/anaconda3/lib/python3.6/site-packages/ipykernel/kernelbase.py in execute_request(self=<ipykernel.ipkernel.IPythonKernel object>, stream=<zmq.eventloop.zmqstream.ZMQStream object>, ident=[b'CC5E886DB0C640678BEECD9C8E9C0E0C'], parent={'buffers': [], 'content': {'allow_stdin': True, 'code': \"GSrf2=grid_func('recall_score')\", 'silent': False, 'stop_on_error': True, 'store_history': True, 'user_expressions': {}}, 'header': {'date': datetime.datetime(2019, 1, 8, 5, 50, 42, 282805, tzinfo=tzutc()), 'msg_id': '42E453BC4B624EF29CFDF6E4799288A9', 'msg_type': 'execute_request', 'session': 'CC5E886DB0C640678BEECD9C8E9C0E0C', 'username': 'username', 'version': '5.0'}, 'metadata': {}, 'msg_id': '42E453BC4B624EF29CFDF6E4799288A9', 'msg_type': 'execute_request', 'parent_header': {}})\n    394         if not silent:\n    395             self.execution_count += 1\n    396             self._publish_execute_input(code, parent, self.execution_count)\n    397 \n    398         reply_content = self.do_execute(code, silent, store_history,\n--> 399                                         user_expressions, allow_stdin)\n        user_expressions = {}\n        allow_stdin = True\n    400 \n    401         # Flush output before sending the reply.\n    402         sys.stdout.flush()\n    403         sys.stderr.flush()\n\n...........................................................................\n/Users/eran/anaconda3/lib/python3.6/site-packages/ipykernel/ipkernel.py in do_execute(self=<ipykernel.ipkernel.IPythonKernel object>, code=\"GSrf2=grid_func('recall_score')\", silent=False, store_history=True, user_expressions={}, allow_stdin=True)\n    191 \n    192         self._forward_input(allow_stdin)\n    193 \n    194         reply_content = {}\n    195         try:\n--> 196             res = shell.run_cell(code, store_history=store_history, silent=silent)\n        res = undefined\n        shell.run_cell = <bound method ZMQInteractiveShell.run_cell of <ipykernel.zmqshell.ZMQInteractiveShell object>>\n        code = \"GSrf2=grid_func('recall_score')\"\n        store_history = True\n        silent = False\n    197         finally:\n    198             self._restore_input()\n    199 \n    200         if res.error_before_exec is not None:\n\n...........................................................................\n/Users/eran/anaconda3/lib/python3.6/site-packages/ipykernel/zmqshell.py in run_cell(self=<ipykernel.zmqshell.ZMQInteractiveShell object>, *args=(\"GSrf2=grid_func('recall_score')\",), **kwargs={'silent': False, 'store_history': True})\n    528             )\n    529         self.payload_manager.write_payload(payload)\n    530 \n    531     def run_cell(self, *args, **kwargs):\n    532         self._last_traceback = None\n--> 533         return super(ZMQInteractiveShell, self).run_cell(*args, **kwargs)\n        self.run_cell = <bound method ZMQInteractiveShell.run_cell of <ipykernel.zmqshell.ZMQInteractiveShell object>>\n        args = (\"GSrf2=grid_func('recall_score')\",)\n        kwargs = {'silent': False, 'store_history': True}\n    534 \n    535     def _showtraceback(self, etype, evalue, stb):\n    536         # try to preserve ordering of tracebacks and print statements\n    537         sys.stdout.flush()\n\n...........................................................................\n/Users/eran/anaconda3/lib/python3.6/site-packages/IPython/core/interactiveshell.py in run_cell(self=<ipykernel.zmqshell.ZMQInteractiveShell object>, raw_cell=\"GSrf2=grid_func('recall_score')\", store_history=True, silent=False, shell_futures=True)\n   2693                 self.displayhook.exec_result = result\n   2694 \n   2695                 # Execute the user code\n   2696                 interactivity = \"none\" if silent else self.ast_node_interactivity\n   2697                 has_raised = self.run_ast_nodes(code_ast.body, cell_name,\n-> 2698                    interactivity=interactivity, compiler=compiler, result=result)\n        interactivity = 'last_expr'\n        compiler = <IPython.core.compilerop.CachingCompiler object>\n   2699                 \n   2700                 self.last_execution_succeeded = not has_raised\n   2701 \n   2702                 # Reset this so later displayed values do not modify the\n\n...........................................................................\n/Users/eran/anaconda3/lib/python3.6/site-packages/IPython/core/interactiveshell.py in run_ast_nodes(self=<ipykernel.zmqshell.ZMQInteractiveShell object>, nodelist=[<_ast.Assign object>], cell_name='<ipython-input-1718-7e385c74138f>', interactivity='none', compiler=<IPython.core.compilerop.CachingCompiler object>, result=<ExecutionResult object at 1a40cf1128, execution..._before_exec=None error_in_exec=None result=None>)\n   2797 \n   2798         try:\n   2799             for i, node in enumerate(to_run_exec):\n   2800                 mod = ast.Module([node])\n   2801                 code = compiler(mod, cell_name, \"exec\")\n-> 2802                 if self.run_code(code, result):\n        self.run_code = <bound method InteractiveShell.run_code of <ipykernel.zmqshell.ZMQInteractiveShell object>>\n        code = <code object <module> at 0x1a3c719390, file \"<ipython-input-1718-7e385c74138f>\", line 1>\n        result = <ExecutionResult object at 1a40cf1128, execution..._before_exec=None error_in_exec=None result=None>\n   2803                     return True\n   2804 \n   2805             for i, node in enumerate(to_run_interactive):\n   2806                 mod = ast.Interactive([node])\n\n...........................................................................\n/Users/eran/anaconda3/lib/python3.6/site-packages/IPython/core/interactiveshell.py in run_code(self=<ipykernel.zmqshell.ZMQInteractiveShell object>, code_obj=<code object <module> at 0x1a3c719390, file \"<ipython-input-1718-7e385c74138f>\", line 1>, result=<ExecutionResult object at 1a40cf1128, execution..._before_exec=None error_in_exec=None result=None>)\n   2857         outflag = True  # happens in more places, so it's easier as default\n   2858         try:\n   2859             try:\n   2860                 self.hooks.pre_run_code_hook()\n   2861                 #rprint('Running code', repr(code_obj)) # dbg\n-> 2862                 exec(code_obj, self.user_global_ns, self.user_ns)\n        code_obj = <code object <module> at 0x1a3c719390, file \"<ipython-input-1718-7e385c74138f>\", line 1>\n        self.user_global_ns = {'GS': GridSearchCV(cv=StratifiedKFold(n_splits=10, ran...e': make_scorer(recall_score)},\n       verbose=0), 'GridSearchCV': <class 'sklearn.model_selection._search.GridSearchCV'>, 'In': ['', 'import numpy as np\\nimport pandas as pd\\nimport os', 'directory_path=\"/Users/eran/Galvanize_more_repositories/WestNileVirus/all/\"\\ndirectory_path', 'train_csv=os.path.join(directory_path, \"train.csv\")', '# Reading in the train data\\ntrain=pd.read_csv(train_csv)', 'train.info()', 'train.head(3)', \"train['Species'].unique() ## 6 different species\", \"len(train['Trap'].unique()) ## 136 different traps\", \"train['AddressAccuracy'].describe() ## this is (...iption) the accuracy as returned from geo-locator\", \"train['AddressAccuracy'].hist() ## so most accur...3,4 categories and then into 3,4 dummie features \", '# looking at bars of every specie whether it has...s\" has the highest relative portion of WNtV ~10% ', \"# make new train with dummies\\ntrainWdum=pd.get_dummies(train,columns=['Species'],drop_first=True)\", 'trainWdum.describe()', \"# example of how many observation for 1 location...nWdum['Longitude']==-87.800991)]\\nlen(df1location)\", 'df1location.head(1)', '## two rows in the train data: same date place e...pecies are differen \\ntrain.iloc[1]==train.iloc[0]', 'df1location.tail(1)', \"# there are 185 records from the same location c...ted in 67 dates\\nlen(df1location['Date'].unique())\", \"trainBasic=trainWdum[['Latitude','Longitude','Ad...ARSALIS','Species_CULEX TERRITANS','WnvPresent']]\", ...], 'KNeighborsClassifier': <class 'sklearn.neighbors.classification.KNeighborsClassifier'>, 'LogisticRegression': <class 'sklearn.linear_model.logistic.LogisticRegression'>, 'Out': {2: '/Users/eran/Galvanize_more_repositories/WestNileVirus/all/', 6:          Date                                   ...    1           0  \n2             1           0  , 7: array(['CULEX PIPIENS/RESTUANS', 'CULEX RESTUANS...RSALIS',\n       'CULEX ERRATICUS'], dtype=object), 8: 136, 9: count    10506.000000\nmean         7.819532\nstd ...   9.000000\nName: AddressAccuracy, dtype: float64, 10: <matplotlib.axes._subplots.AxesSubplot object>, 11: <matplotlib.axes._subplots.AxesSubplot object>, 13:               Block      Latitude     Longitude ...      0.000000  \nmax                   1.000000  , 14: 185, 15:          Date                                   ...es_CULEX TERRITANS  \n0                        0  , ...}, 'PCA': <class 'sklearn.decomposition.pca.PCA'>, 'RandomForestClassifier': <class 'sklearn.ensemble.forest.RandomForestClassifier'>, 'RandomForestRegressor': <class 'sklearn.ensemble.forest.RandomForestRegressor'>, 'SMOTE': <class 'imblearn.over_sampling.smote.SMOTE'>, ...}\n        self.user_ns = {'GS': GridSearchCV(cv=StratifiedKFold(n_splits=10, ran...e': make_scorer(recall_score)},\n       verbose=0), 'GridSearchCV': <class 'sklearn.model_selection._search.GridSearchCV'>, 'In': ['', 'import numpy as np\\nimport pandas as pd\\nimport os', 'directory_path=\"/Users/eran/Galvanize_more_repositories/WestNileVirus/all/\"\\ndirectory_path', 'train_csv=os.path.join(directory_path, \"train.csv\")', '# Reading in the train data\\ntrain=pd.read_csv(train_csv)', 'train.info()', 'train.head(3)', \"train['Species'].unique() ## 6 different species\", \"len(train['Trap'].unique()) ## 136 different traps\", \"train['AddressAccuracy'].describe() ## this is (...iption) the accuracy as returned from geo-locator\", \"train['AddressAccuracy'].hist() ## so most accur...3,4 categories and then into 3,4 dummie features \", '# looking at bars of every specie whether it has...s\" has the highest relative portion of WNtV ~10% ', \"# make new train with dummies\\ntrainWdum=pd.get_dummies(train,columns=['Species'],drop_first=True)\", 'trainWdum.describe()', \"# example of how many observation for 1 location...nWdum['Longitude']==-87.800991)]\\nlen(df1location)\", 'df1location.head(1)', '## two rows in the train data: same date place e...pecies are differen \\ntrain.iloc[1]==train.iloc[0]', 'df1location.tail(1)', \"# there are 185 records from the same location c...ted in 67 dates\\nlen(df1location['Date'].unique())\", \"trainBasic=trainWdum[['Latitude','Longitude','Ad...ARSALIS','Species_CULEX TERRITANS','WnvPresent']]\", ...], 'KNeighborsClassifier': <class 'sklearn.neighbors.classification.KNeighborsClassifier'>, 'LogisticRegression': <class 'sklearn.linear_model.logistic.LogisticRegression'>, 'Out': {2: '/Users/eran/Galvanize_more_repositories/WestNileVirus/all/', 6:          Date                                   ...    1           0  \n2             1           0  , 7: array(['CULEX PIPIENS/RESTUANS', 'CULEX RESTUANS...RSALIS',\n       'CULEX ERRATICUS'], dtype=object), 8: 136, 9: count    10506.000000\nmean         7.819532\nstd ...   9.000000\nName: AddressAccuracy, dtype: float64, 10: <matplotlib.axes._subplots.AxesSubplot object>, 11: <matplotlib.axes._subplots.AxesSubplot object>, 13:               Block      Latitude     Longitude ...      0.000000  \nmax                   1.000000  , 14: 185, 15:          Date                                   ...es_CULEX TERRITANS  \n0                        0  , ...}, 'PCA': <class 'sklearn.decomposition.pca.PCA'>, 'RandomForestClassifier': <class 'sklearn.ensemble.forest.RandomForestClassifier'>, 'RandomForestRegressor': <class 'sklearn.ensemble.forest.RandomForestRegressor'>, 'SMOTE': <class 'imblearn.over_sampling.smote.SMOTE'>, ...}\n   2863             finally:\n   2864                 # Reset our crash handler in place\n   2865                 sys.excepthook = old_excepthook\n   2866         except SystemExit as e:\n\n...........................................................................\n/Users/eran/Galvanize_more_repositories/WestNileVirus/<ipython-input-1718-7e385c74138f> in <module>()\n----> 1 GSrf2=grid_func('recall_score')\n\n...........................................................................\n/Users/eran/Galvanize_more_repositories/WestNileVirus/<ipython-input-1717-b0bdca0cf635> in grid_func(the_score='recall_score')\n      3     #optimize hyper parametrs using grid search according to one of the scores that is input\n      4     skf=StratifiedKFold(n_splits=5) ## stratifying the crossvalidation and choosing the number of splits=10\n      5     GS=GridSearchCV(rfclf2,param_grid=paramgrid,scoring=scorers,refit=the_score,cv=skf,return_train_score='True')\n      6     \n      7     with parallel_backend('threading'):\n----> 8         GS.fit(smtXtrain,smtytrain)\n      9     \n     10     prediction=GS.predict(Xtest)\n     11     \n     12     print('best params for {}'.format(the_score))\n\n...........................................................................\n/Users/eran/anaconda3/lib/python3.6/site-packages/sklearn/model_selection/_search.py in fit(self=GridSearchCV(cv=StratifiedKFold(n_splits=5, rand...e': make_scorer(recall_score)},\n       verbose=0), X=array([[-87.742     ,  41.764     ,  51.        ...8.48502622,\n          2.94010486,   1.97005243]]), y=array([0, 0, 0, ..., 1, 1, 1]), groups=None, **fit_params={})\n    634 \n    635         **fit_params : dict of string -> object\n    636             Parameters passed to the ``fit`` method of the estimator\n    637         \"\"\"\n    638 \n--> 639         if self.fit_params is not None:\n        self.fit_params = None\n    640             warnings.warn('\"fit_params\" as a constructor argument was '\n    641                           'deprecated in version 0.19 and will be removed '\n    642                           'in version 0.21. Pass fit parameters to the '\n    643                           '\"fit\" method instead.', DeprecationWarning)\n\n...........................................................................\n/Users/eran/anaconda3/lib/python3.6/site-packages/sklearn/externals/joblib/parallel.py in __call__(self=Parallel(n_jobs=-1), iterable=<generator object BaseSearchCV.fit.<locals>.<genexpr>>)\n    784         # consumed : at this point we know the total number of jobs and we are\n    785         # able to display an estimation of the remaining time based on already\n    786         # completed jobs. Otherwise, we simply display the number of completed\n    787         # tasks.\n    788         if self._original_iterator is not None:\n--> 789             if _verbosity_filter(self.n_dispatched_batches, self.verbose):\n        self.n_dispatched_batches = 19\n        self.verbose = 0\n    790                 return\n    791             self._print('Done %3i tasks      | elapsed: %s',\n    792                         (self.n_completed_tasks,\n    793                          short_format_time(elapsed_time), ))\n\n---------------------------------------------------------------------------\nSub-process traceback:\n---------------------------------------------------------------------------\nIndexError                                         Tue Jan  8 00:50:48 2019\nPID: 1345                    Python 3.6.3: /Users/eran/anaconda3/bin/python\n...........................................................................\n/Users/eran/anaconda3/lib/python3.6/site-packages/sklearn/externals/joblib/parallel.py in __call__(self=<sklearn.externals.joblib.parallel.BatchedCalls object>)\n    126     implementation using the ``register_parallel_backend`` function.\n    127 \n    128     By default the following backends are available:\n    129 \n    130     - 'loky': single-host, process-based parallelism (used by default),\n--> 131     - 'threading': single-host, thread-based parallelism,\n    132     - 'multiprocessing': legacy single-host, process-based parallelism.\n    133 \n    134     'loky' is recommended to run functions that manipulate Python objects.\n    135     'threading' is a low-overhead alternative that is most efficient for\n\n...........................................................................\n/Users/eran/anaconda3/lib/python3.6/site-packages/sklearn/externals/joblib/parallel.py in <listcomp>(.0=<list_iterator object>)\n    126     implementation using the ``register_parallel_backend`` function.\n    127 \n    128     By default the following backends are available:\n    129 \n    130     - 'loky': single-host, process-based parallelism (used by default),\n--> 131     - 'threading': single-host, thread-based parallelism,\n    132     - 'multiprocessing': legacy single-host, process-based parallelism.\n    133 \n    134     'loky' is recommended to run functions that manipulate Python objects.\n    135     'threading' is a low-overhead alternative that is most efficient for\n\n...........................................................................\n/Users/eran/anaconda3/lib/python3.6/site-packages/sklearn/model_selection/_validation.py in _fit_and_score(estimator=RandomForestClassifier(bootstrap=True, class_wei...se, random_state=42, verbose=0, warm_start=False), X=array([[-87.742     ,  41.764     ,  51.        ...8.48502622,\n          2.94010486,   1.97005243]]), y=array([0, 0, 0, ..., 1, 1, 1]), scorer={'accuracy_score': make_scorer(accuracy_score), 'precision_score': make_scorer(precision_score), 'recall_score': make_scorer(recall_score)}, train=array([    0,     1,     2, ..., 15923, 15924, 15925]), test=array([ 1687,  1688,  1689, ..., 11146, 11147, 11148]), verbose=0, parameters={'max_depth': 1, 'max_features': 3, 'min_samples_split': 2, 'n_estimators': 500}, fit_params={}, return_train_score='True', return_parameters=False, return_n_test_samples=True, return_times=True, error_score='raise')\n    453 \n    454     parameters : dict or None\n    455         Parameters to be set on the estimator.\n    456 \n    457     fit_params : dict or None\n--> 458         Parameters that will be passed to ``estimator.fit``.\n        estimator.fit. = undefined\n    459 \n    460     return_train_score : boolean, optional, default: False\n    461         Compute and return score on training set.\n    462 \n\n...........................................................................\n/Users/eran/anaconda3/lib/python3.6/site-packages/sklearn/ensemble/forest.py in fit(self=RandomForestClassifier(bootstrap=True, class_wei...se, random_state=42, verbose=0, warm_start=False), X=array([[-87.74199677,  41.76399994,  51.        ...       2.94010496,   1.97005248]], dtype=float32), y=array([[ 0.],\n       [ 0.],\n       [ 0.],\n       ..., \n       [ 1.],\n       [ 1.],\n       [ 1.]]), sample_weight=None)\n    311             if self.warm_start and len(self.estimators_) > 0:\n    312                 # We draw from the random state to get the random state we\n    313                 # would have got if we hadn't used a warm_start.\n    314                 random_state.randint(MAX_INT, size=len(self.estimators_))\n    315 \n--> 316             trees = []\n    317             for i in range(n_more_estimators):\n    318                 tree = self._make_estimator(append=False,\n    319                                             random_state=random_state)\n    320                 trees.append(tree)\n\n...........................................................................\n/Users/eran/anaconda3/lib/python3.6/site-packages/sklearn/ensemble/base.py in _make_estimator(self=RandomForestClassifier(bootstrap=True, class_wei...se, random_state=42, verbose=0, warm_start=False), append=False, random_state=<mtrand.RandomState object>)\n    122 \n    123         Warning: This method should be used to properly instantiate new\n    124         sub-estimators.\n    125         \"\"\"\n    126         estimator = clone(self.base_estimator_)\n--> 127         estimator.set_params(**dict((p, getattr(self, p))\n        estimator.set_params = <bound method BaseEstimator.set_params of Decisi... random_state=None,\n            splitter='best')>\n        self = RandomForestClassifier(bootstrap=True, class_wei...se, random_state=42, verbose=0, warm_start=False)\n        self.estimator_params = ('criterion', 'max_depth', 'min_samples_split', 'min_samples_leaf', 'min_weight_fraction_leaf', 'max_features', 'max_leaf_nodes', 'min_impurity_decrease', 'min_impurity_split', 'random_state')\n    128                                     for p in self.estimator_params))\n    129 \n    130         if random_state is not None:\n    131             _set_random_states(estimator, random_state)\n\n...........................................................................\n/Users/eran/anaconda3/lib/python3.6/site-packages/sklearn/base.py in set_params(self=DecisionTreeClassifier(class_weight=None, criter..., random_state=None,\n            splitter='best'), **params={'criterion': 'gini', 'max_depth': 1, 'max_features': 3, 'max_leaf_nodes': None, 'min_impurity_decrease': 0.0, 'min_impurity_split': None, 'min_samples_leaf': 1, 'min_samples_split': 2, 'min_weight_fraction_leaf': 0.0, 'random_state': 42})\n    260     \"\"\"Mixin class for all classifiers in scikit-learn.\"\"\"\n    261     _estimator_type = \"classifier\"\n    262 \n    263     def score(self, X, y, sample_weight=None):\n    264         \"\"\"Returns the mean accuracy on the given test data and labels.\n--> 265 \n    266         In multi-label classification, this is the subset accuracy\n    267         which is a harsh metric since you require for each sample that\n    268         each label set be correctly predicted.\n    269 \n\n...........................................................................\n/Users/eran/anaconda3/lib/python3.6/site-packages/sklearn/base.py in get_params(self=DecisionTreeClassifier(class_weight=None, criter..., random_state=None,\n            splitter='best'), deep=True)\n    236 \n    237         if type(self).__module__.startswith('sklearn.'):\n    238             return dict(state.items(), _sklearn_version=__version__)\n    239         else:\n    240             return state\n--> 241 \n        self = DecisionTreeClassifier(class_weight=None, criter..., random_state=None,\n            splitter='best')\n    242     def __setstate__(self, state):\n    243         if type(self).__module__.startswith('sklearn.'):\n    244             pickle_version = state.pop(\"_sklearn_version\", \"pre-0.18\")\n    245             if pickle_version != __version__:\n\nIndexError: pop from empty list\n___________________________________________________________________________"
     ]
    }
   ],
   "source": [
    "GSrf2=grid_func('recall_score')"
   ]
  },
  {
   "cell_type": "code",
   "execution_count": null,
   "metadata": {
    "collapsed": true
   },
   "outputs": [],
   "source": []
  }
 ],
 "metadata": {
  "kernelspec": {
   "display_name": "Python 3",
   "language": "python",
   "name": "python3"
  },
  "language_info": {
   "codemirror_mode": {
    "name": "ipython",
    "version": 3
   },
   "file_extension": ".py",
   "mimetype": "text/x-python",
   "name": "python",
   "nbconvert_exporter": "python",
   "pygments_lexer": "ipython3",
   "version": "3.6.3"
  }
 },
 "nbformat": 4,
 "nbformat_minor": 2
}
