{
 "cells": [
  {
   "cell_type": "markdown",
   "metadata": {},
   "source": [
    "# WestNileVirus"
   ]
  },
  {
   "cell_type": "markdown",
   "metadata": {},
   "source": [
    "https://www.kaggle.com/c/predict-west-nile-virus"
   ]
  },
  {
   "cell_type": "code",
   "execution_count": 239,
   "metadata": {
    "collapsed": true
   },
   "outputs": [],
   "source": [
    "import numpy as np\n",
    "import pandas as pd\n",
    "import os"
   ]
  },
  {
   "cell_type": "code",
   "execution_count": 2,
   "metadata": {},
   "outputs": [
    {
     "data": {
      "text/plain": [
       "'/Users/eran/Galvanize_more_repositories/WestNileVirus/all/'"
      ]
     },
     "execution_count": 2,
     "metadata": {},
     "output_type": "execute_result"
    }
   ],
   "source": [
    "directory_path=\"/Users/eran/Galvanize_more_repositories/WestNileVirus/all/\"\n",
    "directory_path"
   ]
  },
  {
   "cell_type": "markdown",
   "metadata": {},
   "source": [
    "## Train data"
   ]
  },
  {
   "cell_type": "code",
   "execution_count": 3,
   "metadata": {
    "collapsed": true
   },
   "outputs": [],
   "source": [
    "train_csv=os.path.join(directory_path, \"train.csv\")"
   ]
  },
  {
   "cell_type": "code",
   "execution_count": 4,
   "metadata": {
    "collapsed": true
   },
   "outputs": [],
   "source": [
    "# Reading in the train data\n",
    "train=pd.read_csv(train_csv)"
   ]
  },
  {
   "cell_type": "markdown",
   "metadata": {},
   "source": [
    "## EDA"
   ]
  },
  {
   "cell_type": "markdown",
   "metadata": {},
   "source": [
    "### general info"
   ]
  },
  {
   "cell_type": "code",
   "execution_count": 5,
   "metadata": {},
   "outputs": [
    {
     "name": "stdout",
     "output_type": "stream",
     "text": [
      "<class 'pandas.core.frame.DataFrame'>\n",
      "RangeIndex: 10506 entries, 0 to 10505\n",
      "Data columns (total 12 columns):\n",
      "Date                      10506 non-null object\n",
      "Address                   10506 non-null object\n",
      "Species                   10506 non-null object\n",
      "Block                     10506 non-null int64\n",
      "Street                    10506 non-null object\n",
      "Trap                      10506 non-null object\n",
      "AddressNumberAndStreet    10506 non-null object\n",
      "Latitude                  10506 non-null float64\n",
      "Longitude                 10506 non-null float64\n",
      "AddressAccuracy           10506 non-null int64\n",
      "NumMosquitos              10506 non-null int64\n",
      "WnvPresent                10506 non-null int64\n",
      "dtypes: float64(2), int64(4), object(6)\n",
      "memory usage: 985.0+ KB\n"
     ]
    }
   ],
   "source": [
    "train.info()"
   ]
  },
  {
   "cell_type": "code",
   "execution_count": 6,
   "metadata": {},
   "outputs": [
    {
     "data": {
      "text/html": [
       "<div>\n",
       "<style>\n",
       "    .dataframe thead tr:only-child th {\n",
       "        text-align: right;\n",
       "    }\n",
       "\n",
       "    .dataframe thead th {\n",
       "        text-align: left;\n",
       "    }\n",
       "\n",
       "    .dataframe tbody tr th {\n",
       "        vertical-align: top;\n",
       "    }\n",
       "</style>\n",
       "<table border=\"1\" class=\"dataframe\">\n",
       "  <thead>\n",
       "    <tr style=\"text-align: right;\">\n",
       "      <th></th>\n",
       "      <th>Date</th>\n",
       "      <th>Address</th>\n",
       "      <th>Species</th>\n",
       "      <th>Block</th>\n",
       "      <th>Street</th>\n",
       "      <th>Trap</th>\n",
       "      <th>AddressNumberAndStreet</th>\n",
       "      <th>Latitude</th>\n",
       "      <th>Longitude</th>\n",
       "      <th>AddressAccuracy</th>\n",
       "      <th>NumMosquitos</th>\n",
       "      <th>WnvPresent</th>\n",
       "    </tr>\n",
       "  </thead>\n",
       "  <tbody>\n",
       "    <tr>\n",
       "      <th>0</th>\n",
       "      <td>2007-05-29</td>\n",
       "      <td>4100 North Oak Park Avenue, Chicago, IL 60634,...</td>\n",
       "      <td>CULEX PIPIENS/RESTUANS</td>\n",
       "      <td>41</td>\n",
       "      <td>N OAK PARK AVE</td>\n",
       "      <td>T002</td>\n",
       "      <td>4100  N OAK PARK AVE, Chicago, IL</td>\n",
       "      <td>41.954690</td>\n",
       "      <td>-87.800991</td>\n",
       "      <td>9</td>\n",
       "      <td>1</td>\n",
       "      <td>0</td>\n",
       "    </tr>\n",
       "    <tr>\n",
       "      <th>1</th>\n",
       "      <td>2007-05-29</td>\n",
       "      <td>4100 North Oak Park Avenue, Chicago, IL 60634,...</td>\n",
       "      <td>CULEX RESTUANS</td>\n",
       "      <td>41</td>\n",
       "      <td>N OAK PARK AVE</td>\n",
       "      <td>T002</td>\n",
       "      <td>4100  N OAK PARK AVE, Chicago, IL</td>\n",
       "      <td>41.954690</td>\n",
       "      <td>-87.800991</td>\n",
       "      <td>9</td>\n",
       "      <td>1</td>\n",
       "      <td>0</td>\n",
       "    </tr>\n",
       "    <tr>\n",
       "      <th>2</th>\n",
       "      <td>2007-05-29</td>\n",
       "      <td>6200 North Mandell Avenue, Chicago, IL 60646, USA</td>\n",
       "      <td>CULEX RESTUANS</td>\n",
       "      <td>62</td>\n",
       "      <td>N MANDELL AVE</td>\n",
       "      <td>T007</td>\n",
       "      <td>6200  N MANDELL AVE, Chicago, IL</td>\n",
       "      <td>41.994991</td>\n",
       "      <td>-87.769279</td>\n",
       "      <td>9</td>\n",
       "      <td>1</td>\n",
       "      <td>0</td>\n",
       "    </tr>\n",
       "  </tbody>\n",
       "</table>\n",
       "</div>"
      ],
      "text/plain": [
       "         Date                                            Address  \\\n",
       "0  2007-05-29  4100 North Oak Park Avenue, Chicago, IL 60634,...   \n",
       "1  2007-05-29  4100 North Oak Park Avenue, Chicago, IL 60634,...   \n",
       "2  2007-05-29  6200 North Mandell Avenue, Chicago, IL 60646, USA   \n",
       "\n",
       "                  Species  Block           Street  Trap  \\\n",
       "0  CULEX PIPIENS/RESTUANS     41   N OAK PARK AVE  T002   \n",
       "1          CULEX RESTUANS     41   N OAK PARK AVE  T002   \n",
       "2          CULEX RESTUANS     62    N MANDELL AVE  T007   \n",
       "\n",
       "              AddressNumberAndStreet   Latitude  Longitude  AddressAccuracy  \\\n",
       "0  4100  N OAK PARK AVE, Chicago, IL  41.954690 -87.800991                9   \n",
       "1  4100  N OAK PARK AVE, Chicago, IL  41.954690 -87.800991                9   \n",
       "2   6200  N MANDELL AVE, Chicago, IL  41.994991 -87.769279                9   \n",
       "\n",
       "   NumMosquitos  WnvPresent  \n",
       "0             1           0  \n",
       "1             1           0  \n",
       "2             1           0  "
      ]
     },
     "execution_count": 6,
     "metadata": {},
     "output_type": "execute_result"
    }
   ],
   "source": [
    "train.head(3)"
   ]
  },
  {
   "cell_type": "markdown",
   "metadata": {},
   "source": [
    "### Investigating specific columns: 'Species','Traps','AddressAccuracy' and Geo-location"
   ]
  },
  {
   "cell_type": "code",
   "execution_count": 7,
   "metadata": {},
   "outputs": [
    {
     "data": {
      "text/plain": [
       "array(['CULEX PIPIENS/RESTUANS', 'CULEX RESTUANS', 'CULEX PIPIENS',\n",
       "       'CULEX SALINARIUS', 'CULEX TERRITANS', 'CULEX TARSALIS',\n",
       "       'CULEX ERRATICUS'], dtype=object)"
      ]
     },
     "execution_count": 7,
     "metadata": {},
     "output_type": "execute_result"
    }
   ],
   "source": [
    "train['Species'].unique() ## 6 different species"
   ]
  },
  {
   "cell_type": "code",
   "execution_count": 8,
   "metadata": {},
   "outputs": [
    {
     "data": {
      "text/plain": [
       "136"
      ]
     },
     "execution_count": 8,
     "metadata": {},
     "output_type": "execute_result"
    }
   ],
   "source": [
    "len(train['Trap'].unique()) ## 136 different traps"
   ]
  },
  {
   "cell_type": "code",
   "execution_count": 9,
   "metadata": {},
   "outputs": [
    {
     "data": {
      "text/plain": [
       "count    10506.000000\n",
       "mean         7.819532\n",
       "std          1.452921\n",
       "min          3.000000\n",
       "25%          8.000000\n",
       "50%          8.000000\n",
       "75%          9.000000\n",
       "max          9.000000\n",
       "Name: AddressAccuracy, dtype: float64"
      ]
     },
     "execution_count": 9,
     "metadata": {},
     "output_type": "execute_result"
    }
   ],
   "source": [
    "train['AddressAccuracy'].describe() ## this is (according to description) the accuracy as returned from geo-locator"
   ]
  },
  {
   "cell_type": "code",
   "execution_count": 282,
   "metadata": {},
   "outputs": [
    {
     "data": {
      "text/plain": [
       "<matplotlib.axes._subplots.AxesSubplot at 0x1a2c5043c8>"
      ]
     },
     "execution_count": 282,
     "metadata": {},
     "output_type": "execute_result"
    },
    {
     "data": {
      "image/png": "[encoded data removed]",
      "text/plain": [
       "<matplotlib.figure.Figure at 0x1a2cb2e828>"
      ]
     },
     "metadata": {},
     "output_type": "display_data"
    }
   ],
   "source": [
    "train['AddressAccuracy'].hist() ## so most accuracy's are 8 and 9, some 5 and very little 3. \n",
    "# Later this could split into 3,4 categories and then into 3,4 dummie features "
   ]
  },
  {
   "cell_type": "markdown",
   "metadata": {},
   "source": [
    "#### ploting histogram (count) of count vs specie and whether there is WMV (color) "
   ]
  },
  {
   "cell_type": "code",
   "execution_count": 11,
   "metadata": {},
   "outputs": [
    {
     "data": {
      "text/plain": [
       "<matplotlib.axes._subplots.AxesSubplot at 0x1a1d8989b0>"
      ]
     },
     "execution_count": 11,
     "metadata": {},
     "output_type": "execute_result"
    },
    {
     "data": {
      "image/png": "[encoded data removed]",
      "text/plain": [
       "<matplotlib.figure.Figure at 0x11681f898>"
      ]
     },
     "metadata": {},
     "output_type": "display_data"
    }
   ],
   "source": [
    "# looking at bars of every specie whether it has virus (orange) or not (blue)\n",
    "# (to see if there is relationship between the species and the appearence of virus)\n",
    "import matplotlib.pyplot as plt\n",
    "import seaborn as sns\n",
    "%matplotlib  inline\n",
    "dim=(16,5)\n",
    "plt.subplots(figsize=dim)\n",
    "sns.countplot('Species',data=train,hue='WnvPresent',)\n",
    "# seems that only 3 species are really prevalent.\n",
    "# \"Culex Pipiens\" has the highest relative portion of WNtV ~10% "
   ]
  },
  {
   "cell_type": "markdown",
   "metadata": {},
   "source": [
    "#### doing dummies out of species"
   ]
  },
  {
   "cell_type": "code",
   "execution_count": 187,
   "metadata": {
    "collapsed": true
   },
   "outputs": [],
   "source": [
    "# make new train with dummies\n",
    "trainWdum=pd.get_dummies(train,columns=['Species'],drop_first=True)"
   ]
  },
  {
   "cell_type": "code",
   "execution_count": 13,
   "metadata": {
    "scrolled": true
   },
   "outputs": [
    {
     "data": {
      "text/html": [
       "<div>\n",
       "<style>\n",
       "    .dataframe thead tr:only-child th {\n",
       "        text-align: right;\n",
       "    }\n",
       "\n",
       "    .dataframe thead th {\n",
       "        text-align: left;\n",
       "    }\n",
       "\n",
       "    .dataframe tbody tr th {\n",
       "        vertical-align: top;\n",
       "    }\n",
       "</style>\n",
       "<table border=\"1\" class=\"dataframe\">\n",
       "  <thead>\n",
       "    <tr style=\"text-align: right;\">\n",
       "      <th></th>\n",
       "      <th>Block</th>\n",
       "      <th>Latitude</th>\n",
       "      <th>Longitude</th>\n",
       "      <th>AddressAccuracy</th>\n",
       "      <th>NumMosquitos</th>\n",
       "      <th>WnvPresent</th>\n",
       "      <th>Species_CULEX PIPIENS</th>\n",
       "      <th>Species_CULEX PIPIENS/RESTUANS</th>\n",
       "      <th>Species_CULEX RESTUANS</th>\n",
       "      <th>Species_CULEX SALINARIUS</th>\n",
       "      <th>Species_CULEX TARSALIS</th>\n",
       "      <th>Species_CULEX TERRITANS</th>\n",
       "    </tr>\n",
       "  </thead>\n",
       "  <tbody>\n",
       "    <tr>\n",
       "      <th>count</th>\n",
       "      <td>10506.000000</td>\n",
       "      <td>10506.000000</td>\n",
       "      <td>10506.000000</td>\n",
       "      <td>10506.000000</td>\n",
       "      <td>10506.000000</td>\n",
       "      <td>10506.000000</td>\n",
       "      <td>10506.000000</td>\n",
       "      <td>10506.000000</td>\n",
       "      <td>10506.000000</td>\n",
       "      <td>10506.000000</td>\n",
       "      <td>10506.000000</td>\n",
       "      <td>10506.000000</td>\n",
       "    </tr>\n",
       "    <tr>\n",
       "      <th>mean</th>\n",
       "      <td>35.687797</td>\n",
       "      <td>41.841139</td>\n",
       "      <td>-87.699908</td>\n",
       "      <td>7.819532</td>\n",
       "      <td>12.853512</td>\n",
       "      <td>0.052446</td>\n",
       "      <td>0.256901</td>\n",
       "      <td>0.452313</td>\n",
       "      <td>0.260803</td>\n",
       "      <td>0.008186</td>\n",
       "      <td>0.000571</td>\n",
       "      <td>0.021131</td>\n",
       "    </tr>\n",
       "    <tr>\n",
       "      <th>std</th>\n",
       "      <td>24.339468</td>\n",
       "      <td>0.112742</td>\n",
       "      <td>0.096514</td>\n",
       "      <td>1.452921</td>\n",
       "      <td>16.133816</td>\n",
       "      <td>0.222936</td>\n",
       "      <td>0.436945</td>\n",
       "      <td>0.497744</td>\n",
       "      <td>0.439094</td>\n",
       "      <td>0.090109</td>\n",
       "      <td>0.023892</td>\n",
       "      <td>0.143827</td>\n",
       "    </tr>\n",
       "    <tr>\n",
       "      <th>min</th>\n",
       "      <td>10.000000</td>\n",
       "      <td>41.644612</td>\n",
       "      <td>-87.930995</td>\n",
       "      <td>3.000000</td>\n",
       "      <td>1.000000</td>\n",
       "      <td>0.000000</td>\n",
       "      <td>0.000000</td>\n",
       "      <td>0.000000</td>\n",
       "      <td>0.000000</td>\n",
       "      <td>0.000000</td>\n",
       "      <td>0.000000</td>\n",
       "      <td>0.000000</td>\n",
       "    </tr>\n",
       "    <tr>\n",
       "      <th>25%</th>\n",
       "      <td>12.000000</td>\n",
       "      <td>41.732984</td>\n",
       "      <td>-87.760070</td>\n",
       "      <td>8.000000</td>\n",
       "      <td>2.000000</td>\n",
       "      <td>0.000000</td>\n",
       "      <td>0.000000</td>\n",
       "      <td>0.000000</td>\n",
       "      <td>0.000000</td>\n",
       "      <td>0.000000</td>\n",
       "      <td>0.000000</td>\n",
       "      <td>0.000000</td>\n",
       "    </tr>\n",
       "    <tr>\n",
       "      <th>50%</th>\n",
       "      <td>33.000000</td>\n",
       "      <td>41.846283</td>\n",
       "      <td>-87.694991</td>\n",
       "      <td>8.000000</td>\n",
       "      <td>5.000000</td>\n",
       "      <td>0.000000</td>\n",
       "      <td>0.000000</td>\n",
       "      <td>0.000000</td>\n",
       "      <td>0.000000</td>\n",
       "      <td>0.000000</td>\n",
       "      <td>0.000000</td>\n",
       "      <td>0.000000</td>\n",
       "    </tr>\n",
       "    <tr>\n",
       "      <th>75%</th>\n",
       "      <td>52.000000</td>\n",
       "      <td>41.954690</td>\n",
       "      <td>-87.627796</td>\n",
       "      <td>9.000000</td>\n",
       "      <td>17.000000</td>\n",
       "      <td>0.000000</td>\n",
       "      <td>1.000000</td>\n",
       "      <td>1.000000</td>\n",
       "      <td>1.000000</td>\n",
       "      <td>0.000000</td>\n",
       "      <td>0.000000</td>\n",
       "      <td>0.000000</td>\n",
       "    </tr>\n",
       "    <tr>\n",
       "      <th>max</th>\n",
       "      <td>98.000000</td>\n",
       "      <td>42.017430</td>\n",
       "      <td>-87.531635</td>\n",
       "      <td>9.000000</td>\n",
       "      <td>50.000000</td>\n",
       "      <td>1.000000</td>\n",
       "      <td>1.000000</td>\n",
       "      <td>1.000000</td>\n",
       "      <td>1.000000</td>\n",
       "      <td>1.000000</td>\n",
       "      <td>1.000000</td>\n",
       "      <td>1.000000</td>\n",
       "    </tr>\n",
       "  </tbody>\n",
       "</table>\n",
       "</div>"
      ],
      "text/plain": [
       "              Block      Latitude     Longitude  AddressAccuracy  \\\n",
       "count  10506.000000  10506.000000  10506.000000     10506.000000   \n",
       "mean      35.687797     41.841139    -87.699908         7.819532   \n",
       "std       24.339468      0.112742      0.096514         1.452921   \n",
       "min       10.000000     41.644612    -87.930995         3.000000   \n",
       "25%       12.000000     41.732984    -87.760070         8.000000   \n",
       "50%       33.000000     41.846283    -87.694991         8.000000   \n",
       "75%       52.000000     41.954690    -87.627796         9.000000   \n",
       "max       98.000000     42.017430    -87.531635         9.000000   \n",
       "\n",
       "       NumMosquitos    WnvPresent  Species_CULEX PIPIENS  \\\n",
       "count  10506.000000  10506.000000           10506.000000   \n",
       "mean      12.853512      0.052446               0.256901   \n",
       "std       16.133816      0.222936               0.436945   \n",
       "min        1.000000      0.000000               0.000000   \n",
       "25%        2.000000      0.000000               0.000000   \n",
       "50%        5.000000      0.000000               0.000000   \n",
       "75%       17.000000      0.000000               1.000000   \n",
       "max       50.000000      1.000000               1.000000   \n",
       "\n",
       "       Species_CULEX PIPIENS/RESTUANS  Species_CULEX RESTUANS  \\\n",
       "count                    10506.000000            10506.000000   \n",
       "mean                         0.452313                0.260803   \n",
       "std                          0.497744                0.439094   \n",
       "min                          0.000000                0.000000   \n",
       "25%                          0.000000                0.000000   \n",
       "50%                          0.000000                0.000000   \n",
       "75%                          1.000000                1.000000   \n",
       "max                          1.000000                1.000000   \n",
       "\n",
       "       Species_CULEX SALINARIUS  Species_CULEX TARSALIS  \\\n",
       "count              10506.000000            10506.000000   \n",
       "mean                   0.008186                0.000571   \n",
       "std                    0.090109                0.023892   \n",
       "min                    0.000000                0.000000   \n",
       "25%                    0.000000                0.000000   \n",
       "50%                    0.000000                0.000000   \n",
       "75%                    0.000000                0.000000   \n",
       "max                    1.000000                1.000000   \n",
       "\n",
       "       Species_CULEX TERRITANS  \n",
       "count             10506.000000  \n",
       "mean                  0.021131  \n",
       "std                   0.143827  \n",
       "min                   0.000000  \n",
       "25%                   0.000000  \n",
       "50%                   0.000000  \n",
       "75%                   0.000000  \n",
       "max                   1.000000  "
      ]
     },
     "execution_count": 13,
     "metadata": {},
     "output_type": "execute_result"
    }
   ],
   "source": [
    "trainWdum.describe()"
   ]
  },
  {
   "cell_type": "markdown",
   "metadata": {},
   "source": [
    "#### what about the geo-location feature?"
   ]
  },
  {
   "cell_type": "code",
   "execution_count": 34,
   "metadata": {},
   "outputs": [
    {
     "data": {
      "text/plain": [
       "185"
      ]
     },
     "execution_count": 34,
     "metadata": {},
     "output_type": "execute_result"
    }
   ],
   "source": [
    "# example of how many observation for 1 location:\n",
    "df1location=trainWdum[(trainWdum['Latitude']==41.954690) & (trainWdum['Longitude']==-87.800991)]\n",
    "len(df1location)"
   ]
  },
  {
   "cell_type": "code",
   "execution_count": 35,
   "metadata": {},
   "outputs": [
    {
     "data": {
      "text/html": [
       "<div>\n",
       "<style>\n",
       "    .dataframe thead tr:only-child th {\n",
       "        text-align: right;\n",
       "    }\n",
       "\n",
       "    .dataframe thead th {\n",
       "        text-align: left;\n",
       "    }\n",
       "\n",
       "    .dataframe tbody tr th {\n",
       "        vertical-align: top;\n",
       "    }\n",
       "</style>\n",
       "<table border=\"1\" class=\"dataframe\">\n",
       "  <thead>\n",
       "    <tr style=\"text-align: right;\">\n",
       "      <th></th>\n",
       "      <th>Date</th>\n",
       "      <th>Address</th>\n",
       "      <th>Block</th>\n",
       "      <th>Street</th>\n",
       "      <th>Trap</th>\n",
       "      <th>AddressNumberAndStreet</th>\n",
       "      <th>Latitude</th>\n",
       "      <th>Longitude</th>\n",
       "      <th>AddressAccuracy</th>\n",
       "      <th>NumMosquitos</th>\n",
       "      <th>WnvPresent</th>\n",
       "      <th>Species_CULEX PIPIENS</th>\n",
       "      <th>Species_CULEX PIPIENS/RESTUANS</th>\n",
       "      <th>Species_CULEX RESTUANS</th>\n",
       "      <th>Species_CULEX SALINARIUS</th>\n",
       "      <th>Species_CULEX TARSALIS</th>\n",
       "      <th>Species_CULEX TERRITANS</th>\n",
       "    </tr>\n",
       "  </thead>\n",
       "  <tbody>\n",
       "    <tr>\n",
       "      <th>0</th>\n",
       "      <td>2007-05-29</td>\n",
       "      <td>4100 North Oak Park Avenue, Chicago, IL 60634,...</td>\n",
       "      <td>41</td>\n",
       "      <td>N OAK PARK AVE</td>\n",
       "      <td>T002</td>\n",
       "      <td>4100  N OAK PARK AVE, Chicago, IL</td>\n",
       "      <td>41.95469</td>\n",
       "      <td>-87.800991</td>\n",
       "      <td>9</td>\n",
       "      <td>1</td>\n",
       "      <td>0</td>\n",
       "      <td>0</td>\n",
       "      <td>1</td>\n",
       "      <td>0</td>\n",
       "      <td>0</td>\n",
       "      <td>0</td>\n",
       "      <td>0</td>\n",
       "    </tr>\n",
       "  </tbody>\n",
       "</table>\n",
       "</div>"
      ],
      "text/plain": [
       "         Date                                            Address  Block  \\\n",
       "0  2007-05-29  4100 North Oak Park Avenue, Chicago, IL 60634,...     41   \n",
       "\n",
       "            Street  Trap             AddressNumberAndStreet  Latitude  \\\n",
       "0   N OAK PARK AVE  T002  4100  N OAK PARK AVE, Chicago, IL  41.95469   \n",
       "\n",
       "   Longitude  AddressAccuracy  NumMosquitos  WnvPresent  \\\n",
       "0 -87.800991                9             1           0   \n",
       "\n",
       "   Species_CULEX PIPIENS  Species_CULEX PIPIENS/RESTUANS  \\\n",
       "0                      0                               1   \n",
       "\n",
       "   Species_CULEX RESTUANS  Species_CULEX SALINARIUS  Species_CULEX TARSALIS  \\\n",
       "0                       0                         0                       0   \n",
       "\n",
       "   Species_CULEX TERRITANS  \n",
       "0                        0  "
      ]
     },
     "execution_count": 35,
     "metadata": {},
     "output_type": "execute_result"
    }
   ],
   "source": [
    "df1location.head(1)"
   ]
  },
  {
   "cell_type": "code",
   "execution_count": 37,
   "metadata": {},
   "outputs": [
    {
     "data": {
      "text/plain": [
       "Date                       True\n",
       "Address                    True\n",
       "Species                   False\n",
       "Block                      True\n",
       "Street                     True\n",
       "Trap                       True\n",
       "AddressNumberAndStreet     True\n",
       "Latitude                   True\n",
       "Longitude                  True\n",
       "AddressAccuracy            True\n",
       "NumMosquitos               True\n",
       "WnvPresent                 True\n",
       "dtype: bool"
      ]
     },
     "execution_count": 37,
     "metadata": {},
     "output_type": "execute_result"
    }
   ],
   "source": [
    "## two rows in the train data: same date place etc. just the species are differen \n",
    "train.iloc[1]==train.iloc[0]"
   ]
  },
  {
   "cell_type": "code",
   "execution_count": 36,
   "metadata": {},
   "outputs": [
    {
     "data": {
      "text/html": [
       "<div>\n",
       "<style>\n",
       "    .dataframe thead tr:only-child th {\n",
       "        text-align: right;\n",
       "    }\n",
       "\n",
       "    .dataframe thead th {\n",
       "        text-align: left;\n",
       "    }\n",
       "\n",
       "    .dataframe tbody tr th {\n",
       "        vertical-align: top;\n",
       "    }\n",
       "</style>\n",
       "<table border=\"1\" class=\"dataframe\">\n",
       "  <thead>\n",
       "    <tr style=\"text-align: right;\">\n",
       "      <th></th>\n",
       "      <th>Date</th>\n",
       "      <th>Address</th>\n",
       "      <th>Block</th>\n",
       "      <th>Street</th>\n",
       "      <th>Trap</th>\n",
       "      <th>AddressNumberAndStreet</th>\n",
       "      <th>Latitude</th>\n",
       "      <th>Longitude</th>\n",
       "      <th>AddressAccuracy</th>\n",
       "      <th>NumMosquitos</th>\n",
       "      <th>WnvPresent</th>\n",
       "      <th>Species_CULEX PIPIENS</th>\n",
       "      <th>Species_CULEX PIPIENS/RESTUANS</th>\n",
       "      <th>Species_CULEX RESTUANS</th>\n",
       "      <th>Species_CULEX SALINARIUS</th>\n",
       "      <th>Species_CULEX TARSALIS</th>\n",
       "      <th>Species_CULEX TERRITANS</th>\n",
       "    </tr>\n",
       "  </thead>\n",
       "  <tbody>\n",
       "    <tr>\n",
       "      <th>10415</th>\n",
       "      <td>2013-09-26</td>\n",
       "      <td>4100 North Oak Park Avenue, Chicago, IL 60634,...</td>\n",
       "      <td>41</td>\n",
       "      <td>N OAK PARK AVE</td>\n",
       "      <td>T002</td>\n",
       "      <td>4100  N OAK PARK AVE, Chicago, IL</td>\n",
       "      <td>41.95469</td>\n",
       "      <td>-87.800991</td>\n",
       "      <td>9</td>\n",
       "      <td>8</td>\n",
       "      <td>0</td>\n",
       "      <td>1</td>\n",
       "      <td>0</td>\n",
       "      <td>0</td>\n",
       "      <td>0</td>\n",
       "      <td>0</td>\n",
       "      <td>0</td>\n",
       "    </tr>\n",
       "  </tbody>\n",
       "</table>\n",
       "</div>"
      ],
      "text/plain": [
       "             Date                                            Address  Block  \\\n",
       "10415  2013-09-26  4100 North Oak Park Avenue, Chicago, IL 60634,...     41   \n",
       "\n",
       "                Street  Trap             AddressNumberAndStreet  Latitude  \\\n",
       "10415   N OAK PARK AVE  T002  4100  N OAK PARK AVE, Chicago, IL  41.95469   \n",
       "\n",
       "       Longitude  AddressAccuracy  NumMosquitos  WnvPresent  \\\n",
       "10415 -87.800991                9             8           0   \n",
       "\n",
       "       Species_CULEX PIPIENS  Species_CULEX PIPIENS/RESTUANS  \\\n",
       "10415                      1                               0   \n",
       "\n",
       "       Species_CULEX RESTUANS  Species_CULEX SALINARIUS  \\\n",
       "10415                       0                         0   \n",
       "\n",
       "       Species_CULEX TARSALIS  Species_CULEX TERRITANS  \n",
       "10415                       0                        0  "
      ]
     },
     "execution_count": 36,
     "metadata": {},
     "output_type": "execute_result"
    }
   ],
   "source": [
    "df1location.tail(1)"
   ]
  },
  {
   "cell_type": "code",
   "execution_count": 38,
   "metadata": {},
   "outputs": [
    {
     "data": {
      "text/plain": [
       "67"
      ]
     },
     "execution_count": 38,
     "metadata": {},
     "output_type": "execute_result"
    }
   ],
   "source": [
    "# there are 185 records from the same location collected in 67 dates\n",
    "len(df1location['Date'].unique())"
   ]
  },
  {
   "cell_type": "markdown",
   "metadata": {},
   "source": [
    "### Getting baseline accuracy of predicting WNV \n",
    "let's understand the predictive capability of this data set without additional spreadsheets and without feature engineering:"
   ]
  },
  {
   "cell_type": "code",
   "execution_count": 14,
   "metadata": {
    "collapsed": true
   },
   "outputs": [],
   "source": [
    "trainBasic=trainWdum[['Latitude','Longitude','AddressAccuracy','NumMosquitos','Species_CULEX PIPIENS','Species_CULEX PIPIENS/RESTUANS','Species_CULEX RESTUANS','Species_CULEX SALINARIUS','Species_CULEX TARSALIS','Species_CULEX TERRITANS','WnvPresent']]"
   ]
  },
  {
   "cell_type": "code",
   "execution_count": 15,
   "metadata": {},
   "outputs": [
    {
     "data": {
      "text/html": [
       "<div>\n",
       "<style>\n",
       "    .dataframe thead tr:only-child th {\n",
       "        text-align: right;\n",
       "    }\n",
       "\n",
       "    .dataframe thead th {\n",
       "        text-align: left;\n",
       "    }\n",
       "\n",
       "    .dataframe tbody tr th {\n",
       "        vertical-align: top;\n",
       "    }\n",
       "</style>\n",
       "<table border=\"1\" class=\"dataframe\">\n",
       "  <thead>\n",
       "    <tr style=\"text-align: right;\">\n",
       "      <th></th>\n",
       "      <th>Latitude</th>\n",
       "      <th>Longitude</th>\n",
       "      <th>AddressAccuracy</th>\n",
       "      <th>NumMosquitos</th>\n",
       "      <th>Species_CULEX PIPIENS</th>\n",
       "      <th>Species_CULEX PIPIENS/RESTUANS</th>\n",
       "      <th>Species_CULEX RESTUANS</th>\n",
       "      <th>Species_CULEX SALINARIUS</th>\n",
       "      <th>Species_CULEX TARSALIS</th>\n",
       "      <th>Species_CULEX TERRITANS</th>\n",
       "      <th>WnvPresent</th>\n",
       "    </tr>\n",
       "  </thead>\n",
       "  <tbody>\n",
       "    <tr>\n",
       "      <th>0</th>\n",
       "      <td>41.95469</td>\n",
       "      <td>-87.800991</td>\n",
       "      <td>9</td>\n",
       "      <td>1</td>\n",
       "      <td>0</td>\n",
       "      <td>1</td>\n",
       "      <td>0</td>\n",
       "      <td>0</td>\n",
       "      <td>0</td>\n",
       "      <td>0</td>\n",
       "      <td>0</td>\n",
       "    </tr>\n",
       "    <tr>\n",
       "      <th>1</th>\n",
       "      <td>41.95469</td>\n",
       "      <td>-87.800991</td>\n",
       "      <td>9</td>\n",
       "      <td>1</td>\n",
       "      <td>0</td>\n",
       "      <td>0</td>\n",
       "      <td>1</td>\n",
       "      <td>0</td>\n",
       "      <td>0</td>\n",
       "      <td>0</td>\n",
       "      <td>0</td>\n",
       "    </tr>\n",
       "  </tbody>\n",
       "</table>\n",
       "</div>"
      ],
      "text/plain": [
       "   Latitude  Longitude  AddressAccuracy  NumMosquitos  Species_CULEX PIPIENS  \\\n",
       "0  41.95469 -87.800991                9             1                      0   \n",
       "1  41.95469 -87.800991                9             1                      0   \n",
       "\n",
       "   Species_CULEX PIPIENS/RESTUANS  Species_CULEX RESTUANS  \\\n",
       "0                               1                       0   \n",
       "1                               0                       1   \n",
       "\n",
       "   Species_CULEX SALINARIUS  Species_CULEX TARSALIS  Species_CULEX TERRITANS  \\\n",
       "0                         0                       0                        0   \n",
       "1                         0                       0                        0   \n",
       "\n",
       "   WnvPresent  \n",
       "0           0  \n",
       "1           0  "
      ]
     },
     "execution_count": 15,
     "metadata": {},
     "output_type": "execute_result"
    }
   ],
   "source": [
    "trainBasic.head(2)"
   ]
  },
  {
   "cell_type": "code",
   "execution_count": 16,
   "metadata": {
    "collapsed": true
   },
   "outputs": [],
   "source": [
    "y=trainBasic['WnvPresent']\n",
    "X=trainBasic.drop('WnvPresent',1)"
   ]
  },
  {
   "cell_type": "code",
   "execution_count": 17,
   "metadata": {
    "collapsed": true
   },
   "outputs": [],
   "source": [
    "from sklearn.model_selection import train_test_split\n",
    "X_train, X_test,y_train, y_test=train_test_split(X,y,test_size=0.2,stratify=y,random_state=42)\n",
    "## stratify makes sure that ratio"
   ]
  },
  {
   "cell_type": "code",
   "execution_count": 18,
   "metadata": {},
   "outputs": [
    {
     "data": {
      "text/plain": [
       "LogisticRegression(C=1.0, class_weight=None, dual=False, fit_intercept=True,\n",
       "          intercept_scaling=1, max_iter=100, multi_class='ovr', n_jobs=1,\n",
       "          penalty='l2', random_state=42, solver='liblinear', tol=0.0001,\n",
       "          verbose=0, warm_start=False)"
      ]
     },
     "execution_count": 18,
     "metadata": {},
     "output_type": "execute_result"
    }
   ],
   "source": [
    "from sklearn.linear_model import LogisticRegression\n",
    "log_reg=LogisticRegression(random_state=42)\n",
    "log_reg.fit(X_train,y_train)"
   ]
  },
  {
   "cell_type": "code",
   "execution_count": 19,
   "metadata": {
    "collapsed": true
   },
   "outputs": [],
   "source": [
    "pred=log_reg.predict(X_test)"
   ]
  },
  {
   "cell_type": "code",
   "execution_count": 20,
   "metadata": {},
   "outputs": [
    {
     "name": "stdout",
     "output_type": "stream",
     "text": [
      "             precision    recall  f1-score   support\n",
      "\n",
      "   No Virus       0.95      1.00      0.97      1992\n",
      "      Virus       0.00      0.00      0.00       110\n",
      "\n",
      "avg / total       0.90      0.95      0.92      2102\n",
      "\n",
      "[[1992    0]\n",
      " [ 110    0]]\n",
      "_____________________\n",
      "accuracy =  0.948\n"
     ]
    },
    {
     "name": "stderr",
     "output_type": "stream",
     "text": [
      "/Users/eran/anaconda3/lib/python3.6/site-packages/sklearn/metrics/classification.py:1135: UndefinedMetricWarning: Precision and F-score are ill-defined and being set to 0.0 in labels with no predicted samples.\n",
      "  'precision', 'predicted', average, warn_for)\n"
     ]
    }
   ],
   "source": [
    "from sklearn.metrics import classification_report\n",
    "from sklearn.metrics import accuracy_score\n",
    "target_names=['No Virus','Virus']\n",
    "print(classification_report(y_test, pred, target_names=target_names))\n",
    "from sklearn.metrics import confusion_matrix\n",
    "print(confusion_matrix(y_test,pred))\n",
    "print(\"_____________________\")\n",
    "print(\"accuracy = \",round(accuracy_score(y_test,pred),3))"
   ]
  },
  {
   "cell_type": "code",
   "execution_count": 21,
   "metadata": {
    "collapsed": true
   },
   "outputs": [],
   "source": [
    "#               predicted.NO (-) predicted.Yes (+)\n",
    "# actual NO (F)          1992            0\n",
    "# actual Yes (T)          110            0\n",
    "\n",
    "# accuracy = 1992/2102= 94.7% # (looking at all the predicted correctly - (TP+TN)/all )\n",
    "# precision=0/0= 0  #(looking at predicted.yes column only)\n",
    "# recall=0/110 = 0  #(looking at actual.yes column only)\n",
    "# F1_score= 2/(1/0+1/0)=0  #2/(1/precision+ 1/recall) (weighted average between precision and recall) "
   ]
  },
  {
   "cell_type": "markdown",
   "metadata": {},
   "source": [
    "Accuracy is very high ~95% but this is because it's easy to predict that there is no virus because it's rare. but in cases where there is a virus, none were detected as we can see looking at the precision and recall equal to 0."
   ]
  },
  {
   "cell_type": "code",
   "execution_count": 22,
   "metadata": {
    "collapsed": true
   },
   "outputs": [],
   "source": [
    "from sklearn.neighbors import KNeighborsClassifier\n",
    "knn=KNeighborsClassifier(n_neighbors=5)\n",
    "knn.fit(X_train,y_train)\n",
    "yknn_pred=knn.predict(X_test)"
   ]
  },
  {
   "cell_type": "code",
   "execution_count": 23,
   "metadata": {},
   "outputs": [
    {
     "name": "stdout",
     "output_type": "stream",
     "text": [
      "             precision    recall  f1-score   support\n",
      "\n",
      "   No Virus       0.95      0.99      0.97      1992\n",
      "      Virus       0.33      0.07      0.12       110\n",
      "\n",
      "avg / total       0.92      0.94      0.93      2102\n",
      "\n",
      "[[1976   16]\n",
      " [ 102    8]]\n",
      "______________\n",
      "accuracy =  0.944\n"
     ]
    }
   ],
   "source": [
    "print(classification_report(y_test, yknn_pred, target_names=target_names))\n",
    "print(confusion_matrix(y_test,yknn_pred))\n",
    "print(\"______________\")\n",
    "print(\"accuracy = \",round(accuracy_score(y_test,yknn_pred),3))"
   ]
  },
  {
   "cell_type": "code",
   "execution_count": 24,
   "metadata": {},
   "outputs": [
    {
     "name": "stderr",
     "output_type": "stream",
     "text": [
      "/Users/eran/anaconda3/lib/python3.6/site-packages/sklearn/metrics/classification.py:1135: UndefinedMetricWarning: F-score is ill-defined and being set to 0.0 due to no predicted samples.\n",
      "  'precision', 'predicted', average, warn_for)\n"
     ]
    }
   ],
   "source": [
    "from sklearn.metrics import f1_score\n",
    "k_range=range(1,15)\n",
    "accur=[]\n",
    "f1list=[]\n",
    "for k in k_range:\n",
    "    knn=KNeighborsClassifier(n_neighbors=k)\n",
    "    knn.fit(X_train,y_train)\n",
    "    y_pred=knn.predict(X_test)\n",
    "    acck=accuracy_score(y_test,y_pred)\n",
    "    f1=f1_score(y_test,y_pred)\n",
    "    accur.append(acck)\n",
    "    f1list.append(f1)"
   ]
  },
  {
   "cell_type": "code",
   "execution_count": 25,
   "metadata": {},
   "outputs": [
    {
     "data": {
      "text/plain": [
       "Text(0,0.5,'f1_score')"
      ]
     },
     "execution_count": 25,
     "metadata": {},
     "output_type": "execute_result"
    },
    {
     "data": {
      "image/png": "[encoded data removed]",
      "text/plain": [
       "<matplotlib.figure.Figure at 0x1a21562860>"
      ]
     },
     "metadata": {},
     "output_type": "display_data"
    }
   ],
   "source": [
    "plt.subplot(1,2,1)\n",
    "plt.plot(k_range,accur)\n",
    "plt.xlabel('K neighbors')\n",
    "plt.ylabel('accuracy')\n",
    "plt.subplot(1,2,2)\n",
    "plt.plot(k_range,f1list)\n",
    "plt.xlabel('K neighbors')\n",
    "plt.ylabel('f1_score')"
   ]
  },
  {
   "cell_type": "markdown",
   "metadata": {},
   "source": [
    "because of the scarcity of incidence of WMV, the model is not better than a \"dumb\" model of predicting \"No \n",
    "VIrus\" every time \n",
    "\n",
    "We can see that after a certain point, increasing the bias (i.e.\"dumbing\" the model, by using even higher kNeighbors) we don't see decrease in accuracy as we'd expect"
   ]
  },
  {
   "cell_type": "markdown",
   "metadata": {},
   "source": [
    "f1_score (weighted average of precision and recall) is only dimished when the k are larger (meanning generalizing using higher K's) only decreases performance')  "
   ]
  },
  {
   "cell_type": "markdown",
   "metadata": {},
   "source": [
    "#### we need to enrich the data, using aditional data sets..\n",
    "later we will also have to deal with the imbalanced data set (scarce WMV=1 response rate)"
   ]
  },
  {
   "cell_type": "markdown",
   "metadata": {},
   "source": [
    "## Spray data"
   ]
  },
  {
   "cell_type": "code",
   "execution_count": 26,
   "metadata": {
    "collapsed": true
   },
   "outputs": [],
   "source": [
    "spray_csv=os.path.join(directory_path,\"spray.csv\")"
   ]
  },
  {
   "cell_type": "code",
   "execution_count": 185,
   "metadata": {
    "collapsed": true
   },
   "outputs": [],
   "source": [
    "spray=pd.read_csv(spray_csv)"
   ]
  },
  {
   "cell_type": "code",
   "execution_count": 28,
   "metadata": {},
   "outputs": [
    {
     "data": {
      "text/html": [
       "<div>\n",
       "<style>\n",
       "    .dataframe thead tr:only-child th {\n",
       "        text-align: right;\n",
       "    }\n",
       "\n",
       "    .dataframe thead th {\n",
       "        text-align: left;\n",
       "    }\n",
       "\n",
       "    .dataframe tbody tr th {\n",
       "        vertical-align: top;\n",
       "    }\n",
       "</style>\n",
       "<table border=\"1\" class=\"dataframe\">\n",
       "  <thead>\n",
       "    <tr style=\"text-align: right;\">\n",
       "      <th></th>\n",
       "      <th>Date</th>\n",
       "      <th>Time</th>\n",
       "      <th>Latitude</th>\n",
       "      <th>Longitude</th>\n",
       "    </tr>\n",
       "  </thead>\n",
       "  <tbody>\n",
       "    <tr>\n",
       "      <th>0</th>\n",
       "      <td>2011-08-29</td>\n",
       "      <td>6:56:58 PM</td>\n",
       "      <td>42.391623</td>\n",
       "      <td>-88.089163</td>\n",
       "    </tr>\n",
       "    <tr>\n",
       "      <th>1</th>\n",
       "      <td>2011-08-29</td>\n",
       "      <td>6:57:08 PM</td>\n",
       "      <td>42.391348</td>\n",
       "      <td>-88.089163</td>\n",
       "    </tr>\n",
       "    <tr>\n",
       "      <th>2</th>\n",
       "      <td>2011-08-29</td>\n",
       "      <td>6:57:18 PM</td>\n",
       "      <td>42.391022</td>\n",
       "      <td>-88.089157</td>\n",
       "    </tr>\n",
       "    <tr>\n",
       "      <th>3</th>\n",
       "      <td>2011-08-29</td>\n",
       "      <td>6:57:28 PM</td>\n",
       "      <td>42.390637</td>\n",
       "      <td>-88.089158</td>\n",
       "    </tr>\n",
       "    <tr>\n",
       "      <th>4</th>\n",
       "      <td>2011-08-29</td>\n",
       "      <td>6:57:38 PM</td>\n",
       "      <td>42.390410</td>\n",
       "      <td>-88.088858</td>\n",
       "    </tr>\n",
       "  </tbody>\n",
       "</table>\n",
       "</div>"
      ],
      "text/plain": [
       "         Date        Time   Latitude  Longitude\n",
       "0  2011-08-29  6:56:58 PM  42.391623 -88.089163\n",
       "1  2011-08-29  6:57:08 PM  42.391348 -88.089163\n",
       "2  2011-08-29  6:57:18 PM  42.391022 -88.089157\n",
       "3  2011-08-29  6:57:28 PM  42.390637 -88.089158\n",
       "4  2011-08-29  6:57:38 PM  42.390410 -88.088858"
      ]
     },
     "execution_count": 28,
     "metadata": {},
     "output_type": "execute_result"
    }
   ],
   "source": [
    "spray.head()"
   ]
  },
  {
   "cell_type": "code",
   "execution_count": 29,
   "metadata": {},
   "outputs": [
    {
     "name": "stdout",
     "output_type": "stream",
     "text": [
      "<class 'pandas.core.frame.DataFrame'>\n",
      "RangeIndex: 14835 entries, 0 to 14834\n",
      "Data columns (total 4 columns):\n",
      "Date         14835 non-null object\n",
      "Time         14251 non-null object\n",
      "Latitude     14835 non-null float64\n",
      "Longitude    14835 non-null float64\n",
      "dtypes: float64(2), object(2)\n",
      "memory usage: 463.7+ KB\n"
     ]
    }
   ],
   "source": [
    "spray.info()"
   ]
  },
  {
   "cell_type": "code",
   "execution_count": 30,
   "metadata": {
    "collapsed": true
   },
   "outputs": [],
   "source": [
    "# there are nulls in the df in the Time column. where?"
   ]
  },
  {
   "cell_type": "code",
   "execution_count": 31,
   "metadata": {},
   "outputs": [
    {
     "data": {
      "text/html": [
       "<div>\n",
       "<style>\n",
       "    .dataframe thead tr:only-child th {\n",
       "        text-align: right;\n",
       "    }\n",
       "\n",
       "    .dataframe thead th {\n",
       "        text-align: left;\n",
       "    }\n",
       "\n",
       "    .dataframe tbody tr th {\n",
       "        vertical-align: top;\n",
       "    }\n",
       "</style>\n",
       "<table border=\"1\" class=\"dataframe\">\n",
       "  <thead>\n",
       "    <tr style=\"text-align: right;\">\n",
       "      <th></th>\n",
       "      <th>Date</th>\n",
       "      <th>Time</th>\n",
       "      <th>Latitude</th>\n",
       "      <th>Longitude</th>\n",
       "    </tr>\n",
       "  </thead>\n",
       "  <tbody>\n",
       "    <tr>\n",
       "      <th>1030</th>\n",
       "      <td>2011-09-07</td>\n",
       "      <td>NaN</td>\n",
       "      <td>41.987092</td>\n",
       "      <td>-87.794286</td>\n",
       "    </tr>\n",
       "    <tr>\n",
       "      <th>1031</th>\n",
       "      <td>2011-09-07</td>\n",
       "      <td>NaN</td>\n",
       "      <td>41.987620</td>\n",
       "      <td>-87.794382</td>\n",
       "    </tr>\n",
       "    <tr>\n",
       "      <th>1032</th>\n",
       "      <td>2011-09-07</td>\n",
       "      <td>NaN</td>\n",
       "      <td>41.988004</td>\n",
       "      <td>-87.794574</td>\n",
       "    </tr>\n",
       "    <tr>\n",
       "      <th>1033</th>\n",
       "      <td>2011-09-07</td>\n",
       "      <td>NaN</td>\n",
       "      <td>41.988292</td>\n",
       "      <td>-87.795486</td>\n",
       "    </tr>\n",
       "    <tr>\n",
       "      <th>1034</th>\n",
       "      <td>2011-09-07</td>\n",
       "      <td>NaN</td>\n",
       "      <td>41.988100</td>\n",
       "      <td>-87.796014</td>\n",
       "    </tr>\n",
       "  </tbody>\n",
       "</table>\n",
       "</div>"
      ],
      "text/plain": [
       "            Date Time   Latitude  Longitude\n",
       "1030  2011-09-07  NaN  41.987092 -87.794286\n",
       "1031  2011-09-07  NaN  41.987620 -87.794382\n",
       "1032  2011-09-07  NaN  41.988004 -87.794574\n",
       "1033  2011-09-07  NaN  41.988292 -87.795486\n",
       "1034  2011-09-07  NaN  41.988100 -87.796014"
      ]
     },
     "execution_count": 31,
     "metadata": {},
     "output_type": "execute_result"
    }
   ],
   "source": [
    "nulls=spray[spray['Time'].isnull()] \n",
    "## there - spray.loc[1030:1613]\n",
    "nulls.head()"
   ]
  },
  {
   "cell_type": "code",
   "execution_count": 32,
   "metadata": {},
   "outputs": [
    {
     "data": {
      "text/html": [
       "<div>\n",
       "<style>\n",
       "    .dataframe thead tr:only-child th {\n",
       "        text-align: right;\n",
       "    }\n",
       "\n",
       "    .dataframe thead th {\n",
       "        text-align: left;\n",
       "    }\n",
       "\n",
       "    .dataframe tbody tr th {\n",
       "        vertical-align: top;\n",
       "    }\n",
       "</style>\n",
       "<table border=\"1\" class=\"dataframe\">\n",
       "  <thead>\n",
       "    <tr style=\"text-align: right;\">\n",
       "      <th></th>\n",
       "      <th>Date</th>\n",
       "      <th>Time</th>\n",
       "      <th>Latitude</th>\n",
       "      <th>Longitude</th>\n",
       "    </tr>\n",
       "  </thead>\n",
       "  <tbody>\n",
       "    <tr>\n",
       "      <th>1609</th>\n",
       "      <td>2011-09-07</td>\n",
       "      <td>NaN</td>\n",
       "      <td>41.995876</td>\n",
       "      <td>-87.811615</td>\n",
       "    </tr>\n",
       "    <tr>\n",
       "      <th>1610</th>\n",
       "      <td>2011-09-07</td>\n",
       "      <td>NaN</td>\n",
       "      <td>41.995972</td>\n",
       "      <td>-87.810271</td>\n",
       "    </tr>\n",
       "    <tr>\n",
       "      <th>1611</th>\n",
       "      <td>2011-09-07</td>\n",
       "      <td>NaN</td>\n",
       "      <td>41.995684</td>\n",
       "      <td>-87.810319</td>\n",
       "    </tr>\n",
       "    <tr>\n",
       "      <th>1612</th>\n",
       "      <td>2011-09-07</td>\n",
       "      <td>NaN</td>\n",
       "      <td>41.994724</td>\n",
       "      <td>-87.810415</td>\n",
       "    </tr>\n",
       "    <tr>\n",
       "      <th>1613</th>\n",
       "      <td>2011-09-07</td>\n",
       "      <td>NaN</td>\n",
       "      <td>41.993092</td>\n",
       "      <td>-87.810415</td>\n",
       "    </tr>\n",
       "  </tbody>\n",
       "</table>\n",
       "</div>"
      ],
      "text/plain": [
       "            Date Time   Latitude  Longitude\n",
       "1609  2011-09-07  NaN  41.995876 -87.811615\n",
       "1610  2011-09-07  NaN  41.995972 -87.810271\n",
       "1611  2011-09-07  NaN  41.995684 -87.810319\n",
       "1612  2011-09-07  NaN  41.994724 -87.810415\n",
       "1613  2011-09-07  NaN  41.993092 -87.810415"
      ]
     },
     "execution_count": 32,
     "metadata": {},
     "output_type": "execute_result"
    }
   ],
   "source": [
    "nulls.tail()"
   ]
  },
  {
   "cell_type": "code",
   "execution_count": 33,
   "metadata": {},
   "outputs": [
    {
     "data": {
      "text/plain": [
       "array(['2011-08-29', '2011-09-07', '2013-07-17', '2013-07-25',\n",
       "       '2013-08-08', '2013-08-15', '2013-08-16', '2013-08-22',\n",
       "       '2013-08-29', '2013-09-05'], dtype=object)"
      ]
     },
     "execution_count": 33,
     "metadata": {},
     "output_type": "execute_result"
    }
   ],
   "source": [
    "# is it just one day? how many days did they spray around?\n",
    "spray['Date'].unique()\n",
    "# ten days:"
   ]
  },
  {
   "cell_type": "markdown",
   "metadata": {},
   "source": [
    "#### Using spray data "
   ]
  },
  {
   "cell_type": "markdown",
   "metadata": {},
   "source": [
    "#### Rational: \n",
    "#### assumption - recently sprayed areas would most likely ereduce frequency in WNV for the same season. \n",
    "If Chicago Municipality, would like to know how to allocate sparying efforts (or any other eradication efforts for that matter), we should filter out the effect of spraying from our predictive model, as it is target-linked.\n",
    "#### Method: find obsevations (collections on Train data) with locations that have been sprayed in the past 150 days ( length of a season of collection from May to Oct), and exclude them from the data sets used for modelling "
   ]
  },
  {
   "cell_type": "markdown",
   "metadata": {},
   "source": [
    "_________________________________________________________"
   ]
  },
  {
   "cell_type": "markdown",
   "metadata": {
    "collapsed": true
   },
   "source": [
    "#### Merging the spray and train data"
   ]
  },
  {
   "cell_type": "markdown",
   "metadata": {},
   "source": [
    "because geo-location has such high resolution, we can't find matches between the data sets (which doesn't allow us to merge the tables accordingly). so 3 digits after the point seems reasonable"
   ]
  },
  {
   "cell_type": "code",
   "execution_count": 265,
   "metadata": {
    "collapsed": true
   },
   "outputs": [],
   "source": [
    "# SPARY DATA round longitude /latitude to 3 digits after the point\n",
    "sprayR3=spray\n",
    "sprayR3['Longitude']=sprayR3['Longitude'].round(3)\n",
    "sprayR3['Latitude']=sprayR3['Latitude'].round(3)"
   ]
  },
  {
   "cell_type": "markdown",
   "metadata": {},
   "source": [
    "every location has different NUMBER of collection dates (train data) and spray dates (spray data) so when merging, we would like to make sure that spraying dates will be aligned with the most recent collection dates.\n",
    "How shall we do that?"
   ]
  },
  {
   "cell_type": "code",
   "execution_count": 484,
   "metadata": {},
   "outputs": [
    {
     "name": "stdout",
     "output_type": "stream",
     "text": [
      "count    6516.000000\n",
      "mean        2.276703\n",
      "std         6.797725\n",
      "min         1.000000\n",
      "25%         1.000000\n",
      "50%         2.000000\n",
      "75%         3.000000\n",
      "max       542.000000\n",
      "Name: Date, dtype: float64\n"
     ]
    }
   ],
   "source": [
    "# first, how many entries per geo-location in spray data? \n",
    "sprayR3['longlat']=list(zip(sprayR3['Latitude'],sprayR3['Longitude'])) # zip log and lat into one column\n",
    "grp=sprayR3.groupby(['longlat'])['Date'].count() # count for every location the different number of dates\n",
    "print(grp.describe()) # for each location, how many different dates it got sprayed?"
   ]
  },
  {
   "cell_type": "markdown",
   "metadata": {},
   "source": [
    "So, 75% of locations where sprayed at most 3 times. "
   ]
  },
  {
   "cell_type": "code",
   "execution_count": 491,
   "metadata": {
    "collapsed": true
   },
   "outputs": [],
   "source": [
    "sprayR3['Date']=pd.to_datetime(sprayR3['Date']) ## change to datetime object so operations could be done"
   ]
  },
  {
   "cell_type": "code",
   "execution_count": 527,
   "metadata": {},
   "outputs": [
    {
     "name": "stdout",
     "output_type": "stream",
     "text": [
      "                       ptp\n",
      "longlat                   \n",
      "(41.997, -87.811) 729 days\n",
      "(41.957, -87.784)   1 days\n",
      "(41.911, -87.75)    1 days\n"
     ]
    }
   ],
   "source": [
    "aggd=sprayR3.groupby(['longlat'])['Date'].agg([np.ptp]) ## group by longlat and on the dates, get the range (max-min)\n",
    "aggd=aggd.sort_values('ptp',ascending=False) \n",
    "print(aggd.head(3))"
   ]
  },
  {
   "cell_type": "code",
   "execution_count": 509,
   "metadata": {},
   "outputs": [
    {
     "data": {
      "text/html": [
       "<div>\n",
       "<style>\n",
       "    .dataframe thead tr:only-child th {\n",
       "        text-align: right;\n",
       "    }\n",
       "\n",
       "    .dataframe thead th {\n",
       "        text-align: left;\n",
       "    }\n",
       "\n",
       "    .dataframe tbody tr th {\n",
       "        vertical-align: top;\n",
       "    }\n",
       "</style>\n",
       "<table border=\"1\" class=\"dataframe\">\n",
       "  <thead>\n",
       "    <tr style=\"text-align: right;\">\n",
       "      <th></th>\n",
       "      <th>ptp</th>\n",
       "    </tr>\n",
       "    <tr>\n",
       "      <th>longlat</th>\n",
       "      <th></th>\n",
       "    </tr>\n",
       "  </thead>\n",
       "  <tbody>\n",
       "    <tr>\n",
       "      <th>(41.997, -87.811)</th>\n",
       "      <td>729 days</td>\n",
       "    </tr>\n",
       "  </tbody>\n",
       "</table>\n",
       "</div>"
      ],
      "text/plain": [
       "                       ptp\n",
       "longlat                   \n",
       "(41.997, -87.811) 729 days"
      ]
     },
     "execution_count": 509,
     "metadata": {},
     "output_type": "execute_result"
    }
   ],
   "source": [
    "oldaggd=aggd[aggd['ptp'].dt.days>150]\n",
    "oldaggd.head()"
   ]
  },
  {
   "cell_type": "markdown",
   "metadata": {},
   "source": [
    "so only one place was sprayed more than 150 days appart (and actually thi splace was the only one with more than 1 day appart..), so effectively only one place was sprayed more than once.\n",
    "how many times it was sprayed?"
   ]
  },
  {
   "cell_type": "code",
   "execution_count": 528,
   "metadata": {},
   "outputs": [
    {
     "data": {
      "text/html": [
       "<div>\n",
       "<style>\n",
       "    .dataframe thead tr:only-child th {\n",
       "        text-align: right;\n",
       "    }\n",
       "\n",
       "    .dataframe thead th {\n",
       "        text-align: left;\n",
       "    }\n",
       "\n",
       "    .dataframe tbody tr th {\n",
       "        vertical-align: top;\n",
       "    }\n",
       "</style>\n",
       "<table border=\"1\" class=\"dataframe\">\n",
       "  <thead>\n",
       "    <tr style=\"text-align: right;\">\n",
       "      <th></th>\n",
       "      <th>Date</th>\n",
       "      <th>Time</th>\n",
       "      <th>Latitude</th>\n",
       "      <th>Longitude</th>\n",
       "      <th>longlat</th>\n",
       "    </tr>\n",
       "  </thead>\n",
       "  <tbody>\n",
       "    <tr>\n",
       "      <th>1454</th>\n",
       "      <td>2011-09-07</td>\n",
       "      <td>NaN</td>\n",
       "      <td>41.997</td>\n",
       "      <td>-87.811</td>\n",
       "      <td>(41.997, -87.811)</td>\n",
       "    </tr>\n",
       "    <tr>\n",
       "      <th>1455</th>\n",
       "      <td>2011-09-07</td>\n",
       "      <td>NaN</td>\n",
       "      <td>41.997</td>\n",
       "      <td>-87.811</td>\n",
       "      <td>(41.997, -87.811)</td>\n",
       "    </tr>\n",
       "    <tr>\n",
       "      <th>14664</th>\n",
       "      <td>2013-09-05</td>\n",
       "      <td>7:51:11 PM</td>\n",
       "      <td>41.997</td>\n",
       "      <td>-87.811</td>\n",
       "      <td>(41.997, -87.811)</td>\n",
       "    </tr>\n",
       "  </tbody>\n",
       "</table>\n",
       "</div>"
      ],
      "text/plain": [
       "            Date        Time  Latitude  Longitude            longlat\n",
       "1454  2011-09-07         NaN    41.997    -87.811  (41.997, -87.811)\n",
       "1455  2011-09-07         NaN    41.997    -87.811  (41.997, -87.811)\n",
       "14664 2013-09-05  7:51:11 PM    41.997    -87.811  (41.997, -87.811)"
      ]
     },
     "execution_count": 528,
     "metadata": {},
     "output_type": "execute_result"
    }
   ],
   "source": [
    "sprayR3[sprayR3['longlat']==(41.997, -87.811)]"
   ]
  },
  {
   "cell_type": "markdown",
   "metadata": {},
   "source": [
    "Ony one site was sprayed more twice (max times) and that was 2 years appart.  "
   ]
  },
  {
   "cell_type": "code",
   "execution_count": null,
   "metadata": {
    "collapsed": true
   },
   "outputs": [],
   "source": [
    "# TRAIN with Dummies Data - round geo-location to 3 after the point. \n",
    "trainWdumR3=trainWdum\n",
    "trainWdumR3['Longitude']=trainWdumR3['Longitude'].round(3)\n",
    "trainWdumR3['Latitude']=trainWdumR3['Latitude'].round(3)"
   ]
  },
  {
   "cell_type": "markdown",
   "metadata": {},
   "source": [
    "But we care about the intersection i.e. logitude & latitude together. so how do we merge the tables accordingly?"
   ]
  },
  {
   "cell_type": "markdown",
   "metadata": {},
   "source": [
    "# # # # #"
   ]
  },
  {
   "cell_type": "code",
   "execution_count": 612,
   "metadata": {},
   "outputs": [
    {
     "name": "stdout",
     "output_type": "stream",
     "text": [
      "        Date  Latitude  Longitude            longlat\n",
      "0 2011-08-29    42.392    -88.089  (42.392, -88.089)\n",
      "1 2011-08-29    42.391    -88.089  (42.391, -88.089)\n"
     ]
    },
    {
     "data": {
      "text/plain": [
       "6516"
      ]
     },
     "execution_count": 612,
     "metadata": {},
     "output_type": "execute_result"
    }
   ],
   "source": [
    "sprayNot=sprayR3.drop('Time',1)\n",
    "sprayNot.drop_duplicates(inplace=True)\n",
    "print(sprayNot.head(2))\n",
    "sprayNot['longlat'].nunique()"
   ]
  },
  {
   "cell_type": "code",
   "execution_count": 609,
   "metadata": {},
   "outputs": [
    {
     "data": {
      "text/plain": [
       "(10506, 20)"
      ]
     },
     "execution_count": 609,
     "metadata": {},
     "output_type": "execute_result"
    }
   ],
   "source": [
    "res3=pd.merge(sprayNot,trainWdumR3,on=['Longitude','Latitude'],how='right',indicator=True)\n",
    "res3.shape"
   ]
  },
  {
   "cell_type": "code",
   "execution_count": 270,
   "metadata": {},
   "outputs": [
    {
     "data": {
      "text/plain": [
       "(11527, 20)"
      ]
     },
     "execution_count": 270,
     "metadata": {},
     "output_type": "execute_result"
    }
   ],
   "source": [
    "res2=pd.merge(sprayR3,trainWdumR3,on=['Longitude','Latitude'],how='right',indicator=True)\n",
    "# merging the data \"on\" Longitude and Latitude including only train data and intersection data (how='right'). \n",
    "# indicator will create a column that will confirm that the \"how\" went well:\n",
    "res2.shape "
   ]
  },
  {
   "cell_type": "markdown",
   "metadata": {},
   "source": [
    "checking how the merged data was merged"
   ]
  },
  {
   "cell_type": "code",
   "execution_count": 271,
   "metadata": {},
   "outputs": [
    {
     "data": {
      "text/plain": [
       "right_only    9387\n",
       "both          2140\n",
       "left_only        0\n",
       "Name: _merge, dtype: int64"
      ]
     },
     "execution_count": 271,
     "metadata": {},
     "output_type": "execute_result"
    }
   ],
   "source": [
    "res2['_merge'].value_counts() ## checking the conformation of the source of the data appearing in the merged data"
   ]
  },
  {
   "cell_type": "code",
   "execution_count": 348,
   "metadata": {},
   "outputs": [
    {
     "name": "stdout",
     "output_type": "stream",
     "text": [
      "MERGED:\n",
      "_______\n"
     ]
    },
    {
     "data": {
      "text/html": [
       "<div>\n",
       "<style>\n",
       "    .dataframe thead tr:only-child th {\n",
       "        text-align: right;\n",
       "    }\n",
       "\n",
       "    .dataframe thead th {\n",
       "        text-align: left;\n",
       "    }\n",
       "\n",
       "    .dataframe tbody tr th {\n",
       "        vertical-align: top;\n",
       "    }\n",
       "</style>\n",
       "<table border=\"1\" class=\"dataframe\">\n",
       "  <thead>\n",
       "    <tr style=\"text-align: right;\">\n",
       "      <th></th>\n",
       "      <th>Date_x</th>\n",
       "      <th>Time</th>\n",
       "      <th>Latitude</th>\n",
       "      <th>Longitude</th>\n",
       "      <th>Date_y</th>\n",
       "      <th>Address</th>\n",
       "      <th>Block</th>\n",
       "      <th>Street</th>\n",
       "      <th>Trap</th>\n",
       "      <th>AddressNumberAndStreet</th>\n",
       "      <th>AddressAccuracy</th>\n",
       "      <th>NumMosquitos</th>\n",
       "      <th>WnvPresent</th>\n",
       "      <th>Species_CULEX PIPIENS</th>\n",
       "      <th>Species_CULEX PIPIENS/RESTUANS</th>\n",
       "      <th>Species_CULEX RESTUANS</th>\n",
       "      <th>Species_CULEX SALINARIUS</th>\n",
       "      <th>Species_CULEX TARSALIS</th>\n",
       "      <th>Species_CULEX TERRITANS</th>\n",
       "      <th>_merge</th>\n",
       "    </tr>\n",
       "  </thead>\n",
       "  <tbody>\n",
       "    <tr>\n",
       "      <th>0</th>\n",
       "      <td>2011-09-07</td>\n",
       "      <td>7:57:22 PM</td>\n",
       "      <td>41.97</td>\n",
       "      <td>-87.788</td>\n",
       "      <td>2007-06-29</td>\n",
       "      <td>6400 West Strong Street, Chicago, IL, USA</td>\n",
       "      <td>64</td>\n",
       "      <td>W STRONG ST</td>\n",
       "      <td>T014</td>\n",
       "      <td>6400  W STRONG ST, Chicago, IL</td>\n",
       "      <td>8</td>\n",
       "      <td>1</td>\n",
       "      <td>0</td>\n",
       "      <td>0</td>\n",
       "      <td>0</td>\n",
       "      <td>1</td>\n",
       "      <td>0</td>\n",
       "      <td>0</td>\n",
       "      <td>0</td>\n",
       "      <td>both</td>\n",
       "    </tr>\n",
       "  </tbody>\n",
       "</table>\n",
       "</div>"
      ],
      "text/plain": [
       "       Date_x        Time  Latitude  Longitude      Date_y  \\\n",
       "0  2011-09-07  7:57:22 PM     41.97    -87.788  2007-06-29   \n",
       "\n",
       "                                     Address  Block        Street  Trap  \\\n",
       "0  6400 West Strong Street, Chicago, IL, USA     64   W STRONG ST  T014   \n",
       "\n",
       "           AddressNumberAndStreet  AddressAccuracy  NumMosquitos  WnvPresent  \\\n",
       "0  6400  W STRONG ST, Chicago, IL                8             1           0   \n",
       "\n",
       "   Species_CULEX PIPIENS  Species_CULEX PIPIENS/RESTUANS  \\\n",
       "0                      0                               0   \n",
       "\n",
       "   Species_CULEX RESTUANS  Species_CULEX SALINARIUS  Species_CULEX TARSALIS  \\\n",
       "0                       1                         0                       0   \n",
       "\n",
       "   Species_CULEX TERRITANS _merge  \n",
       "0                        0   both  "
      ]
     },
     "execution_count": 348,
     "metadata": {},
     "output_type": "execute_result"
    }
   ],
   "source": [
    "print('MERGED:')\n",
    "print('_______')\n",
    "res2.head(1) # how does the merged data look?"
   ]
  },
  {
   "cell_type": "code",
   "execution_count": 350,
   "metadata": {},
   "outputs": [
    {
     "name": "stdout",
     "output_type": "stream",
     "text": [
      "TRAIN:\n",
      "_______\n"
     ]
    },
    {
     "data": {
      "text/html": [
       "<div>\n",
       "<style>\n",
       "    .dataframe thead tr:only-child th {\n",
       "        text-align: right;\n",
       "    }\n",
       "\n",
       "    .dataframe thead th {\n",
       "        text-align: left;\n",
       "    }\n",
       "\n",
       "    .dataframe tbody tr th {\n",
       "        vertical-align: top;\n",
       "    }\n",
       "</style>\n",
       "<table border=\"1\" class=\"dataframe\">\n",
       "  <thead>\n",
       "    <tr style=\"text-align: right;\">\n",
       "      <th></th>\n",
       "      <th>Date</th>\n",
       "      <th>Address</th>\n",
       "      <th>Block</th>\n",
       "      <th>Street</th>\n",
       "      <th>Trap</th>\n",
       "      <th>AddressNumberAndStreet</th>\n",
       "      <th>Latitude</th>\n",
       "      <th>Longitude</th>\n",
       "      <th>AddressAccuracy</th>\n",
       "      <th>NumMosquitos</th>\n",
       "      <th>WnvPresent</th>\n",
       "      <th>Species_CULEX PIPIENS</th>\n",
       "      <th>Species_CULEX PIPIENS/RESTUANS</th>\n",
       "      <th>Species_CULEX RESTUANS</th>\n",
       "      <th>Species_CULEX SALINARIUS</th>\n",
       "      <th>Species_CULEX TARSALIS</th>\n",
       "      <th>Species_CULEX TERRITANS</th>\n",
       "    </tr>\n",
       "  </thead>\n",
       "  <tbody>\n",
       "    <tr>\n",
       "      <th>0</th>\n",
       "      <td>2007-05-29</td>\n",
       "      <td>4100 North Oak Park Avenue, Chicago, IL 60634,...</td>\n",
       "      <td>41</td>\n",
       "      <td>N OAK PARK AVE</td>\n",
       "      <td>T002</td>\n",
       "      <td>4100  N OAK PARK AVE, Chicago, IL</td>\n",
       "      <td>41.955</td>\n",
       "      <td>-87.801</td>\n",
       "      <td>9</td>\n",
       "      <td>1</td>\n",
       "      <td>0</td>\n",
       "      <td>0</td>\n",
       "      <td>1</td>\n",
       "      <td>0</td>\n",
       "      <td>0</td>\n",
       "      <td>0</td>\n",
       "      <td>0</td>\n",
       "    </tr>\n",
       "  </tbody>\n",
       "</table>\n",
       "</div>"
      ],
      "text/plain": [
       "         Date                                            Address  Block  \\\n",
       "0  2007-05-29  4100 North Oak Park Avenue, Chicago, IL 60634,...     41   \n",
       "\n",
       "            Street  Trap             AddressNumberAndStreet  Latitude  \\\n",
       "0   N OAK PARK AVE  T002  4100  N OAK PARK AVE, Chicago, IL    41.955   \n",
       "\n",
       "   Longitude  AddressAccuracy  NumMosquitos  WnvPresent  \\\n",
       "0    -87.801                9             1           0   \n",
       "\n",
       "   Species_CULEX PIPIENS  Species_CULEX PIPIENS/RESTUANS  \\\n",
       "0                      0                               1   \n",
       "\n",
       "   Species_CULEX RESTUANS  Species_CULEX SALINARIUS  Species_CULEX TARSALIS  \\\n",
       "0                       0                         0                       0   \n",
       "\n",
       "   Species_CULEX TERRITANS  \n",
       "0                        0  "
      ]
     },
     "execution_count": 350,
     "metadata": {},
     "output_type": "execute_result"
    }
   ],
   "source": [
    "print('TRAIN:')\n",
    "print('_______')\n",
    "trainWdumR3.head(1) ## the 1st entries in train does not show up in the 1st of merged data"
   ]
  },
  {
   "cell_type": "code",
   "execution_count": 351,
   "metadata": {},
   "outputs": [
    {
     "name": "stdout",
     "output_type": "stream",
     "text": [
      "1st unsprayed entry in MERGED:\n",
      "______________________________\n"
     ]
    },
    {
     "data": {
      "text/html": [
       "<div>\n",
       "<style>\n",
       "    .dataframe thead tr:only-child th {\n",
       "        text-align: right;\n",
       "    }\n",
       "\n",
       "    .dataframe thead th {\n",
       "        text-align: left;\n",
       "    }\n",
       "\n",
       "    .dataframe tbody tr th {\n",
       "        vertical-align: top;\n",
       "    }\n",
       "</style>\n",
       "<table border=\"1\" class=\"dataframe\">\n",
       "  <thead>\n",
       "    <tr style=\"text-align: right;\">\n",
       "      <th></th>\n",
       "      <th>Date_x</th>\n",
       "      <th>Time</th>\n",
       "      <th>Latitude</th>\n",
       "      <th>Longitude</th>\n",
       "      <th>Date_y</th>\n",
       "      <th>Address</th>\n",
       "      <th>Block</th>\n",
       "      <th>Street</th>\n",
       "      <th>Trap</th>\n",
       "      <th>AddressNumberAndStreet</th>\n",
       "      <th>AddressAccuracy</th>\n",
       "      <th>NumMosquitos</th>\n",
       "      <th>WnvPresent</th>\n",
       "      <th>Species_CULEX PIPIENS</th>\n",
       "      <th>Species_CULEX PIPIENS/RESTUANS</th>\n",
       "      <th>Species_CULEX RESTUANS</th>\n",
       "      <th>Species_CULEX SALINARIUS</th>\n",
       "      <th>Species_CULEX TARSALIS</th>\n",
       "      <th>Species_CULEX TERRITANS</th>\n",
       "      <th>_merge</th>\n",
       "    </tr>\n",
       "  </thead>\n",
       "  <tbody>\n",
       "    <tr>\n",
       "      <th>2141</th>\n",
       "      <td>NaN</td>\n",
       "      <td>NaN</td>\n",
       "      <td>41.955</td>\n",
       "      <td>-87.801</td>\n",
       "      <td>2007-05-29</td>\n",
       "      <td>4100 North Oak Park Avenue, Chicago, IL 60634,...</td>\n",
       "      <td>41</td>\n",
       "      <td>N OAK PARK AVE</td>\n",
       "      <td>T002</td>\n",
       "      <td>4100  N OAK PARK AVE, Chicago, IL</td>\n",
       "      <td>9</td>\n",
       "      <td>1</td>\n",
       "      <td>0</td>\n",
       "      <td>0</td>\n",
       "      <td>0</td>\n",
       "      <td>1</td>\n",
       "      <td>0</td>\n",
       "      <td>0</td>\n",
       "      <td>0</td>\n",
       "      <td>right_only</td>\n",
       "    </tr>\n",
       "  </tbody>\n",
       "</table>\n",
       "</div>"
      ],
      "text/plain": [
       "     Date_x Time  Latitude  Longitude      Date_y  \\\n",
       "2141    NaN  NaN    41.955    -87.801  2007-05-29   \n",
       "\n",
       "                                                Address  Block  \\\n",
       "2141  4100 North Oak Park Avenue, Chicago, IL 60634,...     41   \n",
       "\n",
       "               Street  Trap             AddressNumberAndStreet  \\\n",
       "2141   N OAK PARK AVE  T002  4100  N OAK PARK AVE, Chicago, IL   \n",
       "\n",
       "      AddressAccuracy  NumMosquitos  WnvPresent  Species_CULEX PIPIENS  \\\n",
       "2141                9             1           0                      0   \n",
       "\n",
       "      Species_CULEX PIPIENS/RESTUANS  Species_CULEX RESTUANS  \\\n",
       "2141                               0                       1   \n",
       "\n",
       "      Species_CULEX SALINARIUS  Species_CULEX TARSALIS  \\\n",
       "2141                         0                       0   \n",
       "\n",
       "      Species_CULEX TERRITANS      _merge  \n",
       "2141                        0  right_only  "
      ]
     },
     "execution_count": 351,
     "metadata": {},
     "output_type": "execute_result"
    }
   ],
   "source": [
    "print('1st unsprayed entry in MERGED:')\n",
    "print('______________________________')\n",
    "res2.iloc[[2141]] ## the 1st entries in train show up after all the intersection data.\n",
    "# (i.e. after 1st entry at train is 2141 in merged, after 2140 intersect data) "
   ]
  },
  {
   "cell_type": "code",
   "execution_count": 210,
   "metadata": {},
   "outputs": [
    {
     "data": {
      "text/plain": [
       "<matplotlib.axes._subplots.AxesSubplot at 0x1a215e4198>"
      ]
     },
     "execution_count": 210,
     "metadata": {},
     "output_type": "execute_result"
    },
    {
     "data": {
      "image/png": "[encoded data removed]",
      "text/plain": [
       "<matplotlib.figure.Figure at 0x1a21635978>"
      ]
     },
     "metadata": {},
     "output_type": "display_data"
    }
   ],
   "source": [
    "sns.heatmap(res2.isnull(),cbar=False) \n",
    "# the heatmap shows the 1st ~2000 of entries being sprayed data (rows in uniform black)\n",
    "# the rest of the observations are not sprayed"
   ]
  },
  {
   "cell_type": "markdown",
   "metadata": {},
   "source": [
    "#### Let's do some EDA on the merged data in context of sprayed VS not sprayed"
   ]
  },
  {
   "cell_type": "code",
   "execution_count": 372,
   "metadata": {},
   "outputs": [
    {
     "name": "stdout",
     "output_type": "stream",
     "text": [
      "occurences of WNV in sprayed places:\n",
      "0    1948\n",
      "1     144\n",
      "Name: WnvPresent, dtype: int64\n",
      "percentage:  6.88336520076\n",
      "occurences of WNV in sprayed places:\n",
      "0    8911\n",
      "1     476\n",
      "Name: WnvPresent, dtype: int64\n",
      "percentage:  5.07084265474\n"
     ]
    },
    {
     "data": {
      "text/plain": [
       "Text(0.5,1,'Sprayed')"
      ]
     },
     "execution_count": 372,
     "metadata": {},
     "output_type": "execute_result"
    },
    {
     "data": {
      "image/png": "[encoded data removed]",
      "text/plain": [
       "<matplotlib.figure.Figure at 0x1a28f70400>"
      ]
     },
     "metadata": {},
     "output_type": "display_data"
    }
   ],
   "source": [
    "sprayedtrain=res2.dropna()\n",
    "print(\"occurences of WNV in sprayed places:\")\n",
    "spr=sprayedtrain['WnvPresent'].value_counts()\n",
    "print(spr)\n",
    "print('percentage: ',spr[1]/(spr[0]+spr[1])*100)\n",
    "notsprayed=res2[res2['Date_x'].isnull()==1]\n",
    "print(\"occurences of WNV in sprayed places:\")\n",
    "notspr=notsprayed['WnvPresent'].value_counts()\n",
    "print(notspr)\n",
    "print('percentage: ',notspr[1]/(notspr[0]+notspr[1])*100)\n",
    "plt.subplot(1,2,1)\n",
    "plt.bar(['No','Yes'],[notspr[0],notspr[1]],color=['navy','orange'])\n",
    "plt.title('Not Sprayed')\n",
    "plt.subplot(1,2,2)\n",
    "plt.bar(['Yes','No'],[spr[1],spr[0]],color=['orange','navy'])\n",
    "plt.title('Sprayed')"
   ]
  },
  {
   "cell_type": "markdown",
   "metadata": {},
   "source": [
    "#### The above shows no significant difference between sprayed and not-sprayed areas in WNV frequency. It would be more interesting to see recently sprayed (We then want to exclude the recently-sprayed data because it being \"target link\")"
   ]
  },
  {
   "cell_type": "markdown",
   "metadata": {},
   "source": [
    "steps: \n",
    "    - create column days last spray. (collection date minus spray date)\n",
    "    - if days between 0-150, put it in new data set \"rec_spr_data\"\n",
    "    - delete time column and duplicates "
   ]
  },
  {
   "cell_type": "code",
   "execution_count": 382,
   "metadata": {},
   "outputs": [
    {
     "data": {
      "text/plain": [
       "Timestamp('2011-09-07 00:00:00')"
      ]
     },
     "execution_count": 382,
     "metadata": {},
     "output_type": "execute_result"
    }
   ],
   "source": [
    "# turnning the data type in the dat columns into datetime objects so we can do operations with the dates\n",
    "res2['Date_x']=pd.to_datetime(res2.Date_x)\n",
    "res2['Date_y']=pd.to_datetime(res2.Date_y)"
   ]
  },
  {
   "cell_type": "code",
   "execution_count": 386,
   "metadata": {},
   "outputs": [
    {
     "name": "stdout",
     "output_type": "stream",
     "text": [
      "2007-06-29 00:00:00 minus 2011-09-07 00:00:00 :\n"
     ]
    },
    {
     "data": {
      "text/plain": [
       "Timedelta('-1531 days +00:00:00')"
      ]
     },
     "execution_count": 386,
     "metadata": {},
     "output_type": "execute_result"
    }
   ],
   "source": [
    "print(res2['Date_y'][1], 'minus',res2['Date_x'][1],':')  ## an example to check that substraction of dates work\n",
    "res2['Date_y'][1]-res2['Date_x'][1]"
   ]
  },
  {
   "cell_type": "code",
   "execution_count": 393,
   "metadata": {},
   "outputs": [
    {
     "data": {
      "text/plain": [
       "count                           2140\n",
       "mean     -1221 days +10:30:30.280373\n",
       "std         874 days 07:44:51.853168\n",
       "min             -2291 days +00:00:00\n",
       "25%             -2171 days +00:00:00\n",
       "50%             -1456 days +00:00:00\n",
       "75%              -678 days +00:00:00\n",
       "max                750 days 00:00:00\n",
       "Name: days_last_spray, dtype: object"
      ]
     },
     "execution_count": 393,
     "metadata": {},
     "output_type": "execute_result"
    }
   ],
   "source": [
    "res2['days_last_spray']=res2['Date_y']-res2['Date_x']\n",
    "res2['days_last_spray'].describe()"
   ]
  },
  {
   "cell_type": "code",
   "execution_count": 431,
   "metadata": {},
   "outputs": [
    {
     "name": "stdout",
     "output_type": "stream",
     "text": [
      "number entries sprayed 2092\n",
      "number entries after sprays 258\n"
     ]
    },
    {
     "data": {
      "text/plain": [
       "<matplotlib.axes._subplots.AxesSubplot at 0x1a2cef26d8>"
      ]
     },
     "execution_count": 431,
     "metadata": {},
     "output_type": "execute_result"
    },
    {
     "data": {
      "image/png": "[encoded data removed]",
      "text/plain": [
       "<matplotlib.figure.Figure at 0x1a2d0cdba8>"
      ]
     },
     "metadata": {},
     "output_type": "display_data"
    }
   ],
   "source": [
    "resAfter=res2[res2['days_last_spray'].dt.days>=0]\n",
    "print('number entries sprayed',len(sprayedtrain))\n",
    "print('number entries after sprays',len(resAfter))\n",
    "resAfter['days_last_spray'].dt.days.hist(bins=100)"
   ]
  },
  {
   "cell_type": "markdown",
   "metadata": {},
   "source": [
    "arranging the df (i.e. renaming and reordering):"
   ]
  },
  {
   "cell_type": "code",
   "execution_count": 587,
   "metadata": {},
   "outputs": [
    {
     "data": {
      "text/html": [
       "<div>\n",
       "<style>\n",
       "    .dataframe thead tr:only-child th {\n",
       "        text-align: right;\n",
       "    }\n",
       "\n",
       "    .dataframe thead th {\n",
       "        text-align: left;\n",
       "    }\n",
       "\n",
       "    .dataframe tbody tr th {\n",
       "        vertical-align: top;\n",
       "    }\n",
       "</style>\n",
       "<table border=\"1\" class=\"dataframe\">\n",
       "  <thead>\n",
       "    <tr style=\"text-align: right;\">\n",
       "      <th></th>\n",
       "      <th>Date_spray</th>\n",
       "      <th>Latitude</th>\n",
       "      <th>Longitude</th>\n",
       "      <th>days_last_spray</th>\n",
       "      <th>Date_collect</th>\n",
       "      <th>Address</th>\n",
       "      <th>Block</th>\n",
       "      <th>Street</th>\n",
       "      <th>Trap</th>\n",
       "      <th>AddressNumberAndStreet</th>\n",
       "      <th>AddressAccuracy</th>\n",
       "      <th>NumMosquitos</th>\n",
       "      <th>Species_CULEX PIPIENS</th>\n",
       "      <th>Species_CULEX PIPIENS/RESTUANS</th>\n",
       "      <th>Species_CULEX RESTUANS</th>\n",
       "      <th>Species_CULEX SALINARIUS</th>\n",
       "      <th>Species_CULEX TARSALIS</th>\n",
       "      <th>Species_CULEX TERRITANS</th>\n",
       "      <th>WnvPresent</th>\n",
       "    </tr>\n",
       "  </thead>\n",
       "  <tbody>\n",
       "    <tr>\n",
       "      <th>0</th>\n",
       "      <td>2011-09-07</td>\n",
       "      <td>41.97</td>\n",
       "      <td>-87.788</td>\n",
       "      <td>-1531 days</td>\n",
       "      <td>2007-06-29</td>\n",
       "      <td>6400 West Strong Street, Chicago, IL, USA</td>\n",
       "      <td>64</td>\n",
       "      <td>W STRONG ST</td>\n",
       "      <td>T014</td>\n",
       "      <td>6400  W STRONG ST, Chicago, IL</td>\n",
       "      <td>8</td>\n",
       "      <td>1</td>\n",
       "      <td>0</td>\n",
       "      <td>0</td>\n",
       "      <td>1</td>\n",
       "      <td>0</td>\n",
       "      <td>0</td>\n",
       "      <td>0</td>\n",
       "      <td>0</td>\n",
       "    </tr>\n",
       "  </tbody>\n",
       "</table>\n",
       "</div>"
      ],
      "text/plain": [
       "  Date_spray  Latitude  Longitude days_last_spray Date_collect  \\\n",
       "0 2011-09-07     41.97    -87.788      -1531 days   2007-06-29   \n",
       "\n",
       "                                     Address  Block        Street  Trap  \\\n",
       "0  6400 West Strong Street, Chicago, IL, USA     64   W STRONG ST  T014   \n",
       "\n",
       "           AddressNumberAndStreet  AddressAccuracy  NumMosquitos  \\\n",
       "0  6400  W STRONG ST, Chicago, IL                8             1   \n",
       "\n",
       "   Species_CULEX PIPIENS  Species_CULEX PIPIENS/RESTUANS  \\\n",
       "0                      0                               0   \n",
       "\n",
       "   Species_CULEX RESTUANS  Species_CULEX SALINARIUS  Species_CULEX TARSALIS  \\\n",
       "0                       1                         0                       0   \n",
       "\n",
       "   Species_CULEX TERRITANS  WnvPresent  \n",
       "0                        0           0  "
      ]
     },
     "execution_count": 587,
     "metadata": {},
     "output_type": "execute_result"
    }
   ],
   "source": [
    "resNotime=res2.drop('_merge',1)\n",
    "cols=list(resNotime.columns) # reordering the columns. converting to list\n",
    "cols.insert(4,'days_last_spray') # inserting name\n",
    "cols.pop() # removing the same name from end of list (the reverse of append)\n",
    "cols.remove('WnvPresent') # \"cutting\"\n",
    "cols.append('WnvPresent') # and pasting (to end)\n",
    "resNotime=resNotime[cols]\n",
    "resNotime.rename(columns={'Date_x':'Date_spray','Date_y':'Date_collect'},inplace=True) # renaming columns\n",
    "resNotime=resNotime.drop('Time',1) # droping the time column\n",
    "resNotime.head(1)"
   ]
  },
  {
   "cell_type": "code",
   "execution_count": 602,
   "metadata": {},
   "outputs": [
    {
     "name": "stdout",
     "output_type": "stream",
     "text": [
      "1019\n"
     ]
    },
    {
     "data": {
      "text/html": [
       "<div>\n",
       "<style>\n",
       "    .dataframe thead tr:only-child th {\n",
       "        text-align: right;\n",
       "    }\n",
       "\n",
       "    .dataframe thead th {\n",
       "        text-align: left;\n",
       "    }\n",
       "\n",
       "    .dataframe tbody tr th {\n",
       "        vertical-align: top;\n",
       "    }\n",
       "</style>\n",
       "<table border=\"1\" class=\"dataframe\">\n",
       "  <thead>\n",
       "    <tr style=\"text-align: right;\">\n",
       "      <th></th>\n",
       "      <th>Date</th>\n",
       "      <th>Address</th>\n",
       "      <th>Block</th>\n",
       "      <th>Street</th>\n",
       "      <th>Trap</th>\n",
       "      <th>AddressNumberAndStreet</th>\n",
       "      <th>Latitude</th>\n",
       "      <th>Longitude</th>\n",
       "      <th>AddressAccuracy</th>\n",
       "      <th>NumMosquitos</th>\n",
       "      <th>WnvPresent</th>\n",
       "      <th>Species_CULEX PIPIENS</th>\n",
       "      <th>Species_CULEX PIPIENS/RESTUANS</th>\n",
       "      <th>Species_CULEX RESTUANS</th>\n",
       "      <th>Species_CULEX SALINARIUS</th>\n",
       "      <th>Species_CULEX TARSALIS</th>\n",
       "      <th>Species_CULEX TERRITANS</th>\n",
       "    </tr>\n",
       "  </thead>\n",
       "  <tbody>\n",
       "    <tr>\n",
       "      <th>10259</th>\n",
       "      <td>2013-09-12</td>\n",
       "      <td>ORD Terminal 5, O'Hare International Airport, ...</td>\n",
       "      <td>10</td>\n",
       "      <td>W OHARE AIRPORT</td>\n",
       "      <td>T900</td>\n",
       "      <td>1000  W OHARE AIRPORT, Chicago, IL</td>\n",
       "      <td>41.975</td>\n",
       "      <td>-87.891</td>\n",
       "      <td>9</td>\n",
       "      <td>50</td>\n",
       "      <td>0</td>\n",
       "      <td>0</td>\n",
       "      <td>1</td>\n",
       "      <td>0</td>\n",
       "      <td>0</td>\n",
       "      <td>0</td>\n",
       "      <td>0</td>\n",
       "    </tr>\n",
       "    <tr>\n",
       "      <th>10262</th>\n",
       "      <td>2013-09-12</td>\n",
       "      <td>ORD Terminal 5, O'Hare International Airport, ...</td>\n",
       "      <td>10</td>\n",
       "      <td>W OHARE AIRPORT</td>\n",
       "      <td>T900</td>\n",
       "      <td>1000  W OHARE AIRPORT, Chicago, IL</td>\n",
       "      <td>41.975</td>\n",
       "      <td>-87.891</td>\n",
       "      <td>9</td>\n",
       "      <td>50</td>\n",
       "      <td>0</td>\n",
       "      <td>0</td>\n",
       "      <td>1</td>\n",
       "      <td>0</td>\n",
       "      <td>0</td>\n",
       "      <td>0</td>\n",
       "      <td>0</td>\n",
       "    </tr>\n",
       "    <tr>\n",
       "      <th>10267</th>\n",
       "      <td>2013-09-12</td>\n",
       "      <td>ORD Terminal 5, O'Hare International Airport, ...</td>\n",
       "      <td>10</td>\n",
       "      <td>W OHARE AIRPORT</td>\n",
       "      <td>T900</td>\n",
       "      <td>1000  W OHARE AIRPORT, Chicago, IL</td>\n",
       "      <td>41.975</td>\n",
       "      <td>-87.891</td>\n",
       "      <td>9</td>\n",
       "      <td>50</td>\n",
       "      <td>0</td>\n",
       "      <td>1</td>\n",
       "      <td>0</td>\n",
       "      <td>0</td>\n",
       "      <td>0</td>\n",
       "      <td>0</td>\n",
       "      <td>0</td>\n",
       "    </tr>\n",
       "  </tbody>\n",
       "</table>\n",
       "</div>"
      ],
      "text/plain": [
       "             Date                                            Address  Block  \\\n",
       "10259  2013-09-12  ORD Terminal 5, O'Hare International Airport, ...     10   \n",
       "10262  2013-09-12  ORD Terminal 5, O'Hare International Airport, ...     10   \n",
       "10267  2013-09-12  ORD Terminal 5, O'Hare International Airport, ...     10   \n",
       "\n",
       "                 Street  Trap              AddressNumberAndStreet  Latitude  \\\n",
       "10259   W OHARE AIRPORT  T900  1000  W OHARE AIRPORT, Chicago, IL    41.975   \n",
       "10262   W OHARE AIRPORT  T900  1000  W OHARE AIRPORT, Chicago, IL    41.975   \n",
       "10267   W OHARE AIRPORT  T900  1000  W OHARE AIRPORT, Chicago, IL    41.975   \n",
       "\n",
       "       Longitude  AddressAccuracy  NumMosquitos  WnvPresent  \\\n",
       "10259    -87.891                9            50           0   \n",
       "10262    -87.891                9            50           0   \n",
       "10267    -87.891                9            50           0   \n",
       "\n",
       "       Species_CULEX PIPIENS  Species_CULEX PIPIENS/RESTUANS  \\\n",
       "10259                      0                               1   \n",
       "10262                      0                               1   \n",
       "10267                      1                               0   \n",
       "\n",
       "       Species_CULEX RESTUANS  Species_CULEX SALINARIUS  \\\n",
       "10259                       0                         0   \n",
       "10262                       0                         0   \n",
       "10267                       0                         0   \n",
       "\n",
       "       Species_CULEX TARSALIS  Species_CULEX TERRITANS  \n",
       "10259                       0                        0  \n",
       "10262                       0                        0  \n",
       "10267                       0                        0  "
      ]
     },
     "execution_count": 602,
     "metadata": {},
     "output_type": "execute_result"
    }
   ],
   "source": [
    "# train find rows that more than 50 mosquitos \"real duplicate\" \n",
    "# get their index\n",
    "# ..... continue till \n",
    "ab50=trainWdum[trainWdum['NumMosquitos']>49]\n",
    "print(len(ab50))\n",
    "ab50.tail(3)"
   ]
  },
  {
   "cell_type": "code",
   "execution_count": 596,
   "metadata": {},
   "outputs": [
    {
     "data": {
      "text/plain": [
       "Date                              True\n",
       "Address                           True\n",
       "Block                             True\n",
       "Street                            True\n",
       "Trap                              True\n",
       "AddressNumberAndStreet            True\n",
       "Latitude                          True\n",
       "Longitude                         True\n",
       "AddressAccuracy                   True\n",
       "NumMosquitos                      True\n",
       "WnvPresent                        True\n",
       "Species_CULEX PIPIENS             True\n",
       "Species_CULEX PIPIENS/RESTUANS    True\n",
       "Species_CULEX RESTUANS            True\n",
       "Species_CULEX SALINARIUS          True\n",
       "Species_CULEX TARSALIS            True\n",
       "Species_CULEX TERRITANS           True\n",
       "dtype: bool"
      ]
     },
     "execution_count": 596,
     "metadata": {},
     "output_type": "execute_result"
    }
   ],
   "source": [
    "ab50.iloc[0]==ab50.iloc[1]"
   ]
  },
  {
   "cell_type": "code",
   "execution_count": 588,
   "metadata": {},
   "outputs": [
    {
     "name": "stdout",
     "output_type": "stream",
     "text": [
      "(11527, 19)\n"
     ]
    }
   ],
   "source": [
    "print(resNotime.shape)\n",
    "resNotime.drop_duplicates()"
   ]
  },
  {
   "cell_type": "markdown",
   "metadata": {},
   "source": [
    "## Weather data"
   ]
  },
  {
   "cell_type": "code",
   "execution_count": 42,
   "metadata": {},
   "outputs": [
    {
     "name": "stdout",
     "output_type": "stream",
     "text": [
      "<class 'pandas.core.frame.DataFrame'>\n",
      "RangeIndex: 2944 entries, 0 to 2943\n",
      "Data columns (total 22 columns):\n",
      "Station        2944 non-null int64\n",
      "Date           2944 non-null object\n",
      "Tmax           2944 non-null int64\n",
      "Tmin           2944 non-null int64\n",
      "Tavg           2944 non-null object\n",
      "Depart         2944 non-null object\n",
      "DewPoint       2944 non-null int64\n",
      "WetBulb        2944 non-null object\n",
      "Heat           2944 non-null object\n",
      "Cool           2944 non-null object\n",
      "Sunrise        2944 non-null object\n",
      "Sunset         2944 non-null object\n",
      "CodeSum        2944 non-null object\n",
      "Depth          2944 non-null object\n",
      "Water1         2944 non-null object\n",
      "SnowFall       2944 non-null object\n",
      "PrecipTotal    2944 non-null object\n",
      "StnPressure    2944 non-null object\n",
      "SeaLevel       2944 non-null object\n",
      "ResultSpeed    2944 non-null float64\n",
      "ResultDir      2944 non-null int64\n",
      "AvgSpeed       2944 non-null object\n",
      "dtypes: float64(1), int64(5), object(16)\n",
      "memory usage: 506.1+ KB\n"
     ]
    }
   ],
   "source": [
    "weather_csv=os.path.join(directory_path,\"weather.csv\")\n",
    "weather=pd.read_csv(weather_csv)\n",
    "weather.info()"
   ]
  },
  {
   "cell_type": "code",
   "execution_count": 43,
   "metadata": {
    "scrolled": true
   },
   "outputs": [
    {
     "data": {
      "text/html": [
       "<div>\n",
       "<style>\n",
       "    .dataframe thead tr:only-child th {\n",
       "        text-align: right;\n",
       "    }\n",
       "\n",
       "    .dataframe thead th {\n",
       "        text-align: left;\n",
       "    }\n",
       "\n",
       "    .dataframe tbody tr th {\n",
       "        vertical-align: top;\n",
       "    }\n",
       "</style>\n",
       "<table border=\"1\" class=\"dataframe\">\n",
       "  <thead>\n",
       "    <tr style=\"text-align: right;\">\n",
       "      <th></th>\n",
       "      <th>Station</th>\n",
       "      <th>Date</th>\n",
       "      <th>Tmax</th>\n",
       "      <th>Tmin</th>\n",
       "      <th>Tavg</th>\n",
       "      <th>Depart</th>\n",
       "      <th>DewPoint</th>\n",
       "      <th>WetBulb</th>\n",
       "      <th>Heat</th>\n",
       "      <th>Cool</th>\n",
       "      <th>...</th>\n",
       "      <th>CodeSum</th>\n",
       "      <th>Depth</th>\n",
       "      <th>Water1</th>\n",
       "      <th>SnowFall</th>\n",
       "      <th>PrecipTotal</th>\n",
       "      <th>StnPressure</th>\n",
       "      <th>SeaLevel</th>\n",
       "      <th>ResultSpeed</th>\n",
       "      <th>ResultDir</th>\n",
       "      <th>AvgSpeed</th>\n",
       "    </tr>\n",
       "  </thead>\n",
       "  <tbody>\n",
       "    <tr>\n",
       "      <th>0</th>\n",
       "      <td>1</td>\n",
       "      <td>2007-05-01</td>\n",
       "      <td>83</td>\n",
       "      <td>50</td>\n",
       "      <td>67</td>\n",
       "      <td>14</td>\n",
       "      <td>51</td>\n",
       "      <td>56</td>\n",
       "      <td>0</td>\n",
       "      <td>2</td>\n",
       "      <td>...</td>\n",
       "      <td></td>\n",
       "      <td>0</td>\n",
       "      <td>M</td>\n",
       "      <td>0.0</td>\n",
       "      <td>0.00</td>\n",
       "      <td>29.10</td>\n",
       "      <td>29.82</td>\n",
       "      <td>1.7</td>\n",
       "      <td>27</td>\n",
       "      <td>9.2</td>\n",
       "    </tr>\n",
       "    <tr>\n",
       "      <th>1</th>\n",
       "      <td>2</td>\n",
       "      <td>2007-05-01</td>\n",
       "      <td>84</td>\n",
       "      <td>52</td>\n",
       "      <td>68</td>\n",
       "      <td>M</td>\n",
       "      <td>51</td>\n",
       "      <td>57</td>\n",
       "      <td>0</td>\n",
       "      <td>3</td>\n",
       "      <td>...</td>\n",
       "      <td></td>\n",
       "      <td>M</td>\n",
       "      <td>M</td>\n",
       "      <td>M</td>\n",
       "      <td>0.00</td>\n",
       "      <td>29.18</td>\n",
       "      <td>29.82</td>\n",
       "      <td>2.7</td>\n",
       "      <td>25</td>\n",
       "      <td>9.6</td>\n",
       "    </tr>\n",
       "    <tr>\n",
       "      <th>2</th>\n",
       "      <td>1</td>\n",
       "      <td>2007-05-02</td>\n",
       "      <td>59</td>\n",
       "      <td>42</td>\n",
       "      <td>51</td>\n",
       "      <td>-3</td>\n",
       "      <td>42</td>\n",
       "      <td>47</td>\n",
       "      <td>14</td>\n",
       "      <td>0</td>\n",
       "      <td>...</td>\n",
       "      <td>BR</td>\n",
       "      <td>0</td>\n",
       "      <td>M</td>\n",
       "      <td>0.0</td>\n",
       "      <td>0.00</td>\n",
       "      <td>29.38</td>\n",
       "      <td>30.09</td>\n",
       "      <td>13.0</td>\n",
       "      <td>4</td>\n",
       "      <td>13.4</td>\n",
       "    </tr>\n",
       "  </tbody>\n",
       "</table>\n",
       "<p>3 rows × 22 columns</p>\n",
       "</div>"
      ],
      "text/plain": [
       "   Station        Date  Tmax  Tmin Tavg Depart  DewPoint WetBulb Heat Cool  \\\n",
       "0        1  2007-05-01    83    50   67     14        51      56    0    2   \n",
       "1        2  2007-05-01    84    52   68      M        51      57    0    3   \n",
       "2        1  2007-05-02    59    42   51     -3        42      47   14    0   \n",
       "\n",
       "     ...    CodeSum Depth Water1 SnowFall PrecipTotal StnPressure SeaLevel  \\\n",
       "0    ...                0      M      0.0        0.00       29.10    29.82   \n",
       "1    ...                M      M        M        0.00       29.18    29.82   \n",
       "2    ...         BR     0      M      0.0        0.00       29.38    30.09   \n",
       "\n",
       "  ResultSpeed ResultDir  AvgSpeed  \n",
       "0         1.7        27       9.2  \n",
       "1         2.7        25       9.6  \n",
       "2        13.0         4      13.4  \n",
       "\n",
       "[3 rows x 22 columns]"
      ]
     },
     "execution_count": 43,
     "metadata": {},
     "output_type": "execute_result"
    }
   ],
   "source": [
    "weather.head(3)"
   ]
  },
  {
   "cell_type": "code",
   "execution_count": 44,
   "metadata": {},
   "outputs": [
    {
     "data": {
      "text/plain": [
       "array([1, 2])"
      ]
     },
     "execution_count": 44,
     "metadata": {},
     "output_type": "execute_result"
    }
   ],
   "source": [
    "weather['Station'].unique()\n",
    "# Station 1: CHICAGO O'HARE INTERNATIONAL AIRPORT Lat: 41.995 Lon: -87.933 Elev: 662 ft. above sea level\n",
    "# Station 2: CHICAGO MIDWAY INTL ARPT Lat: 41.786 Lon: -87.752 Elev: 612 ft. above sea level"
   ]
  }
 ],
 "metadata": {
  "kernelspec": {
   "display_name": "Python 3",
   "language": "python",
   "name": "python3"
  },
  "language_info": {
   "codemirror_mode": {
    "name": "ipython",
    "version": 3
   },
   "file_extension": ".py",
   "mimetype": "text/x-python",
   "name": "python",
   "nbconvert_exporter": "python",
   "pygments_lexer": "ipython3",
   "version": "3.6.3"
  }
 },
 "nbformat": 4,
 "nbformat_minor": 2
}
